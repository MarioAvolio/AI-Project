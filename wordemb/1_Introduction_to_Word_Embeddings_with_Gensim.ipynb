{
  "nbformat": 4,
  "nbformat_minor": 0,
  "metadata": {
    "colab": {
      "provenance": [],
      "collapsed_sections": [
        "NWStzKZsX7Dc",
        "X73rRIQSb5zJ"
      ],
      "gpuType": "T4"
    },
    "kernelspec": {
      "name": "python3",
      "display_name": "Python 3"
    },
    "accelerator": "GPU"
  },
  "cells": [
    {
      "cell_type": "markdown",
      "metadata": {
        "id": "JvHIkQaeMkr9"
      },
      "source": [
        "# Introduction to Word Embeddings\n",
        "\n",
        "In this notebook, we are going to see:,  \n",
        "\n",
        "1.   how to create word embeddings from scratch\n",
        "2.   how to use them to compute the similarity between words\n",
        "3.   how to plot them\n",
        "4.   how to use them for downstream tasks\n"
      ]
    },
    {
      "cell_type": "code",
      "source": [
        "!pip install gensim"
      ],
      "metadata": {
        "id": "uKVOBpE9-Dla",
        "outputId": "5dd7aac5-294b-48c7-903b-f4f8d6f45dd6",
        "colab": {
          "base_uri": "https://localhost:8080/"
        }
      },
      "execution_count": null,
      "outputs": [
        {
          "output_type": "stream",
          "name": "stdout",
          "text": [
            "Requirement already satisfied: gensim in /usr/local/lib/python3.10/dist-packages (4.3.1)\n",
            "Requirement already satisfied: numpy>=1.18.5 in /usr/local/lib/python3.10/dist-packages (from gensim) (1.23.5)\n",
            "Requirement already satisfied: scipy>=1.7.0 in /usr/local/lib/python3.10/dist-packages (from gensim) (1.10.1)\n",
            "Requirement already satisfied: smart-open>=1.8.1 in /usr/local/lib/python3.10/dist-packages (from gensim) (6.3.0)\n"
          ]
        }
      ]
    },
    {
      "cell_type": "markdown",
      "metadata": {
        "id": "RPG8psFwU1Td"
      },
      "source": [
        "Gensim is a pretty easy to use library to generate word embeddings. Essentially, you just need to put the text in and you will get the embeddings out"
      ]
    },
    {
      "cell_type": "code",
      "metadata": {
        "id": "teLO5ql9VErR"
      },
      "source": [
        "sentences = [\"The cat is on the table\",\n",
        "             \"Where is the cat?\",\n",
        "             \"I like dogs\"]"
      ],
      "execution_count": null,
      "outputs": []
    },
    {
      "cell_type": "code",
      "metadata": {
        "id": "ooTtd8D26OTe"
      },
      "source": [
        "sentences = [k.split() for k in sentences]"
      ],
      "execution_count": null,
      "outputs": []
    },
    {
      "cell_type": "code",
      "metadata": {
        "id": "YdotAmP6h7__",
        "outputId": "ca4c6228-789a-4dba-b0f0-554a29b92460",
        "colab": {
          "base_uri": "https://localhost:8080/"
        }
      },
      "source": [
        "sentences"
      ],
      "execution_count": null,
      "outputs": [
        {
          "output_type": "execute_result",
          "data": {
            "text/plain": [
              "[['The', 'cat', 'is', 'on', 'the', 'table'],\n",
              " ['Where', 'is', 'the', 'cat?'],\n",
              " ['I', 'like', 'dogs']]"
            ]
          },
          "metadata": {},
          "execution_count": 4
        }
      ]
    },
    {
      "cell_type": "code",
      "metadata": {
        "id": "dEr7pIxQT8PS",
        "outputId": "491e0869-3d16-4564-ebf7-9acf447a3ab4",
        "colab": {
          "base_uri": "https://localhost:8080/"
        }
      },
      "source": [
        "from gensim.models import Word2Vec\n",
        "\n",
        "\n",
        "model = Word2Vec(sentences, min_count=0, vector_size=12, window=3)\n",
        "\n",
        "vocabulary = list(model.wv.index_to_key)\n",
        "\n",
        "print(vocabulary)\n"
      ],
      "execution_count": 7,
      "outputs": [
        {
          "output_type": "stream",
          "name": "stdout",
          "text": [
            "['the', 'is', 'dogs', 'like', 'I', 'cat?', 'Where', 'table', 'on', 'cat', 'The']\n"
          ]
        }
      ]
    },
    {
      "cell_type": "code",
      "metadata": {
        "id": "emrrT2LmeUmL",
        "colab": {
          "base_uri": "https://localhost:8080/"
        },
        "outputId": "9c28569d-30a1-47e3-ec32-a8667383a48d"
      },
      "source": [
        "model.wv[\"the\"]"
      ],
      "execution_count": 8,
      "outputs": [
        {
          "output_type": "execute_result",
          "data": {
            "text/plain": [
              "array([-0.00446856,  0.00197026,  0.04252791,  0.07507727, -0.07752458,\n",
              "       -0.05930674,  0.05382394,  0.0747749 , -0.04179524, -0.03136143,\n",
              "        0.0615042 , -0.01277893], dtype=float32)"
            ]
          },
          "metadata": {},
          "execution_count": 8
        }
      ]
    },
    {
      "cell_type": "markdown",
      "metadata": {
        "id": "qdr5uOwdCxT4"
      },
      "source": [
        "Now, it might be better to use some more meaningful text."
      ]
    },
    {
      "cell_type": "code",
      "metadata": {
        "id": "e5Y5RwmDhMjI",
        "colab": {
          "base_uri": "https://localhost:8080/"
        },
        "outputId": "8c64c98a-ea80-40f8-de83-ed7cd93d38ac"
      },
      "source": [
        "!wget https://raw.githubusercontent.com/vinid/data/master/dbpedia_sample_abstract_20k_prep.txt"
      ],
      "execution_count": 9,
      "outputs": [
        {
          "output_type": "stream",
          "name": "stdout",
          "text": [
            "--2023-08-23 15:42:22--  https://raw.githubusercontent.com/vinid/data/master/dbpedia_sample_abstract_20k_prep.txt\n",
            "Resolving raw.githubusercontent.com (raw.githubusercontent.com)... 185.199.108.133, 185.199.109.133, 185.199.110.133, ...\n",
            "Connecting to raw.githubusercontent.com (raw.githubusercontent.com)|185.199.108.133|:443... connected.\n",
            "HTTP request sent, awaiting response... 200 OK\n",
            "Length: 2511894 (2.4M) [text/plain]\n",
            "Saving to: ‘dbpedia_sample_abstract_20k_prep.txt.1’\n",
            "\n",
            "\r          dbpedia_s   0%[                    ]       0  --.-KB/s               \rdbpedia_sample_abst 100%[===================>]   2.40M  --.-KB/s    in 0.01s   \n",
            "\n",
            "2023-08-23 15:42:22 (218 MB/s) - ‘dbpedia_sample_abstract_20k_prep.txt.1’ saved [2511894/2511894]\n",
            "\n"
          ]
        }
      ]
    },
    {
      "cell_type": "code",
      "metadata": {
        "id": "sdYV3rVCDvhb"
      },
      "source": [
        "import string\n",
        "\n",
        "def simple_preproc(text):\n",
        "  \"\"\"\n",
        "  see: https://stackoverflow.com/questions/265960/best-way-to-strip-punctuation-from-a-string\n",
        "  \"\"\"\n",
        "  return text.translate(str.maketrans('', '', string.punctuation))\n",
        "\n",
        "with open(\"dbpedia_sample_abstract_20k_prep.txt\") as read_file:\n",
        "  sentences = [simple_preproc(k).lower().split() for k in read_file.readlines()]"
      ],
      "execution_count": 10,
      "outputs": []
    },
    {
      "cell_type": "code",
      "metadata": {
        "id": "UG02RVAGD738",
        "colab": {
          "base_uri": "https://localhost:8080/"
        },
        "outputId": "011940cd-b82c-4e9f-9e89-ca75fc06a0e5"
      },
      "source": [
        "len(sentences)"
      ],
      "execution_count": 11,
      "outputs": [
        {
          "output_type": "execute_result",
          "data": {
            "text/plain": [
              "20000"
            ]
          },
          "metadata": {},
          "execution_count": 11
        }
      ]
    },
    {
      "cell_type": "code",
      "metadata": {
        "id": "HHNjDnwGiyzZ",
        "colab": {
          "base_uri": "https://localhost:8080/"
        },
        "outputId": "aa3f75e0-ea00-402b-8358-26a9197cb0ce"
      },
      "source": [
        "sentences[0]"
      ],
      "execution_count": 12,
      "outputs": [
        {
          "output_type": "execute_result",
          "data": {
            "text/plain": [
              "['mid',\n",
              " 'peninsula',\n",
              " 'highway',\n",
              " 'proposed',\n",
              " 'across',\n",
              " 'peninsula',\n",
              " 'canadian',\n",
              " 'province',\n",
              " 'ontario',\n",
              " 'although',\n",
              " 'highway',\n",
              " 'connecting',\n",
              " 'hamilton',\n",
              " 'fort',\n",
              " 'south',\n",
              " 'international',\n",
              " 'study',\n",
              " 'published',\n",
              " 'ministry']"
            ]
          },
          "metadata": {},
          "execution_count": 12
        }
      ]
    },
    {
      "cell_type": "code",
      "metadata": {
        "id": "7hGjW5LWEDUq"
      },
      "source": [
        "model = Word2Vec(sentences, min_count=5, epochs=5, vector_size=24)"
      ],
      "execution_count": 15,
      "outputs": []
    },
    {
      "cell_type": "markdown",
      "metadata": {
        "id": "aHCS23dbGG75"
      },
      "source": [
        "With a simple function, you can get the most similar words to a given one. Essentially, given a word, gensim will look at the neighborhood of that word and tell you which are the most similar ones (considering cosine distance)"
      ]
    },
    {
      "cell_type": "code",
      "metadata": {
        "id": "FVRZfhTeEJqQ",
        "colab": {
          "base_uri": "https://localhost:8080/"
        },
        "outputId": "1e87bc09-13a2-4e9b-90bb-1c6e839b1308"
      },
      "source": [
        "model.wv.most_similar(\"computer\")"
      ],
      "execution_count": 16,
      "outputs": [
        {
          "output_type": "execute_result",
          "data": {
            "text/plain": [
              "[('software', 0.9792379140853882),\n",
              " ('online', 0.9415411949157715),\n",
              " ('application', 0.9307447671890259),\n",
              " ('communication', 0.9198300242424011),\n",
              " ('programming', 0.919340968132019),\n",
              " ('content', 0.9162148833274841),\n",
              " ('website', 0.9153676629066467),\n",
              " ('space', 0.9128541350364685),\n",
              " ('data', 0.9108943343162537),\n",
              " ('applications', 0.9108152389526367)]"
            ]
          },
          "metadata": {},
          "execution_count": 16
        }
      ]
    },
    {
      "cell_type": "code",
      "metadata": {
        "id": "HUAQZQ8orpU7",
        "colab": {
          "base_uri": "https://localhost:8080/"
        },
        "outputId": "477bdab6-afff-4bb9-9bc2-380000219389"
      },
      "source": [
        "from scipy.spatial.distance import cosine\n",
        "\n",
        "1 - cosine(model.wv[\"house\"], model.wv[\"student\"])"
      ],
      "execution_count": 17,
      "outputs": [
        {
          "output_type": "execute_result",
          "data": {
            "text/plain": [
              "-0.03421756252646446"
            ]
          },
          "metadata": {},
          "execution_count": 17
        }
      ]
    },
    {
      "cell_type": "code",
      "metadata": {
        "id": "F5Qi7scJr6vB",
        "colab": {
          "base_uri": "https://localhost:8080/"
        },
        "outputId": "3b28e36a-5b5e-45f0-98fb-4157d7063814"
      },
      "source": [
        "model.wv[\"science\"]"
      ],
      "execution_count": 18,
      "outputs": [
        {
          "output_type": "execute_result",
          "data": {
            "text/plain": [
              "array([-1.7295789 ,  1.1673746 , -1.5134991 , -0.6099176 , -1.7758797 ,\n",
              "       -0.05512583, -1.6001582 ,  0.7108105 , -0.64284116,  0.6302474 ,\n",
              "       -0.5454291 ,  2.0718753 ,  2.3203707 , -1.2115685 , -0.38535625,\n",
              "        0.6030297 ,  0.5356364 ,  0.8053638 , -1.3316492 , -1.0328909 ,\n",
              "        1.0704416 , -0.08426823,  0.28363788,  0.7431963 ], dtype=float32)"
            ]
          },
          "metadata": {},
          "execution_count": 18
        }
      ]
    },
    {
      "cell_type": "markdown",
      "metadata": {
        "id": "C294b-H1FUXK"
      },
      "source": [
        "# Pretrained Word Embeddings\n",
        "\n",
        "Training embeddings from scratch is something that you might not always need. You can obviously save/load yours/others embeddings, but gensim offers you the possibility to get \"popular embeddings\" with a simple API.\n",
        "\n",
        "We will now load the popular google-news embedding. This embedding contains 300 dimensional word representations."
      ]
    },
    {
      "cell_type": "code",
      "metadata": {
        "id": "87Y3Kfp4Fot1",
        "colab": {
          "base_uri": "https://localhost:8080/"
        },
        "outputId": "0f93d355-807c-481a-a9ef-67576dcfe856"
      },
      "source": [
        "import gensim.downloader as api\n",
        "\n",
        "## download the model\n",
        "model = api.load(\"word2vec-google-news-300\")"
      ],
      "execution_count": 21,
      "outputs": [
        {
          "output_type": "stream",
          "name": "stdout",
          "text": [
            "[==================================================] 100.0% 1662.8/1662.8MB downloaded\n"
          ]
        }
      ]
    },
    {
      "cell_type": "code",
      "source": [
        "# from gensim.models.keyedvectors import Word2VecKeyedVectors\n",
        "# from google.colab import drive\n",
        "# drive.mount('/content/drive')\n",
        "\n",
        "# print(\"Now create a shortcut for the folder `Hands_On_W2V` to your Drive\")"
      ],
      "metadata": {
        "id": "XGZehmUUQRm2",
        "colab": {
          "base_uri": "https://localhost:8080/"
        },
        "outputId": "59ebda09-2d17-45c9-e7b0-2b73bfacaa99"
      },
      "execution_count": 20,
      "outputs": [
        {
          "output_type": "stream",
          "name": "stdout",
          "text": [
            "Mounted at /content/drive\n",
            "Now create a shortcut for the folder `Hands_On_W2V` to your Drive\n"
          ]
        }
      ]
    },
    {
      "cell_type": "code",
      "source": [
        "## load the model from file\n",
        "# model = Word2VecKeyedVectors.load_word2vec_format('/content/drive/MyDrive/Hands_On_W2V/word2vec-google-news-300.gz', binary=True)"
      ],
      "metadata": {
        "id": "8-kf9yfFrzzi",
        "colab": {
          "base_uri": "https://localhost:8080/",
          "height": 338
        },
        "outputId": "3dae87b2-40d6-47e0-d5a4-d5a1437ef837"
      },
      "execution_count": 22,
      "outputs": [
        {
          "output_type": "error",
          "ename": "FileNotFoundError",
          "evalue": "ignored",
          "traceback": [
            "\u001b[0;31m---------------------------------------------------------------------------\u001b[0m",
            "\u001b[0;31mFileNotFoundError\u001b[0m                         Traceback (most recent call last)",
            "\u001b[0;32m<ipython-input-22-288ebdcb94ae>\u001b[0m in \u001b[0;36m<cell line: 2>\u001b[0;34m()\u001b[0m\n\u001b[1;32m      1\u001b[0m \u001b[0;31m## load the model from file\u001b[0m\u001b[0;34m\u001b[0m\u001b[0;34m\u001b[0m\u001b[0m\n\u001b[0;32m----> 2\u001b[0;31m \u001b[0mmodel\u001b[0m \u001b[0;34m=\u001b[0m \u001b[0mWord2VecKeyedVectors\u001b[0m\u001b[0;34m.\u001b[0m\u001b[0mload_word2vec_format\u001b[0m\u001b[0;34m(\u001b[0m\u001b[0;34m'/content/drive/MyDrive/Hands_On_W2V/word2vec-google-news-300.gz'\u001b[0m\u001b[0;34m,\u001b[0m \u001b[0mbinary\u001b[0m\u001b[0;34m=\u001b[0m\u001b[0;32mTrue\u001b[0m\u001b[0;34m)\u001b[0m\u001b[0;34m\u001b[0m\u001b[0;34m\u001b[0m\u001b[0m\n\u001b[0m",
            "\u001b[0;32m/usr/local/lib/python3.10/dist-packages/gensim/models/keyedvectors.py\u001b[0m in \u001b[0;36mload_word2vec_format\u001b[0;34m(cls, fname, fvocab, binary, encoding, unicode_errors, limit, datatype, no_header)\u001b[0m\n\u001b[1;32m   1717\u001b[0m \u001b[0;34m\u001b[0m\u001b[0m\n\u001b[1;32m   1718\u001b[0m         \"\"\"\n\u001b[0;32m-> 1719\u001b[0;31m         return _load_word2vec_format(\n\u001b[0m\u001b[1;32m   1720\u001b[0m             \u001b[0mcls\u001b[0m\u001b[0;34m,\u001b[0m \u001b[0mfname\u001b[0m\u001b[0;34m,\u001b[0m \u001b[0mfvocab\u001b[0m\u001b[0;34m=\u001b[0m\u001b[0mfvocab\u001b[0m\u001b[0;34m,\u001b[0m \u001b[0mbinary\u001b[0m\u001b[0;34m=\u001b[0m\u001b[0mbinary\u001b[0m\u001b[0;34m,\u001b[0m \u001b[0mencoding\u001b[0m\u001b[0;34m=\u001b[0m\u001b[0mencoding\u001b[0m\u001b[0;34m,\u001b[0m \u001b[0municode_errors\u001b[0m\u001b[0;34m=\u001b[0m\u001b[0municode_errors\u001b[0m\u001b[0;34m,\u001b[0m\u001b[0;34m\u001b[0m\u001b[0;34m\u001b[0m\u001b[0m\n\u001b[1;32m   1721\u001b[0m             \u001b[0mlimit\u001b[0m\u001b[0;34m=\u001b[0m\u001b[0mlimit\u001b[0m\u001b[0;34m,\u001b[0m \u001b[0mdatatype\u001b[0m\u001b[0;34m=\u001b[0m\u001b[0mdatatype\u001b[0m\u001b[0;34m,\u001b[0m \u001b[0mno_header\u001b[0m\u001b[0;34m=\u001b[0m\u001b[0mno_header\u001b[0m\u001b[0;34m,\u001b[0m\u001b[0;34m\u001b[0m\u001b[0;34m\u001b[0m\u001b[0m\n",
            "\u001b[0;32m/usr/local/lib/python3.10/dist-packages/gensim/models/keyedvectors.py\u001b[0m in \u001b[0;36m_load_word2vec_format\u001b[0;34m(cls, fname, fvocab, binary, encoding, unicode_errors, limit, datatype, no_header, binary_chunk_size)\u001b[0m\n\u001b[1;32m   2046\u001b[0m \u001b[0;34m\u001b[0m\u001b[0m\n\u001b[1;32m   2047\u001b[0m     \u001b[0mlogger\u001b[0m\u001b[0;34m.\u001b[0m\u001b[0minfo\u001b[0m\u001b[0;34m(\u001b[0m\u001b[0;34m\"loading projection weights from %s\"\u001b[0m\u001b[0;34m,\u001b[0m \u001b[0mfname\u001b[0m\u001b[0;34m)\u001b[0m\u001b[0;34m\u001b[0m\u001b[0;34m\u001b[0m\u001b[0m\n\u001b[0;32m-> 2048\u001b[0;31m     \u001b[0;32mwith\u001b[0m \u001b[0mutils\u001b[0m\u001b[0;34m.\u001b[0m\u001b[0mopen\u001b[0m\u001b[0;34m(\u001b[0m\u001b[0mfname\u001b[0m\u001b[0;34m,\u001b[0m \u001b[0;34m'rb'\u001b[0m\u001b[0;34m)\u001b[0m \u001b[0;32mas\u001b[0m \u001b[0mfin\u001b[0m\u001b[0;34m:\u001b[0m\u001b[0;34m\u001b[0m\u001b[0;34m\u001b[0m\u001b[0m\n\u001b[0m\u001b[1;32m   2049\u001b[0m         \u001b[0;32mif\u001b[0m \u001b[0mno_header\u001b[0m\u001b[0;34m:\u001b[0m\u001b[0;34m\u001b[0m\u001b[0;34m\u001b[0m\u001b[0m\n\u001b[1;32m   2050\u001b[0m             \u001b[0;31m# deduce both vocab_size & vector_size from 1st pass over file\u001b[0m\u001b[0;34m\u001b[0m\u001b[0;34m\u001b[0m\u001b[0m\n",
            "\u001b[0;32m/usr/local/lib/python3.10/dist-packages/smart_open/smart_open_lib.py\u001b[0m in \u001b[0;36mopen\u001b[0;34m(uri, mode, buffering, encoding, errors, newline, closefd, opener, compression, transport_params)\u001b[0m\n\u001b[1;32m    222\u001b[0m         \u001b[0;32mraise\u001b[0m \u001b[0mNotImplementedError\u001b[0m\u001b[0;34m(\u001b[0m\u001b[0mve\u001b[0m\u001b[0;34m.\u001b[0m\u001b[0margs\u001b[0m\u001b[0;34m[\u001b[0m\u001b[0;36m0\u001b[0m\u001b[0;34m]\u001b[0m\u001b[0;34m)\u001b[0m\u001b[0;34m\u001b[0m\u001b[0;34m\u001b[0m\u001b[0m\n\u001b[1;32m    223\u001b[0m \u001b[0;34m\u001b[0m\u001b[0m\n\u001b[0;32m--> 224\u001b[0;31m     \u001b[0mbinary\u001b[0m \u001b[0;34m=\u001b[0m \u001b[0m_open_binary_stream\u001b[0m\u001b[0;34m(\u001b[0m\u001b[0muri\u001b[0m\u001b[0;34m,\u001b[0m \u001b[0mbinary_mode\u001b[0m\u001b[0;34m,\u001b[0m \u001b[0mtransport_params\u001b[0m\u001b[0;34m)\u001b[0m\u001b[0;34m\u001b[0m\u001b[0;34m\u001b[0m\u001b[0m\n\u001b[0m\u001b[1;32m    225\u001b[0m     \u001b[0mdecompressed\u001b[0m \u001b[0;34m=\u001b[0m \u001b[0mso_compression\u001b[0m\u001b[0;34m.\u001b[0m\u001b[0mcompression_wrapper\u001b[0m\u001b[0;34m(\u001b[0m\u001b[0mbinary\u001b[0m\u001b[0;34m,\u001b[0m \u001b[0mbinary_mode\u001b[0m\u001b[0;34m,\u001b[0m \u001b[0mcompression\u001b[0m\u001b[0;34m)\u001b[0m\u001b[0;34m\u001b[0m\u001b[0;34m\u001b[0m\u001b[0m\n\u001b[1;32m    226\u001b[0m \u001b[0;34m\u001b[0m\u001b[0m\n",
            "\u001b[0;32m/usr/local/lib/python3.10/dist-packages/smart_open/smart_open_lib.py\u001b[0m in \u001b[0;36m_open_binary_stream\u001b[0;34m(uri, mode, transport_params)\u001b[0m\n\u001b[1;32m    398\u001b[0m     \u001b[0mscheme\u001b[0m \u001b[0;34m=\u001b[0m \u001b[0m_sniff_scheme\u001b[0m\u001b[0;34m(\u001b[0m\u001b[0muri\u001b[0m\u001b[0;34m)\u001b[0m\u001b[0;34m\u001b[0m\u001b[0;34m\u001b[0m\u001b[0m\n\u001b[1;32m    399\u001b[0m     \u001b[0msubmodule\u001b[0m \u001b[0;34m=\u001b[0m \u001b[0mtransport\u001b[0m\u001b[0;34m.\u001b[0m\u001b[0mget_transport\u001b[0m\u001b[0;34m(\u001b[0m\u001b[0mscheme\u001b[0m\u001b[0;34m)\u001b[0m\u001b[0;34m\u001b[0m\u001b[0;34m\u001b[0m\u001b[0m\n\u001b[0;32m--> 400\u001b[0;31m     \u001b[0mfobj\u001b[0m \u001b[0;34m=\u001b[0m \u001b[0msubmodule\u001b[0m\u001b[0;34m.\u001b[0m\u001b[0mopen_uri\u001b[0m\u001b[0;34m(\u001b[0m\u001b[0muri\u001b[0m\u001b[0;34m,\u001b[0m \u001b[0mmode\u001b[0m\u001b[0;34m,\u001b[0m \u001b[0mtransport_params\u001b[0m\u001b[0;34m)\u001b[0m\u001b[0;34m\u001b[0m\u001b[0;34m\u001b[0m\u001b[0m\n\u001b[0m\u001b[1;32m    401\u001b[0m     \u001b[0;32mif\u001b[0m \u001b[0;32mnot\u001b[0m \u001b[0mhasattr\u001b[0m\u001b[0;34m(\u001b[0m\u001b[0mfobj\u001b[0m\u001b[0;34m,\u001b[0m \u001b[0;34m'name'\u001b[0m\u001b[0;34m)\u001b[0m\u001b[0;34m:\u001b[0m\u001b[0;34m\u001b[0m\u001b[0;34m\u001b[0m\u001b[0m\n\u001b[1;32m    402\u001b[0m         \u001b[0mfobj\u001b[0m\u001b[0;34m.\u001b[0m\u001b[0mname\u001b[0m \u001b[0;34m=\u001b[0m \u001b[0muri\u001b[0m\u001b[0;34m\u001b[0m\u001b[0;34m\u001b[0m\u001b[0m\n",
            "\u001b[0;32m/usr/local/lib/python3.10/dist-packages/smart_open/local_file.py\u001b[0m in \u001b[0;36mopen_uri\u001b[0;34m(uri_as_string, mode, transport_params)\u001b[0m\n\u001b[1;32m     32\u001b[0m \u001b[0;32mdef\u001b[0m \u001b[0mopen_uri\u001b[0m\u001b[0;34m(\u001b[0m\u001b[0muri_as_string\u001b[0m\u001b[0;34m,\u001b[0m \u001b[0mmode\u001b[0m\u001b[0;34m,\u001b[0m \u001b[0mtransport_params\u001b[0m\u001b[0;34m)\u001b[0m\u001b[0;34m:\u001b[0m\u001b[0;34m\u001b[0m\u001b[0;34m\u001b[0m\u001b[0m\n\u001b[1;32m     33\u001b[0m     \u001b[0mparsed_uri\u001b[0m \u001b[0;34m=\u001b[0m \u001b[0mparse_uri\u001b[0m\u001b[0;34m(\u001b[0m\u001b[0muri_as_string\u001b[0m\u001b[0;34m)\u001b[0m\u001b[0;34m\u001b[0m\u001b[0;34m\u001b[0m\u001b[0m\n\u001b[0;32m---> 34\u001b[0;31m     \u001b[0mfobj\u001b[0m \u001b[0;34m=\u001b[0m \u001b[0mio\u001b[0m\u001b[0;34m.\u001b[0m\u001b[0mopen\u001b[0m\u001b[0;34m(\u001b[0m\u001b[0mparsed_uri\u001b[0m\u001b[0;34m[\u001b[0m\u001b[0;34m'uri_path'\u001b[0m\u001b[0;34m]\u001b[0m\u001b[0;34m,\u001b[0m \u001b[0mmode\u001b[0m\u001b[0;34m)\u001b[0m\u001b[0;34m\u001b[0m\u001b[0;34m\u001b[0m\u001b[0m\n\u001b[0m\u001b[1;32m     35\u001b[0m     \u001b[0;32mreturn\u001b[0m \u001b[0mfobj\u001b[0m\u001b[0;34m\u001b[0m\u001b[0;34m\u001b[0m\u001b[0m\n\u001b[1;32m     36\u001b[0m \u001b[0;34m\u001b[0m\u001b[0m\n",
            "\u001b[0;31mFileNotFoundError\u001b[0m: [Errno 2] No such file or directory: '/content/drive/MyDrive/Hands_On_W2V/word2vec-google-news-300.gz'"
          ]
        }
      ]
    },
    {
      "cell_type": "markdown",
      "source": [
        "## Exercise\n",
        "Try to obtain the capital of France (Paris) knowning that Rome is the capital of Italy by using the model.\n",
        "\n",
        "Remind that with Word2Vec it is possible to obtain semantically meaningful relations between words by using simple algebraic operations.\n",
        "\n",
        "Useful functions:\n",
        "- `model[word]` --> the embedding of the word (as a numpy array)\n",
        "- `model.similar_by_vector(vector)` --> obtains most similar vectors\n",
        "- `emb_sum = emb_1 + emb_2` --> numpy array supports simple algebraic operations like they where numbers."
      ],
      "metadata": {
        "id": "G39l40qHVnoc"
      }
    },
    {
      "cell_type": "code",
      "source": [
        "### YOUR CODE HERE ###\n",
        "vector = model[\"Rome\"] - model[\"Italy\"] + model[\"France\"]\n",
        "model.similar_by_vector(vector)"
      ],
      "metadata": {
        "id": "c3HgezT8YQw4",
        "colab": {
          "base_uri": "https://localhost:8080/"
        },
        "outputId": "c5c32082-1a8c-4f22-9af5-9bb4ade4de33"
      },
      "execution_count": 23,
      "outputs": [
        {
          "output_type": "execute_result",
          "data": {
            "text/plain": [
              "[('Paris', 0.7167540192604065),\n",
              " ('Rome', 0.6986708045005798),\n",
              " ('France', 0.6032257676124573),\n",
              " ('French', 0.5341311097145081),\n",
              " ('Avignon', 0.5340989828109741),\n",
              " ('Strasbourg', 0.5200265049934387),\n",
              " ('Hopital_Europeen_Georges_Pompidou', 0.5185360312461853),\n",
              " ('Brussels', 0.5110957026481628),\n",
              " ('Pantheon_Sorbonne', 0.4982334077358246),\n",
              " ('Reims', 0.49628591537475586)]"
            ]
          },
          "metadata": {},
          "execution_count": 23
        }
      ]
    },
    {
      "cell_type": "markdown",
      "source": [
        "### Solutions"
      ],
      "metadata": {
        "id": "NWStzKZsX7Dc"
      }
    },
    {
      "cell_type": "code",
      "source": [
        "# v(Rome) - v(Italy) + v (France)\n",
        "model.similar_by_vector(model[\"Rome\"] - model[\"Italy\"] + model[\"France\"])"
      ],
      "metadata": {
        "id": "X05WLW6PTwCZ",
        "colab": {
          "base_uri": "https://localhost:8080/"
        },
        "outputId": "38c8d120-97d6-4c7d-c59d-33cd8b73000b"
      },
      "execution_count": 24,
      "outputs": [
        {
          "output_type": "execute_result",
          "data": {
            "text/plain": [
              "[('Paris', 0.7167540192604065),\n",
              " ('Rome', 0.6986708045005798),\n",
              " ('France', 0.6032257676124573),\n",
              " ('French', 0.5341311097145081),\n",
              " ('Avignon', 0.5340989828109741),\n",
              " ('Strasbourg', 0.5200265049934387),\n",
              " ('Hopital_Europeen_Georges_Pompidou', 0.5185360312461853),\n",
              " ('Brussels', 0.5110957026481628),\n",
              " ('Pantheon_Sorbonne', 0.4982334077358246),\n",
              " ('Reims', 0.49628591537475586)]"
            ]
          },
          "metadata": {},
          "execution_count": 24
        }
      ]
    },
    {
      "cell_type": "code",
      "metadata": {
        "id": "scOhs5G4IEV7",
        "colab": {
          "base_uri": "https://localhost:8080/"
        },
        "outputId": "d7a8a646-0d70-4548-860d-41b92abec477"
      },
      "source": [
        "# or with most_similar\n",
        "model.most_similar(positive=[\"Rome\", \"France\"], negative=[\"Italy\"])"
      ],
      "execution_count": 25,
      "outputs": [
        {
          "output_type": "execute_result",
          "data": {
            "text/plain": [
              "[('Paris', 0.7190686464309692),\n",
              " ('French', 0.5460342764854431),\n",
              " ('Avignon', 0.5356248021125793),\n",
              " ('Hopital_Europeen_Georges_Pompidou', 0.5236213803291321),\n",
              " ('Strasbourg', 0.5220195651054382),\n",
              " ('Brussels', 0.5087736248970032),\n",
              " ('Pantheon_Sorbonne', 0.5009362697601318),\n",
              " ('Reims', 0.5001292824745178),\n",
              " ('Poitiers', 0.4956184923648834),\n",
              " ('Rheims', 0.4893844723701477)]"
            ]
          },
          "metadata": {},
          "execution_count": 25
        }
      ]
    },
    {
      "cell_type": "code",
      "metadata": {
        "id": "ehn5df4pM730",
        "colab": {
          "base_uri": "https://localhost:8080/"
        },
        "outputId": "36becaba-55ad-43f6-b830-70844afe55fc"
      },
      "source": [
        "print(\"Rome-Milan\", model.similarity(\"Rome\", \"Milan\"))\n",
        "print(\"Rome-house\", model.similarity(\"Rome\", \"house\"))"
      ],
      "execution_count": 26,
      "outputs": [
        {
          "output_type": "stream",
          "name": "stdout",
          "text": [
            "Rome-Milan 0.58549887\n",
            "Rome-house 0.0100271525\n"
          ]
        }
      ]
    },
    {
      "cell_type": "code",
      "metadata": {
        "id": "gzEqQ33EezFE",
        "colab": {
          "base_uri": "https://localhost:8080/"
        },
        "outputId": "6b0f49b7-9529-4df1-9b5b-c9adb23d5036"
      },
      "source": [
        "summing = model[\"Rome\"] + model[\"river\"]\n",
        "model.most_similar(positive=[summing])"
      ],
      "execution_count": 27,
      "outputs": [
        {
          "output_type": "execute_result",
          "data": {
            "text/plain": [
              "[('river', 0.7602912187576294),\n",
              " ('Rome', 0.7198997735977173),\n",
              " ('Tiber_river', 0.6506392359733582),\n",
              " ('swollen_Tiber', 0.6146470904350281),\n",
              " ('rivers', 0.6130399703979492),\n",
              " ('Oostanaula', 0.6022588014602661),\n",
              " ('Oostanaula_River', 0.5992845892906189),\n",
              " ('lake', 0.5969619750976562),\n",
              " ('creek', 0.5901362895965576),\n",
              " ('Ganges', 0.5563710927963257)]"
            ]
          },
          "metadata": {},
          "execution_count": 27
        }
      ]
    },
    {
      "cell_type": "code",
      "source": [
        "# or\n",
        "model.similar_by_vector(summing)"
      ],
      "metadata": {
        "id": "ZMDbkd2zVc7A",
        "colab": {
          "base_uri": "https://localhost:8080/"
        },
        "outputId": "b4a0cf4c-5ace-4d32-fa33-6cc1e1667f60"
      },
      "execution_count": 28,
      "outputs": [
        {
          "output_type": "execute_result",
          "data": {
            "text/plain": [
              "[('river', 0.7602912187576294),\n",
              " ('Rome', 0.7198997735977173),\n",
              " ('Tiber_river', 0.6506392359733582),\n",
              " ('swollen_Tiber', 0.6146470904350281),\n",
              " ('rivers', 0.6130399703979492),\n",
              " ('Oostanaula', 0.6022588014602661),\n",
              " ('Oostanaula_River', 0.5992845892906189),\n",
              " ('lake', 0.5969619750976562),\n",
              " ('creek', 0.5901362895965576),\n",
              " ('Ganges', 0.5563710927963257)]"
            ]
          },
          "metadata": {},
          "execution_count": 28
        }
      ]
    },
    {
      "cell_type": "markdown",
      "metadata": {
        "id": "hnC8oy51JFQX"
      },
      "source": [
        "## Plotting\n",
        "\n",
        "We'd probably like to see the embeddings in two dimensions. To do this we have to do apply some dimensionality reduction to the embeddings and bring the vector to 2 dimensions."
      ]
    },
    {
      "cell_type": "code",
      "metadata": {
        "id": "Ui_CLItPHkxj",
        "colab": {
          "base_uri": "https://localhost:8080/"
        },
        "outputId": "1b26d37a-7495-426a-f407-3565f84f34d5"
      },
      "source": [
        "!pip install matplotlib"
      ],
      "execution_count": 29,
      "outputs": [
        {
          "output_type": "stream",
          "name": "stdout",
          "text": [
            "Requirement already satisfied: matplotlib in /usr/local/lib/python3.10/dist-packages (3.7.1)\n",
            "Requirement already satisfied: contourpy>=1.0.1 in /usr/local/lib/python3.10/dist-packages (from matplotlib) (1.1.0)\n",
            "Requirement already satisfied: cycler>=0.10 in /usr/local/lib/python3.10/dist-packages (from matplotlib) (0.11.0)\n",
            "Requirement already satisfied: fonttools>=4.22.0 in /usr/local/lib/python3.10/dist-packages (from matplotlib) (4.42.0)\n",
            "Requirement already satisfied: kiwisolver>=1.0.1 in /usr/local/lib/python3.10/dist-packages (from matplotlib) (1.4.4)\n",
            "Requirement already satisfied: numpy>=1.20 in /usr/local/lib/python3.10/dist-packages (from matplotlib) (1.23.5)\n",
            "Requirement already satisfied: packaging>=20.0 in /usr/local/lib/python3.10/dist-packages (from matplotlib) (23.1)\n",
            "Requirement already satisfied: pillow>=6.2.0 in /usr/local/lib/python3.10/dist-packages (from matplotlib) (9.4.0)\n",
            "Requirement already satisfied: pyparsing>=2.3.1 in /usr/local/lib/python3.10/dist-packages (from matplotlib) (3.1.1)\n",
            "Requirement already satisfied: python-dateutil>=2.7 in /usr/local/lib/python3.10/dist-packages (from matplotlib) (2.8.2)\n",
            "Requirement already satisfied: six>=1.5 in /usr/local/lib/python3.10/dist-packages (from python-dateutil>=2.7->matplotlib) (1.16.0)\n"
          ]
        }
      ]
    },
    {
      "cell_type": "code",
      "source": [
        "from operator import sub\n",
        "from gensim.models import Word2Vec\n",
        "from sklearn.decomposition import PCA\n",
        "import matplotlib.pyplot as plt\n",
        "\n",
        "\n",
        "def quick_plot(words, embedding, colors = None, plot = True):\n",
        "  \"\"\"\n",
        "  we ignore the words we are not interested to reduce the time to compute\n",
        "  the 2D embeddings, but this is an approximation.\n",
        "  \"\"\"\n",
        "\n",
        "  if not colors:\n",
        "    colors = ['b' for _ in words]\n",
        "\n",
        "  X = embedding[words]\n",
        "  pca = PCA(n_components=2)\n",
        "\n",
        "  two_d_emb = pca.fit_transform(X)\n",
        "\n",
        "  plt.scatter(two_d_emb[:, 0], two_d_emb[:, 1], c = colors)\n",
        "\n",
        "  for index, word in enumerate(words):\n",
        "    # annotate\n",
        "    plt.annotate(word, xy=(two_d_emb[index, 0], two_d_emb[index, 1]), )\n",
        "\n",
        "  if plot:\n",
        "    plt.show()\n",
        "\n",
        "  return plt, pca"
      ],
      "metadata": {
        "id": "00y7kmU3qlFJ"
      },
      "execution_count": 31,
      "outputs": []
    },
    {
      "cell_type": "code",
      "source": [
        "quick_plot(\n",
        "    words=[\"Rome\", \"Italy\", \"Paris\", \"France\", \"Germany\", \"Berlin\", \"London\", \"England\"],\n",
        "    embedding=model)"
      ],
      "metadata": {
        "id": "APtV7qWoauxn",
        "colab": {
          "base_uri": "https://localhost:8080/",
          "height": 465
        },
        "outputId": "82c075eb-7ce6-45f0-9bbe-2a0f5336dfc0"
      },
      "execution_count": 32,
      "outputs": [
        {
          "output_type": "display_data",
          "data": {
            "text/plain": [
              "<Figure size 640x480 with 1 Axes>"
            ],
            "image/png": "[encoded data removed]"
          },
          "metadata": {}
        },
        {
          "output_type": "execute_result",
          "data": {
            "text/plain": [
              "(<module 'matplotlib.pyplot' from '/usr/local/lib/python3.10/dist-packages/matplotlib/pyplot.py'>,\n",
              " PCA(n_components=2))"
            ]
          },
          "metadata": {},
          "execution_count": 32
        }
      ]
    },
    {
      "cell_type": "code",
      "source": [
        "import numpy as np\n",
        "\n",
        "plt, pca = quick_plot(\n",
        "    words=[\"Rome\", \"Italy\", \"Paris\", \"France\", \"Germany\", \"Berlin\", \"London\", \"England\"],\n",
        "    embedding=model,\n",
        "    plot=False # we add another point and we plot later\n",
        "    )\n",
        "paris_by_sum1 = model[\"Rome\"] - model[\"Italy\"] + model[\"France\"]\n",
        "paris_by_sum2 = model[\"Berlin\"] - model[\"Germany\"] + model[\"France\"]\n",
        "paris_by_sum = pca.transform(np.array([paris_by_sum1, paris_by_sum2]))\n",
        "plt.scatter(paris_by_sum[:, 0], paris_by_sum[:, 1], c = 'red')\n",
        "plt.annotate(\"Paris_IT\", xy=(paris_by_sum[0, 0], paris_by_sum[0, 1]))\n",
        "plt.annotate(\"Paris_GE\", xy=(paris_by_sum[1, 0], paris_by_sum[1, 1]))\n",
        "plt.show()"
      ],
      "metadata": {
        "id": "Je_1JvRjrEyt",
        "colab": {
          "base_uri": "https://localhost:8080/",
          "height": 430
        },
        "outputId": "0b6b526b-525d-41de-aec8-c4f2562071d8"
      },
      "execution_count": 33,
      "outputs": [
        {
          "output_type": "display_data",
          "data": {
            "text/plain": [
              "<Figure size 640x480 with 1 Axes>"
            ],
            "image/png": "[encoded data removed]"
          },
          "metadata": {}
        }
      ]
    },
    {
      "cell_type": "code",
      "source": [
        "model.most_similar(positive=['Berlin', 'France'], negative=['Germany'])"
      ],
      "metadata": {
        "id": "sf87vUPPsLY-",
        "colab": {
          "base_uri": "https://localhost:8080/"
        },
        "outputId": "4763d37d-693a-43f8-bab3-bc5adc8a1262"
      },
      "execution_count": 34,
      "outputs": [
        {
          "output_type": "execute_result",
          "data": {
            "text/plain": [
              "[('Paris', 0.7672387957572937),\n",
              " ('French', 0.6049168705940247),\n",
              " ('Parisian', 0.5810437202453613),\n",
              " ('Colombes', 0.5599985122680664),\n",
              " ('Hopital_Europeen_Georges_Pompidou', 0.555890679359436),\n",
              " ('Melun', 0.551270067691803),\n",
              " ('Dinard', 0.5451847314834595),\n",
              " ('Brussels', 0.5420989990234375),\n",
              " ('Mairie_de', 0.533744752407074),\n",
              " ('Cagnes_sur_Mer', 0.531246542930603)]"
            ]
          },
          "metadata": {},
          "execution_count": 34
        }
      ]
    },
    {
      "cell_type": "markdown",
      "source": [
        "Plotting only the words you are interested in may not always be the best choice. In this particular case I wanted to highlight a feature of these vectors (i.e. there is a pattern between the position of the city and the position of the country) and so apply the PCA only on these vectors seems to be correct.\n",
        "\n",
        "However if I want to observe \"if words are clustered by concept\", a classic observation in word embeddings, I have different choices:\n",
        "\n",
        "1) I can only plot the words I am interested in, obtaining the previous plot\n",
        "\n",
        "2) I can apply the PCA on the words I am interested in AND on other random words, in this way the PCA will consider more information from the original 300-dim space to the projected 2-dim space\n",
        "\n",
        "3) like (2) but plotting only the words I am interested in"
      ],
      "metadata": {
        "id": "JTx233vHt2t-"
      }
    },
    {
      "cell_type": "code",
      "source": [
        "# choice 2\n",
        "\n",
        "words_i_am_interested_in__cities = [\"Rome\", \"Paris\", \"Berlin\", \"London\"]\n",
        "words_i_am_interested_in__countries = [\"Italy\", \"France\", \"Germany\", \"England\"]\n",
        "\n",
        "other_random_words = list(model.index_to_key)[:100]\n",
        "other_random_words[:10]"
      ],
      "metadata": {
        "id": "etgOY88mt8aV",
        "colab": {
          "base_uri": "https://localhost:8080/"
        },
        "outputId": "b0267ef4-4ab1-45dc-e76e-21930b8193e3"
      },
      "execution_count": 37,
      "outputs": [
        {
          "output_type": "execute_result",
          "data": {
            "text/plain": [
              "['</s>', 'in', 'for', 'that', 'is', 'on', '##', 'The', 'with', 'said']"
            ]
          },
          "metadata": {},
          "execution_count": 37
        }
      ]
    },
    {
      "cell_type": "code",
      "source": [
        "cities_colors = ['y' for _ in words_i_am_interested_in__cities]\n",
        "countries_colors = ['r' for _ in words_i_am_interested_in__cities]\n",
        "default_colors = ['b' for _ in other_random_words]\n",
        "\n",
        "colors = cities_colors + countries_colors + default_colors\n",
        "\n",
        "quick_plot(words = words_i_am_interested_in__cities + words_i_am_interested_in__countries + other_random_words,\n",
        "           embedding = model,\n",
        "           colors = colors)"
      ],
      "metadata": {
        "id": "Fh3N8L5quDFv",
        "colab": {
          "base_uri": "https://localhost:8080/",
          "height": 465
        },
        "outputId": "08d6813c-ce39-460c-ada1-7034edd8b77f"
      },
      "execution_count": 38,
      "outputs": [
        {
          "output_type": "display_data",
          "data": {
            "text/plain": [
              "<Figure size 640x480 with 1 Axes>"
            ],
            "image/png": "[encoded data removed]"
          },
          "metadata": {}
        },
        {
          "output_type": "execute_result",
          "data": {
            "text/plain": [
              "(<module 'matplotlib.pyplot' from '/usr/local/lib/python3.10/dist-packages/matplotlib/pyplot.py'>,\n",
              " PCA(n_components=2))"
            ]
          },
          "metadata": {},
          "execution_count": 38
        }
      ]
    },
    {
      "cell_type": "markdown",
      "source": [
        "How does a plot changes depending on the words in the PCA?"
      ],
      "metadata": {
        "id": "Gsn3NF4auJiK"
      }
    },
    {
      "cell_type": "code",
      "source": [
        "import random\n",
        "import numpy as np\n",
        "\n",
        "def extract_random_words(model, n, randomize = False, times = 3):\n",
        "  vocabs = list(model.index_to_key)\n",
        "  if not randomize:\n",
        "    return vocabs[:n]\n",
        "  else:\n",
        "    random_indexes = [set(random.sample(list(np.arange(len(model.index_to_key))), n)) for _ in range(times)]\n",
        "    out = [[] for n in range(times)]\n",
        "\n",
        "    out_condition = False\n",
        "    inserted = 0\n",
        "    i = 0\n",
        "    while not out_condition:\n",
        "\n",
        "      res = [i in indexes for indexes in random_indexes]\n",
        "      if any(res):\n",
        "        for r, o in zip(res, out):\n",
        "          if r:\n",
        "            o.append(vocabs[i])\n",
        "            inserted += 1\n",
        "\n",
        "      if inserted == times * n:\n",
        "        out_condition = True\n",
        "\n",
        "      i += 1\n",
        "    return out"
      ],
      "metadata": {
        "id": "dGXkaa8ju53F"
      },
      "execution_count": 47,
      "outputs": []
    },
    {
      "cell_type": "code",
      "source": [
        "def quick_plots(words, embedding, colors = None, subplot_disposition = 1, annotate = True, words_to_plot = None):\n",
        "  \"\"\"\n",
        "  this code only works with subplot disposition = int OR = (1, *)\n",
        "  \"\"\"\n",
        "\n",
        "  if type(subplot_disposition) == tuple:\n",
        "    x, y = subplot_disposition\n",
        "    fig, axes = plt.subplots(x, y, figsize = (15, 5))\n",
        "  else:\n",
        "    fig, axes = plt.subplots(subplot_disposition)\n",
        "\n",
        "  plot_counter = 0\n",
        "\n",
        "  if not colors:\n",
        "    colors = ['b' for _ in words]\n",
        "  for w, ax in zip(words, axes):\n",
        "    X = embedding[w]\n",
        "    pca = PCA(n_components=2)\n",
        "\n",
        "    if not words_to_plot:\n",
        "      two_d_emb = pca.fit_transform(X)\n",
        "    else:\n",
        "      pca_model = pca.fit(X)\n",
        "      W = embedding[words_to_plot[plot_counter]]\n",
        "      plot_counter += 1\n",
        "      two_d_emb = pca_model.transform(W)\n",
        "\n",
        "    ax.scatter(two_d_emb[:, 0], two_d_emb[:, 1], c = colors)\n",
        "\n",
        "    if annotate:\n",
        "      if not words_to_plot:\n",
        "        for index, word in enumerate(w):\n",
        "          # annotate\n",
        "          ax.annotate(word, xy=(two_d_emb[index, 0], two_d_emb[index, 1]), )\n",
        "      else:\n",
        "        for index, word in enumerate(words_to_plot[plot_counter - 1]):\n",
        "          ax.annotate(word, xy=(two_d_emb[index, 0], two_d_emb[index, 1]), )\n",
        "  plt.show()"
      ],
      "metadata": {
        "id": "IAEo2V1Du7ls"
      },
      "execution_count": 48,
      "outputs": []
    },
    {
      "cell_type": "code",
      "source": [
        "extract_random_words(model = model, n = 2, randomize = True, times = 10)"
      ],
      "metadata": {
        "id": "-osK3MjXu9fJ",
        "colab": {
          "base_uri": "https://localhost:8080/"
        },
        "outputId": "b6d1fb6e-f066-44aa-a7d5-36696b321881"
      },
      "execution_count": 49,
      "outputs": [
        {
          "output_type": "execute_result",
          "data": {
            "text/plain": [
              "[['Rulz', 'then-No.'],\n",
              " ['NASDAQ_SCMP_today', 'Candy_Coated'],\n",
              " ['Marvelous_Marv_Throneberry', 'Shaikha_Maitha_Bint'],\n",
              " ['THEY_ARE_ALL', 'Fouron_Pty_Ltd_ACN'],\n",
              " ['Jeanne_Eagels', 'LITTLE_BROTHER'],\n",
              " ['FISH_Probe', 'Emily_Freng'],\n",
              " ['RF_Alex_Rios', 'Al_Fahma'],\n",
              " ['mish_mosh', 'Sylvia_Rector'],\n",
              " ['Japanese_Yen_JPY', 'Campobello_SC'],\n",
              " ['Frederic_Chabert', 'Cyndia_Zwahlen']]"
            ]
          },
          "metadata": {},
          "execution_count": 49
        }
      ]
    },
    {
      "cell_type": "code",
      "source": [
        "N = 10\n",
        "plots_number = 3\n",
        "\n",
        "other_random_words = extract_random_words(model = model, n = N, randomize = True, times = plots_number)\n",
        "\n",
        "words = [o + words_i_am_interested_in__cities + words_i_am_interested_in__countries for o in other_random_words]\n",
        "\n",
        "default_colors = ['b' for _ in range(N)]\n",
        "\n",
        "colors = default_colors + cities_colors + countries_colors\n",
        "\n",
        "quick_plots(words = words,\n",
        "           embedding = model,\n",
        "           colors = colors,\n",
        "           subplot_disposition=(1, 3))"
      ],
      "metadata": {
        "id": "W9L7QSz2u_0Q"
      },
      "execution_count": null,
      "outputs": []
    },
    {
      "cell_type": "code",
      "source": [
        "N = 100\n",
        "plots_number = 3\n",
        "\n",
        "other_random_words = extract_random_words(model = model, n = N, randomize = True, times = plots_number)\n",
        "\n",
        "words = [o + words_i_am_interested_in__cities + words_i_am_interested_in__countries for o in other_random_words]\n",
        "\n",
        "default_colors = ['b' for _ in range(N)]\n",
        "\n",
        "colors = default_colors + cities_colors + countries_colors\n",
        "\n",
        "quick_plots(words = words,\n",
        "           embedding = model,\n",
        "           colors = colors,\n",
        "           subplot_disposition=(1, 3),\n",
        "           annotate = False)"
      ],
      "metadata": {
        "id": "tqJTfWsDvDB_"
      },
      "execution_count": null,
      "outputs": []
    },
    {
      "cell_type": "code",
      "source": [
        "N = 1000\n",
        "plots_number = 3\n",
        "\n",
        "other_random_words = extract_random_words(model = model, n = N, randomize = True, times = plots_number)\n",
        "\n",
        "words = [o + words_i_am_interested_in__cities + words_i_am_interested_in__countries for o in other_random_words]\n",
        "\n",
        "default_colors = ['b' for _ in range(N)]\n",
        "\n",
        "colors = default_colors + cities_colors + countries_colors\n",
        "\n",
        "quick_plots(words = words,\n",
        "           embedding = model,\n",
        "           colors = colors,\n",
        "           subplot_disposition=(1, 3),\n",
        "           annotate = False)"
      ],
      "metadata": {
        "id": "hvFUaRpXvKbw"
      },
      "execution_count": null,
      "outputs": []
    },
    {
      "cell_type": "code",
      "source": [
        "'Vocab size', len(model.vocab)"
      ],
      "metadata": {
        "id": "eu1SwBS8vMF5"
      },
      "execution_count": null,
      "outputs": []
    },
    {
      "cell_type": "code",
      "source": [
        "N = 10000\n",
        "plots_number = 3\n",
        "\n",
        "other_random_words = extract_random_words(model = model, n = N, randomize = True, times = plots_number)\n",
        "\n",
        "words = [o + words_i_am_interested_in__cities + words_i_am_interested_in__countries for o in other_random_words]\n",
        "\n",
        "default_colors = ['b' for _ in range(N)]\n",
        "\n",
        "colors = default_colors + cities_colors + countries_colors\n",
        "\n",
        "quick_plots(words = words,\n",
        "           embedding = model,\n",
        "           colors = colors,\n",
        "           subplot_disposition=(1, 3),\n",
        "           annotate = False)"
      ],
      "metadata": {
        "id": "DI9wONdyvXRp"
      },
      "execution_count": null,
      "outputs": []
    },
    {
      "cell_type": "code",
      "source": [
        "# choice 3: show only words we are interested in\n",
        "\n",
        "N = 10000\n",
        "plots_number = 3\n",
        "\n",
        "other_random_words = extract_random_words(model = model, n = N, randomize = True, times = plots_number)\n",
        "\n",
        "words = [o + words_i_am_interested_in__cities + words_i_am_interested_in__countries for o in other_random_words]\n",
        "\n",
        "words_to_plot = [words_i_am_interested_in__cities + words_i_am_interested_in__countries for o in other_random_words]\n",
        "\n",
        "colors = cities_colors + countries_colors\n",
        "\n",
        "quick_plots(words = words,\n",
        "           embedding = model,\n",
        "           colors = colors,\n",
        "           subplot_disposition=(1, 3),\n",
        "           words_to_plot = words_to_plot)"
      ],
      "metadata": {
        "id": "4BB85tIlvbGo"
      },
      "execution_count": null,
      "outputs": []
    },
    {
      "cell_type": "markdown",
      "source": [
        "# Conclusion on plot: **do not trust the plots**\n",
        "\n",
        "Use the plots to verify assumptions drawn by reasoning and/or other observation (based on metric or on vector neighborhood in the original space). Some plots may show the capitals clustered together, others may show the relation between capital city and country.\n",
        "\n",
        "Remember that dimensionality reduction = information lost; if you use only a plot on dimensionality reduced vectors to draw conclusion on original space you will not consider lost information and PCA distortion.\n",
        "\n",
        "*There are other dimensionality reduction algorithms with different characteristics than PCA (look at the following paper for more).\n",
        "\n",
        "[Anowar, Farzana, Samira Sadaoui, and Bassant Selim. \"Conceptual and empirical comparison of dimensionality reduction algorithms (pca, kpca, lda, mds, svd, lle, isomap, le, ica, t-sne).\" Computer Science Review 40 (2021): 100378.]"
      ],
      "metadata": {
        "id": "JpNey1SEvoQC"
      }
    },
    {
      "cell_type": "code",
      "source": [
        "# Berlin - Germany + France --> Paris\n",
        "model.most_similar(positive=['Berlin', 'France'], negative=['Germany'])"
      ],
      "metadata": {
        "id": "IlV-jG2tvrLh"
      },
      "execution_count": null,
      "outputs": []
    },
    {
      "cell_type": "markdown",
      "source": [
        "![PCA operations.png](data:image/png;base64,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)"
      ],
      "metadata": {
        "id": "yo8F5hC0_3Ws"
      }
    },
    {
      "cell_type": "markdown",
      "source": [
        "But looking at the PCA plot if we try to reproduce the above operations with vectors it does NOT work: `Berlin - Germany + France` is closer to `Berlin` itself than to `Paris`. Indeed from the PCA Germany and France are really close but looking at the cosine similarity Germany is closer to Berlin than to France."
      ],
      "metadata": {
        "id": "TIFxbDX__-n2"
      }
    },
    {
      "cell_type": "code",
      "source": [
        "'Similarity Germany,France', 1 - cosine(model[\"Germany\"], model[\"France\"])"
      ],
      "metadata": {
        "id": "WR00-y7FA2Cw"
      },
      "execution_count": null,
      "outputs": []
    },
    {
      "cell_type": "code",
      "source": [
        "'Similarity Germany,Berlin', 1 - cosine(model[\"Germany\"], model[\"Berlin\"])"
      ],
      "metadata": {
        "id": "GYqclnxqA6rV"
      },
      "execution_count": null,
      "outputs": []
    },
    {
      "cell_type": "code",
      "source": [
        "# Finally if we plot only these 4 words, they look distant in the plot.\n",
        "# while we saw them close when plotting them together with several other words.\n",
        "quick_plot(\n",
        "    words=[\"Rome\", \"Paris\", \"Berlin\", \"London\"],\n",
        "    embedding=model)"
      ],
      "metadata": {
        "id": "eXagS1Gw0kgj"
      },
      "execution_count": null,
      "outputs": []
    },
    {
      "cell_type": "markdown",
      "metadata": {
        "id": "X73rRIQSb5zJ"
      },
      "source": [
        "# Quick Classification with Word Embeddings\n",
        "\n",
        "You are predicting whether a given tweet is about a real disaster or not. If so, predict a 1. If not, predict a 0.\n",
        "\n",
        "get the data here: https://www.kaggle.com/c/nlp-getting-started/data?select=train.csv\n",
        "\n",
        "Or download it from this github repo (with the following command): https://raw.githubusercontent.com/nikjohn7/Disaster-Tweets-Kaggle/main/data/train.csv"
      ]
    },
    {
      "cell_type": "code",
      "source": [
        "!wget https://raw.githubusercontent.com/nikjohn7/Disaster-Tweets-Kaggle/main/data/train.csv"
      ],
      "metadata": {
        "id": "xkk-TJq0diBp"
      },
      "execution_count": null,
      "outputs": []
    },
    {
      "cell_type": "code",
      "metadata": {
        "id": "lcvHTlyWb5SY"
      },
      "source": [
        "import pandas as pd\n",
        "import numpy as np\n",
        "\n",
        "df = pd.read_csv(\"train.csv\")\n",
        "df.head(25)"
      ],
      "execution_count": null,
      "outputs": []
    },
    {
      "cell_type": "code",
      "metadata": {
        "id": "s39U_X5ldekU"
      },
      "source": [
        "X_text = df[\"text\"]\n",
        "y = df[\"target\"]"
      ],
      "execution_count": null,
      "outputs": []
    },
    {
      "cell_type": "code",
      "metadata": {
        "id": "lCV0Qbp4cTLh"
      },
      "source": [
        "def naive_sentence_embedding(text, embedding, mean_embedding):\n",
        "  \"\"\"\n",
        "  Embeds a sentence by making the average of the word embedding in the sentence\n",
        "  There are several ways to make this better and smarter.\n",
        "  Google \"sentence embeddings\"\n",
        "\n",
        "  if a word is missing from the vocabulary we add this generic mean vecor\n",
        "  of the entire space\n",
        "  \"\"\"\n",
        "  text = simple_preproc(text.lower())\n",
        "  collect = []\n",
        "  for a in text.split():\n",
        "    if a in embedding.vocab:\n",
        "      collect.append(embedding[a])\n",
        "    else:\n",
        "      collect.append(mean_embedding)\n",
        "\n",
        "  return np.mean(collect, axis=0)\n",
        "\n",
        "mean_vector = np.mean(model[model.vocab], axis=0)"
      ],
      "execution_count": null,
      "outputs": []
    },
    {
      "cell_type": "code",
      "metadata": {
        "id": "Em_iObh_duO5"
      },
      "source": [
        "train_X = np.array([naive_sentence_embedding(tt, model, mean_vector) for tt in X_text])"
      ],
      "execution_count": null,
      "outputs": []
    },
    {
      "cell_type": "code",
      "metadata": {
        "id": "2LK3dskQg55_"
      },
      "source": [
        "train_X.shape"
      ],
      "execution_count": null,
      "outputs": []
    },
    {
      "cell_type": "code",
      "metadata": {
        "id": "r9RLlcZbd3tC"
      },
      "source": [
        "from sklearn.metrics import f1_score\n",
        "from sklearn.linear_model import LogisticRegression\n",
        "from sklearn.model_selection import train_test_split\n",
        "\n",
        "X_train, X_test, y_train, y_test = train_test_split(train_X, y, test_size=0.33, random_state=42, shuffle=True)"
      ],
      "execution_count": null,
      "outputs": []
    },
    {
      "cell_type": "code",
      "metadata": {
        "id": "mF7Bu0yFgKVB"
      },
      "source": [
        "logreg = LogisticRegression()\n",
        "\n",
        "logreg.fit(X_train, y_train)"
      ],
      "execution_count": null,
      "outputs": []
    },
    {
      "cell_type": "code",
      "metadata": {
        "id": "setoCGPChAJl"
      },
      "source": [
        "example = \"This is a real disaster!\"\n",
        "embedding_example = naive_sentence_embedding(example, model, mean_vector)\n",
        "\n",
        "logreg.predict(np.array([embedding_example]))\n"
      ],
      "execution_count": null,
      "outputs": []
    },
    {
      "cell_type": "code",
      "metadata": {
        "id": "GvP5MufOhV8C"
      },
      "source": [
        "example = \"The cat is on the table\"\n",
        "embedding_example = naive_sentence_embedding(example, model, mean_vector)\n",
        "\n",
        "logreg.predict(np.array([embedding_example]))\n"
      ],
      "execution_count": null,
      "outputs": []
    },
    {
      "cell_type": "code",
      "metadata": {
        "id": "685nQm3dgO8m"
      },
      "source": [
        "predictions = logreg.predict(X_test)\n",
        "f1_score(y_test, predictions)"
      ],
      "execution_count": null,
      "outputs": []
    }
  ]
}