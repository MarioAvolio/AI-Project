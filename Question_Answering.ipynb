{
  "cells": [
    {
      "cell_type": "markdown",
      "metadata": {
        "id": "view-in-github",
        "colab_type": "text"
      },
      "source": [
        "<a href=\"https://colab.research.google.com/github/MarioAvolio/AI-Project/blob/main/Question_Answering.ipynb\" target=\"_parent\"><img src=\"https://colab.research.google.com/assets/colab-badge.svg\" alt=\"Open In Colab\"/></a>"
      ]
    },
    {
      "cell_type": "code",
      "execution_count": 1,
      "metadata": {
        "id": "GsRizD7zFJ3V"
      },
      "outputs": [],
      "source": [
        "import pandas as pd\n",
        "import os\n",
        "import matplotlib.pyplot as plt # plotting\n",
        "import numpy as np"
      ]
    },
    {
      "cell_type": "code",
      "execution_count": 2,
      "metadata": {
        "colab": {
          "base_uri": "https://localhost:8080/"
        },
        "id": "S0PXS5lKh1JA",
        "outputId": "162e2fe2-bbd1-4d48-e8a7-7b450d694e0b"
      },
      "outputs": [
        {
          "output_type": "stream",
          "name": "stdout",
          "text": [
            "Requirement already satisfied: pip in /usr/local/lib/python3.10/dist-packages (23.2.1)\n",
            "\u001b[33mWARNING: Running pip as the 'root' user can result in broken permissions and conflicting behaviour with the system package manager. It is recommended to use a virtual environment instead: https://pip.pypa.io/warnings/venv\u001b[0m\u001b[33m\n",
            "\u001b[0mRequirement already satisfied: farm-haystack[all-gpu] in /usr/local/lib/python3.10/dist-packages (1.19.0)\n",
            "Requirement already satisfied: boilerpy3 in /usr/local/lib/python3.10/dist-packages (from farm-haystack[all-gpu]) (1.0.6)\n",
            "Requirement already satisfied: canals==0.3.2 in /usr/local/lib/python3.10/dist-packages (from farm-haystack[all-gpu]) (0.3.2)\n",
            "Requirement already satisfied: events in /usr/local/lib/python3.10/dist-packages (from farm-haystack[all-gpu]) (0.5)\n",
            "Requirement already satisfied: jsonschema in /usr/local/lib/python3.10/dist-packages (from farm-haystack[all-gpu]) (4.3.3)\n",
            "Requirement already satisfied: lazy-imports==0.3.1 in /usr/local/lib/python3.10/dist-packages (from farm-haystack[all-gpu]) (0.3.1)\n",
            "Requirement already satisfied: more-itertools in /usr/local/lib/python3.10/dist-packages (from farm-haystack[all-gpu]) (9.1.0)\n",
            "Requirement already satisfied: networkx in /usr/local/lib/python3.10/dist-packages (from farm-haystack[all-gpu]) (3.1)\n",
            "Requirement already satisfied: pandas in /usr/local/lib/python3.10/dist-packages (from farm-haystack[all-gpu]) (1.5.3)\n",
            "Requirement already satisfied: pillow in /usr/local/lib/python3.10/dist-packages (from farm-haystack[all-gpu]) (9.4.0)\n",
            "Requirement already satisfied: platformdirs in /usr/local/lib/python3.10/dist-packages (from farm-haystack[all-gpu]) (3.9.1)\n",
            "Requirement already satisfied: posthog in /usr/local/lib/python3.10/dist-packages (from farm-haystack[all-gpu]) (3.0.1)\n",
            "Requirement already satisfied: prompthub-py==4.0.0 in /usr/local/lib/python3.10/dist-packages (from farm-haystack[all-gpu]) (4.0.0)\n",
            "Requirement already satisfied: pydantic<2 in /usr/local/lib/python3.10/dist-packages (from farm-haystack[all-gpu]) (1.10.12)\n",
            "Requirement already satisfied: quantulum3 in /usr/local/lib/python3.10/dist-packages (from farm-haystack[all-gpu]) (0.9.0)\n",
            "Requirement already satisfied: rank-bm25 in /usr/local/lib/python3.10/dist-packages (from farm-haystack[all-gpu]) (0.2.2)\n",
            "Requirement already satisfied: requests in /usr/local/lib/python3.10/dist-packages (from farm-haystack[all-gpu]) (2.28.2)\n",
            "Requirement already satisfied: requests-cache<1.0.0 in /usr/local/lib/python3.10/dist-packages (from farm-haystack[all-gpu]) (0.9.8)\n",
            "Requirement already satisfied: scikit-learn>=1.3.0 in /usr/local/lib/python3.10/dist-packages (from farm-haystack[all-gpu]) (1.3.0)\n",
            "Requirement already satisfied: sseclient-py in /usr/local/lib/python3.10/dist-packages (from farm-haystack[all-gpu]) (1.7.2)\n",
            "Requirement already satisfied: tenacity in /usr/local/lib/python3.10/dist-packages (from farm-haystack[all-gpu]) (8.2.2)\n",
            "Requirement already satisfied: tiktoken>=0.3.2 in /usr/local/lib/python3.10/dist-packages (from farm-haystack[all-gpu]) (0.4.0)\n",
            "Requirement already satisfied: tqdm in /usr/local/lib/python3.10/dist-packages (from farm-haystack[all-gpu]) (4.65.0)\n",
            "Requirement already satisfied: transformers==4.31.0 in /usr/local/lib/python3.10/dist-packages (from farm-haystack[all-gpu]) (4.31.0)\n",
            "Requirement already satisfied: pyyaml<7.0,>=6.0 in /usr/local/lib/python3.10/dist-packages (from prompthub-py==4.0.0->farm-haystack[all-gpu]) (6.0.1)\n",
            "Requirement already satisfied: filelock in /usr/local/lib/python3.10/dist-packages (from transformers==4.31.0->farm-haystack[all-gpu]) (3.12.2)\n",
            "Requirement already satisfied: huggingface-hub<1.0,>=0.14.1 in /usr/local/lib/python3.10/dist-packages (from transformers==4.31.0->farm-haystack[all-gpu]) (0.16.4)\n",
            "Requirement already satisfied: numpy>=1.17 in /usr/local/lib/python3.10/dist-packages (from transformers==4.31.0->farm-haystack[all-gpu]) (1.22.4)\n",
            "Requirement already satisfied: packaging>=20.0 in /usr/local/lib/python3.10/dist-packages (from transformers==4.31.0->farm-haystack[all-gpu]) (23.1)\n",
            "Requirement already satisfied: regex!=2019.12.17 in /usr/local/lib/python3.10/dist-packages (from transformers==4.31.0->farm-haystack[all-gpu]) (2022.10.31)\n",
            "Requirement already satisfied: tokenizers!=0.11.3,<0.14,>=0.11.1 in /usr/local/lib/python3.10/dist-packages (from transformers==4.31.0->farm-haystack[all-gpu]) (0.13.3)\n",
            "Requirement already satisfied: safetensors>=0.3.1 in /usr/local/lib/python3.10/dist-packages (from transformers==4.31.0->farm-haystack[all-gpu]) (0.3.2)\n",
            "Requirement already satisfied: typing-extensions>=4.2.0 in /usr/local/lib/python3.10/dist-packages (from pydantic<2->farm-haystack[all-gpu]) (4.7.1)\n",
            "Requirement already satisfied: charset-normalizer<4,>=2 in /usr/local/lib/python3.10/dist-packages (from requests->farm-haystack[all-gpu]) (2.0.12)\n",
            "Requirement already satisfied: idna<4,>=2.5 in /usr/local/lib/python3.10/dist-packages (from requests->farm-haystack[all-gpu]) (3.4)\n",
            "Requirement already satisfied: urllib3<1.27,>=1.21.1 in /usr/local/lib/python3.10/dist-packages (from requests->farm-haystack[all-gpu]) (1.26.16)\n",
            "Requirement already satisfied: certifi>=2017.4.17 in /usr/local/lib/python3.10/dist-packages (from requests->farm-haystack[all-gpu]) (2023.7.22)\n",
            "Requirement already satisfied: appdirs>=1.4.4 in /usr/local/lib/python3.10/dist-packages (from requests-cache<1.0.0->farm-haystack[all-gpu]) (1.4.4)\n",
            "Requirement already satisfied: attrs>=21.2 in /usr/local/lib/python3.10/dist-packages (from requests-cache<1.0.0->farm-haystack[all-gpu]) (23.1.0)\n",
            "Requirement already satisfied: cattrs>=22.2 in /usr/local/lib/python3.10/dist-packages (from requests-cache<1.0.0->farm-haystack[all-gpu]) (23.1.2)\n",
            "Requirement already satisfied: url-normalize>=1.4 in /usr/local/lib/python3.10/dist-packages (from requests-cache<1.0.0->farm-haystack[all-gpu]) (1.4.3)\n",
            "Requirement already satisfied: scipy>=1.5.0 in /usr/local/lib/python3.10/dist-packages (from scikit-learn>=1.3.0->farm-haystack[all-gpu]) (1.10.1)\n",
            "Requirement already satisfied: joblib>=1.1.1 in /usr/local/lib/python3.10/dist-packages (from scikit-learn>=1.3.0->farm-haystack[all-gpu]) (1.3.1)\n",
            "Requirement already satisfied: threadpoolctl>=2.0.0 in /usr/local/lib/python3.10/dist-packages (from scikit-learn>=1.3.0->farm-haystack[all-gpu]) (3.2.0)\n",
            "Requirement already satisfied: mlflow in /usr/local/lib/python3.10/dist-packages (from farm-haystack[all-gpu]) (2.5.0)\n",
            "Requirement already satisfied: rapidfuzz<2.8.0,>=2.0.15 in /usr/local/lib/python3.10/dist-packages (from farm-haystack[all-gpu]) (2.7.0)\n",
            "Requirement already satisfied: seqeval in /usr/local/lib/python3.10/dist-packages (from farm-haystack[all-gpu]) (1.2.2)\n",
            "Requirement already satisfied: pymupdf>=1.18.16 in /usr/local/lib/python3.10/dist-packages (from farm-haystack[all-gpu]) (1.22.5)\n",
            "Requirement already satisfied: azure-ai-formrecognizer>=3.2.0b2 in /usr/local/lib/python3.10/dist-packages (from farm-haystack[all-gpu]) (3.3.0b1)\n",
            "Requirement already satisfied: beautifulsoup4 in /usr/local/lib/python3.10/dist-packages (from farm-haystack[all-gpu]) (4.11.2)\n",
            "Requirement already satisfied: markdown in /usr/local/lib/python3.10/dist-packages (from farm-haystack[all-gpu]) (3.4.4)\n",
            "Requirement already satisfied: python-docx in /usr/local/lib/python3.10/dist-packages (from farm-haystack[all-gpu]) (0.8.11)\n",
            "Requirement already satisfied: python-frontmatter in /usr/local/lib/python3.10/dist-packages (from farm-haystack[all-gpu]) (1.0.0)\n",
            "Requirement already satisfied: python-magic in /usr/local/lib/python3.10/dist-packages (from farm-haystack[all-gpu]) (0.4.27)\n",
            "Requirement already satisfied: tika in /usr/local/lib/python3.10/dist-packages (from farm-haystack[all-gpu]) (2.6.0)\n",
            "Requirement already satisfied: aiorwlock<2,>=1.3.0 in /usr/local/lib/python3.10/dist-packages (from farm-haystack[all-gpu]) (1.3.0)\n",
            "Requirement already satisfied: ray[serve]<2,>=1.9.1 in /usr/local/lib/python3.10/dist-packages (from farm-haystack[all-gpu]) (1.13.0)\n",
            "Requirement already satisfied: pdf2image>1.14 in /usr/local/lib/python3.10/dist-packages (from farm-haystack[all-gpu]) (1.16.3)\n",
            "Requirement already satisfied: pytesseract>0.3.7 in /usr/local/lib/python3.10/dist-packages (from farm-haystack[all-gpu]) (0.3.10)\n",
            "Requirement already satisfied: sentence-transformers>=2.2.0 in /usr/local/lib/python3.10/dist-packages (from farm-haystack[all-gpu]) (2.2.2)\n",
            "Requirement already satisfied: openai-whisper in /usr/local/lib/python3.10/dist-packages (from farm-haystack[all-gpu]) (20230308)\n",
            "Requirement already satisfied: boto3 in /usr/local/lib/python3.10/dist-packages (from farm-haystack[all-gpu]) (1.28.21)\n",
            "Requirement already satisfied: botocore>=1.27 in /usr/local/lib/python3.10/dist-packages (from farm-haystack[all-gpu]) (1.31.21)\n",
            "Requirement already satisfied: langdetect in /usr/local/lib/python3.10/dist-packages (from farm-haystack[all-gpu]) (1.0.9)\n",
            "Requirement already satisfied: nltk in /usr/local/lib/python3.10/dist-packages (from farm-haystack[all-gpu]) (3.8.1)\n",
            "Requirement already satisfied: selenium!=4.1.4,>=4.0.0 in /usr/local/lib/python3.10/dist-packages (from farm-haystack[all-gpu]) (4.11.2)\n",
            "Requirement already satisfied: webdriver-manager in /usr/local/lib/python3.10/dist-packages (from farm-haystack[all-gpu]) (4.0.0)\n",
            "Requirement already satisfied: onnxruntime-gpu in /usr/local/lib/python3.10/dist-packages (from farm-haystack[all-gpu]) (1.15.1)\n",
            "Requirement already satisfied: onnxruntime-tools in /usr/local/lib/python3.10/dist-packages (from farm-haystack[all-gpu]) (1.7.0)\n",
            "Requirement already satisfied: sentencepiece!=0.1.92,>=0.1.91 in /usr/local/lib/python3.10/dist-packages (from transformers==4.31.0->farm-haystack[all-gpu]) (0.1.99)\n",
            "Requirement already satisfied: protobuf in /usr/local/lib/python3.10/dist-packages (from transformers==4.31.0->farm-haystack[all-gpu]) (3.20.3)\n",
            "Requirement already satisfied: torch!=1.12.0,>=1.9 in /usr/local/lib/python3.10/dist-packages (from transformers==4.31.0->farm-haystack[all-gpu]) (2.0.1+cu118)\n",
            "Requirement already satisfied: accelerate>=0.20.3 in /usr/local/lib/python3.10/dist-packages (from transformers==4.31.0->farm-haystack[all-gpu]) (0.21.0)\n",
            "Requirement already satisfied: pyrsistent!=0.17.0,!=0.17.1,!=0.17.2,>=0.14.0 in /usr/local/lib/python3.10/dist-packages (from jsonschema->farm-haystack[all-gpu]) (0.19.3)\n",
            "Requirement already satisfied: python-dateutil>=2.8.1 in /usr/local/lib/python3.10/dist-packages (from pandas->farm-haystack[all-gpu]) (2.8.2)\n",
            "Requirement already satisfied: pytz>=2020.1 in /usr/local/lib/python3.10/dist-packages (from pandas->farm-haystack[all-gpu]) (2022.7.1)\n",
            "Requirement already satisfied: six>=1.5 in /usr/local/lib/python3.10/dist-packages (from posthog->farm-haystack[all-gpu]) (1.16.0)\n",
            "Requirement already satisfied: monotonic>=1.5 in /usr/local/lib/python3.10/dist-packages (from posthog->farm-haystack[all-gpu]) (1.6)\n",
            "Requirement already satisfied: backoff>=1.10.0 in /usr/local/lib/python3.10/dist-packages (from posthog->farm-haystack[all-gpu]) (2.2.1)\n",
            "Requirement already satisfied: inflect in /usr/local/lib/python3.10/dist-packages (from quantulum3->farm-haystack[all-gpu]) (6.0.5)\n",
            "Requirement already satisfied: num2words in /usr/local/lib/python3.10/dist-packages (from quantulum3->farm-haystack[all-gpu]) (0.5.12)\n",
            "Requirement already satisfied: azure-core<2.0.0,>=1.23.0 in /usr/local/lib/python3.10/dist-packages (from azure-ai-formrecognizer>=3.2.0b2->farm-haystack[all-gpu]) (1.28.0)\n",
            "Requirement already satisfied: msrest>=0.6.21 in /usr/local/lib/python3.10/dist-packages (from azure-ai-formrecognizer>=3.2.0b2->farm-haystack[all-gpu]) (0.7.1)\n",
            "Requirement already satisfied: azure-common~=1.1 in /usr/local/lib/python3.10/dist-packages (from azure-ai-formrecognizer>=3.2.0b2->farm-haystack[all-gpu]) (1.1.28)\n",
            "Requirement already satisfied: jmespath<2.0.0,>=0.7.1 in /usr/local/lib/python3.10/dist-packages (from botocore>=1.27->farm-haystack[all-gpu]) (1.0.1)\n",
            "Requirement already satisfied: exceptiongroup in /usr/local/lib/python3.10/dist-packages (from cattrs>=22.2->requests-cache<1.0.0->farm-haystack[all-gpu]) (1.1.2)\n",
            "Requirement already satisfied: fsspec in /usr/local/lib/python3.10/dist-packages (from huggingface-hub<1.0,>=0.14.1->transformers==4.31.0->farm-haystack[all-gpu]) (2023.6.0)\n",
            "Requirement already satisfied: jarowinkler<2.0.0,>=1.2.0 in /usr/local/lib/python3.10/dist-packages (from rapidfuzz<2.8.0,>=2.0.15->farm-haystack[all-gpu]) (1.2.3)\n",
            "Requirement already satisfied: click<=8.0.4,>=7.0 in /usr/local/lib/python3.10/dist-packages (from ray[serve]<2,>=1.9.1->farm-haystack[all-gpu]) (8.0.4)\n",
            "Requirement already satisfied: grpcio<=1.43.0,>=1.28.1 in /usr/local/lib/python3.10/dist-packages (from ray[serve]<2,>=1.9.1->farm-haystack[all-gpu]) (1.43.0)\n",
            "Requirement already satisfied: msgpack<2.0.0,>=1.0.0 in /usr/local/lib/python3.10/dist-packages (from ray[serve]<2,>=1.9.1->farm-haystack[all-gpu]) (1.0.5)\n",
            "Requirement already satisfied: aiosignal in /usr/local/lib/python3.10/dist-packages (from ray[serve]<2,>=1.9.1->farm-haystack[all-gpu]) (1.3.1)\n",
            "Requirement already satisfied: frozenlist in /usr/local/lib/python3.10/dist-packages (from ray[serve]<2,>=1.9.1->farm-haystack[all-gpu]) (1.4.0)\n",
            "Requirement already satisfied: virtualenv in /usr/local/lib/python3.10/dist-packages (from ray[serve]<2,>=1.9.1->farm-haystack[all-gpu]) (20.24.2)\n",
            "Requirement already satisfied: starlette in /usr/local/lib/python3.10/dist-packages (from ray[serve]<2,>=1.9.1->farm-haystack[all-gpu]) (0.27.0)\n",
            "Requirement already satisfied: colorful in /usr/local/lib/python3.10/dist-packages (from ray[serve]<2,>=1.9.1->farm-haystack[all-gpu]) (0.5.5)\n",
            "Requirement already satisfied: gpustat>=1.0.0b1 in /usr/local/lib/python3.10/dist-packages (from ray[serve]<2,>=1.9.1->farm-haystack[all-gpu]) (1.1)\n",
            "Requirement already satisfied: prometheus-client<0.14.0,>=0.7.1 in /usr/local/lib/python3.10/dist-packages (from ray[serve]<2,>=1.9.1->farm-haystack[all-gpu]) (0.13.1)\n",
            "Requirement already satisfied: opencensus in /usr/local/lib/python3.10/dist-packages (from ray[serve]<2,>=1.9.1->farm-haystack[all-gpu]) (0.11.2)\n",
            "Requirement already satisfied: smart-open in /usr/local/lib/python3.10/dist-packages (from ray[serve]<2,>=1.9.1->farm-haystack[all-gpu]) (6.3.0)\n",
            "Requirement already satisfied: aiohttp>=3.7 in /usr/local/lib/python3.10/dist-packages (from ray[serve]<2,>=1.9.1->farm-haystack[all-gpu]) (3.8.5)\n",
            "Requirement already satisfied: py-spy>=0.2.0 in /usr/local/lib/python3.10/dist-packages (from ray[serve]<2,>=1.9.1->farm-haystack[all-gpu]) (0.3.14)\n",
            "Requirement already satisfied: fastapi in /usr/local/lib/python3.10/dist-packages (from ray[serve]<2,>=1.9.1->farm-haystack[all-gpu]) (0.101.0)\n",
            "Requirement already satisfied: uvicorn==0.16.0 in /usr/local/lib/python3.10/dist-packages (from ray[serve]<2,>=1.9.1->farm-haystack[all-gpu]) (0.16.0)\n",
            "Requirement already satisfied: aiohttp-cors in /usr/local/lib/python3.10/dist-packages (from ray[serve]<2,>=1.9.1->farm-haystack[all-gpu]) (0.7.0)\n",
            "Requirement already satisfied: asgiref>=3.4.0 in /usr/local/lib/python3.10/dist-packages (from uvicorn==0.16.0->ray[serve]<2,>=1.9.1->farm-haystack[all-gpu]) (3.7.2)\n",
            "Requirement already satisfied: h11>=0.8 in /usr/local/lib/python3.10/dist-packages (from uvicorn==0.16.0->ray[serve]<2,>=1.9.1->farm-haystack[all-gpu]) (0.14.0)\n",
            "Requirement already satisfied: trio~=0.17 in /usr/local/lib/python3.10/dist-packages (from selenium!=4.1.4,>=4.0.0->farm-haystack[all-gpu]) (0.22.2)\n",
            "Requirement already satisfied: trio-websocket~=0.9 in /usr/local/lib/python3.10/dist-packages (from selenium!=4.1.4,>=4.0.0->farm-haystack[all-gpu]) (0.10.3)\n",
            "Requirement already satisfied: torchvision in /usr/local/lib/python3.10/dist-packages (from sentence-transformers>=2.2.0->farm-haystack[all-gpu]) (0.15.2+cu118)\n",
            "Requirement already satisfied: soupsieve>1.2 in /usr/local/lib/python3.10/dist-packages (from beautifulsoup4->farm-haystack[all-gpu]) (2.4.1)\n",
            "Requirement already satisfied: s3transfer<0.7.0,>=0.6.0 in /usr/local/lib/python3.10/dist-packages (from boto3->farm-haystack[all-gpu]) (0.6.1)\n",
            "Requirement already satisfied: weaviate-client<3.19.0 in /usr/local/lib/python3.10/dist-packages (from farm-haystack[all-gpu]) (3.18.0)\n",
            "Requirement already satisfied: opensearch-py>=2 in /usr/local/lib/python3.10/dist-packages (from farm-haystack[all-gpu]) (2.3.0)\n",
            "Requirement already satisfied: cloudpickle<3 in /usr/local/lib/python3.10/dist-packages (from mlflow->farm-haystack[all-gpu]) (2.2.1)\n",
            "Requirement already satisfied: databricks-cli<1,>=0.8.7 in /usr/local/lib/python3.10/dist-packages (from mlflow->farm-haystack[all-gpu]) (0.17.7)\n",
            "Requirement already satisfied: entrypoints<1 in /usr/local/lib/python3.10/dist-packages (from mlflow->farm-haystack[all-gpu]) (0.4)\n",
            "Requirement already satisfied: gitpython<4,>=2.1.0 in /usr/local/lib/python3.10/dist-packages (from mlflow->farm-haystack[all-gpu]) (3.1.32)\n",
            "Requirement already satisfied: importlib-metadata!=4.7.0,<7,>=3.7.0 in /usr/lib/python3/dist-packages (from mlflow->farm-haystack[all-gpu]) (4.6.4)\n",
            "Requirement already satisfied: sqlparse<1,>=0.4.0 in /usr/local/lib/python3.10/dist-packages (from mlflow->farm-haystack[all-gpu]) (0.4.4)\n",
            "Requirement already satisfied: alembic!=1.10.0,<2 in /usr/local/lib/python3.10/dist-packages (from mlflow->farm-haystack[all-gpu]) (1.11.2)\n",
            "Requirement already satisfied: docker<7,>=4.0.0 in /usr/local/lib/python3.10/dist-packages (from mlflow->farm-haystack[all-gpu]) (6.1.3)\n",
            "Requirement already satisfied: Flask<3 in /usr/local/lib/python3.10/dist-packages (from mlflow->farm-haystack[all-gpu]) (2.2.5)\n",
            "Requirement already satisfied: querystring-parser<2 in /usr/local/lib/python3.10/dist-packages (from mlflow->farm-haystack[all-gpu]) (1.2.4)\n",
            "Requirement already satisfied: sqlalchemy<3,>=1.4.0 in /usr/local/lib/python3.10/dist-packages (from mlflow->farm-haystack[all-gpu]) (1.4.49)\n",
            "Requirement already satisfied: pyarrow<13,>=4.0.0 in /usr/local/lib/python3.10/dist-packages (from mlflow->farm-haystack[all-gpu]) (9.0.0)\n",
            "Requirement already satisfied: matplotlib<4 in /usr/local/lib/python3.10/dist-packages (from mlflow->farm-haystack[all-gpu]) (3.7.1)\n",
            "Requirement already satisfied: gunicorn<21 in /usr/local/lib/python3.10/dist-packages (from mlflow->farm-haystack[all-gpu]) (20.1.0)\n",
            "Requirement already satisfied: Jinja2<4,>=2.11 in /usr/local/lib/python3.10/dist-packages (from mlflow->farm-haystack[all-gpu]) (3.1.2)\n",
            "Requirement already satisfied: docopt>=0.6.2 in /usr/local/lib/python3.10/dist-packages (from num2words->quantulum3->farm-haystack[all-gpu]) (0.6.2)\n",
            "Requirement already satisfied: coloredlogs in /usr/local/lib/python3.10/dist-packages (from onnxruntime-gpu->farm-haystack[all-gpu]) (15.0.1)\n",
            "Requirement already satisfied: flatbuffers in /usr/local/lib/python3.10/dist-packages (from onnxruntime-gpu->farm-haystack[all-gpu]) (23.5.26)\n",
            "Requirement already satisfied: sympy in /usr/local/lib/python3.10/dist-packages (from onnxruntime-gpu->farm-haystack[all-gpu]) (1.11.1)\n",
            "Requirement already satisfied: onnx in /usr/local/lib/python3.10/dist-packages (from onnxruntime-tools->farm-haystack[all-gpu]) (1.14.0)\n",
            "Requirement already satisfied: psutil in /usr/local/lib/python3.10/dist-packages (from onnxruntime-tools->farm-haystack[all-gpu]) (5.9.5)\n",
            "Requirement already satisfied: py-cpuinfo in /usr/local/lib/python3.10/dist-packages (from onnxruntime-tools->farm-haystack[all-gpu]) (9.0.0)\n",
            "Requirement already satisfied: py3nvml in /usr/local/lib/python3.10/dist-packages (from onnxruntime-tools->farm-haystack[all-gpu]) (0.2.7)\n",
            "Requirement already satisfied: triton==2.0.0 in /usr/local/lib/python3.10/dist-packages (from openai-whisper->farm-haystack[all-gpu]) (2.0.0)\n",
            "Requirement already satisfied: numba in /usr/local/lib/python3.10/dist-packages (from openai-whisper->farm-haystack[all-gpu]) (0.56.4)\n",
            "Requirement already satisfied: ffmpeg-python==0.2.0 in /usr/local/lib/python3.10/dist-packages (from openai-whisper->farm-haystack[all-gpu]) (0.2.0)\n",
            "Requirement already satisfied: future in /usr/local/lib/python3.10/dist-packages (from ffmpeg-python==0.2.0->openai-whisper->farm-haystack[all-gpu]) (0.18.3)\n",
            "Requirement already satisfied: cmake in /usr/local/lib/python3.10/dist-packages (from triton==2.0.0->openai-whisper->farm-haystack[all-gpu]) (3.25.2)\n",
            "Requirement already satisfied: lit in /usr/local/lib/python3.10/dist-packages (from triton==2.0.0->openai-whisper->farm-haystack[all-gpu]) (16.0.6)\n",
            "Requirement already satisfied: lxml>=2.3.2 in /usr/local/lib/python3.10/dist-packages (from python-docx->farm-haystack[all-gpu]) (4.9.3)\n",
            "Requirement already satisfied: setuptools in /usr/local/lib/python3.10/dist-packages (from tika->farm-haystack[all-gpu]) (67.7.2)\n",
            "Requirement already satisfied: python-dotenv in /usr/local/lib/python3.10/dist-packages (from webdriver-manager->farm-haystack[all-gpu]) (1.0.0)\n",
            "Requirement already satisfied: multidict<7.0,>=4.5 in /usr/local/lib/python3.10/dist-packages (from aiohttp>=3.7->ray[serve]<2,>=1.9.1->farm-haystack[all-gpu]) (6.0.4)\n",
            "Requirement already satisfied: async-timeout<5.0,>=4.0.0a3 in /usr/local/lib/python3.10/dist-packages (from aiohttp>=3.7->ray[serve]<2,>=1.9.1->farm-haystack[all-gpu]) (4.0.2)\n",
            "Requirement already satisfied: yarl<2.0,>=1.0 in /usr/local/lib/python3.10/dist-packages (from aiohttp>=3.7->ray[serve]<2,>=1.9.1->farm-haystack[all-gpu]) (1.9.2)\n",
            "Requirement already satisfied: Mako in /usr/local/lib/python3.10/dist-packages (from alembic!=1.10.0,<2->mlflow->farm-haystack[all-gpu]) (1.2.4)\n",
            "Requirement already satisfied: pyjwt>=1.7.0 in /usr/lib/python3/dist-packages (from databricks-cli<1,>=0.8.7->mlflow->farm-haystack[all-gpu]) (2.3.0)\n",
            "Requirement already satisfied: oauthlib>=3.1.0 in /usr/local/lib/python3.10/dist-packages (from databricks-cli<1,>=0.8.7->mlflow->farm-haystack[all-gpu]) (3.2.2)\n",
            "Requirement already satisfied: tabulate>=0.7.7 in /usr/local/lib/python3.10/dist-packages (from databricks-cli<1,>=0.8.7->mlflow->farm-haystack[all-gpu]) (0.9.0)\n",
            "Requirement already satisfied: websocket-client>=0.32.0 in /usr/local/lib/python3.10/dist-packages (from docker<7,>=4.0.0->mlflow->farm-haystack[all-gpu]) (1.6.1)\n",
            "Requirement already satisfied: Werkzeug>=2.2.2 in /usr/local/lib/python3.10/dist-packages (from Flask<3->mlflow->farm-haystack[all-gpu]) (2.3.6)\n",
            "Requirement already satisfied: itsdangerous>=2.0 in /usr/local/lib/python3.10/dist-packages (from Flask<3->mlflow->farm-haystack[all-gpu]) (2.1.2)\n",
            "Requirement already satisfied: gitdb<5,>=4.0.1 in /usr/local/lib/python3.10/dist-packages (from gitpython<4,>=2.1.0->mlflow->farm-haystack[all-gpu]) (4.0.10)\n",
            "Requirement already satisfied: nvidia-ml-py>=11.450.129 in /usr/local/lib/python3.10/dist-packages (from gpustat>=1.0.0b1->ray[serve]<2,>=1.9.1->farm-haystack[all-gpu]) (12.535.77)\n",
            "Requirement already satisfied: blessed>=1.17.1 in /usr/local/lib/python3.10/dist-packages (from gpustat>=1.0.0b1->ray[serve]<2,>=1.9.1->farm-haystack[all-gpu]) (1.20.0)\n",
            "Requirement already satisfied: MarkupSafe>=2.0 in /usr/local/lib/python3.10/dist-packages (from Jinja2<4,>=2.11->mlflow->farm-haystack[all-gpu]) (2.1.3)\n",
            "Requirement already satisfied: contourpy>=1.0.1 in /usr/local/lib/python3.10/dist-packages (from matplotlib<4->mlflow->farm-haystack[all-gpu]) (1.1.0)\n",
            "Requirement already satisfied: cycler>=0.10 in /usr/local/lib/python3.10/dist-packages (from matplotlib<4->mlflow->farm-haystack[all-gpu]) (0.11.0)\n",
            "Requirement already satisfied: fonttools>=4.22.0 in /usr/local/lib/python3.10/dist-packages (from matplotlib<4->mlflow->farm-haystack[all-gpu]) (4.41.1)\n",
            "Requirement already satisfied: kiwisolver>=1.0.1 in /usr/local/lib/python3.10/dist-packages (from matplotlib<4->mlflow->farm-haystack[all-gpu]) (1.4.4)\n",
            "Requirement already satisfied: pyparsing>=2.3.1 in /usr/local/lib/python3.10/dist-packages (from matplotlib<4->mlflow->farm-haystack[all-gpu]) (3.1.0)\n",
            "Requirement already satisfied: isodate>=0.6.0 in /usr/local/lib/python3.10/dist-packages (from msrest>=0.6.21->azure-ai-formrecognizer>=3.2.0b2->farm-haystack[all-gpu]) (0.6.1)\n",
            "Requirement already satisfied: requests-oauthlib>=0.5.0 in /usr/local/lib/python3.10/dist-packages (from msrest>=0.6.21->azure-ai-formrecognizer>=3.2.0b2->farm-haystack[all-gpu]) (1.3.1)\n",
            "Requirement already satisfied: greenlet!=0.4.17 in /usr/local/lib/python3.10/dist-packages (from sqlalchemy<3,>=1.4.0->mlflow->farm-haystack[all-gpu]) (2.0.2)\n",
            "Requirement already satisfied: sortedcontainers in /usr/local/lib/python3.10/dist-packages (from trio~=0.17->selenium!=4.1.4,>=4.0.0->farm-haystack[all-gpu]) (2.4.0)\n",
            "Requirement already satisfied: outcome in /usr/local/lib/python3.10/dist-packages (from trio~=0.17->selenium!=4.1.4,>=4.0.0->farm-haystack[all-gpu]) (1.2.0)\n",
            "Requirement already satisfied: sniffio in /usr/local/lib/python3.10/dist-packages (from trio~=0.17->selenium!=4.1.4,>=4.0.0->farm-haystack[all-gpu]) (1.3.0)\n",
            "Requirement already satisfied: wsproto>=0.14 in /usr/local/lib/python3.10/dist-packages (from trio-websocket~=0.9->selenium!=4.1.4,>=4.0.0->farm-haystack[all-gpu]) (1.2.0)\n",
            "Requirement already satisfied: PySocks!=1.5.7,<2.0,>=1.5.6 in /usr/local/lib/python3.10/dist-packages (from urllib3<1.27,>=1.21.1->requests->farm-haystack[all-gpu]) (1.7.1)\n",
            "Requirement already satisfied: validators<=0.21.0,>=0.18.2 in /usr/local/lib/python3.10/dist-packages (from weaviate-client<3.19.0->farm-haystack[all-gpu]) (0.20.0)\n",
            "Requirement already satisfied: authlib>=1.1.0 in /usr/local/lib/python3.10/dist-packages (from weaviate-client<3.19.0->farm-haystack[all-gpu]) (1.2.1)\n",
            "Requirement already satisfied: humanfriendly>=9.1 in /usr/local/lib/python3.10/dist-packages (from coloredlogs->onnxruntime-gpu->farm-haystack[all-gpu]) (10.0)\n",
            "Requirement already satisfied: elastic-transport<8 in /usr/local/lib/python3.10/dist-packages (from farm-haystack[all-gpu]) (7.16.0)\n",
            "Requirement already satisfied: elasticsearch<8,>=7.17 in /usr/local/lib/python3.10/dist-packages (from farm-haystack[all-gpu]) (7.17.9)\n",
            "Requirement already satisfied: faiss-gpu<2,>=1.6.3 in /usr/local/lib/python3.10/dist-packages (from farm-haystack[all-gpu]) (1.7.2)\n",
            "Requirement already satisfied: psycopg2-binary in /usr/local/lib/python3.10/dist-packages (from farm-haystack[all-gpu]) (2.9.7)\n",
            "Requirement already satisfied: sqlalchemy-utils in /usr/local/lib/python3.10/dist-packages (from farm-haystack[all-gpu]) (0.41.1)\n",
            "Requirement already satisfied: pinecone-client<3,>=2.0.11 in /usr/local/lib/python3.10/dist-packages (from farm-haystack[all-gpu]) (2.2.2)\n",
            "Requirement already satisfied: anyio<5,>=3.4.0 in /usr/local/lib/python3.10/dist-packages (from starlette->ray[serve]<2,>=1.9.1->farm-haystack[all-gpu]) (3.7.1)\n",
            "Requirement already satisfied: llvmlite<0.40,>=0.39.0dev0 in /usr/local/lib/python3.10/dist-packages (from numba->openai-whisper->farm-haystack[all-gpu]) (0.39.1)\n",
            "Requirement already satisfied: opencensus-context>=0.1.3 in /usr/local/lib/python3.10/dist-packages (from opencensus->ray[serve]<2,>=1.9.1->farm-haystack[all-gpu]) (0.1.3)\n",
            "Requirement already satisfied: google-api-core<3.0.0,>=1.0.0 in /usr/local/lib/python3.10/dist-packages (from opencensus->ray[serve]<2,>=1.9.1->farm-haystack[all-gpu]) (2.11.1)\n",
            "Requirement already satisfied: xmltodict in /usr/local/lib/python3.10/dist-packages (from py3nvml->onnxruntime-tools->farm-haystack[all-gpu]) (0.13.0)\n",
            "Requirement already satisfied: mpmath>=0.19 in /usr/local/lib/python3.10/dist-packages (from sympy->onnxruntime-gpu->farm-haystack[all-gpu]) (1.3.0)\n",
            "Requirement already satisfied: distlib<1,>=0.3.7 in /usr/local/lib/python3.10/dist-packages (from virtualenv->ray[serve]<2,>=1.9.1->farm-haystack[all-gpu]) (0.3.7)\n",
            "Requirement already satisfied: cryptography>=3.2 in /usr/lib/python3/dist-packages (from authlib>=1.1.0->weaviate-client<3.19.0->farm-haystack[all-gpu]) (3.4.8)\n",
            "Requirement already satisfied: wcwidth>=0.1.4 in /usr/local/lib/python3.10/dist-packages (from blessed>=1.17.1->gpustat>=1.0.0b1->ray[serve]<2,>=1.9.1->farm-haystack[all-gpu]) (0.2.6)\n",
            "Requirement already satisfied: smmap<6,>=3.0.1 in /usr/local/lib/python3.10/dist-packages (from gitdb<5,>=4.0.1->gitpython<4,>=2.1.0->mlflow->farm-haystack[all-gpu]) (5.0.0)\n",
            "Requirement already satisfied: googleapis-common-protos<2.0.dev0,>=1.56.2 in /usr/local/lib/python3.10/dist-packages (from google-api-core<3.0.0,>=1.0.0->opencensus->ray[serve]<2,>=1.9.1->farm-haystack[all-gpu]) (1.59.1)\n",
            "Requirement already satisfied: google-auth<3.0.dev0,>=2.14.1 in /usr/local/lib/python3.10/dist-packages (from google-api-core<3.0.0,>=1.0.0->opencensus->ray[serve]<2,>=1.9.1->farm-haystack[all-gpu]) (2.17.3)\n",
            "Requirement already satisfied: loguru>=0.5.0 in /usr/local/lib/python3.10/dist-packages (from pinecone-client<3,>=2.0.11->farm-haystack[all-gpu]) (0.7.0)\n",
            "Requirement already satisfied: dnspython>=2.0.0 in /usr/local/lib/python3.10/dist-packages (from pinecone-client<3,>=2.0.11->farm-haystack[all-gpu]) (2.4.1)\n",
            "Requirement already satisfied: decorator>=3.4.0 in /usr/local/lib/python3.10/dist-packages (from validators<=0.21.0,>=0.18.2->weaviate-client<3.19.0->farm-haystack[all-gpu]) (4.4.2)\n",
            "Requirement already satisfied: cachetools<6.0,>=2.0.0 in /usr/local/lib/python3.10/dist-packages (from google-auth<3.0.dev0,>=2.14.1->google-api-core<3.0.0,>=1.0.0->opencensus->ray[serve]<2,>=1.9.1->farm-haystack[all-gpu]) (5.3.1)\n",
            "Requirement already satisfied: pyasn1-modules>=0.2.1 in /usr/local/lib/python3.10/dist-packages (from google-auth<3.0.dev0,>=2.14.1->google-api-core<3.0.0,>=1.0.0->opencensus->ray[serve]<2,>=1.9.1->farm-haystack[all-gpu]) (0.3.0)\n",
            "Requirement already satisfied: rsa<5,>=3.1.4 in /usr/local/lib/python3.10/dist-packages (from google-auth<3.0.dev0,>=2.14.1->google-api-core<3.0.0,>=1.0.0->opencensus->ray[serve]<2,>=1.9.1->farm-haystack[all-gpu]) (4.9)\n",
            "Requirement already satisfied: pyasn1<0.6.0,>=0.4.6 in /usr/local/lib/python3.10/dist-packages (from pyasn1-modules>=0.2.1->google-auth<3.0.dev0,>=2.14.1->google-api-core<3.0.0,>=1.0.0->opencensus->ray[serve]<2,>=1.9.1->farm-haystack[all-gpu]) (0.5.0)\n",
            "\u001b[33mWARNING: Running pip as the 'root' user can result in broken permissions and conflicting behaviour with the system package manager. It is recommended to use a virtual environment instead: https://pip.pypa.io/warnings/venv\u001b[0m\u001b[33m\n",
            "\u001b[0m"
          ]
        }
      ],
      "source": [
        "# https://docs.haystack.deepset.ai/docs/installation\n",
        "\n",
        "# !git clone https://github.com/deepset-ai/haystack.git\n",
        "# !cd haystack\n",
        "# !pip install -e .[all]\n",
        "!pip install --upgrade pip\n",
        "!pip install 'farm-haystack[all-gpu]' ## or 'all-gpu' for the GPU-enabled dependencies"
      ]
    },
    {
      "cell_type": "code",
      "execution_count": 3,
      "metadata": {
        "colab": {
          "base_uri": "https://localhost:8080/"
        },
        "id": "-MuGAEbhYjmy",
        "outputId": "02aba00b-d82b-4f0d-a9b4-4167379e77f8"
      },
      "outputs": [
        {
          "output_type": "stream",
          "name": "stdout",
          "text": [
            "Requirement already satisfied: datasets in /usr/local/lib/python3.10/dist-packages (2.14.3)\n",
            "Requirement already satisfied: numpy>=1.17 in /usr/local/lib/python3.10/dist-packages (from datasets) (1.22.4)\n",
            "Requirement already satisfied: pyarrow>=8.0.0 in /usr/local/lib/python3.10/dist-packages (from datasets) (9.0.0)\n",
            "Requirement already satisfied: dill<0.3.8,>=0.3.0 in /usr/local/lib/python3.10/dist-packages (from datasets) (0.3.7)\n",
            "Requirement already satisfied: pandas in /usr/local/lib/python3.10/dist-packages (from datasets) (1.5.3)\n",
            "Requirement already satisfied: requests>=2.19.0 in /usr/local/lib/python3.10/dist-packages (from datasets) (2.28.2)\n",
            "Requirement already satisfied: tqdm>=4.62.1 in /usr/local/lib/python3.10/dist-packages (from datasets) (4.65.0)\n",
            "Requirement already satisfied: xxhash in /usr/local/lib/python3.10/dist-packages (from datasets) (3.3.0)\n",
            "Requirement already satisfied: multiprocess in /usr/local/lib/python3.10/dist-packages (from datasets) (0.70.15)\n",
            "Requirement already satisfied: fsspec[http]>=2021.11.1 in /usr/local/lib/python3.10/dist-packages (from datasets) (2023.6.0)\n",
            "Requirement already satisfied: aiohttp in /usr/local/lib/python3.10/dist-packages (from datasets) (3.8.5)\n",
            "Requirement already satisfied: huggingface-hub<1.0.0,>=0.14.0 in /usr/local/lib/python3.10/dist-packages (from datasets) (0.16.4)\n",
            "Requirement already satisfied: packaging in /usr/local/lib/python3.10/dist-packages (from datasets) (23.1)\n",
            "Requirement already satisfied: pyyaml>=5.1 in /usr/local/lib/python3.10/dist-packages (from datasets) (6.0.1)\n",
            "Requirement already satisfied: attrs>=17.3.0 in /usr/local/lib/python3.10/dist-packages (from aiohttp->datasets) (23.1.0)\n",
            "Requirement already satisfied: charset-normalizer<4.0,>=2.0 in /usr/local/lib/python3.10/dist-packages (from aiohttp->datasets) (2.0.12)\n",
            "Requirement already satisfied: multidict<7.0,>=4.5 in /usr/local/lib/python3.10/dist-packages (from aiohttp->datasets) (6.0.4)\n",
            "Requirement already satisfied: async-timeout<5.0,>=4.0.0a3 in /usr/local/lib/python3.10/dist-packages (from aiohttp->datasets) (4.0.2)\n",
            "Requirement already satisfied: yarl<2.0,>=1.0 in /usr/local/lib/python3.10/dist-packages (from aiohttp->datasets) (1.9.2)\n",
            "Requirement already satisfied: frozenlist>=1.1.1 in /usr/local/lib/python3.10/dist-packages (from aiohttp->datasets) (1.4.0)\n",
            "Requirement already satisfied: aiosignal>=1.1.2 in /usr/local/lib/python3.10/dist-packages (from aiohttp->datasets) (1.3.1)\n",
            "Requirement already satisfied: filelock in /usr/local/lib/python3.10/dist-packages (from huggingface-hub<1.0.0,>=0.14.0->datasets) (3.12.2)\n",
            "Requirement already satisfied: typing-extensions>=3.7.4.3 in /usr/local/lib/python3.10/dist-packages (from huggingface-hub<1.0.0,>=0.14.0->datasets) (4.7.1)\n",
            "Requirement already satisfied: idna<4,>=2.5 in /usr/local/lib/python3.10/dist-packages (from requests>=2.19.0->datasets) (3.4)\n",
            "Requirement already satisfied: urllib3<1.27,>=1.21.1 in /usr/local/lib/python3.10/dist-packages (from requests>=2.19.0->datasets) (1.26.16)\n",
            "Requirement already satisfied: certifi>=2017.4.17 in /usr/local/lib/python3.10/dist-packages (from requests>=2.19.0->datasets) (2023.7.22)\n",
            "Requirement already satisfied: python-dateutil>=2.8.1 in /usr/local/lib/python3.10/dist-packages (from pandas->datasets) (2.8.2)\n",
            "Requirement already satisfied: pytz>=2020.1 in /usr/local/lib/python3.10/dist-packages (from pandas->datasets) (2022.7.1)\n",
            "Requirement already satisfied: six>=1.5 in /usr/local/lib/python3.10/dist-packages (from python-dateutil>=2.8.1->pandas->datasets) (1.16.0)\n",
            "\u001b[33mWARNING: Running pip as the 'root' user can result in broken permissions and conflicting behaviour with the system package manager. It is recommended to use a virtual environment instead: https://pip.pypa.io/warnings/venv\u001b[0m\u001b[33m\n",
            "\u001b[0m"
          ]
        }
      ],
      "source": [
        "!pip install datasets # https://github.com/huggingface/datasets\n"
      ]
    },
    {
      "cell_type": "code",
      "execution_count": 4,
      "metadata": {
        "id": "VN-ZmM36Nov_"
      },
      "outputs": [],
      "source": [
        "# !pip uninstall transformers -y # https://github.com/huggingface/transformers/issues/22816\n",
        "# !pip install transformers==4.28.0\n",
        "# !pip install accelerate -U\n",
        "# from transformers import Trainer, TrainingArguments\n",
        "\n",
        "import datasets\n",
        "import huggingface_hub\n",
        "import matplotlib.font_manager as font_manager\n",
        "import matplotlib.pyplot as plt\n",
        "import torch\n",
        "import transformers"
      ]
    },
    {
      "cell_type": "code",
      "execution_count": 5,
      "metadata": {
        "id": "fJ6-kXG-0p7V"
      },
      "outputs": [],
      "source": [
        "# from google.colab import drive\n",
        "# drive.mount('/content/drive', force_remount=True)"
      ]
    },
    {
      "cell_type": "code",
      "execution_count": 6,
      "metadata": {
        "id": "_hhFPP6_GZvC"
      },
      "outputs": [],
      "source": [
        "PATH_PROJ = \"/content/drive/MyDrive/AI-proj/\"\n",
        "roberta_base_squad2_distilled = \"deepset/roberta-base-squad2-distilled\" # https://huggingface.co/deepset/roberta-base-squad2-distilled\n",
        "xlm_roberta_large_squad2 = \"deepset/xlm-roberta-large-squad2\"\n",
        "tinyroberta_squad2 = \"deepset/tinyroberta-squad2\"\n",
        "\n",
        "\n",
        "\n",
        "model_ckpt =  roberta_base_squad2_distilled"
      ]
    },
    {
      "cell_type": "code",
      "execution_count": 7,
      "metadata": {
        "id": "45OOB0Ah-rQp"
      },
      "outputs": [],
      "source": [
        "import pandas as pd\n",
        "import os\n",
        "import matplotlib.pyplot as plt # plotting\n",
        "import numpy as np"
      ]
    },
    {
      "cell_type": "code",
      "execution_count": 8,
      "metadata": {
        "id": "62ED0aoU-rQq"
      },
      "outputs": [],
      "source": [
        "PATH_PROJ = \"/content/drive/MyDrive/AI-proj/\""
      ]
    },
    {
      "cell_type": "code",
      "execution_count": 9,
      "metadata": {
        "colab": {
          "base_uri": "https://localhost:8080/"
        },
        "id": "KZSyectlr3Ue",
        "outputId": "1bc83de8-8fba-482b-ca95-29a04815dd25"
      },
      "outputs": [
        {
          "output_type": "execute_result",
          "data": {
            "text/plain": [
              "['books', 'electronics', 'grocery', 'movies', 'restaurants', 'tripadvisor']"
            ]
          },
          "metadata": {},
          "execution_count": 9
        }
      ],
      "source": [
        "from datasets import get_dataset_config_names\n",
        "domains = get_dataset_config_names(\"subjqa\")\n",
        "domains # ['books', 'electronics', 'grocery', 'movies', 'restaurants', 'tripadvisor']"
      ]
    },
    {
      "cell_type": "markdown",
      "metadata": {
        "id": "3pQ5yqbg_4NQ"
      },
      "source": [
        "Building a QA system for the Movies domain."
      ]
    },
    {
      "cell_type": "code",
      "execution_count": 10,
      "metadata": {
        "id": "YsT0Oh9h-ogH"
      },
      "outputs": [],
      "source": [
        "from datasets import load_dataset\n",
        "subjqa = load_dataset(\"subjqa\", \"movies\") # https://huggingface.co/datasets/subjqa"
      ]
    },
    {
      "cell_type": "code",
      "execution_count": 11,
      "metadata": {
        "colab": {
          "base_uri": "https://localhost:8080/"
        },
        "id": "edB3NJyENbhc",
        "outputId": "f0bf6862-188d-4855-9367-cb24f98c2f6b"
      },
      "outputs": [
        {
          "output_type": "execute_result",
          "data": {
            "text/plain": [
              "Dataset({\n",
              "    features: ['domain', 'nn_mod', 'nn_asp', 'query_mod', 'query_asp', 'q_reviews_id', 'question_subj_level', 'ques_subj_score', 'is_ques_subjective', 'review_id', 'id', 'title', 'context', 'question', 'answers'],\n",
              "    num_rows: 1369\n",
              "})"
            ]
          },
          "metadata": {},
          "execution_count": 11
        }
      ],
      "source": [
        "subjqa[\"train\"] # https://huggingface.co/datasets/subjqa/viewer/movies/train"
      ]
    },
    {
      "cell_type": "code",
      "execution_count": 12,
      "metadata": {
        "colab": {
          "base_uri": "https://localhost:8080/"
        },
        "id": "xr2QHPz9AcE4",
        "outputId": "8a5897b0-5ad3-487f-d349-21f935015a06"
      },
      "outputs": [
        {
          "output_type": "stream",
          "name": "stdout",
          "text": [
            "{'text': ['It is simply astounding', 'The movie is really shocking and appalling'], 'answer_start': [164, 1518], 'answer_subj_level': [1, 1], 'ans_subj_score': [1.0, 1.0], 'is_ans_subjective': [True, True]}\n"
          ]
        }
      ],
      "source": [
        "# Like other question answering datasets on the Hub, SubjQA stores the answers to\n",
        "# each question as a nested dictionary. For example, if we inspect one of the rows in the\n",
        "# answers column:\n",
        "print(subjqa[\"train\"][\"answers\"][10])\n"
      ]
    },
    {
      "cell_type": "markdown",
      "metadata": {
        "id": "Il07SpEKHgKu"
      },
      "source": [
        " To explore the dataset more easily, we’ll flatten these nested columns with the flatten() method and convert each split to a Pandas\n",
        "DataFrame as follows"
      ]
    },
    {
      "cell_type": "code",
      "execution_count": 13,
      "metadata": {
        "colab": {
          "base_uri": "https://localhost:8080/"
        },
        "id": "RUQpuQr8Ajs0",
        "outputId": "07ed6dd6-effd-422c-a58e-95e266e473b8"
      },
      "outputs": [
        {
          "output_type": "stream",
          "name": "stdout",
          "text": [
            "Number of questions in train: 1369\n",
            "Number of questions in test: 291\n",
            "Number of questions in validation: 261\n"
          ]
        }
      ],
      "source": [
        "import pandas as pd\n",
        "dfs = {split: dset.to_pandas() for split, dset in subjqa.flatten().items()}\n",
        "for split, df in dfs.items():\n",
        "  print(f\"Number of questions in {split}: {df['id'].nunique()}\")"
      ]
    },
    {
      "cell_type": "markdown",
      "metadata": {
        "id": "uOvPyiFjIzga"
      },
      "source": [
        "Let’s focus on these columns and take a look at a few of the training examples. We can\n",
        "use the sample() method to select a random sample:"
      ]
    },
    {
      "cell_type": "code",
      "execution_count": 14,
      "metadata": {
        "colab": {
          "base_uri": "https://localhost:8080/",
          "height": 112
        },
        "id": "gh3M8AvDH20I",
        "outputId": "fcb7789e-398b-4f3d-9882-81f3f99b8a06"
      },
      "outputs": [
        {
          "output_type": "execute_result",
          "data": {
            "text/plain": [
              "          title           question              answers.text  \\\n",
              "263  630428845X  How is the story?                        []   \n",
              "313  630575067X  How is character?  [the digital characters]   \n",
              "\n",
              "    answers.answer_start                                            context  \n",
              "263                   []  This has got to be one of the most boring and ...  \n",
              "313               [1071]  Like most Star Wars fans, I literally counted ...  "
            ],
            "text/html": [
              "\n",
              "\n",
              "  <div id=\"df-29545304-24e8-4a1d-9d79-111b7ffcb273\">\n",
              "    <div class=\"colab-df-container\">\n",
              "      <div>\n",
              "<style scoped>\n",
              "    .dataframe tbody tr th:only-of-type {\n",
              "        vertical-align: middle;\n",
              "    }\n",
              "\n",
              "    .dataframe tbody tr th {\n",
              "        vertical-align: top;\n",
              "    }\n",
              "\n",
              "    .dataframe thead th {\n",
              "        text-align: right;\n",
              "    }\n",
              "</style>\n",
              "<table border=\"1\" class=\"dataframe\">\n",
              "  <thead>\n",
              "    <tr style=\"text-align: right;\">\n",
              "      <th></th>\n",
              "      <th>title</th>\n",
              "      <th>question</th>\n",
              "      <th>answers.text</th>\n",
              "      <th>answers.answer_start</th>\n",
              "      <th>context</th>\n",
              "    </tr>\n",
              "  </thead>\n",
              "  <tbody>\n",
              "    <tr>\n",
              "      <th>263</th>\n",
              "      <td>630428845X</td>\n",
              "      <td>How is the story?</td>\n",
              "      <td>[]</td>\n",
              "      <td>[]</td>\n",
              "      <td>This has got to be one of the most boring and ...</td>\n",
              "    </tr>\n",
              "    <tr>\n",
              "      <th>313</th>\n",
              "      <td>630575067X</td>\n",
              "      <td>How is character?</td>\n",
              "      <td>[the digital characters]</td>\n",
              "      <td>[1071]</td>\n",
              "      <td>Like most Star Wars fans, I literally counted ...</td>\n",
              "    </tr>\n",
              "  </tbody>\n",
              "</table>\n",
              "</div>\n",
              "      <button class=\"colab-df-convert\" onclick=\"convertToInteractive('df-29545304-24e8-4a1d-9d79-111b7ffcb273')\"\n",
              "              title=\"Convert this dataframe to an interactive table.\"\n",
              "              style=\"display:none;\">\n",
              "\n",
              "  <svg xmlns=\"http://www.w3.org/2000/svg\" height=\"24px\"viewBox=\"0 0 24 24\"\n",
              "       width=\"24px\">\n",
              "    <path d=\"M0 0h24v24H0V0z\" fill=\"none\"/>\n",
              "    <path d=\"M18.56 5.44l.94 2.06.94-2.06 2.06-.94-2.06-.94-.94-2.06-.94 2.06-2.06.94zm-11 1L8.5 8.5l.94-2.06 2.06-.94-2.06-.94L8.5 2.5l-.94 2.06-2.06.94zm10 10l.94 2.06.94-2.06 2.06-.94-2.06-.94-.94-2.06-.94 2.06-2.06.94z\"/><path d=\"M17.41 7.96l-1.37-1.37c-.4-.4-.92-.59-1.43-.59-.52 0-1.04.2-1.43.59L10.3 9.45l-7.72 7.72c-.78.78-.78 2.05 0 2.83L4 21.41c.39.39.9.59 1.41.59.51 0 1.02-.2 1.41-.59l7.78-7.78 2.81-2.81c.8-.78.8-2.07 0-2.86zM5.41 20L4 18.59l7.72-7.72 1.47 1.35L5.41 20z\"/>\n",
              "  </svg>\n",
              "      </button>\n",
              "\n",
              "\n",
              "\n",
              "    <div id=\"df-a7371add-003a-431d-aa73-a350bce3b9e7\">\n",
              "      <button class=\"colab-df-quickchart\" onclick=\"quickchart('df-a7371add-003a-431d-aa73-a350bce3b9e7')\"\n",
              "              title=\"Suggest charts.\"\n",
              "              style=\"display:none;\">\n",
              "\n",
              "<svg xmlns=\"http://www.w3.org/2000/svg\" height=\"24px\"viewBox=\"0 0 24 24\"\n",
              "     width=\"24px\">\n",
              "    <g>\n",
              "        <path d=\"M19 3H5c-1.1 0-2 .9-2 2v14c0 1.1.9 2 2 2h14c1.1 0 2-.9 2-2V5c0-1.1-.9-2-2-2zM9 17H7v-7h2v7zm4 0h-2V7h2v10zm4 0h-2v-4h2v4z\"/>\n",
              "    </g>\n",
              "</svg>\n",
              "      </button>\n",
              "    </div>\n",
              "\n",
              "<style>\n",
              "  .colab-df-quickchart {\n",
              "    background-color: #E8F0FE;\n",
              "    border: none;\n",
              "    border-radius: 50%;\n",
              "    cursor: pointer;\n",
              "    display: none;\n",
              "    fill: #1967D2;\n",
              "    height: 32px;\n",
              "    padding: 0 0 0 0;\n",
              "    width: 32px;\n",
              "  }\n",
              "\n",
              "  .colab-df-quickchart:hover {\n",
              "    background-color: #E2EBFA;\n",
              "    box-shadow: 0px 1px 2px rgba(60, 64, 67, 0.3), 0px 1px 3px 1px rgba(60, 64, 67, 0.15);\n",
              "    fill: #174EA6;\n",
              "  }\n",
              "\n",
              "  [theme=dark] .colab-df-quickchart {\n",
              "    background-color: #3B4455;\n",
              "    fill: #D2E3FC;\n",
              "  }\n",
              "\n",
              "  [theme=dark] .colab-df-quickchart:hover {\n",
              "    background-color: #434B5C;\n",
              "    box-shadow: 0px 1px 3px 1px rgba(0, 0, 0, 0.15);\n",
              "    filter: drop-shadow(0px 1px 2px rgba(0, 0, 0, 0.3));\n",
              "    fill: #FFFFFF;\n",
              "  }\n",
              "</style>\n",
              "\n",
              "    <script>\n",
              "      async function quickchart(key) {\n",
              "        const containerElement = document.querySelector('#' + key);\n",
              "        const charts = await google.colab.kernel.invokeFunction(\n",
              "            'suggestCharts', [key], {});\n",
              "      }\n",
              "    </script>\n",
              "\n",
              "      <script>\n",
              "\n",
              "function displayQuickchartButton(domScope) {\n",
              "  let quickchartButtonEl =\n",
              "    domScope.querySelector('#df-a7371add-003a-431d-aa73-a350bce3b9e7 button.colab-df-quickchart');\n",
              "  quickchartButtonEl.style.display =\n",
              "    google.colab.kernel.accessAllowed ? 'block' : 'none';\n",
              "}\n",
              "\n",
              "        displayQuickchartButton(document);\n",
              "      </script>\n",
              "      <style>\n",
              "    .colab-df-container {\n",
              "      display:flex;\n",
              "      flex-wrap:wrap;\n",
              "      gap: 12px;\n",
              "    }\n",
              "\n",
              "    .colab-df-convert {\n",
              "      background-color: #E8F0FE;\n",
              "      border: none;\n",
              "      border-radius: 50%;\n",
              "      cursor: pointer;\n",
              "      display: none;\n",
              "      fill: #1967D2;\n",
              "      height: 32px;\n",
              "      padding: 0 0 0 0;\n",
              "      width: 32px;\n",
              "    }\n",
              "\n",
              "    .colab-df-convert:hover {\n",
              "      background-color: #E2EBFA;\n",
              "      box-shadow: 0px 1px 2px rgba(60, 64, 67, 0.3), 0px 1px 3px 1px rgba(60, 64, 67, 0.15);\n",
              "      fill: #174EA6;\n",
              "    }\n",
              "\n",
              "    [theme=dark] .colab-df-convert {\n",
              "      background-color: #3B4455;\n",
              "      fill: #D2E3FC;\n",
              "    }\n",
              "\n",
              "    [theme=dark] .colab-df-convert:hover {\n",
              "      background-color: #434B5C;\n",
              "      box-shadow: 0px 1px 3px 1px rgba(0, 0, 0, 0.15);\n",
              "      filter: drop-shadow(0px 1px 2px rgba(0, 0, 0, 0.3));\n",
              "      fill: #FFFFFF;\n",
              "    }\n",
              "  </style>\n",
              "\n",
              "      <script>\n",
              "        const buttonEl =\n",
              "          document.querySelector('#df-29545304-24e8-4a1d-9d79-111b7ffcb273 button.colab-df-convert');\n",
              "        buttonEl.style.display =\n",
              "          google.colab.kernel.accessAllowed ? 'block' : 'none';\n",
              "\n",
              "        async function convertToInteractive(key) {\n",
              "          const element = document.querySelector('#df-29545304-24e8-4a1d-9d79-111b7ffcb273');\n",
              "          const dataTable =\n",
              "            await google.colab.kernel.invokeFunction('convertToInteractive',\n",
              "                                                     [key], {});\n",
              "          if (!dataTable) return;\n",
              "\n",
              "          const docLinkHtml = 'Like what you see? Visit the ' +\n",
              "            '<a target=\"_blank\" href=https://colab.research.google.com/notebooks/data_table.ipynb>data table notebook</a>'\n",
              "            + ' to learn more about interactive tables.';\n",
              "          element.innerHTML = '';\n",
              "          dataTable['output_type'] = 'display_data';\n",
              "          await google.colab.output.renderOutput(dataTable, element);\n",
              "          const docLink = document.createElement('div');\n",
              "          docLink.innerHTML = docLinkHtml;\n",
              "          element.appendChild(docLink);\n",
              "        }\n",
              "      </script>\n",
              "    </div>\n",
              "  </div>\n"
            ]
          },
          "metadata": {},
          "execution_count": 14
        }
      ],
      "source": [
        "qa_cols = [\"title\", \"question\", \"answers.text\", \"answers.answer_start\", \"context\"]\n",
        "sample_df = dfs[\"train\"][qa_cols].sample(2, random_state=7)\n",
        "sample_df"
      ]
    },
    {
      "cell_type": "markdown",
      "metadata": {
        "id": "sdLr2O9tJrP2"
      },
      "source": [
        "From these examples we can make a few observations. First, the questions are not\n",
        "grammatically correct, which is quite common in the FAQ sections of ecommerce\n",
        "websites. Second, an empty answers.text entry denotes “unanswerable” questions\n",
        "whose answer cannot be found in the review. Finally, we can use the start index and\n",
        "length of the answer span to slice out the span of text in the review that corresponds\n",
        "to the answer:"
      ]
    },
    {
      "cell_type": "code",
      "execution_count": 15,
      "metadata": {
        "colab": {
          "base_uri": "https://localhost:8080/",
          "height": 35
        },
        "id": "vVEJ2p3XJbIB",
        "outputId": "7e894ad9-248f-4b66-cd5e-70e9905791a0"
      },
      "outputs": [
        {
          "output_type": "execute_result",
          "data": {
            "text/plain": [
              "'the digital characters'"
            ],
            "application/vnd.google.colaboratory.intrinsic+json": {
              "type": "string"
            }
          },
          "metadata": {},
          "execution_count": 15
        }
      ],
      "source": [
        "start_idx = sample_df[\"answers.answer_start\"].iloc[1][0]\n",
        "end_idx = start_idx + len(sample_df[\"answers.text\"].iloc[1][0])\n",
        "sample_df[\"context\"].iloc[1][start_idx:end_idx]"
      ]
    },
    {
      "cell_type": "markdown",
      "metadata": {
        "id": "NWo-xrqYOZpY"
      },
      "source": [
        "Next, let’s get a feel for what types of questions are in the training set by counting the\n",
        "questions that begin with a few common starting words:"
      ]
    },
    {
      "cell_type": "code",
      "execution_count": 16,
      "metadata": {
        "id": "h0RgEgX6JXPD"
      },
      "outputs": [],
      "source": [
        "counts = {}\n",
        "question_types = [\"What\", \"How\", \"Is\", \"Does\", \"Do\", \"Was\", \"Where\", \"Why\", \"When\",\"What\",\"Who\",\"Whom\",\"Whose\",\"Which\"]\n"
      ]
    },
    {
      "cell_type": "code",
      "execution_count": 17,
      "metadata": {
        "colab": {
          "base_uri": "https://localhost:8080/",
          "height": 452
        },
        "id": "MZyBCJ_4M0Zs",
        "outputId": "eb382c2f-4b12-461f-fc00-b65e854e0b73"
      },
      "outputs": [
        {
          "output_type": "display_data",
          "data": {
            "text/plain": [
              "<Figure size 640x480 with 1 Axes>"
            ],
            "image/png": "[encoded data removed]"
          },
          "metadata": {}
        }
      ],
      "source": [
        "for q in question_types:\n",
        "  try:\n",
        "    counts[q] = dfs[\"train\"][\"question\"].str.startswith(q).value_counts()[True]\n",
        "  except:\n",
        "    continue\n",
        "pd.Series(counts).sort_values().plot.barh()\n",
        "plt.title(\"Frequency of Question Types\")\n",
        "plt.show()"
      ]
    },
    {
      "cell_type": "markdown",
      "metadata": {
        "id": "2s-FUtavQ9aD"
      },
      "source": [
        "We can see that questions beginning with “How”, “What”, and “Is” are the most common ones, so let’s have a look at some examples:"
      ]
    },
    {
      "cell_type": "code",
      "execution_count": 18,
      "metadata": {
        "colab": {
          "base_uri": "https://localhost:8080/"
        },
        "id": "O9dQdlr4OiA4",
        "outputId": "8bb62cd9-330e-4e68-aa33-785509029fdb"
      },
      "outputs": [
        {
          "output_type": "stream",
          "name": "stdout",
          "text": [
            "How is the story line?\n",
            "How is the music?\n",
            "How can I read the set story at this hotel?\n",
            "What is the price of the dvd?\n",
            "What is the really things?\n",
            "What is the quality of the paint?\n",
            "Is the main character a good actor?\n",
            "Is the color better?\n",
            "Is the actor a funny acting?\n"
          ]
        }
      ],
      "source": [
        "for question_type in [\"How\", \"What\", \"Is\"]:\n",
        "  for question in (\n",
        "    dfs[\"train\"][dfs[\"train\"].question.str.startswith(question_type)]\n",
        "    .sample(n=3, random_state=42)['question']):\n",
        "    print(question)"
      ]
    },
    {
      "cell_type": "markdown",
      "metadata": {
        "id": "wacvkwD5hvyV"
      },
      "source": [
        "## Extracting Answers from Text\n"
      ]
    },
    {
      "cell_type": "markdown",
      "metadata": {
        "id": "HsKO9AqiiY7H"
      },
      "source": [
        "The first thing we’ll need for our QA system is to find a way to identify a potential\n",
        "answer as a span of text in a customer review.\n",
        "\n",
        "- Frame the supervised learning problem.\n",
        "- Tokenize and encode text for QA tasks.\n",
        "- Deal with long passages that exceed a model’s maximum context size\n",
        "\n",
        "The most common way to extract answers from text is by framing the problem as a\n",
        "span classification task, where the start and end tokens of an answer span act as the\n",
        "labels that a model needs to predict.\n",
        "\n",
        "Since our training set is relatively small, a good strategy is\n",
        "to start with a language model that has already been fine-tuned on a large-scale QA\n",
        "dataset like SQuAD. In general, these models have strong reading comprehension\n",
        "capabilities and serve as a good baseline upon which to build a more accurate system.\n",
        "\n",
        "What model we can choose? [Click here](https://huggingface.co/models?pipeline_tag=question-answering&sort=trending&search=squad)"
      ]
    },
    {
      "cell_type": "markdown",
      "metadata": {
        "id": "UyoJ9coh5W1u"
      },
      "source": [
        "### Tokenizing text for QA\n"
      ]
    },
    {
      "cell_type": "code",
      "execution_count": 19,
      "metadata": {
        "id": "KaChhQcAiW4T"
      },
      "outputs": [],
      "source": [
        "# Transformers provides a convenient AutoTokenizer class that allows you to quickly load\n",
        "# the tokenizer associated with a pretrained model\n",
        "# The AutoTokenizer class belongs to a larger set of “auto” classes whose job is to auto‐\n",
        "# matically retrieve the model’s configuration, pretrained weights, or vocabulary from\n",
        "# the name of the checkpoint.\n",
        "from transformers import AutoTokenizer\n",
        "\n",
        "tokenizer = AutoTokenizer.from_pretrained(model_ckpt) # we just call its from_pretrained() method, providing the ID of a model on the Hub or a local file path.\n",
        "\n"
      ]
    },
    {
      "cell_type": "markdown",
      "metadata": {
        "id": "ptOBb-P5Zqno"
      },
      "source": [
        "To see the model in action, let’s first try to extract an answer from a short passage of\n",
        "text. In extractive QA tasks, the inputs are provided as (question, context) pairs, so we\n",
        "pass them both to the tokenizer as follows:"
      ]
    },
    {
      "cell_type": "code",
      "execution_count": 20,
      "metadata": {
        "colab": {
          "base_uri": "https://localhost:8080/"
        },
        "id": "Jth8HB_aRC3H",
        "outputId": "6e951858-1938-4ef4-e06f-43d44fd62959"
      },
      "outputs": [
        {
          "output_type": "execute_result",
          "data": {
            "text/plain": [
              "{'input_ids': [0, 7608, 16, 1421, 10012, 505, 116, 2, 2, 133, 1973, 7, 10304, 3092, 227, 274, 31874, 8, 7891, 268, 2029, 3519, 7, 5, 3018, 8, 905, 82, 2773, 5405, 227, 32480, 4, 2], 'attention_mask': [1, 1, 1, 1, 1, 1, 1, 1, 1, 1, 1, 1, 1, 1, 1, 1, 1, 1, 1, 1, 1, 1, 1, 1, 1, 1, 1, 1, 1, 1, 1, 1, 1, 1]}"
            ]
          },
          "metadata": {},
          "execution_count": 20
        }
      ],
      "source": [
        "question= \"Why is model conversion important?\"\n",
        "context= \"The option to convert models between FARM and transformers gives freedom to the user and let people easily switch between frameworks.\"\n",
        "\n",
        "inputs = tokenizer(question, context)\n",
        "inputs"
      ]
    },
    {
      "cell_type": "code",
      "execution_count": 21,
      "metadata": {
        "colab": {
          "base_uri": "https://localhost:8080/"
        },
        "id": "O2FZ7yVano9H",
        "outputId": "cdbbf9aa-c8b3-4326-c32a-b68bdc10290f"
      },
      "outputs": [
        {
          "output_type": "stream",
          "name": "stdout",
          "text": [
            "['<s>', 'Why', 'Ġis', 'Ġmodel', 'Ġconversion', 'Ġimportant', '?', '</s>', '</s>', 'The', 'Ġoption', 'Ġto', 'Ġconvert', 'Ġmodels', 'Ġbetween', 'ĠF', 'ARM', 'Ġand', 'Ġtransform', 'ers', 'Ġgives', 'Ġfreedom', 'Ġto', 'Ġthe', 'Ġuser', 'Ġand', 'Ġlet', 'Ġpeople', 'Ġeasily', 'Ġswitch', 'Ġbetween', 'Ġframeworks', '.', '</s>']\n"
          ]
        }
      ],
      "source": [
        "tokens = tokenizer.convert_ids_to_tokens(inputs.input_ids)\n",
        "print(tokens)"
      ]
    },
    {
      "cell_type": "code",
      "execution_count": 22,
      "metadata": {
        "colab": {
          "base_uri": "https://localhost:8080/"
        },
        "id": "QEFYtsGToO1x",
        "outputId": "1b9b4463-00b0-4594-865e-28a012ddc963"
      },
      "outputs": [
        {
          "output_type": "stream",
          "name": "stdout",
          "text": [
            "<s>Why is model conversion important?</s></s>The option to convert models between FARM and transformers gives freedom to the user and let people easily switch between frameworks.</s>\n"
          ]
        }
      ],
      "source": [
        "print(tokenizer.convert_tokens_to_string(tokens))"
      ]
    },
    {
      "cell_type": "code",
      "execution_count": 23,
      "metadata": {
        "colab": {
          "base_uri": "https://localhost:8080/"
        },
        "id": "flUYi9seoTth",
        "outputId": "3e4ad0e3-ad6e-4dc5-d6c9-797ebf949464"
      },
      "outputs": [
        {
          "output_type": "execute_result",
          "data": {
            "text/plain": [
              "(['input_ids', 'attention_mask'], 50265, 512)"
            ]
          },
          "metadata": {},
          "execution_count": 23
        }
      ],
      "source": [
        "tokenizer.model_input_names, tokenizer.vocab_size, tokenizer.model_max_length"
      ]
    },
    {
      "cell_type": "code",
      "execution_count": 24,
      "metadata": {
        "id": "XKPsmWr8ngJd"
      },
      "outputs": [],
      "source": [
        "inputs = tokenizer(question, context, return_tensors=\"pt\")"
      ]
    },
    {
      "cell_type": "markdown",
      "metadata": {
        "id": "NJXcpoXOaeX-"
      },
      "source": [
        "Here we’ve returned PyTorch Tensor objects, since we’ll need them to run the forward pass through the model. If we view the tokenized inputs as a table:"
      ]
    },
    {
      "cell_type": "code",
      "execution_count": 25,
      "metadata": {
        "colab": {
          "base_uri": "https://localhost:8080/"
        },
        "id": "8jBR1Uo2aqAN",
        "outputId": "21a397ae-a17f-4420-b26c-89abc2ffaadd"
      },
      "outputs": [
        {
          "output_type": "execute_result",
          "data": {
            "text/plain": [
              "{'input_ids': tensor([[    0,  7608,    16,  1421, 10012,   505,   116,     2,     2,   133,\n",
              "          1973,     7, 10304,  3092,   227,   274, 31874,     8,  7891,   268,\n",
              "          2029,  3519,     7,     5,  3018,     8,   905,    82,  2773,  5405,\n",
              "           227, 32480,     4,     2]]), 'attention_mask': tensor([[1, 1, 1, 1, 1, 1, 1, 1, 1, 1, 1, 1, 1, 1, 1, 1, 1, 1, 1, 1, 1, 1, 1, 1,\n",
              "         1, 1, 1, 1, 1, 1, 1, 1, 1, 1]])}"
            ]
          },
          "metadata": {},
          "execution_count": 25
        }
      ],
      "source": [
        "inputs"
      ]
    },
    {
      "cell_type": "code",
      "execution_count": 26,
      "metadata": {
        "colab": {
          "base_uri": "https://localhost:8080/"
        },
        "id": "lknocZVnZuCl",
        "outputId": "b50526c9-1778-46da-f3a3-7be6d87f77a5"
      },
      "outputs": [
        {
          "output_type": "stream",
          "name": "stdout",
          "text": [
            "<s>Why is model conversion important?</s></s>The option to convert models between FARM and transformers gives freedom to the user and let people easily switch between frameworks.</s>\n",
            "Input tensor shape: torch.Size([1, 34])\n"
          ]
        }
      ],
      "source": [
        "print(tokenizer.decode(inputs[\"input_ids\"][0]))\n",
        "print(f\"Input tensor shape: {inputs['input_ids'].size()}\") # As we can see, the resulting tensor has the shape [batch_size, n_tokens]\n"
      ]
    },
    {
      "cell_type": "markdown",
      "metadata": {
        "id": "KomI4jwQqY4I"
      },
      "source": [
        "Now that our text is tokenized, we just need to instantiate the model with a QA head\n",
        "and run the inputs through the forward pass:"
      ]
    },
    {
      "cell_type": "code",
      "execution_count": 27,
      "metadata": {
        "colab": {
          "base_uri": "https://localhost:8080/"
        },
        "id": "MtKnF8LRaHM-",
        "outputId": "14bf02c6-4ba4-4179-f7f2-5cf9663c200a"
      },
      "outputs": [
        {
          "output_type": "stream",
          "name": "stdout",
          "text": [
            "QuestionAnsweringModelOutput(loss=None, start_logits=tensor([[ 2.1496, -8.3815, -8.9579, -8.5834, -8.9056, -8.4289, -8.7534, -8.8663,\n",
            "         -8.4358,  2.2718,  0.5388, -0.6111,  0.6512,  0.0475, -2.2790, -2.7140,\n",
            "         -3.7248, -6.2180, -1.9834, -3.6887,  7.2485,  5.4465, -3.0221, -0.6831,\n",
            "         -0.1404, -3.1140,  3.3299, -0.7413, -0.9621, -0.5606, -3.1029, -1.8044,\n",
            "         -0.7706, -2.9905]]), end_logits=tensor([[ 1.7403, -7.6578, -7.9083, -8.0242, -7.2437, -7.5337, -6.7021, -7.4994,\n",
            "         -8.0321, -5.5748, -3.6861, -5.8051, -5.0949, -3.9377, -6.9967, -5.8674,\n",
            "         -2.8631, -6.6077, -4.6782, -0.7410, -2.1789,  3.8112, -2.2978, -2.8361,\n",
            "          6.4149, -2.2741, -3.7446, -2.7129, -2.6549, -2.1933, -3.4658,  5.6136,\n",
            "          3.5522,  4.4122]]), hidden_states=None, attentions=None)\n"
          ]
        }
      ],
      "source": [
        "import torch\n",
        "from transformers import AutoModelForQuestionAnswering\n",
        "\n",
        "model = AutoModelForQuestionAnswering.from_pretrained(model_ckpt)\n",
        "\n",
        "with torch.no_grad():\n",
        "  '''\n",
        "  Here we’ve used the torch.no_grad() context manager to disable the automatic calculation of the gradient.\n",
        "  This is useful for inference since it reduces the memory footprint of the computations.\n",
        "  '''\n",
        "  outputs = model(**inputs)\n",
        "print(outputs)"
      ]
    },
    {
      "cell_type": "markdown",
      "metadata": {
        "id": "6WLHH9SKry3q"
      },
      "source": [
        "The QA head corresponds to a linear layer\n",
        "that takes the hidden states from the encoder and computes the logits for the start\n",
        "and end spans.  To convert the\n",
        "outputs into an answer span, we first need to get the logits for the start and end\n",
        "tokens:"
      ]
    },
    {
      "cell_type": "code",
      "execution_count": 28,
      "metadata": {
        "colab": {
          "base_uri": "https://localhost:8080/"
        },
        "id": "jeZuor4isYxy",
        "outputId": "7b1049d5-f8af-472d-e2da-988103534746"
      },
      "outputs": [
        {
          "output_type": "execute_result",
          "data": {
            "text/plain": [
              "(tensor([[ 2.1496, -8.3815, -8.9579, -8.5834, -8.9056, -8.4289, -8.7534, -8.8663,\n",
              "          -8.4358,  2.2718,  0.5388, -0.6111,  0.6512,  0.0475, -2.2790, -2.7140,\n",
              "          -3.7248, -6.2180, -1.9834, -3.6887,  7.2485,  5.4465, -3.0221, -0.6831,\n",
              "          -0.1404, -3.1140,  3.3299, -0.7413, -0.9621, -0.5606, -3.1029, -1.8044,\n",
              "          -0.7706, -2.9905]]),\n",
              " tensor([[ 1.7403, -7.6578, -7.9083, -8.0242, -7.2437, -7.5337, -6.7021, -7.4994,\n",
              "          -8.0321, -5.5748, -3.6861, -5.8051, -5.0949, -3.9377, -6.9967, -5.8674,\n",
              "          -2.8631, -6.6077, -4.6782, -0.7410, -2.1789,  3.8112, -2.2978, -2.8361,\n",
              "           6.4149, -2.2741, -3.7446, -2.7129, -2.6549, -2.1933, -3.4658,  5.6136,\n",
              "           3.5522,  4.4122]]))"
            ]
          },
          "metadata": {},
          "execution_count": 28
        }
      ],
      "source": [
        "start_logits = outputs.start_logits\n",
        "end_logits = outputs.end_logits\n",
        "\n",
        "start_logits, end_logits"
      ]
    },
    {
      "cell_type": "code",
      "execution_count": 29,
      "metadata": {
        "colab": {
          "base_uri": "https://localhost:8080/"
        },
        "id": "cXYvPi09tDv4",
        "outputId": "ada5084d-25c0-474a-f1e0-9839723b17c2"
      },
      "outputs": [
        {
          "output_type": "stream",
          "name": "stdout",
          "text": [
            "Input IDs shape: torch.Size([1, 34])\n",
            "Start logits shape: torch.Size([1, 34])\n",
            "End logits shape: torch.Size([1, 34])\n"
          ]
        }
      ],
      "source": [
        "print(f\"Input IDs shape: {inputs.input_ids.size()}\")\n",
        "print(f\"Start logits shape: {start_logits.size()}\")\n",
        "print(f\"End logits shape: {end_logits.size()}\")"
      ]
    },
    {
      "cell_type": "code",
      "execution_count": 30,
      "metadata": {
        "colab": {
          "base_uri": "https://localhost:8080/",
          "height": 509
        },
        "id": "M5pv2u9eCt6F",
        "outputId": "2cd3d25c-a135-458d-8ae3-9af313f290c1"
      },
      "outputs": [
        {
          "output_type": "display_data",
          "data": {
            "text/plain": [
              "<Figure size 640x480 with 2 Axes>"
            ],
            "image/png": "[encoded data removed]"
          },
          "metadata": {}
        }
      ],
      "source": [
        "#hide_input\n",
        "#id qa-scores\n",
        "#caption Predicted logits for the start and end tokens—the token with the highest score is colored in orange\n",
        "\n",
        "# The idea for this visualisation comes from https://mccormickml.com/2020/03/10/question-answering-with-a-fine-tuned-BERT\n",
        "import numpy as np\n",
        "import matplotlib.pyplot as plt\n",
        "\n",
        "s_scores = start_logits.detach().numpy().flatten()\n",
        "e_scores = end_logits.detach().numpy().flatten()\n",
        "tokens = tokenizer.convert_ids_to_tokens(inputs[\"input_ids\"][0])\n",
        "token_ids = range(len(tokens))\n",
        "\n",
        "fig, (ax1, ax2) = plt.subplots(nrows=2, sharex=True)\n",
        "colors = [\"C0\" if s != np.max(s_scores) else \"C1\" for s in s_scores]\n",
        "ax1.bar(x=token_ids, height=s_scores, color=colors)\n",
        "ax1.set_ylabel(\"Start Scores\")\n",
        "colors = [\"C0\" if s != np.max(e_scores) else \"C1\" for s in e_scores]\n",
        "ax2.bar(x=token_ids, height=e_scores, color=colors)\n",
        "ax2.set_ylabel(\"End Scores\")\n",
        "plt.xticks(token_ids, tokens, rotation=\"vertical\")\n",
        "plt.show()"
      ]
    },
    {
      "cell_type": "markdown",
      "metadata": {
        "id": "VtMVeLzGtpjL"
      },
      "source": [
        "We see that there are two logits (a start and end) associated with each input token. To get the final answer, we can compute the argmax over the start and end token logits and then slice the span from the inputs"
      ]
    },
    {
      "cell_type": "code",
      "execution_count": 31,
      "metadata": {
        "colab": {
          "base_uri": "https://localhost:8080/"
        },
        "id": "K58Y8GUutF_N",
        "outputId": "be50ca48-7c88-46e6-ea54-509e1e7c6988"
      },
      "outputs": [
        {
          "output_type": "stream",
          "name": "stdout",
          "text": [
            "Question: Why is model conversion important?\n",
            "Answer:  gives freedom to the user\n"
          ]
        }
      ],
      "source": [
        "import torch\n",
        "start_idx = torch.argmax(start_logits)\n",
        "end_idx = torch.argmax(end_logits) + 1\n",
        "answer_span = inputs[\"input_ids\"][0][start_idx:end_idx]\n",
        "answer = tokenizer.decode(answer_span)\n",
        "print(f\"Question: {question}\")\n",
        "print(f\"Answer: {answer}\")"
      ]
    },
    {
      "cell_type": "markdown",
      "metadata": {
        "id": "qp9V2sQi2wyW"
      },
      "source": [
        "all of these preprocessing and postprocessing\n",
        "steps are conveniently wrapped in a dedicated pipeline. We can instantiate the pipe‐\n",
        "line by passing our tokenizer and fine-tuned model as follows:"
      ]
    },
    {
      "cell_type": "code",
      "execution_count": 32,
      "metadata": {
        "colab": {
          "base_uri": "https://localhost:8080/"
        },
        "id": "GiDAzJ6Iug1X",
        "outputId": "6eff0510-0884-4f46-f92b-9ec1ebdc0aa0"
      },
      "outputs": [
        {
          "output_type": "execute_result",
          "data": {
            "text/plain": [
              "[{'score': 0.5217997431755066,\n",
              "  'start': 59,\n",
              "  'end': 84,\n",
              "  'answer': 'gives freedom to the user'},\n",
              " {'score': 0.23415370285511017,\n",
              "  'start': 59,\n",
              "  'end': 132,\n",
              "  'answer': 'gives freedom to the user and let people easily switch between frameworks'},\n",
              " {'score': 0.08607586473226547,\n",
              "  'start': 65,\n",
              "  'end': 84,\n",
              "  'answer': 'freedom to the user'}]"
            ]
          },
          "metadata": {},
          "execution_count": 32
        }
      ],
      "source": [
        "from transformers import pipeline\n",
        "pipe = pipeline(\"question-answering\", model=model, tokenizer=tokenizer)\n",
        "pipe(question=question, context=context, top_k=3)"
      ]
    },
    {
      "cell_type": "markdown",
      "metadata": {
        "id": "1i6--LlCLh4b"
      },
      "source": [
        "### Dealing with long passages\n",
        "One subtlety faced by reading comprehension models is that the context often contains more tokens than the maximum sequence length of the model (which is usually\n",
        "a few hundred tokens at most). The standard way to deal with\n",
        "this is to apply a sliding window across the inputs, where each window contains a passage of tokens that fit in the model’s context."
      ]
    },
    {
      "cell_type": "code",
      "execution_count": 33,
      "metadata": {
        "colab": {
          "base_uri": "https://localhost:8080/",
          "height": 486
        },
        "id": "NFQssHsFCx8N",
        "outputId": "8f8a3d77-9cca-4e2f-914e-6307db8c0735"
      },
      "outputs": [
        {
          "output_type": "stream",
          "name": "stderr",
          "text": [
            "Token indices sequence length is longer than the specified maximum sequence length for this model (801 > 512). Running this sequence through the model will result in indexing errors\n"
          ]
        },
        {
          "output_type": "display_data",
          "data": {
            "text/plain": [
              "<Figure size 640x480 with 1 Axes>"
            ],
            "image/png": "[encoded data removed]"
          },
          "metadata": {}
        }
      ],
      "source": [
        "#hide_input\n",
        "#id subjqa-dist\n",
        "#caption Distribution of tokens for each question-context pair in the SubjQA training set\n",
        "def compute_input_length(row):\n",
        "    inputs = tokenizer(row[\"question\"], row[\"context\"])\n",
        "    return len(inputs[\"input_ids\"])\n",
        "\n",
        "dfs[\"train\"][\"n_tokens\"] = dfs[\"train\"].apply(compute_input_length, axis=1)\n",
        "\n",
        "fig, ax = plt.subplots()\n",
        "dfs[\"train\"][\"n_tokens\"].hist(bins=100, grid=False, ec=\"C0\", ax=ax)\n",
        "plt.xlabel(\"Number of tokens in question-context pair\")\n",
        "ax.axvline(x=512, ymin=0, ymax=1, linestyle=\"--\", color=\"C1\",\n",
        "           label=\"Maximum sequence length\")\n",
        "plt.legend()\n",
        "plt.ylabel(\"Count\")\n",
        "plt.show()"
      ]
    },
    {
      "cell_type": "code",
      "execution_count": 34,
      "metadata": {
        "colab": {
          "base_uri": "https://localhost:8080/",
          "height": 992
        },
        "id": "1lFp1-FQ-CNv",
        "outputId": "b8d1bcd5-739f-4be2-b8fb-88032458ff7e"
      },
      "outputs": [
        {
          "output_type": "execute_result",
          "data": {
            "text/plain": [
              "      domain          nn_mod          nn_asp    query_mod  query_asp  \\\n",
              "0     movies        shocking           movie       brutal      movie   \n",
              "1     movies            more           movie  not perfect       film   \n",
              "2     movies       brilliant  cinematography     accurate       film   \n",
              "3     movies      successful           movie          few      thing   \n",
              "4     movies            good          detail      correct   reviewer   \n",
              "...      ...             ...             ...          ...        ...   \n",
              "1364  movies      incredible          visual     stunning      movie   \n",
              "1365  movies      incredible            film    fantastic      scene   \n",
              "1366  movies           close           movie       little  knowledge   \n",
              "1367  movies  worth to watch            film    realistic      movie   \n",
              "1368  movies        exciting           movie      certain     amount   \n",
              "\n",
              "                          q_reviews_id  question_subj_level  ques_subj_score  \\\n",
              "0     b9ccc5b31d7d8088e2c1ae7c9abd29d3                    1             0.00   \n",
              "1     83b926f67692aa17ea43ee310e71e798                    1             0.00   \n",
              "2     2fe04dea132ab255cf50395b927f2494                    1             0.00   \n",
              "3     47823a869201ab4750286bd6d6805d66                    1             0.00   \n",
              "4     6a96fb8bff576848b1fadfb8b13c0bc6                    1             0.00   \n",
              "...                                ...                  ...              ...   \n",
              "1364  82dcd017229185e361cee5dead25166a                    1             0.50   \n",
              "1365  19c61b234baa35ed560a837ebaf8154c                    4             0.75   \n",
              "1366  8fd0d01f89d027a2fb9d2aaac76b384b                    1             0.00   \n",
              "1367  95d980d13e4001905698071049d29ea7                    1             0.00   \n",
              "1368  4ba05e1472f6d01ebf2e0cfb1826daea                    2             0.00   \n",
              "\n",
              "      is_ques_subjective                         review_id  \\\n",
              "0                  False  08b48e385ef94c083315a2a48d6dfa3a   \n",
              "1                  False  cbcd29b5d19218dc752280689e257940   \n",
              "2                  False  372bcdad5de05c18d7060a4c5ac0541d   \n",
              "3                  False  e3bc100727cea6a9fe0d05b3e666acc0   \n",
              "4                  False  7d5fb1b20bc415221926281621086892   \n",
              "...                  ...                               ...   \n",
              "1364               False  6844fbc1dbfffc7c08c1c5fc08c6eaff   \n",
              "1365                True  410f4212c4f36ac41cd94c6903000501   \n",
              "1366               False  64c655680ae1886066c686a5245701fb   \n",
              "1367               False  a8e2edbde0bc2fb82d3f58f09a74caab   \n",
              "1368               False  bf660afa510698224b0967db4a0cda4c   \n",
              "\n",
              "                                    id       title  \\\n",
              "0     4593a383c6b34dc5b3862746cc792675  0310263662   \n",
              "1     17d2c3cfd6d27264daadae8c3845e534  0310263662   \n",
              "2     6c49eb603f8d295bf919e7a13d4540e7  0310263662   \n",
              "3     53f9e8bee97df42b8e18988c9adc9918  0310263662   \n",
              "4     79b2c4aa8c64e898ad28ca95dc4829d6  0310263662   \n",
              "...                                ...         ...   \n",
              "1364  212846ba95fff9c8f8b43b712bf599c5  B00H83EUL2   \n",
              "1365  9675102114fd62eda4e86bce0393c41a  B00H83EUL2   \n",
              "1366  34044bd1d9b4ab12886fd27d3e697c82  B00H83EUL2   \n",
              "1367  9ea155d689207a569540af3d39e341ab  B00H83EUL2   \n",
              "1368  e9ce27bc022fff1e2ae6fe516a29f6e5  B00H83EUL2   \n",
              "\n",
              "                                                context  \\\n",
              "0     Well, I have to admit I wasn't expecting to li...   \n",
              "1     Controversy.Truth.Faith.Love.Hate.Lies.Confusi...   \n",
              "2     \"The Passion Of The Christ\" is brilliant and o...   \n",
              "3     I just had a few miscellaneous comments on a f...   \n",
              "4     Say what you want about Mel Gibson, but when h...   \n",
              "...                                                 ...   \n",
              "1364  I honestly don't feel anything I could say wou...   \n",
              "1365  Good acting and the filming of these outer spa...   \n",
              "1366  My family & I enjoyed this movie. This kept me...   \n",
              "1367  While the special effects were spectacular,  t...   \n",
              "1368  Delivery was fast from Amazon, as usual.  The ...   \n",
              "\n",
              "                                               question  \\\n",
              "0                           How did you like the movie?   \n",
              "1                                          How is film?   \n",
              "2                                          How is film?   \n",
              "3                                     How is the thing?   \n",
              "4                       How did you like  the reviewer?   \n",
              "...                                                 ...   \n",
              "1364                   How many movies should we watch?   \n",
              "1365                            Was a great scene film?   \n",
              "1366  How would you describe my knowledge of Asian c...   \n",
              "1367                       Where we can see this movie?   \n",
              "1368                Would you like this amount of cash?   \n",
              "\n",
              "                                           answers.text answers.answer_start  \\\n",
              "0                                                    []                   []   \n",
              "1                                                    []                   []   \n",
              "2     [The film editing by John Wright is brilliant,...            [2189, 1]   \n",
              "3                                                    []                   []   \n",
              "4                                                    []                   []   \n",
              "...                                                 ...                  ...   \n",
              "1364                                                 []                   []   \n",
              "1365  [scenes is incredible, the filming of these ou...             [49, 16]   \n",
              "1366                                                 []                   []   \n",
              "1367                                                 []                   []   \n",
              "1368                                                 []                   []   \n",
              "\n",
              "     answers.answer_subj_level answers.ans_subj_score  \\\n",
              "0                           []                     []   \n",
              "1                           []                     []   \n",
              "2                       [1, 1]             [1.0, 1.0]   \n",
              "3                           []                     []   \n",
              "4                           []                     []   \n",
              "...                        ...                    ...   \n",
              "1364                        []                     []   \n",
              "1365                    [2, 2]             [0.9, 0.9]   \n",
              "1366                        []                     []   \n",
              "1367                        []                     []   \n",
              "1368                        []                     []   \n",
              "\n",
              "     answers.is_ans_subjective  n_tokens  \n",
              "0                           []       801  \n",
              "1                           []       234  \n",
              "2                 [True, True]       724  \n",
              "3                           []       557  \n",
              "4                           []      1363  \n",
              "...                        ...       ...  \n",
              "1364                        []       518  \n",
              "1365              [True, True]        42  \n",
              "1366                        []        67  \n",
              "1367                        []       121  \n",
              "1368                        []        52  \n",
              "\n",
              "[1369 rows x 20 columns]"
            ],
            "text/html": [
              "\n",
              "\n",
              "  <div id=\"df-52bb04a0-7056-4e2f-bc10-8aa75413d6a7\">\n",
              "    <div class=\"colab-df-container\">\n",
              "      <div>\n",
              "<style scoped>\n",
              "    .dataframe tbody tr th:only-of-type {\n",
              "        vertical-align: middle;\n",
              "    }\n",
              "\n",
              "    .dataframe tbody tr th {\n",
              "        vertical-align: top;\n",
              "    }\n",
              "\n",
              "    .dataframe thead th {\n",
              "        text-align: right;\n",
              "    }\n",
              "</style>\n",
              "<table border=\"1\" class=\"dataframe\">\n",
              "  <thead>\n",
              "    <tr style=\"text-align: right;\">\n",
              "      <th></th>\n",
              "      <th>domain</th>\n",
              "      <th>nn_mod</th>\n",
              "      <th>nn_asp</th>\n",
              "      <th>query_mod</th>\n",
              "      <th>query_asp</th>\n",
              "      <th>q_reviews_id</th>\n",
              "      <th>question_subj_level</th>\n",
              "      <th>ques_subj_score</th>\n",
              "      <th>is_ques_subjective</th>\n",
              "      <th>review_id</th>\n",
              "      <th>id</th>\n",
              "      <th>title</th>\n",
              "      <th>context</th>\n",
              "      <th>question</th>\n",
              "      <th>answers.text</th>\n",
              "      <th>answers.answer_start</th>\n",
              "      <th>answers.answer_subj_level</th>\n",
              "      <th>answers.ans_subj_score</th>\n",
              "      <th>answers.is_ans_subjective</th>\n",
              "      <th>n_tokens</th>\n",
              "    </tr>\n",
              "  </thead>\n",
              "  <tbody>\n",
              "    <tr>\n",
              "      <th>0</th>\n",
              "      <td>movies</td>\n",
              "      <td>shocking</td>\n",
              "      <td>movie</td>\n",
              "      <td>brutal</td>\n",
              "      <td>movie</td>\n",
              "      <td>b9ccc5b31d7d8088e2c1ae7c9abd29d3</td>\n",
              "      <td>1</td>\n",
              "      <td>0.00</td>\n",
              "      <td>False</td>\n",
              "      <td>08b48e385ef94c083315a2a48d6dfa3a</td>\n",
              "      <td>4593a383c6b34dc5b3862746cc792675</td>\n",
              "      <td>0310263662</td>\n",
              "      <td>Well, I have to admit I wasn't expecting to li...</td>\n",
              "      <td>How did you like the movie?</td>\n",
              "      <td>[]</td>\n",
              "      <td>[]</td>\n",
              "      <td>[]</td>\n",
              "      <td>[]</td>\n",
              "      <td>[]</td>\n",
              "      <td>801</td>\n",
              "    </tr>\n",
              "    <tr>\n",
              "      <th>1</th>\n",
              "      <td>movies</td>\n",
              "      <td>more</td>\n",
              "      <td>movie</td>\n",
              "      <td>not perfect</td>\n",
              "      <td>film</td>\n",
              "      <td>83b926f67692aa17ea43ee310e71e798</td>\n",
              "      <td>1</td>\n",
              "      <td>0.00</td>\n",
              "      <td>False</td>\n",
              "      <td>cbcd29b5d19218dc752280689e257940</td>\n",
              "      <td>17d2c3cfd6d27264daadae8c3845e534</td>\n",
              "      <td>0310263662</td>\n",
              "      <td>Controversy.Truth.Faith.Love.Hate.Lies.Confusi...</td>\n",
              "      <td>How is film?</td>\n",
              "      <td>[]</td>\n",
              "      <td>[]</td>\n",
              "      <td>[]</td>\n",
              "      <td>[]</td>\n",
              "      <td>[]</td>\n",
              "      <td>234</td>\n",
              "    </tr>\n",
              "    <tr>\n",
              "      <th>2</th>\n",
              "      <td>movies</td>\n",
              "      <td>brilliant</td>\n",
              "      <td>cinematography</td>\n",
              "      <td>accurate</td>\n",
              "      <td>film</td>\n",
              "      <td>2fe04dea132ab255cf50395b927f2494</td>\n",
              "      <td>1</td>\n",
              "      <td>0.00</td>\n",
              "      <td>False</td>\n",
              "      <td>372bcdad5de05c18d7060a4c5ac0541d</td>\n",
              "      <td>6c49eb603f8d295bf919e7a13d4540e7</td>\n",
              "      <td>0310263662</td>\n",
              "      <td>\"The Passion Of The Christ\" is brilliant and o...</td>\n",
              "      <td>How is film?</td>\n",
              "      <td>[The film editing by John Wright is brilliant,...</td>\n",
              "      <td>[2189, 1]</td>\n",
              "      <td>[1, 1]</td>\n",
              "      <td>[1.0, 1.0]</td>\n",
              "      <td>[True, True]</td>\n",
              "      <td>724</td>\n",
              "    </tr>\n",
              "    <tr>\n",
              "      <th>3</th>\n",
              "      <td>movies</td>\n",
              "      <td>successful</td>\n",
              "      <td>movie</td>\n",
              "      <td>few</td>\n",
              "      <td>thing</td>\n",
              "      <td>47823a869201ab4750286bd6d6805d66</td>\n",
              "      <td>1</td>\n",
              "      <td>0.00</td>\n",
              "      <td>False</td>\n",
              "      <td>e3bc100727cea6a9fe0d05b3e666acc0</td>\n",
              "      <td>53f9e8bee97df42b8e18988c9adc9918</td>\n",
              "      <td>0310263662</td>\n",
              "      <td>I just had a few miscellaneous comments on a f...</td>\n",
              "      <td>How is the thing?</td>\n",
              "      <td>[]</td>\n",
              "      <td>[]</td>\n",
              "      <td>[]</td>\n",
              "      <td>[]</td>\n",
              "      <td>[]</td>\n",
              "      <td>557</td>\n",
              "    </tr>\n",
              "    <tr>\n",
              "      <th>4</th>\n",
              "      <td>movies</td>\n",
              "      <td>good</td>\n",
              "      <td>detail</td>\n",
              "      <td>correct</td>\n",
              "      <td>reviewer</td>\n",
              "      <td>6a96fb8bff576848b1fadfb8b13c0bc6</td>\n",
              "      <td>1</td>\n",
              "      <td>0.00</td>\n",
              "      <td>False</td>\n",
              "      <td>7d5fb1b20bc415221926281621086892</td>\n",
              "      <td>79b2c4aa8c64e898ad28ca95dc4829d6</td>\n",
              "      <td>0310263662</td>\n",
              "      <td>Say what you want about Mel Gibson, but when h...</td>\n",
              "      <td>How did you like  the reviewer?</td>\n",
              "      <td>[]</td>\n",
              "      <td>[]</td>\n",
              "      <td>[]</td>\n",
              "      <td>[]</td>\n",
              "      <td>[]</td>\n",
              "      <td>1363</td>\n",
              "    </tr>\n",
              "    <tr>\n",
              "      <th>...</th>\n",
              "      <td>...</td>\n",
              "      <td>...</td>\n",
              "      <td>...</td>\n",
              "      <td>...</td>\n",
              "      <td>...</td>\n",
              "      <td>...</td>\n",
              "      <td>...</td>\n",
              "      <td>...</td>\n",
              "      <td>...</td>\n",
              "      <td>...</td>\n",
              "      <td>...</td>\n",
              "      <td>...</td>\n",
              "      <td>...</td>\n",
              "      <td>...</td>\n",
              "      <td>...</td>\n",
              "      <td>...</td>\n",
              "      <td>...</td>\n",
              "      <td>...</td>\n",
              "      <td>...</td>\n",
              "      <td>...</td>\n",
              "    </tr>\n",
              "    <tr>\n",
              "      <th>1364</th>\n",
              "      <td>movies</td>\n",
              "      <td>incredible</td>\n",
              "      <td>visual</td>\n",
              "      <td>stunning</td>\n",
              "      <td>movie</td>\n",
              "      <td>82dcd017229185e361cee5dead25166a</td>\n",
              "      <td>1</td>\n",
              "      <td>0.50</td>\n",
              "      <td>False</td>\n",
              "      <td>6844fbc1dbfffc7c08c1c5fc08c6eaff</td>\n",
              "      <td>212846ba95fff9c8f8b43b712bf599c5</td>\n",
              "      <td>B00H83EUL2</td>\n",
              "      <td>I honestly don't feel anything I could say wou...</td>\n",
              "      <td>How many movies should we watch?</td>\n",
              "      <td>[]</td>\n",
              "      <td>[]</td>\n",
              "      <td>[]</td>\n",
              "      <td>[]</td>\n",
              "      <td>[]</td>\n",
              "      <td>518</td>\n",
              "    </tr>\n",
              "    <tr>\n",
              "      <th>1365</th>\n",
              "      <td>movies</td>\n",
              "      <td>incredible</td>\n",
              "      <td>film</td>\n",
              "      <td>fantastic</td>\n",
              "      <td>scene</td>\n",
              "      <td>19c61b234baa35ed560a837ebaf8154c</td>\n",
              "      <td>4</td>\n",
              "      <td>0.75</td>\n",
              "      <td>True</td>\n",
              "      <td>410f4212c4f36ac41cd94c6903000501</td>\n",
              "      <td>9675102114fd62eda4e86bce0393c41a</td>\n",
              "      <td>B00H83EUL2</td>\n",
              "      <td>Good acting and the filming of these outer spa...</td>\n",
              "      <td>Was a great scene film?</td>\n",
              "      <td>[scenes is incredible, the filming of these ou...</td>\n",
              "      <td>[49, 16]</td>\n",
              "      <td>[2, 2]</td>\n",
              "      <td>[0.9, 0.9]</td>\n",
              "      <td>[True, True]</td>\n",
              "      <td>42</td>\n",
              "    </tr>\n",
              "    <tr>\n",
              "      <th>1366</th>\n",
              "      <td>movies</td>\n",
              "      <td>close</td>\n",
              "      <td>movie</td>\n",
              "      <td>little</td>\n",
              "      <td>knowledge</td>\n",
              "      <td>8fd0d01f89d027a2fb9d2aaac76b384b</td>\n",
              "      <td>1</td>\n",
              "      <td>0.00</td>\n",
              "      <td>False</td>\n",
              "      <td>64c655680ae1886066c686a5245701fb</td>\n",
              "      <td>34044bd1d9b4ab12886fd27d3e697c82</td>\n",
              "      <td>B00H83EUL2</td>\n",
              "      <td>My family &amp; I enjoyed this movie. This kept me...</td>\n",
              "      <td>How would you describe my knowledge of Asian c...</td>\n",
              "      <td>[]</td>\n",
              "      <td>[]</td>\n",
              "      <td>[]</td>\n",
              "      <td>[]</td>\n",
              "      <td>[]</td>\n",
              "      <td>67</td>\n",
              "    </tr>\n",
              "    <tr>\n",
              "      <th>1367</th>\n",
              "      <td>movies</td>\n",
              "      <td>worth to watch</td>\n",
              "      <td>film</td>\n",
              "      <td>realistic</td>\n",
              "      <td>movie</td>\n",
              "      <td>95d980d13e4001905698071049d29ea7</td>\n",
              "      <td>1</td>\n",
              "      <td>0.00</td>\n",
              "      <td>False</td>\n",
              "      <td>a8e2edbde0bc2fb82d3f58f09a74caab</td>\n",
              "      <td>9ea155d689207a569540af3d39e341ab</td>\n",
              "      <td>B00H83EUL2</td>\n",
              "      <td>While the special effects were spectacular,  t...</td>\n",
              "      <td>Where we can see this movie?</td>\n",
              "      <td>[]</td>\n",
              "      <td>[]</td>\n",
              "      <td>[]</td>\n",
              "      <td>[]</td>\n",
              "      <td>[]</td>\n",
              "      <td>121</td>\n",
              "    </tr>\n",
              "    <tr>\n",
              "      <th>1368</th>\n",
              "      <td>movies</td>\n",
              "      <td>exciting</td>\n",
              "      <td>movie</td>\n",
              "      <td>certain</td>\n",
              "      <td>amount</td>\n",
              "      <td>4ba05e1472f6d01ebf2e0cfb1826daea</td>\n",
              "      <td>2</td>\n",
              "      <td>0.00</td>\n",
              "      <td>False</td>\n",
              "      <td>bf660afa510698224b0967db4a0cda4c</td>\n",
              "      <td>e9ce27bc022fff1e2ae6fe516a29f6e5</td>\n",
              "      <td>B00H83EUL2</td>\n",
              "      <td>Delivery was fast from Amazon, as usual.  The ...</td>\n",
              "      <td>Would you like this amount of cash?</td>\n",
              "      <td>[]</td>\n",
              "      <td>[]</td>\n",
              "      <td>[]</td>\n",
              "      <td>[]</td>\n",
              "      <td>[]</td>\n",
              "      <td>52</td>\n",
              "    </tr>\n",
              "  </tbody>\n",
              "</table>\n",
              "<p>1369 rows × 20 columns</p>\n",
              "</div>\n",
              "      <button class=\"colab-df-convert\" onclick=\"convertToInteractive('df-52bb04a0-7056-4e2f-bc10-8aa75413d6a7')\"\n",
              "              title=\"Convert this dataframe to an interactive table.\"\n",
              "              style=\"display:none;\">\n",
              "\n",
              "  <svg xmlns=\"http://www.w3.org/2000/svg\" height=\"24px\"viewBox=\"0 0 24 24\"\n",
              "       width=\"24px\">\n",
              "    <path d=\"M0 0h24v24H0V0z\" fill=\"none\"/>\n",
              "    <path d=\"M18.56 5.44l.94 2.06.94-2.06 2.06-.94-2.06-.94-.94-2.06-.94 2.06-2.06.94zm-11 1L8.5 8.5l.94-2.06 2.06-.94-2.06-.94L8.5 2.5l-.94 2.06-2.06.94zm10 10l.94 2.06.94-2.06 2.06-.94-2.06-.94-.94-2.06-.94 2.06-2.06.94z\"/><path d=\"M17.41 7.96l-1.37-1.37c-.4-.4-.92-.59-1.43-.59-.52 0-1.04.2-1.43.59L10.3 9.45l-7.72 7.72c-.78.78-.78 2.05 0 2.83L4 21.41c.39.39.9.59 1.41.59.51 0 1.02-.2 1.41-.59l7.78-7.78 2.81-2.81c.8-.78.8-2.07 0-2.86zM5.41 20L4 18.59l7.72-7.72 1.47 1.35L5.41 20z\"/>\n",
              "  </svg>\n",
              "      </button>\n",
              "\n",
              "\n",
              "\n",
              "    <div id=\"df-7a992e3f-83da-4d7b-93b7-b708749dc726\">\n",
              "      <button class=\"colab-df-quickchart\" onclick=\"quickchart('df-7a992e3f-83da-4d7b-93b7-b708749dc726')\"\n",
              "              title=\"Suggest charts.\"\n",
              "              style=\"display:none;\">\n",
              "\n",
              "<svg xmlns=\"http://www.w3.org/2000/svg\" height=\"24px\"viewBox=\"0 0 24 24\"\n",
              "     width=\"24px\">\n",
              "    <g>\n",
              "        <path d=\"M19 3H5c-1.1 0-2 .9-2 2v14c0 1.1.9 2 2 2h14c1.1 0 2-.9 2-2V5c0-1.1-.9-2-2-2zM9 17H7v-7h2v7zm4 0h-2V7h2v10zm4 0h-2v-4h2v4z\"/>\n",
              "    </g>\n",
              "</svg>\n",
              "      </button>\n",
              "    </div>\n",
              "\n",
              "<style>\n",
              "  .colab-df-quickchart {\n",
              "    background-color: #E8F0FE;\n",
              "    border: none;\n",
              "    border-radius: 50%;\n",
              "    cursor: pointer;\n",
              "    display: none;\n",
              "    fill: #1967D2;\n",
              "    height: 32px;\n",
              "    padding: 0 0 0 0;\n",
              "    width: 32px;\n",
              "  }\n",
              "\n",
              "  .colab-df-quickchart:hover {\n",
              "    background-color: #E2EBFA;\n",
              "    box-shadow: 0px 1px 2px rgba(60, 64, 67, 0.3), 0px 1px 3px 1px rgba(60, 64, 67, 0.15);\n",
              "    fill: #174EA6;\n",
              "  }\n",
              "\n",
              "  [theme=dark] .colab-df-quickchart {\n",
              "    background-color: #3B4455;\n",
              "    fill: #D2E3FC;\n",
              "  }\n",
              "\n",
              "  [theme=dark] .colab-df-quickchart:hover {\n",
              "    background-color: #434B5C;\n",
              "    box-shadow: 0px 1px 3px 1px rgba(0, 0, 0, 0.15);\n",
              "    filter: drop-shadow(0px 1px 2px rgba(0, 0, 0, 0.3));\n",
              "    fill: #FFFFFF;\n",
              "  }\n",
              "</style>\n",
              "\n",
              "    <script>\n",
              "      async function quickchart(key) {\n",
              "        const containerElement = document.querySelector('#' + key);\n",
              "        const charts = await google.colab.kernel.invokeFunction(\n",
              "            'suggestCharts', [key], {});\n",
              "      }\n",
              "    </script>\n",
              "\n",
              "      <script>\n",
              "\n",
              "function displayQuickchartButton(domScope) {\n",
              "  let quickchartButtonEl =\n",
              "    domScope.querySelector('#df-7a992e3f-83da-4d7b-93b7-b708749dc726 button.colab-df-quickchart');\n",
              "  quickchartButtonEl.style.display =\n",
              "    google.colab.kernel.accessAllowed ? 'block' : 'none';\n",
              "}\n",
              "\n",
              "        displayQuickchartButton(document);\n",
              "      </script>\n",
              "      <style>\n",
              "    .colab-df-container {\n",
              "      display:flex;\n",
              "      flex-wrap:wrap;\n",
              "      gap: 12px;\n",
              "    }\n",
              "\n",
              "    .colab-df-convert {\n",
              "      background-color: #E8F0FE;\n",
              "      border: none;\n",
              "      border-radius: 50%;\n",
              "      cursor: pointer;\n",
              "      display: none;\n",
              "      fill: #1967D2;\n",
              "      height: 32px;\n",
              "      padding: 0 0 0 0;\n",
              "      width: 32px;\n",
              "    }\n",
              "\n",
              "    .colab-df-convert:hover {\n",
              "      background-color: #E2EBFA;\n",
              "      box-shadow: 0px 1px 2px rgba(60, 64, 67, 0.3), 0px 1px 3px 1px rgba(60, 64, 67, 0.15);\n",
              "      fill: #174EA6;\n",
              "    }\n",
              "\n",
              "    [theme=dark] .colab-df-convert {\n",
              "      background-color: #3B4455;\n",
              "      fill: #D2E3FC;\n",
              "    }\n",
              "\n",
              "    [theme=dark] .colab-df-convert:hover {\n",
              "      background-color: #434B5C;\n",
              "      box-shadow: 0px 1px 3px 1px rgba(0, 0, 0, 0.15);\n",
              "      filter: drop-shadow(0px 1px 2px rgba(0, 0, 0, 0.3));\n",
              "      fill: #FFFFFF;\n",
              "    }\n",
              "  </style>\n",
              "\n",
              "      <script>\n",
              "        const buttonEl =\n",
              "          document.querySelector('#df-52bb04a0-7056-4e2f-bc10-8aa75413d6a7 button.colab-df-convert');\n",
              "        buttonEl.style.display =\n",
              "          google.colab.kernel.accessAllowed ? 'block' : 'none';\n",
              "\n",
              "        async function convertToInteractive(key) {\n",
              "          const element = document.querySelector('#df-52bb04a0-7056-4e2f-bc10-8aa75413d6a7');\n",
              "          const dataTable =\n",
              "            await google.colab.kernel.invokeFunction('convertToInteractive',\n",
              "                                                     [key], {});\n",
              "          if (!dataTable) return;\n",
              "\n",
              "          const docLinkHtml = 'Like what you see? Visit the ' +\n",
              "            '<a target=\"_blank\" href=https://colab.research.google.com/notebooks/data_table.ipynb>data table notebook</a>'\n",
              "            + ' to learn more about interactive tables.';\n",
              "          element.innerHTML = '';\n",
              "          dataTable['output_type'] = 'display_data';\n",
              "          await google.colab.output.renderOutput(dataTable, element);\n",
              "          const docLink = document.createElement('div');\n",
              "          docLink.innerHTML = docLinkHtml;\n",
              "          element.appendChild(docLink);\n",
              "        }\n",
              "      </script>\n",
              "    </div>\n",
              "  </div>\n"
            ]
          },
          "metadata": {},
          "execution_count": 34
        }
      ],
      "source": [
        "dfs[\"train\"]#[\"n_tokens\"]"
      ]
    },
    {
      "cell_type": "code",
      "execution_count": 35,
      "metadata": {
        "id": "AOopF5Y024Fm"
      },
      "outputs": [],
      "source": [
        "example = dfs[\"train\"].iloc[0][[\"question\", \"context\"]]\n",
        "\n",
        "# we can set return_overflowing_tokens=True in the tokenizer to\n",
        "# enable the sliding window. The size of the sliding window is controlled by the\n",
        "# max_seq_length argument, and the size of the stride is controlled by doc_stride\n",
        "tokenized_example = tokenizer(example[\"question\"], example[\"context\"],\n",
        "                    return_overflowing_tokens=True, max_length=100,truncation=True,\n",
        "                    stride=25)"
      ]
    },
    {
      "cell_type": "markdown",
      "metadata": {
        "id": "miQvHS7bYT6N"
      },
      "source": [
        "In this case we now get a list of input_ids, one for each window. Let’s check the num‐\n",
        "ber of tokens we have in each window:"
      ]
    },
    {
      "cell_type": "code",
      "execution_count": 36,
      "metadata": {
        "colab": {
          "base_uri": "https://localhost:8080/"
        },
        "id": "ADgnJ727YUHU",
        "outputId": "cd563df4-0c00-43c9-adaf-f99e351a63ef"
      },
      "outputs": [
        {
          "output_type": "stream",
          "name": "stdout",
          "text": [
            "Window #0 has 100 tokens\n",
            "Window #1 has 100 tokens\n",
            "Window #2 has 100 tokens\n",
            "Window #3 has 100 tokens\n",
            "Window #4 has 100 tokens\n",
            "Window #5 has 100 tokens\n",
            "Window #6 has 100 tokens\n",
            "Window #7 has 100 tokens\n",
            "Window #8 has 100 tokens\n",
            "Window #9 has 100 tokens\n",
            "Window #10 has 100 tokens\n",
            "Window #11 has 97 tokens\n"
          ]
        }
      ],
      "source": [
        "for idx, window in enumerate(tokenized_example[\"input_ids\"]):\n",
        "  print(f\"Window #{idx} has {len(window)} tokens\")"
      ]
    },
    {
      "cell_type": "code",
      "execution_count": 37,
      "metadata": {
        "colab": {
          "base_uri": "https://localhost:8080/"
        },
        "id": "xh-JXnA8YW8o",
        "outputId": "9a057140-22d6-498b-dc09-2aa284a3e0fd"
      },
      "outputs": [
        {
          "output_type": "stream",
          "name": "stdout",
          "text": [
            "<s>How did you like the movie?</s></s>Well, I have to admit I wasn't expecting to like this movie, having read all the bad press surrounding it.  But I saw it last night on a whim and I have to say I thought it was fantastic!  Firstly, as a movie it is incredibly well shot.  The scenery is wonderful and the sets are painstakingly recreated - never once do you doubt this is 1st century Palestine.The acting starts off a little</s> \n",
            "\n",
            "<s>How did you like the movie?</s></s> sets are painstakingly recreated - never once do you doubt this is 1st century Palestine.The acting starts off a little strained in the garden scene, when the movie is just finding it's feet (and the audience is coming to terms with the fact that the movie isn't some horrible, cheap propaganda short, but a proper movie) but quickly becomes impressive and ends up brutally real.Gibson has set out to make a compelling dram</s> \n",
            "\n",
            "<s>How did you like the movie?</s></s> a proper movie) but quickly becomes impressive and ends up brutally real.Gibson has set out to make a compelling dramatization of the last 12 hours of Jesus' life as described in the Gospels and that's pretty much what he does.  There is certain artistic license taken and some good abstract movie-making, but nothing that really detracts from the movie or the sentiment.  In fact the scenes where they have the Billy</s> \n",
            "\n",
            "<s>How did you like the movie?</s></s>making, but nothing that really detracts from the movie or the sentiment.  In fact the scenes where they have the Billy Corgan/ Marylin Manson devil figure floating around are amongst the strongest scenes in the movie (Especially the gratuitously freakish defomed child at the whipping! What was that about?!).  The movie is shocking, and at times painful to watch.  I think the movie only strays into questionably graphic</s> \n",
            "\n",
            "<s>How did you like the movie?</s></s>  The movie is shocking, and at times painful to watch.  I think the movie only strays into questionably graphic violence occasionally, most notable when Christ's hands are nailed to the cross and we see blood squirting up onto the Roman soldier's smirking face.  That's a touch over the top for my taste.Being an UWS-dwelling New Yorker, I had the anti-Semitic accusations in the back of</s> \n",
            "\n",
            "<s>How did you like the movie?</s></s> my taste.Being an UWS-dwelling New Yorker, I had the anti-Semitic accusations in the back of my mind for the whole movie, and I have to say I found nothing that could possibly be construed as anti-Semitic.  Instead the movie shows a nuanced and balanced set of Jewish characters who run the gamut of emotions from hating Jesus to loving him from falsely accusing him to insisting on a fair trial.  To</s> \n",
            "\n",
            "<s>How did you like the movie?</s></s> run the gamut of emotions from hating Jesus to loving him from falsely accusing him to insisting on a fair trial.  To read some press reviews I'd assumed the movie was full of big-nosed demons laughing maniacally in shadowy corners - that impression is patently absurd, in fact even Jesus' Pharisee accusers are sickened by his whipping and turn away in anguish and perhaps contrition.  If anything it is the Romans</s> \n",
            "\n",
            "<s>How did you like the movie?</s></s> accusers are sickened by his whipping and turn away in anguish and perhaps contrition.  If anything it is the Romans who 2000 years later are amongst Catholicism's staunchest supporters, that revel in the torture and mockery of Christ.  But hey, it's all there in the gospels.I think this is a pretty \"Catholic\" film.  Historically the Catholic faith has always revered the human side of Jesus more strongly. </s> \n",
            "\n",
            "<s>How did you like the movie?</s></s> is a pretty \"Catholic\" film.  Historically the Catholic faith has always revered the human side of Jesus more strongly.  They worship him for his suffering on our behalf his death for our sins, and yes his long, drawn out death.  Speaking from the Protestant tradition I'd prefer to see a movie that celebrated Jesus' life and teachings more than his suffering, and perhaps brought out the good news of his resurrection more than this movie,</s> \n",
            "\n",
            "<s>How did you like the movie?</s></s> Jesus' life and teachings more than his suffering, and perhaps brought out the good news of his resurrection more than this movie, but hey, Mel has another 33 years of material to work with should he choose to make a sequel or a prequel.I'm not sure that this movie will make many converts - it's a compelling and powerful piece of art, but any theology is brief and death related - flashbacks to scenes in Jesus' earlier ministry</s> \n",
            "\n",
            "<s>How did you like the movie?</s></s> a compelling and powerful piece of art, but any theology is brief and death related - flashbacks to scenes in Jesus' earlier ministry deal with specific death prophesies (\"This is my Body, broken for you...\" etc) or somewhat heavy-handed juxtapositions of his teaching vs his treatment (\"Love thy neighbour, and love thine enemy likewise.\").  I'm not sure that this condensed and selective teaching will convert anyone up front, but it</s> \n",
            "\n",
            "<s>How did you like the movie?</s></s> thine enemy likewise.\").  I'm not sure that this condensed and selective teaching will convert anyone up front, but it's already made me reread a few of the gospels.Anyway, I think it's a movie everyone should see to make up their own mind about - personally I can't wait for the DVD release so I can watch it without subtitles, as Gibson originally intended. That'd be even more brutal...</s> \n",
            "\n"
          ]
        }
      ],
      "source": [
        "for window in tokenized_example[\"input_ids\"]:\n",
        "  print(f\"{tokenizer.decode(window)} \\n\")"
      ]
    },
    {
      "cell_type": "markdown",
      "metadata": {
        "id": "_C0GqFuYY1QC"
      },
      "source": [
        "# Using Haystack to Build a QA Pipeline\n",
        "In our simple answer extraction example, we provided both the question and the context to the model. However, in reality our system’s users will only provide a question\n",
        "about a product, so we need some way of selecting relevant passages from among all\n",
        "the reviews in our corpus.\n",
        "\n",
        "Beginner tutorial: https://haystack.deepset.ai/tutorials/01_basic_qa_pipeline#initializing-the-retriever\n"
      ]
    },
    {
      "cell_type": "markdown",
      "metadata": {
        "id": "4B-YevxwckP4"
      },
      "source": [
        "## Initializing a document store\n",
        "Elasticsearch is a search engine that is capable of handling a diverse range of data types,\n",
        "including textual, numerical, geospatial, structured, and unstructured. Its ability to\n",
        "store huge volumes of data and quickly filter it with full-text search features makes it\n",
        "especially well suited for developing QA systems.\n",
        "\n",
        "link: https://www.elastic.co/guide/en/elasticsearch/reference/current/elasticsearch-intro.html"
      ]
    },
    {
      "cell_type": "code",
      "execution_count": 38,
      "metadata": {
        "id": "kHAc93U_YpfJ"
      },
      "outputs": [],
      "source": [
        "url = \"\"\"https://artifacts.elastic.co/downloads/elasticsearch/\\\n",
        "elasticsearch-7.9.2-linux-x86_64.tar.gz\"\"\"\n",
        "!wget -nc -q {url}\n",
        "!tar -xzf elasticsearch-7.9.2-linux-x86_64.tar.gz"
      ]
    },
    {
      "cell_type": "markdown",
      "metadata": {
        "id": "W4EiDfptguGp"
      },
      "source": [
        "Next we need to start the Elasticsearch server. Since we’re running all the code in this\n",
        "book within Jupyter notebooks, we’ll need to use Python’s Popen() function to spawn a new process. While we’re at it, let’s also run the subprocess in the background using\n",
        "the chown shell command"
      ]
    },
    {
      "cell_type": "code",
      "execution_count": 39,
      "metadata": {
        "id": "LFCg9qxafwdb"
      },
      "outputs": [],
      "source": [
        "import os\n",
        "from subprocess import Popen, PIPE, STDOUT\n",
        "\n",
        "# Run Elasticsearch as a background process\n",
        "!chown -R daemon:daemon elasticsearch-7.9.2\n",
        "\n",
        "\n",
        "# In the Popen() function, the args specify the program we wish to execute, while\n",
        "# stdout=PIPE creates a new pipe for the standard output and stderr=STDOUT collects\n",
        "# the errors in the same pipe. The preexec_fn argument specifies the ID of the subpro‐\n",
        "# cess we wish to use.\n",
        "es_server = Popen(args=['elasticsearch-7.9.2/bin/elasticsearch'], stdout=PIPE, stderr=STDOUT, preexec_fn=lambda: os.setuid(1))\n",
        "\n",
        "# Wait until Elasticsearch has started\n",
        "!sleep 31"
      ]
    },
    {
      "cell_type": "code",
      "execution_count": 40,
      "metadata": {
        "colab": {
          "base_uri": "https://localhost:8080/"
        },
        "id": "TKDd35hwJoVS",
        "outputId": "a685b834-44b8-4c33-fdf0-7585f04865fc"
      },
      "outputs": [
        {
          "output_type": "stream",
          "name": "stderr",
          "text": [
            "WARNING:haystack.utils.doc_store:Tried to start Elasticsearch through Docker but this failed. It is likely that there is already an existing Elasticsearch instance running. \n"
          ]
        }
      ],
      "source": [
        "\n",
        "# Alternative if Docker is installed\n",
        "from haystack.utils import launch_es\n",
        "\n",
        "launch_es()"
      ]
    },
    {
      "cell_type": "markdown",
      "metadata": {
        "id": "rjhGmCIlhN77"
      },
      "source": [
        "By default, Elasticsearch runs locally on port 9200, so we can test\n",
        "the connection by sending an HTTP request to localhost:"
      ]
    },
    {
      "cell_type": "code",
      "execution_count": 41,
      "metadata": {
        "colab": {
          "base_uri": "https://localhost:8080/"
        },
        "id": "NiDVCxTag1-w",
        "outputId": "090f560f-aee3-42f6-8c23-1fc0055794f3"
      },
      "outputs": [
        {
          "output_type": "stream",
          "name": "stdout",
          "text": [
            "{\n",
            "  \"name\" : \"65b84c339635\",\n",
            "  \"cluster_name\" : \"elasticsearch\",\n",
            "  \"cluster_uuid\" : \"n2-JKYdSQwCMtkgP8xJY5g\",\n",
            "  \"version\" : {\n",
            "    \"number\" : \"7.9.2\",\n",
            "    \"build_flavor\" : \"default\",\n",
            "    \"build_type\" : \"tar\",\n",
            "    \"build_hash\" : \"d34da0ea4a966c4e49417f2da2f244e3e97b4e6e\",\n",
            "    \"build_date\" : \"2020-09-23T00:45:33.626720Z\",\n",
            "    \"build_snapshot\" : false,\n",
            "    \"lucene_version\" : \"8.6.2\",\n",
            "    \"minimum_wire_compatibility_version\" : \"6.8.0\",\n",
            "    \"minimum_index_compatibility_version\" : \"6.0.0-beta1\"\n",
            "  },\n",
            "  \"tagline\" : \"You Know, for Search\"\n",
            "}\n"
          ]
        }
      ],
      "source": [
        "!curl -X GET \"localhost:9200/?pretty\""
      ]
    },
    {
      "cell_type": "markdown",
      "metadata": {
        "id": "mTjMhG2fh2PU"
      },
      "source": [
        "Now that our Elasticsearch server is up and running, the next thing to do is instantiate the document store"
      ]
    },
    {
      "cell_type": "code",
      "execution_count": 42,
      "metadata": {
        "id": "mAl9PCgjhLSD"
      },
      "outputs": [],
      "source": [
        "from haystack.document_stores import ElasticsearchDocumentStore # https://docs.haystack.deepset.ai/docs/migration\n",
        "\n",
        "# Return the document embedding for later use with dense retriever\n",
        "document_store = ElasticsearchDocumentStore(return_embedding=True)\n"
      ]
    },
    {
      "cell_type": "code",
      "execution_count": 43,
      "metadata": {
        "id": "kFssecKSXKOs"
      },
      "outputs": [],
      "source": [
        "#hide\n",
        "# It's a good idea to flush Elasticsearch with each notebook restart\n",
        "if len(document_store.get_all_documents()) or len(document_store.get_all_labels()) > 0:\n",
        "    document_store.delete_documents(\"document\")\n",
        "    document_store.delete_documents(\"label\")"
      ]
    },
    {
      "cell_type": "markdown",
      "metadata": {
        "id": "WNI1FebvL15J"
      },
      "source": [
        "By default, ElasticsearchDocumentStore creates two indices on Elasticsearch: one\n",
        "called document for (you guessed it) storing documents, and another called label for\n",
        "storing the annotated answer spans. For now, we’ll just populate the document index with the SubjQA reviews, and Haystack’s document stores expect a list of dictionaries\n",
        "with text and meta keys\n",
        "\n",
        "The fields in meta can be used for applying filters during retrieval. For our purposes\n",
        "we’ll include the item_id and q_review_id columns of SubjQA so we can filter by\n",
        "product and question ID, along with the corresponding training split. We can then\n",
        "loop through the examples in each DataFrame and add them to the index with the\n",
        "write_documents() method"
      ]
    },
    {
      "cell_type": "code",
      "execution_count": 44,
      "metadata": {
        "colab": {
          "base_uri": "https://localhost:8080/"
        },
        "id": "cQsTK6R4ibnr",
        "outputId": "0fd97921-e9e9-4b11-996d-111eac9d0239"
      },
      "outputs": [
        {
          "output_type": "stream",
          "name": "stdout",
          "text": [
            "Loaded 1624 documents\n"
          ]
        }
      ],
      "source": [
        "for split, df in dfs.items():\n",
        "    # Exclude duplicate reviews\n",
        "    docs = [{\"content\": row[\"context\"], \"id\": row[\"review_id\"],\n",
        "             \"meta\":{\"item_id\": row[\"title\"], \"question_id\": row[\"id\"],\n",
        "                     \"split\": split}}\n",
        "        for _,row in df.drop_duplicates(subset=\"context\").iterrows()]\n",
        "\n",
        "    # Since version 1.0 of Haystack, Documents now have a field content, which replaces the field text.\n",
        "    # This change was introduced because Documents have become more flexible and can also store tables in addition to texts.\n",
        "    document_store.write_documents(documents=docs, index=\"document\")\n",
        "\n",
        "print(f\"Loaded {document_store.get_document_count()} documents\")"
      ]
    },
    {
      "cell_type": "markdown",
      "metadata": {
        "id": "lJdt23PzZLRp"
      },
      "source": [
        "## Initializing a retriever\n",
        "Responsible for retrieving relevant documents for a given query. Retrievers are\n",
        "usually categorized as sparse or dense. Sparse retrievers use word frequencies to\n",
        "represent each document and query as a sparse vector. The relevance of a query\n",
        "and a document is then determined by computing an inner product of the vectors. On the other hand, dense retrievers use encoders like transformers to represent the query and document as contextualized embeddings (which are dense\n",
        "vectors). These embeddings encode semantic meaning, and allow dense retrievers to improve search accuracy by understanding the content of the query.\n",
        "\n",
        "The Elasticsearch document store can be paired with any of the Haystack retrievers,\n",
        "so let’s start by using a sparse retriever based on BM25 (short for “Best Match 25”).\n",
        "BM25 is an improved version of the classic Term Frequency-Inverse Document Fre‐\n",
        "quency (TF-IDF) algorithm"
      ]
    },
    {
      "cell_type": "code",
      "execution_count": 45,
      "metadata": {
        "id": "O5-x_YyINyET"
      },
      "outputs": [],
      "source": [
        "# In Haystack 1.4 ElasticsearchRetriever was renamed to BM25Retriever.\n",
        "\n",
        "from haystack.nodes.retriever import BM25Retriever\n",
        "\n",
        "bm25_retriever = BM25Retriever(document_store=document_store)"
      ]
    },
    {
      "cell_type": "markdown",
      "metadata": {
        "id": "zc8V3whNSeCi"
      },
      "source": [
        "Next, let’s look at a simple query for a single movie product in the training set.\n",
        "For review-based QA systems like ours, it’s important to restrict the queries to a single\n",
        "item because otherwise the retriever would source reviews about products that are\n",
        "not related to a user’s query."
      ]
    },
    {
      "cell_type": "code",
      "execution_count": 46,
      "metadata": {
        "id": "-69SLUV0Z4dp"
      },
      "outputs": [],
      "source": [
        "item_id = \"630575067X\" # Star Wars - Episode I, The Phantom Menace VHS\n",
        "query = \"Who is Anakin Skywalker?\"\n",
        "\n",
        "# Each element of retrieved_docs is a Haystack Document\n",
        "# object that is used to represent documents  and includes the retriever’s query score\n",
        "# along with other metadata.\n",
        "\n",
        "retrieved_docs = bm25_retriever.retrieve(\n",
        "    query=query, top_k=3, filters={\"item_id\":[item_id], \"split\":[\"train\"]}) # Here we’ve specified how many documents to return with the top_k argument and\n",
        "    # applied a filter on both the item_id and split keys that were included in the meta\n",
        "    # field of our documents.\n"
      ]
    },
    {
      "cell_type": "code",
      "execution_count": 47,
      "metadata": {
        "colab": {
          "base_uri": "https://localhost:8080/"
        },
        "id": "fKwF_w64bwYI",
        "outputId": "d4db09d9-391b-4d47-a8d0-5d6e67192a47"
      },
      "outputs": [
        {
          "output_type": "stream",
          "name": "stdout",
          "text": [
            "{\"content\": \"I recently received my copy of the Phantom Menace DVD and am quite pleased with it.  I must say that the sound quality of the DVD is really quite amazing.  The sound and picture quality and special effects alone are worth the price of the DVD.Despite the strengths of the special effects, I must say that the script and the acting are extremely weak at times during the movie.  For example, little 5-year-old Anakin Skywalker hits on the Princess at many times during the movie.  Those scenes are extremely unrealistic.  I just find it really hard to believe that little brat would flirt that much with the adult princess.Also, Anakin Skywalker simply cannot act.  That boy basically reads his lines without much emotion.  I think that the little kid from the 6th Sense would have played a much better Anakin Skywalker.What genius decided that it would be a good idea to have JarJar Binks in almost every scene?  I do understand that JarJar is supposed to provide comic relief.  However, JarJar is not funny at all - he's just really annoying.And what's the deal with the Jedi blood test?  Why could they do this at the time of the first episode, but not at any time during episodes 4-6?  Was the technology simply lost?  It doesn't make any sense to me.However, despite the script and acting weaknesses, the film is still much better than most of the movies churned out by Hollywood today.\", \"content_type\": \"text\", \"score\": 0.8190174837486695, \"meta\": {\"item_id\": \"630575067X\", \"question_id\": \"fd98baf7a7c7493345a8b7a829a1cc31\", \"split\": \"train\"}, \"id_hash_keys\": [\"content\"], \"embedding\": null, \"id\": \"0a73d8520d625b481c751a872ba78863\"}\n"
          ]
        }
      ],
      "source": [
        "print(retrieved_docs[0].to_json())"
      ]
    },
    {
      "cell_type": "markdown",
      "metadata": {
        "id": "EYyd4hzKT3cy"
      },
      "source": [
        "Now that we have a way to retrieve relevant documents, the next thing we need is a\n",
        "way to extract answers from them"
      ]
    },
    {
      "cell_type": "markdown",
      "metadata": {
        "id": "YQvFPwMZFijA"
      },
      "source": [
        "## Initializing a reader\n"
      ]
    },
    {
      "cell_type": "code",
      "execution_count": 48,
      "metadata": {
        "id": "KZVEVd1wcTHZ"
      },
      "outputs": [],
      "source": [
        "from haystack.nodes import FARMReader\n",
        "\n",
        "max_seq_length, doc_stride = 384, 128\n",
        "\n",
        "# In FARMReader, the behavior of the sliding window is controlled by the same\n",
        "# max_seq_length and doc_stride arguments that we saw for the tokenizer\n",
        "reader = FARMReader(model_name_or_path=model_ckpt, progress_bar=False,\n",
        "                    max_seq_len=max_seq_length, doc_stride=doc_stride,\n",
        "                    return_no_answer=True, use_gpu=True)\n"
      ]
    },
    {
      "cell_type": "code",
      "execution_count": 49,
      "metadata": {
        "colab": {
          "base_uri": "https://localhost:8080/"
        },
        "id": "OxjZWHTGj1-n",
        "outputId": "837f7ad4-1b55-42f9-d427-aad6e91fa290"
      },
      "outputs": [
        {
          "output_type": "execute_result",
          "data": {
            "text/plain": [
              "('Why is model conversion important?',\n",
              " 'The option to convert models between FARM and transformers gives freedom to the user and let people easily switch between frameworks.')"
            ]
          },
          "metadata": {},
          "execution_count": 49
        }
      ],
      "source": [
        "question, context"
      ]
    },
    {
      "cell_type": "code",
      "execution_count": 50,
      "metadata": {
        "colab": {
          "base_uri": "https://localhost:8080/"
        },
        "id": "i1PZCSJqGInT",
        "outputId": "edad0ba8-5659-4e30-c5b3-0aa1ea9d6e6e"
      },
      "outputs": [
        {
          "output_type": "stream",
          "name": "stdout",
          "text": [
            "{'query': 'Why is model conversion important?', 'no_ans_gap': 9.773468494415283, 'answers': [<Answer {'answer': 'gives freedom to the user', 'type': 'extractive', 'score': 0.704782247543335, 'context': 'The option to convert models between FARM and transformers gives freedom to the user and let people easily switch between frameworks.', 'offsets_in_document': [{'start': 59, 'end': 84}], 'offsets_in_context': [{'start': 59, 'end': 84}], 'document_ids': ['be82919e80ce1fece28e1a6942ce0d3c'], 'meta': {}}>]}\n"
          ]
        }
      ],
      "source": [
        "print(reader.predict_on_texts(question=question, texts=[context], top_k=1))"
      ]
    },
    {
      "cell_type": "markdown",
      "metadata": {
        "id": "HKYGQAUYIsd4"
      },
      "source": [
        "## Putting it all together\n"
      ]
    },
    {
      "cell_type": "code",
      "execution_count": 51,
      "metadata": {
        "id": "PcZBWz4eG7-h"
      },
      "outputs": [],
      "source": [
        "from haystack.pipelines import ExtractiveQAPipeline\n",
        "\n",
        "pipe = ExtractiveQAPipeline(reader=reader, retriever=bm25_retriever)"
      ]
    },
    {
      "cell_type": "code",
      "execution_count": 52,
      "metadata": {
        "colab": {
          "base_uri": "https://localhost:8080/"
        },
        "id": "txwXV0yqIujV",
        "outputId": "da7986ba-1df2-4b87-e9b1-c9efe30f95e2"
      },
      "outputs": [
        {
          "output_type": "stream",
          "name": "stdout",
          "text": [
            "Question: Who is Anakin Skywalker? \n",
            "\n",
            "Answer 1: little 5-year-old\n",
            "Review snippet: ...acting are extremely weak at times during the movie.  For example, little 5-year-old Anakin Skywalker hits on the Princess at many times during the mo...\n",
            "\n",
            "\n",
            "\n",
            "Answer 2: Darth Vader\n",
            "Review snippet: ...nto motion. We see the young Anakin Skywalker, who's fate is the evil Darth Vader, but who will eventually bring balance to the Force.Surely these thi...\n",
            "\n",
            "\n",
            "\n",
            "Answer 3: \n",
            "Review snippet: ...None...\n",
            "\n",
            "\n",
            "\n"
          ]
        }
      ],
      "source": [
        "# Each Pipeline has a run() method that specifies how the query flow should be exe‐\n",
        "# cuted. For the ExtractiveQAPipeline we just need to pass the query, the number of\n",
        "# documents to retrieve with top_k_retriever, and the number of answers to extract\n",
        "# from these documents with top_k_reader. In our case, we also need to specify a filter\n",
        "# over the item ID, which can be done using the filters argument as we did with the\n",
        "# retriever earlier\n",
        "\n",
        "n_answers = 3\n",
        "preds = pipe.run(query=query, params={\"Retriever\": {\"top_k\": 3, \"filters\":{\"item_id\": [item_id], \"split\":[\"train\"]}},\n",
        "                                      \"Reader\": {\"top_k\": n_answers}})\n",
        "\n",
        "print(f\"Question: {preds['query']} \\n\")\n",
        "\n",
        "for idx in range(n_answers):\n",
        "    print(f\"Answer {idx+1}: {preds['answers'][idx].answer}\")\n",
        "    print(f\"Review snippet: ...{preds['answers'][idx].context}...\")\n",
        "    print(\"\\n\\n\")\n"
      ]
    },
    {
      "cell_type": "code",
      "execution_count": 53,
      "metadata": {
        "colab": {
          "base_uri": "https://localhost:8080/"
        },
        "id": "rOUfXetYU2ud",
        "outputId": "4220edff-d3d5-43c4-fd84-d1a6ec0679ea"
      },
      "outputs": [
        {
          "output_type": "stream",
          "name": "stdout",
          "text": [
            "'Query: Who is Anakin Skywalker?'\n",
            "'Answers:'\n",
            "[   {   'answer': 'little 5-year-old',\n",
            "        'context': 'acting are extremely weak at times during the movie.  For '\n",
            "                   'example, little 5-year-old Anakin Skywalker hits on the '\n",
            "                   'Princess at many times during the mo'},\n",
            "    {   'answer': 'Darth Vader',\n",
            "        'context': \"nto motion. We see the young Anakin Skywalker, who's fate \"\n",
            "                   'is the evil Darth Vader, but who will eventually bring '\n",
            "                   'balance to the Force.Surely these thi'},\n",
            "    {'answer': ''}]\n"
          ]
        }
      ],
      "source": [
        "# Simplify the printed answers:\n",
        "\n",
        "from haystack.utils import print_answers\n",
        "\n",
        "print_answers(preds, details=\"minimum\")  ## Choose from `minimum`, `medium`, and `all`"
      ]
    },
    {
      "cell_type": "markdown",
      "metadata": {
        "id": "3ymAv-nZZELg"
      },
      "source": [
        "# Improving Our QA Pipeline\n",
        "In particular, the\n",
        "retriever sets an upper bound on the performance of the whole QA system, so it’s\n",
        "important to make sure it’s doing a good job\n",
        "\n",
        "https://haystack.deepset.ai/tutorials/11_pipelines"
      ]
    },
    {
      "cell_type": "markdown",
      "metadata": {
        "id": "bAYgy1iDZhNV"
      },
      "source": [
        "## Evaluating the Retriever\n",
        "A common metric for evaluating retrievers is **recall**, which measures the fraction of all\n",
        "relevant documents that are retrieved. In this context, “relevant” simply means\n",
        "whether the answer is present in a passage of text or not, so given a set of questions,\n",
        "we can compute recall by counting the number of times an answer appears in the top\n",
        "k documents returned by the retriever.\n",
        "\n"
      ]
    },
    {
      "cell_type": "code",
      "execution_count": 54,
      "metadata": {
        "id": "SV8GkB6Vps7c"
      },
      "outputs": [],
      "source": [
        "from haystack.pipelines import DocumentSearchPipeline\n",
        "\n",
        "pipe = DocumentSearchPipeline(retriever=bm25_retriever)"
      ]
    },
    {
      "cell_type": "markdown",
      "metadata": {
        "id": "-3Pab8A9tDFp"
      },
      "source": [
        "Now that we have our evaluation pipeline, we need to pass some queries and their\n",
        "corresponding answers. To do this, we’ll add the answers to a dedicated label index\n",
        "on our document store. Haystack provides a Label object that represents the answer\n",
        "spans and their metadata in a standardized fashion. To populate the label index,\n",
        "we’ll first create a list of Label objects by looping over each question in the test set\n",
        "and extracting the matching answers and additional metadata:"
      ]
    },
    {
      "cell_type": "code",
      "execution_count": 55,
      "metadata": {
        "id": "oLBxuUBkeaLd"
      },
      "outputs": [],
      "source": [
        "from haystack import Label, Answer, Document\n",
        "\n",
        "\n",
        "# Since version 1.0 of Haystack, Answer has become a class and each Label contains a Document that the Label refers to.\n",
        "# Thus, the initialization of a Label in the following code cell has changed\n",
        "\n",
        "labels = []\n",
        "idx_star_wars = None\n",
        "for i, row in dfs[\"test\"].iterrows():\n",
        "    # Metadata used for filtering in the Retriever\n",
        "    meta = {\"item_id\": row[\"title\"], \"question_id\": row[\"id\"]}\n",
        "\n",
        "    # Populate labels for questions with answers\n",
        "    if len(row[\"answers.text\"]):\n",
        "        if row[\"title\"] == \"630575067X\":\n",
        "          idx_star_wars = len(labels)\n",
        "\n",
        "        for answer in row[\"answers.text\"]:\n",
        "            label = Label(\n",
        "                query=row[\"question\"], answer=Answer(answer=answer), origin=\"gold-label\", document=Document(content=row[\"context\"], id=row[\"review_id\"]),\n",
        "                meta=meta, is_correct_answer=True, is_correct_document=True,\n",
        "                no_answer=False, filters={\"item_id\": [meta[\"item_id\"]], \"split\":[\"test\"]})\n",
        "            labels.append(label)\n",
        "    # Populate labels for questions without answers\n",
        "    else:\n",
        "        label = Label(\n",
        "            query=row[\"question\"], answer=Answer(answer=\"\"), origin=\"gold-label\", document=Document(content=row[\"context\"], id=row[\"review_id\"]),\n",
        "            meta=meta, is_correct_answer=True, is_correct_document=True,\n",
        "            no_answer=True, filters={\"item_id\": [row[\"title\"]], \"split\":[\"test\"]})\n",
        "        labels.append(label)\n",
        "\n",
        "\n"
      ]
    },
    {
      "cell_type": "code",
      "execution_count": 56,
      "metadata": {
        "colab": {
          "base_uri": "https://localhost:8080/",
          "height": 788
        },
        "id": "cksWPhk_04b5",
        "outputId": "41ad4ebc-2908-4d5f-c15d-266b533371c1"
      },
      "outputs": [
        {
          "output_type": "execute_result",
          "data": {
            "text/plain": [
              "    domain     nn_mod       nn_asp   query_mod     query_asp  \\\n",
              "52  movies        bad          act   atrocious           act   \n",
              "53  movies       more    character      better           act   \n",
              "54  movies    awesome       battle      wooden   performance   \n",
              "55  movies  excellent       effect        good        visual   \n",
              "56  movies      great  fight scene    exciting  action scene   \n",
              "57  movies  fantastic       effect  impressive        visual   \n",
              "\n",
              "                        q_reviews_id  question_subj_level  ques_subj_score  \\\n",
              "52  7a5420abde00340d35beeb7875ede9aa                    1              0.0   \n",
              "53  b09f0ed55f946fcabfb103e15cb45f30                    1              0.0   \n",
              "54  df037ee14759c9f261e6850a44faa63b                    1              0.0   \n",
              "55  7e4b87853cccbf986ce8feefd8d6fed0                    2              0.0   \n",
              "56  4aa53c0b598f84872d20bd779b6ebda4                    1              0.1   \n",
              "57  d3a2536cca9dcccd67ed851dc50d8147                    1              0.0   \n",
              "\n",
              "    is_ques_subjective                         review_id  \\\n",
              "52               False  8fc5bff3074f0532c6c2d69200cbe4f6   \n",
              "53               False  cd2eae81991085bfc8b28b53f3378b42   \n",
              "54               False  f9925001adcbab4e291883b30983c396   \n",
              "55               False  fccceb1296b0b51cdc3a70ffffbbdfe6   \n",
              "56               False  1365edf26c1ac5c84f14bb991e1a4dc8   \n",
              "57               False  12c6b2914cfd01209da7c8cc4a35920f   \n",
              "\n",
              "                                  id       title  \\\n",
              "52  d2a3f690ee7190f2a5deb18493e1f2e1  630575067X   \n",
              "53  544ca6f7ac07442823bff52563cb640a  630575067X   \n",
              "54  02ac741cab56ac40e37366d2830f6895  630575067X   \n",
              "55  66b9b9e08d203233f82ac3ba4c9b9bf0  630575067X   \n",
              "56  20d18b71f71efa7ecd527ba67b2a968a  630575067X   \n",
              "57  c2fda2a4bb1c00124a9a00f9b1741348  630575067X   \n",
              "\n",
              "                                              context  \\\n",
              "52  Star Wars Episode 1 would have to go down in f...   \n",
              "53  I had to reconsider both my original review of...   \n",
              "54  This is a great addition to the saga.  I still...   \n",
              "55  The \"Phantom Menace\" discusses the beginnings ...   \n",
              "56  This is what DVD's are made for.  The plethora...   \n",
              "57  My, and I believe nearly everyone's favourite ...   \n",
              "\n",
              "                                   question  \\\n",
              "52    How do you find the act of this film?   \n",
              "53          Where can I see the player act?   \n",
              "54        How did you like the performance?   \n",
              "55  How is the visual quality of the video?   \n",
              "56                How was the action scene?   \n",
              "57          How is the visuals of the film?   \n",
              "\n",
              "                                         answers.text answers.answer_start  \\\n",
              "52      [the acting was bad, the acting non-existant]           [666, 144]   \n",
              "53                                  [wide-screen DVD]               [3649]   \n",
              "54                                                 []                   []   \n",
              "55  [4 stars, The special effects are excellent as...           [343, 140]   \n",
              "56                                                 []                   []   \n",
              "57  [Wars&quot;-film a greater  emotional impact.&...                [272]   \n",
              "\n",
              "   answers.answer_subj_level    answers.ans_subj_score  \\\n",
              "52                    [2, 2]  [0.33333334, 0.33333334]   \n",
              "53                       [1]                     [0.4]   \n",
              "54                        []                        []   \n",
              "55                    [2, 2]                [0.0, 0.0]   \n",
              "56                        []                        []   \n",
              "57                       [1]                     [0.9]   \n",
              "\n",
              "   answers.is_ans_subjective  \n",
              "52            [False, False]  \n",
              "53                   [False]  \n",
              "54                        []  \n",
              "55            [False, False]  \n",
              "56                        []  \n",
              "57                    [True]  "
            ],
            "text/html": [
              "\n",
              "\n",
              "  <div id=\"df-ec4d806c-b88a-42dd-883a-3cfc43de50cc\">\n",
              "    <div class=\"colab-df-container\">\n",
              "      <div>\n",
              "<style scoped>\n",
              "    .dataframe tbody tr th:only-of-type {\n",
              "        vertical-align: middle;\n",
              "    }\n",
              "\n",
              "    .dataframe tbody tr th {\n",
              "        vertical-align: top;\n",
              "    }\n",
              "\n",
              "    .dataframe thead th {\n",
              "        text-align: right;\n",
              "    }\n",
              "</style>\n",
              "<table border=\"1\" class=\"dataframe\">\n",
              "  <thead>\n",
              "    <tr style=\"text-align: right;\">\n",
              "      <th></th>\n",
              "      <th>domain</th>\n",
              "      <th>nn_mod</th>\n",
              "      <th>nn_asp</th>\n",
              "      <th>query_mod</th>\n",
              "      <th>query_asp</th>\n",
              "      <th>q_reviews_id</th>\n",
              "      <th>question_subj_level</th>\n",
              "      <th>ques_subj_score</th>\n",
              "      <th>is_ques_subjective</th>\n",
              "      <th>review_id</th>\n",
              "      <th>id</th>\n",
              "      <th>title</th>\n",
              "      <th>context</th>\n",
              "      <th>question</th>\n",
              "      <th>answers.text</th>\n",
              "      <th>answers.answer_start</th>\n",
              "      <th>answers.answer_subj_level</th>\n",
              "      <th>answers.ans_subj_score</th>\n",
              "      <th>answers.is_ans_subjective</th>\n",
              "    </tr>\n",
              "  </thead>\n",
              "  <tbody>\n",
              "    <tr>\n",
              "      <th>52</th>\n",
              "      <td>movies</td>\n",
              "      <td>bad</td>\n",
              "      <td>act</td>\n",
              "      <td>atrocious</td>\n",
              "      <td>act</td>\n",
              "      <td>7a5420abde00340d35beeb7875ede9aa</td>\n",
              "      <td>1</td>\n",
              "      <td>0.0</td>\n",
              "      <td>False</td>\n",
              "      <td>8fc5bff3074f0532c6c2d69200cbe4f6</td>\n",
              "      <td>d2a3f690ee7190f2a5deb18493e1f2e1</td>\n",
              "      <td>630575067X</td>\n",
              "      <td>Star Wars Episode 1 would have to go down in f...</td>\n",
              "      <td>How do you find the act of this film?</td>\n",
              "      <td>[the acting was bad, the acting non-existant]</td>\n",
              "      <td>[666, 144]</td>\n",
              "      <td>[2, 2]</td>\n",
              "      <td>[0.33333334, 0.33333334]</td>\n",
              "      <td>[False, False]</td>\n",
              "    </tr>\n",
              "    <tr>\n",
              "      <th>53</th>\n",
              "      <td>movies</td>\n",
              "      <td>more</td>\n",
              "      <td>character</td>\n",
              "      <td>better</td>\n",
              "      <td>act</td>\n",
              "      <td>b09f0ed55f946fcabfb103e15cb45f30</td>\n",
              "      <td>1</td>\n",
              "      <td>0.0</td>\n",
              "      <td>False</td>\n",
              "      <td>cd2eae81991085bfc8b28b53f3378b42</td>\n",
              "      <td>544ca6f7ac07442823bff52563cb640a</td>\n",
              "      <td>630575067X</td>\n",
              "      <td>I had to reconsider both my original review of...</td>\n",
              "      <td>Where can I see the player act?</td>\n",
              "      <td>[wide-screen DVD]</td>\n",
              "      <td>[3649]</td>\n",
              "      <td>[1]</td>\n",
              "      <td>[0.4]</td>\n",
              "      <td>[False]</td>\n",
              "    </tr>\n",
              "    <tr>\n",
              "      <th>54</th>\n",
              "      <td>movies</td>\n",
              "      <td>awesome</td>\n",
              "      <td>battle</td>\n",
              "      <td>wooden</td>\n",
              "      <td>performance</td>\n",
              "      <td>df037ee14759c9f261e6850a44faa63b</td>\n",
              "      <td>1</td>\n",
              "      <td>0.0</td>\n",
              "      <td>False</td>\n",
              "      <td>f9925001adcbab4e291883b30983c396</td>\n",
              "      <td>02ac741cab56ac40e37366d2830f6895</td>\n",
              "      <td>630575067X</td>\n",
              "      <td>This is a great addition to the saga.  I still...</td>\n",
              "      <td>How did you like the performance?</td>\n",
              "      <td>[]</td>\n",
              "      <td>[]</td>\n",
              "      <td>[]</td>\n",
              "      <td>[]</td>\n",
              "      <td>[]</td>\n",
              "    </tr>\n",
              "    <tr>\n",
              "      <th>55</th>\n",
              "      <td>movies</td>\n",
              "      <td>excellent</td>\n",
              "      <td>effect</td>\n",
              "      <td>good</td>\n",
              "      <td>visual</td>\n",
              "      <td>7e4b87853cccbf986ce8feefd8d6fed0</td>\n",
              "      <td>2</td>\n",
              "      <td>0.0</td>\n",
              "      <td>False</td>\n",
              "      <td>fccceb1296b0b51cdc3a70ffffbbdfe6</td>\n",
              "      <td>66b9b9e08d203233f82ac3ba4c9b9bf0</td>\n",
              "      <td>630575067X</td>\n",
              "      <td>The \"Phantom Menace\" discusses the beginnings ...</td>\n",
              "      <td>How is the visual quality of the video?</td>\n",
              "      <td>[4 stars, The special effects are excellent as...</td>\n",
              "      <td>[343, 140]</td>\n",
              "      <td>[2, 2]</td>\n",
              "      <td>[0.0, 0.0]</td>\n",
              "      <td>[False, False]</td>\n",
              "    </tr>\n",
              "    <tr>\n",
              "      <th>56</th>\n",
              "      <td>movies</td>\n",
              "      <td>great</td>\n",
              "      <td>fight scene</td>\n",
              "      <td>exciting</td>\n",
              "      <td>action scene</td>\n",
              "      <td>4aa53c0b598f84872d20bd779b6ebda4</td>\n",
              "      <td>1</td>\n",
              "      <td>0.1</td>\n",
              "      <td>False</td>\n",
              "      <td>1365edf26c1ac5c84f14bb991e1a4dc8</td>\n",
              "      <td>20d18b71f71efa7ecd527ba67b2a968a</td>\n",
              "      <td>630575067X</td>\n",
              "      <td>This is what DVD's are made for.  The plethora...</td>\n",
              "      <td>How was the action scene?</td>\n",
              "      <td>[]</td>\n",
              "      <td>[]</td>\n",
              "      <td>[]</td>\n",
              "      <td>[]</td>\n",
              "      <td>[]</td>\n",
              "    </tr>\n",
              "    <tr>\n",
              "      <th>57</th>\n",
              "      <td>movies</td>\n",
              "      <td>fantastic</td>\n",
              "      <td>effect</td>\n",
              "      <td>impressive</td>\n",
              "      <td>visual</td>\n",
              "      <td>d3a2536cca9dcccd67ed851dc50d8147</td>\n",
              "      <td>1</td>\n",
              "      <td>0.0</td>\n",
              "      <td>False</td>\n",
              "      <td>12c6b2914cfd01209da7c8cc4a35920f</td>\n",
              "      <td>c2fda2a4bb1c00124a9a00f9b1741348</td>\n",
              "      <td>630575067X</td>\n",
              "      <td>My, and I believe nearly everyone's favourite ...</td>\n",
              "      <td>How is the visuals of the film?</td>\n",
              "      <td>[Wars&amp;quot;-film a greater  emotional impact.&amp;...</td>\n",
              "      <td>[272]</td>\n",
              "      <td>[1]</td>\n",
              "      <td>[0.9]</td>\n",
              "      <td>[True]</td>\n",
              "    </tr>\n",
              "  </tbody>\n",
              "</table>\n",
              "</div>\n",
              "      <button class=\"colab-df-convert\" onclick=\"convertToInteractive('df-ec4d806c-b88a-42dd-883a-3cfc43de50cc')\"\n",
              "              title=\"Convert this dataframe to an interactive table.\"\n",
              "              style=\"display:none;\">\n",
              "\n",
              "  <svg xmlns=\"http://www.w3.org/2000/svg\" height=\"24px\"viewBox=\"0 0 24 24\"\n",
              "       width=\"24px\">\n",
              "    <path d=\"M0 0h24v24H0V0z\" fill=\"none\"/>\n",
              "    <path d=\"M18.56 5.44l.94 2.06.94-2.06 2.06-.94-2.06-.94-.94-2.06-.94 2.06-2.06.94zm-11 1L8.5 8.5l.94-2.06 2.06-.94-2.06-.94L8.5 2.5l-.94 2.06-2.06.94zm10 10l.94 2.06.94-2.06 2.06-.94-2.06-.94-.94-2.06-.94 2.06-2.06.94z\"/><path d=\"M17.41 7.96l-1.37-1.37c-.4-.4-.92-.59-1.43-.59-.52 0-1.04.2-1.43.59L10.3 9.45l-7.72 7.72c-.78.78-.78 2.05 0 2.83L4 21.41c.39.39.9.59 1.41.59.51 0 1.02-.2 1.41-.59l7.78-7.78 2.81-2.81c.8-.78.8-2.07 0-2.86zM5.41 20L4 18.59l7.72-7.72 1.47 1.35L5.41 20z\"/>\n",
              "  </svg>\n",
              "      </button>\n",
              "\n",
              "\n",
              "\n",
              "    <div id=\"df-fb7e4fbc-186e-4dd9-86aa-6bb02fa07480\">\n",
              "      <button class=\"colab-df-quickchart\" onclick=\"quickchart('df-fb7e4fbc-186e-4dd9-86aa-6bb02fa07480')\"\n",
              "              title=\"Suggest charts.\"\n",
              "              style=\"display:none;\">\n",
              "\n",
              "<svg xmlns=\"http://www.w3.org/2000/svg\" height=\"24px\"viewBox=\"0 0 24 24\"\n",
              "     width=\"24px\">\n",
              "    <g>\n",
              "        <path d=\"M19 3H5c-1.1 0-2 .9-2 2v14c0 1.1.9 2 2 2h14c1.1 0 2-.9 2-2V5c0-1.1-.9-2-2-2zM9 17H7v-7h2v7zm4 0h-2V7h2v10zm4 0h-2v-4h2v4z\"/>\n",
              "    </g>\n",
              "</svg>\n",
              "      </button>\n",
              "    </div>\n",
              "\n",
              "<style>\n",
              "  .colab-df-quickchart {\n",
              "    background-color: #E8F0FE;\n",
              "    border: none;\n",
              "    border-radius: 50%;\n",
              "    cursor: pointer;\n",
              "    display: none;\n",
              "    fill: #1967D2;\n",
              "    height: 32px;\n",
              "    padding: 0 0 0 0;\n",
              "    width: 32px;\n",
              "  }\n",
              "\n",
              "  .colab-df-quickchart:hover {\n",
              "    background-color: #E2EBFA;\n",
              "    box-shadow: 0px 1px 2px rgba(60, 64, 67, 0.3), 0px 1px 3px 1px rgba(60, 64, 67, 0.15);\n",
              "    fill: #174EA6;\n",
              "  }\n",
              "\n",
              "  [theme=dark] .colab-df-quickchart {\n",
              "    background-color: #3B4455;\n",
              "    fill: #D2E3FC;\n",
              "  }\n",
              "\n",
              "  [theme=dark] .colab-df-quickchart:hover {\n",
              "    background-color: #434B5C;\n",
              "    box-shadow: 0px 1px 3px 1px rgba(0, 0, 0, 0.15);\n",
              "    filter: drop-shadow(0px 1px 2px rgba(0, 0, 0, 0.3));\n",
              "    fill: #FFFFFF;\n",
              "  }\n",
              "</style>\n",
              "\n",
              "    <script>\n",
              "      async function quickchart(key) {\n",
              "        const containerElement = document.querySelector('#' + key);\n",
              "        const charts = await google.colab.kernel.invokeFunction(\n",
              "            'suggestCharts', [key], {});\n",
              "      }\n",
              "    </script>\n",
              "\n",
              "      <script>\n",
              "\n",
              "function displayQuickchartButton(domScope) {\n",
              "  let quickchartButtonEl =\n",
              "    domScope.querySelector('#df-fb7e4fbc-186e-4dd9-86aa-6bb02fa07480 button.colab-df-quickchart');\n",
              "  quickchartButtonEl.style.display =\n",
              "    google.colab.kernel.accessAllowed ? 'block' : 'none';\n",
              "}\n",
              "\n",
              "        displayQuickchartButton(document);\n",
              "      </script>\n",
              "      <style>\n",
              "    .colab-df-container {\n",
              "      display:flex;\n",
              "      flex-wrap:wrap;\n",
              "      gap: 12px;\n",
              "    }\n",
              "\n",
              "    .colab-df-convert {\n",
              "      background-color: #E8F0FE;\n",
              "      border: none;\n",
              "      border-radius: 50%;\n",
              "      cursor: pointer;\n",
              "      display: none;\n",
              "      fill: #1967D2;\n",
              "      height: 32px;\n",
              "      padding: 0 0 0 0;\n",
              "      width: 32px;\n",
              "    }\n",
              "\n",
              "    .colab-df-convert:hover {\n",
              "      background-color: #E2EBFA;\n",
              "      box-shadow: 0px 1px 2px rgba(60, 64, 67, 0.3), 0px 1px 3px 1px rgba(60, 64, 67, 0.15);\n",
              "      fill: #174EA6;\n",
              "    }\n",
              "\n",
              "    [theme=dark] .colab-df-convert {\n",
              "      background-color: #3B4455;\n",
              "      fill: #D2E3FC;\n",
              "    }\n",
              "\n",
              "    [theme=dark] .colab-df-convert:hover {\n",
              "      background-color: #434B5C;\n",
              "      box-shadow: 0px 1px 3px 1px rgba(0, 0, 0, 0.15);\n",
              "      filter: drop-shadow(0px 1px 2px rgba(0, 0, 0, 0.3));\n",
              "      fill: #FFFFFF;\n",
              "    }\n",
              "  </style>\n",
              "\n",
              "      <script>\n",
              "        const buttonEl =\n",
              "          document.querySelector('#df-ec4d806c-b88a-42dd-883a-3cfc43de50cc button.colab-df-convert');\n",
              "        buttonEl.style.display =\n",
              "          google.colab.kernel.accessAllowed ? 'block' : 'none';\n",
              "\n",
              "        async function convertToInteractive(key) {\n",
              "          const element = document.querySelector('#df-ec4d806c-b88a-42dd-883a-3cfc43de50cc');\n",
              "          const dataTable =\n",
              "            await google.colab.kernel.invokeFunction('convertToInteractive',\n",
              "                                                     [key], {});\n",
              "          if (!dataTable) return;\n",
              "\n",
              "          const docLinkHtml = 'Like what you see? Visit the ' +\n",
              "            '<a target=\"_blank\" href=https://colab.research.google.com/notebooks/data_table.ipynb>data table notebook</a>'\n",
              "            + ' to learn more about interactive tables.';\n",
              "          element.innerHTML = '';\n",
              "          dataTable['output_type'] = 'display_data';\n",
              "          await google.colab.output.renderOutput(dataTable, element);\n",
              "          const docLink = document.createElement('div');\n",
              "          docLink.innerHTML = docLinkHtml;\n",
              "          element.appendChild(docLink);\n",
              "        }\n",
              "      </script>\n",
              "    </div>\n",
              "  </div>\n"
            ]
          },
          "metadata": {},
          "execution_count": 56
        }
      ],
      "source": [
        "dfs[\"test\"][dfs[\"test\"].title==\"630575067X\"]"
      ]
    },
    {
      "cell_type": "code",
      "execution_count": 57,
      "metadata": {
        "colab": {
          "base_uri": "https://localhost:8080/"
        },
        "id": "r6hk3-XWGcJi",
        "outputId": "00c43458-7016-480d-c020-048a2e609dc3"
      },
      "outputs": [
        {
          "output_type": "stream",
          "name": "stdout",
          "text": [
            "Query: How is the visuals of the film?\n",
            "Id: bdc5a63f-25a7-4c29-8cb0-fb3d473b9006\n",
            "Document: <Document: id=12c6b2914cfd01209da7c8cc4a35920f, content='My, and I believe nearly everyone's favourite &quot;Star Wars&quot;-movie is Episode V-&quot;The Emp...'>\n",
            "Answer: <Answer: answer='Wars&quot;-film a greater  emotional impact.&quot;The Phantom Menace&quot; is definetly not on par  with that film, nor has it the originality of &quot;A New Hope&quot;, but  still I liked this film a lot. I actually found it better than &quot;Return  Of The Jedi&quot;. Even those who dispised the movie must acknowledge that  it has its merits. The special effects are fantastic, and in contrast to  other films with superior FX', score=None, context=None>\n",
            "no_answer: False\n"
          ]
        }
      ],
      "source": [
        "def print_label(labels):\n",
        "  print(f\"Query: {labels.query}\")\n",
        "\n",
        "  print(f\"Id: {labels.id}\")\n",
        "\n",
        "  print(f\"Document: {labels.document}\")\n",
        "\n",
        "\n",
        "  print(f\"Answer: {labels.answer}\")\n",
        "\n",
        "  print(f\"no_answer: {labels.no_answer}\")\n",
        "\n",
        "print_label(labels[idx_star_wars])"
      ]
    },
    {
      "cell_type": "code",
      "execution_count": 58,
      "metadata": {
        "colab": {
          "base_uri": "https://localhost:8080/"
        },
        "id": "6JiJWzIM6ggZ",
        "outputId": "1edea32d-98a0-4a6a-9363-4527a106b202"
      },
      "outputs": [
        {
          "output_type": "stream",
          "name": "stdout",
          "text": [
            "<Label: {'id': 'bdc5a63f-25a7-4c29-8cb0-fb3d473b9006', 'query': 'How is the visuals of the film?', 'document': {'id': '12c6b2914cfd01209da7c8cc4a35920f', 'content': \"My, and I believe nearly everyone's favourite &quot;Star Wars&quot;-movie is Episode V-&quot;The Empire Strikes Back&quot;. Not only because it was visually the most dazzling, it also had far more sense of wonder and magic  than the other Episodes. Never had a &quot;Star Wars&quot;-film a greater  emotional impact.&quot;The Phantom Menace&quot; is definetly not on par  with that film, nor has it the originality of &quot;A New Hope&quot;, but  still I liked this film a lot. I actually found it better than &quot;Return  Of The Jedi&quot;. Even those who dispised the movie must acknowledge that  it has its merits. The special effects are fantastic, and in contrast to  other films with superior FX, they are also highly imaginative because they  create entire worlds of their own. Individual action-setpieces are among  the most exhilarating of the decade (the pod-race or the final  lightsaber-duel among others) and John William's score is one of the major  assets again.Many complained that Jar Jar Binks is too silly and  childish. This criticism is understandable though I think many people  overreacted with their hatred towards this character. He actually has some  funny moments. That the film doesn't have a villain that is as effective as  Darth Vader is true and false. The villain does not YET appear as the  villain which will (hopefully) make him even more evil in the next  pictures. The decision to conceal the true menace (careful viewers still  found it of course) is already implied in the Episode's title, so it was  obviously deliberate. This must be the reason why Darth Maul is used so  rarely. The character has just no significance for the whole saga. One must  not forget that TMP is not a film, but the first two hours of a  13-hour-saga. It was therefore inevitable that it would be less dramatic as  &quot;Empire&quot;.The bottom line is that despite some shortcomings,  Episode I effectively sets up the future Episodes. I agree with those who  say that George Lucas should have underlined some of the darker aspects of  the story more than he did. Let's hope he will do so in the next two  chapters which have the potential to become even stronger movies. If the  new trilogy finally sucks, it won't be because of &quot;The Phantom  Menace&quot;.\", 'content_type': 'text', 'meta': {}, 'id_hash_keys': ['content'], 'score': None, 'embedding': None}, 'is_correct_answer': True, 'is_correct_document': True, 'origin': 'gold-label', 'answer': {'answer': 'Wars&quot;-film a greater  emotional impact.&quot;The Phantom Menace&quot; is definetly not on par  with that film, nor has it the originality of &quot;A New Hope&quot;, but  still I liked this film a lot. I actually found it better than &quot;Return  Of The Jedi&quot;. Even those who dispised the movie must acknowledge that  it has its merits. The special effects are fantastic, and in contrast to  other films with superior FX', 'type': 'extractive', 'score': None, 'context': None, 'offsets_in_document': None, 'offsets_in_context': None, 'document_ids': None, 'meta': {}}, 'pipeline_id': None, 'created_at': '2023-08-08 13:08:04', 'updated_at': None, 'meta': {'item_id': '630575067X', 'question_id': 'c2fda2a4bb1c00124a9a00f9b1741348'}, 'filters': {'item_id': ['630575067X'], 'split': ['test']}}>\n"
          ]
        }
      ],
      "source": [
        "print(labels[idx_star_wars])"
      ]
    },
    {
      "cell_type": "code",
      "execution_count": 59,
      "metadata": {
        "colab": {
          "base_uri": "https://localhost:8080/"
        },
        "id": "CggmwBCibAAZ",
        "outputId": "38d8a72a-9fcf-4c35-f90f-bdf439da1414"
      },
      "outputs": [
        {
          "output_type": "stream",
          "name": "stdout",
          "text": [
            "Loaded 337 question-answer pairs\n"
          ]
        }
      ],
      "source": [
        "document_store.write_labels(labels, index=\"label\")\n",
        "\n",
        "print(f\"\"\"Loaded {document_store.get_label_count(index=\"label\")} \\\n",
        "question-answer pairs\"\"\")"
      ]
    },
    {
      "cell_type": "markdown",
      "metadata": {
        "id": "eUJPg96RdhE_"
      },
      "source": [
        "Next, we need to build up a mapping between our question IDs and corresponding\n",
        "answers that we can pass to the pipeline. To get all the labels, we can use the\n",
        "get_all_labels_aggregated() method from the document store that will aggregate\n",
        "all question-answer pairs associated with a unique ID. This method returns a list of\n",
        "MultiLabel objects, but in our case we only get one element since we’re filtering by\n",
        "question ID. We can build up a list of aggregated labels as follows"
      ]
    },
    {
      "cell_type": "code",
      "execution_count": 60,
      "metadata": {
        "colab": {
          "base_uri": "https://localhost:8080/"
        },
        "id": "Biqc2WcEbPNQ",
        "outputId": "c42cd45d-9c5d-4d96-80c1-14d9fd854836"
      },
      "outputs": [
        {
          "output_type": "stream",
          "name": "stdout",
          "text": [
            "273\n"
          ]
        }
      ],
      "source": [
        "labels_agg = document_store.get_all_labels_aggregated(\n",
        "    index=\"label\",\n",
        "    open_domain=True,\n",
        "    aggregate_by_meta=[\"item_id\"]\n",
        ")\n",
        "print(len(labels_agg))\n"
      ]
    },
    {
      "cell_type": "code",
      "execution_count": 61,
      "metadata": {
        "colab": {
          "base_uri": "https://localhost:8080/"
        },
        "id": "RhnIUacWhn44",
        "outputId": "3acaf3be-0318-4b70-85f4-4b0948ec9007"
      },
      "outputs": [
        {
          "output_type": "stream",
          "name": "stdout",
          "text": [
            "<MultiLabel: {'labels': [{'id': '9d57984e-44dd-4575-a8ee-9652cf50f234', 'query': 'Is the script of the story good in comments?', 'document': {'id': '8108e04e34d4aad31627c2db9910bc41', 'content': \"I admit that there are a few things wrong with this film--technical medical things, holes in the plot, and the white trash hillbilly family was unbelievable, over done, and way too dramatic in the two measly scenes that they were in. Still, I loved this film.  I enjoyed every minute of it.  The main characters had depth.  They were not perfect, but loveable and memorable.  The dialogue was good, and the acting was great. On top of all of that, it's just a darn good story, breaking away from the Rocky-type boxing clich&eacute;s. If you haven't seen this one, you must.\", 'content_type': 'text', 'meta': {}, 'id_hash_keys': ['content'], 'score': None, 'embedding': None}, 'is_correct_answer': True, 'is_correct_document': True, 'origin': 'gold-label', 'answer': {'answer': '', 'type': 'extractive', 'score': None, 'context': None, 'offsets_in_document': None, 'offsets_in_context': None, 'document_ids': None, 'meta': {}}, 'pipeline_id': None, 'created_at': '2023-08-08 13:08:04', 'updated_at': '2023-08-08 13:08:04', 'meta': {'item_id': 'B00005JNP1', 'question_id': '861d67a0f2748a7d451b9f758142183e'}, 'filters': {'item_id': ['B00005JNP1'], 'split': ['test']}}], 'query': 'Is the script of the story good in comments?', 'filters': {'item_id': ['B00005JNP1'], 'split': ['test']}, 'id': 'a8902376a67fa2748d082f30031dc1dd', 'no_answer': True, 'answers': [''], 'offsets_in_documents': [], 'offsets_in_contexts': [], 'document_ids': [], 'contexts': []}>\n"
          ]
        }
      ],
      "source": [
        "print(labels_agg[109])"
      ]
    },
    {
      "cell_type": "code",
      "execution_count": 62,
      "metadata": {
        "id": "4H1J3K76bxxy"
      },
      "outputs": [],
      "source": [
        "%%script false --no-raise-error\n",
        "# We can run the pipeline with the desired top_k value like this\n",
        "eval_result = pipe.eval(\n",
        "    labels=labels_agg,\n",
        "    params={\"Retriever\": {\"top_k\": 3}},\n",
        ")\n",
        "metrics = eval_result.calculate_metrics()\n"
      ]
    },
    {
      "cell_type": "code",
      "execution_count": 63,
      "metadata": {
        "id": "Td86o7jjb40y"
      },
      "outputs": [],
      "source": [
        "%%script false --no-raise-error\n",
        "print(f\"Recall@3: {metrics['Retriever']['recall_single_hit']:.2f}\")\n"
      ]
    },
    {
      "cell_type": "code",
      "execution_count": 64,
      "metadata": {
        "id": "_mMjLA20h2WS"
      },
      "outputs": [],
      "source": [
        "# def evaluate_retriever(topk_values = [1,3,5,10,20]):\n",
        "#   topk_results = {}\n",
        "#   for topk in topk_values:\n",
        "#     eval_result = pipe.eval(\n",
        "#     labels=labels_agg,\n",
        "#     params={\"Retriever\": {\"top_k\": topk}},\n",
        "#     )\n",
        "#     metrics = eval_result.calculate_metrics()\n",
        "#     topk_results[topk] =  {\"recall\": metrics['Retriever']['recall_single_hit']}\n",
        "\n",
        "#   return pd.DataFrame.from_dict(topk_results, orient=\"index\")"
      ]
    },
    {
      "cell_type": "code",
      "execution_count": 65,
      "metadata": {
        "id": "7He_1DcJi8ef"
      },
      "outputs": [],
      "source": [
        "# es_topk_df = evaluate_retriever()\n",
        "# es_topk_df"
      ]
    },
    {
      "cell_type": "code",
      "execution_count": 66,
      "metadata": {
        "id": "Fi9MEWjpjC3y"
      },
      "outputs": [],
      "source": [
        "# def plot_retriever_eval(dfs, retriever_names):\n",
        "#   fig, ax = plt.subplots()\n",
        "#   for df, retriever_name in zip(dfs, retriever_names):\n",
        "#     df.plot(y=\"recall\", ax=ax, label=retriever_name)\n",
        "#     plt.xticks(df.index)\n",
        "#     plt.ylabel(\"Top-k Recall\")\n",
        "#     plt.xlabel(\"k\")\n",
        "#     plt.show()\n",
        "\n",
        "# plot_retriever_eval([es_topk_df], [\"BM25\"])"
      ]
    },
    {
      "cell_type": "code",
      "execution_count": 67,
      "metadata": {
        "id": "30QigotMjoOb"
      },
      "outputs": [],
      "source": [
        "def evaluate_retriever(retriever, topk_values = [1,3,5,10,20]):\n",
        "    topk_results = {}\n",
        "    # Calculate max top_k\n",
        "    max_top_k = max(topk_values)\n",
        "    # Create Pipeline\n",
        "    p = DocumentSearchPipeline(retriever=retriever)\n",
        "    # Run inference with max top_k by looping over each question-answers pair in test set\n",
        "    eval_result = p.eval(\n",
        "        labels=labels_agg,\n",
        "        params={\"Retriever\": {\"top_k\": max_top_k}},\n",
        "    )\n",
        "    # Calculate metric for each top_k value\n",
        "    for topk in topk_values:\n",
        "        # Get metrics\n",
        "        metrics = eval_result.calculate_metrics(simulated_top_k_retriever=topk)\n",
        "        topk_results[topk] = {\"recall\": metrics[\"Retriever\"][\"recall_single_hit\"]}\n",
        "\n",
        "    return pd.DataFrame.from_dict(topk_results, orient=\"index\")\n",
        "\n",
        "\n",
        "# bm25_topk_df = evaluate_retriever(bm25_retriever)"
      ]
    },
    {
      "cell_type": "code",
      "execution_count": 68,
      "metadata": {
        "id": "JXF9uuYjkDpD"
      },
      "outputs": [],
      "source": [
        "def plot_retriever_eval(dfs, retriever_names):\n",
        "    fig, ax = plt.subplots()\n",
        "    for df, retriever_name in zip(dfs, retriever_names):\n",
        "        df.plot(y=\"recall\", ax=ax, label=retriever_name)\n",
        "    plt.xticks(df.index)\n",
        "    plt.ylabel(\"Top-k Recall\")\n",
        "    plt.xlabel(\"k\")\n",
        "    plt.show()\n",
        "\n",
        "# plot_retriever_eval([bm25_topk_df], [\"BM25\"])"
      ]
    },
    {
      "cell_type": "markdown",
      "metadata": {
        "id": "OU27qAOPlPge"
      },
      "source": [
        "### Dense Passage Retrieval\n",
        "In Haystack, we can initialize a retriever for DPR in a similar way to what we did for\n",
        "BM25. In addition to specifying the document store, we also need to pick the BERT\n",
        "encoders for the question and passage. These encoders are trained by giving them\n",
        "questions with relevant (positive) passages and irrelevant (negative) passages, where\n",
        "the goal is to learn that relevant question-passage pairs have a higher similarity. For\n",
        "our use case, we’ll use encoders that have been fine-tuned on the NQ corpus in this\n",
        "way:"
      ]
    },
    {
      "cell_type": "code",
      "execution_count": 69,
      "metadata": {
        "colab": {
          "base_uri": "https://localhost:8080/"
        },
        "id": "j8Cv-Ta8kh9W",
        "outputId": "2dd63526-524d-412d-98f1-211f00a950dd"
      },
      "outputs": [
        {
          "output_type": "stream",
          "name": "stderr",
          "text": [
            "/usr/local/lib/python3.10/dist-packages/torch/_utils.py:776: UserWarning: TypedStorage is deprecated. It will be removed in the future and UntypedStorage will be the only storage class. This should only matter to you if you are using storages directly.  To access UntypedStorage directly, use tensor.untyped_storage() instead of tensor.storage()\n",
            "  return self.fget.__get__(instance, owner)()\n"
          ]
        }
      ],
      "source": [
        "from haystack.nodes import DensePassageRetriever\n",
        "\n",
        "dpr_retriever = DensePassageRetriever(document_store=document_store,\n",
        "    query_embedding_model=\"facebook/dpr-question_encoder-single-nq-base\",\n",
        "    passage_embedding_model=\"facebook/dpr-ctx_encoder-single-nq-base\",\n",
        "    embed_title=False) # Here we’ve also set embed_title=False since concatenating the document’s title (i.e., item_id) doesn’t provide any additional information because we filter per product."
      ]
    },
    {
      "cell_type": "markdown",
      "metadata": {
        "id": "GMg45eZvp9Vn"
      },
      "source": [
        "Once we’ve initialized the dense retriever, the next step is to iterate over all the\n",
        "indexed documents in our Elasticsearch index and apply the encoders to update the\n",
        "embedding representation. This can be done as follows:"
      ]
    },
    {
      "cell_type": "code",
      "execution_count": 70,
      "metadata": {
        "colab": {
          "base_uri": "https://localhost:8080/"
        },
        "id": "SUl33o7Apjp2",
        "outputId": "62dfcebd-416b-433f-de06-75476dc34ccb"
      },
      "outputs": [
        {
          "output_type": "stream",
          "name": "stderr",
          "text": [
            "Updating embeddings:   0%|          | 0/1624 [00:00<?, ? Docs/s]\n",
            "Create embeddings:   0%|          | 0/1632 [00:00<?, ? Docs/s]\u001b[A\n",
            "Create embeddings:   1%|          | 16/1632 [00:00<00:26, 61.63 Docs/s]\u001b[A\n",
            "Create embeddings:   2%|▏         | 32/1632 [00:00<00:22, 70.71 Docs/s]\u001b[A\n",
            "Create embeddings:   3%|▎         | 48/1632 [00:00<00:21, 74.39 Docs/s]\u001b[A\n",
            "Create embeddings:   4%|▍         | 64/1632 [00:02<00:20, 75.79 Docs/s]\u001b[A\n",
            "Create embeddings:   5%|▍         | 80/1632 [00:02<01:08, 22.73 Docs/s]\u001b[A\n",
            "Create embeddings:   6%|▌         | 96/1632 [00:02<00:51, 29.92 Docs/s]\u001b[A\n",
            "Create embeddings:   7%|▋         | 112/1632 [00:02<00:40, 37.51 Docs/s]\u001b[A\n",
            "Create embeddings:   8%|▊         | 128/1632 [00:03<00:33, 44.98 Docs/s]\u001b[A\n",
            "Create embeddings:   9%|▉         | 144/1632 [00:04<00:47, 31.06 Docs/s]\u001b[A\n",
            "Create embeddings:  10%|▉         | 160/1632 [00:05<00:59, 24.78 Docs/s]\u001b[A\n",
            "Create embeddings:  11%|█         | 176/1632 [00:06<01:06, 21.80 Docs/s]\u001b[A\n",
            "Create embeddings:  12%|█▏        | 192/1632 [00:07<01:14, 19.27 Docs/s]\u001b[A\n",
            "Create embeddings:  13%|█▎        | 208/1632 [00:08<01:17, 18.44 Docs/s]\u001b[A\n",
            "Create embeddings:  14%|█▎        | 224/1632 [00:10<01:19, 17.81 Docs/s]\u001b[A\n",
            "Create embeddings:  15%|█▍        | 240/1632 [00:10<01:37, 14.28 Docs/s]\u001b[A\n",
            "Create embeddings:  16%|█▌        | 256/1632 [00:10<01:13, 18.82 Docs/s]\u001b[A\n",
            "Create embeddings:  17%|█▋        | 272/1632 [00:10<00:56, 24.13 Docs/s]\u001b[A\n",
            "Create embeddings:  18%|█▊        | 288/1632 [00:12<00:44, 30.09 Docs/s]\u001b[A\n",
            "Create embeddings:  19%|█▊        | 304/1632 [00:12<01:06, 20.11 Docs/s]\u001b[A\n",
            "Create embeddings:  20%|█▉        | 320/1632 [00:12<00:50, 25.85 Docs/s]\u001b[A\n",
            "Create embeddings:  21%|██        | 336/1632 [00:12<00:40, 32.31 Docs/s]\u001b[A\n",
            "Create embeddings:  22%|██▏       | 352/1632 [00:13<00:32, 39.17 Docs/s]\u001b[A\n",
            "Create embeddings:  23%|██▎       | 368/1632 [00:14<00:27, 45.33 Docs/s]\u001b[A\n",
            "Create embeddings:  24%|██▎       | 384/1632 [00:15<00:55, 22.30 Docs/s]\u001b[A\n",
            "Create embeddings:  25%|██▍       | 400/1632 [00:15<01:03, 19.46 Docs/s]\u001b[A\n",
            "Create embeddings:  25%|██▌       | 416/1632 [00:16<00:48, 25.08 Docs/s]\u001b[A\n",
            "Create embeddings:  26%|██▋       | 432/1632 [00:16<00:38, 31.44 Docs/s]\u001b[A\n",
            "Create embeddings:  27%|██▋       | 448/1632 [00:16<00:30, 38.25 Docs/s]\u001b[A\n",
            "Create embeddings:  28%|██▊       | 464/1632 [00:17<00:26, 44.46 Docs/s]\u001b[A\n",
            "Create embeddings:  29%|██▉       | 480/1632 [00:18<00:42, 27.17 Docs/s]\u001b[A\n",
            "Create embeddings:  30%|███       | 496/1632 [00:19<00:51, 21.93 Docs/s]\u001b[A\n",
            "Create embeddings:  31%|███▏      | 512/1632 [00:19<00:40, 27.93 Docs/s]\u001b[A\n",
            "Create embeddings:  32%|███▏      | 528/1632 [00:19<00:31, 34.56 Docs/s]\u001b[A\n",
            "Create embeddings:  33%|███▎      | 544/1632 [00:19<00:26, 41.44 Docs/s]\u001b[A\n",
            "Create embeddings:  34%|███▍      | 560/1632 [00:20<00:22, 47.20 Docs/s]\u001b[A\n",
            "Create embeddings:  35%|███▌      | 576/1632 [00:21<00:35, 29.90 Docs/s]\u001b[A\n",
            "Create embeddings:  36%|███▋      | 592/1632 [00:22<00:43, 24.05 Docs/s]\u001b[A\n",
            "Create embeddings:  37%|███▋      | 608/1632 [00:23<00:48, 21.33 Docs/s]\u001b[A\n",
            "Create embeddings:  38%|███▊      | 624/1632 [00:24<00:52, 19.30 Docs/s]\u001b[A\n",
            "Create embeddings:  39%|███▉      | 640/1632 [00:25<00:55, 17.81 Docs/s]\u001b[A\n",
            "Create embeddings:  40%|████      | 656/1632 [00:26<00:55, 17.60 Docs/s]\u001b[A\n",
            "Create embeddings:  41%|████      | 672/1632 [00:27<00:56, 16.87 Docs/s]\u001b[A\n",
            "Create embeddings:  42%|████▏     | 688/1632 [00:28<00:55, 16.90 Docs/s]\u001b[A\n",
            "Create embeddings:  43%|████▎     | 704/1632 [00:29<00:56, 16.36 Docs/s]\u001b[A\n",
            "Create embeddings:  44%|████▍     | 720/1632 [00:30<00:55, 16.31 Docs/s]\u001b[A\n",
            "Create embeddings:  45%|████▌     | 736/1632 [00:30<00:58, 15.38 Docs/s]\u001b[A\n",
            "Create embeddings:  46%|████▌     | 752/1632 [00:31<00:43, 20.22 Docs/s]\u001b[A\n",
            "Create embeddings:  47%|████▋     | 768/1632 [00:31<00:33, 25.95 Docs/s]\u001b[A\n",
            "Create embeddings:  48%|████▊     | 784/1632 [00:31<00:26, 32.34 Docs/s]\u001b[A\n",
            "Create embeddings:  49%|████▉     | 800/1632 [00:32<00:27, 30.43 Docs/s]\u001b[A\n",
            "Create embeddings:  50%|█████     | 816/1632 [00:32<00:21, 37.13 Docs/s]\u001b[A\n",
            "Create embeddings:  51%|█████     | 832/1632 [00:32<00:18, 43.93 Docs/s]\u001b[A\n",
            "Create embeddings:  52%|█████▏    | 848/1632 [00:33<00:15, 50.30 Docs/s]\u001b[A\n",
            "Create embeddings:  53%|█████▎    | 864/1632 [00:33<00:27, 28.40 Docs/s]\u001b[A\n",
            "Create embeddings:  54%|█████▍    | 880/1632 [00:34<00:21, 35.05 Docs/s]\u001b[A\n",
            "Create embeddings:  55%|█████▍    | 896/1632 [00:34<00:17, 41.84 Docs/s]\u001b[A\n",
            "Create embeddings:  56%|█████▌    | 912/1632 [00:34<00:14, 48.39 Docs/s]\u001b[A\n",
            "Create embeddings:  57%|█████▋    | 928/1632 [00:35<00:18, 38.89 Docs/s]\u001b[A\n",
            "Create embeddings:  58%|█████▊    | 944/1632 [00:35<00:15, 45.59 Docs/s]\u001b[A\n",
            "Create embeddings:  59%|█████▉    | 960/1632 [00:35<00:12, 51.86 Docs/s]\u001b[A\n",
            "Create embeddings:  60%|█████▉    | 976/1632 [00:36<00:11, 57.27 Docs/s]\u001b[A\n",
            "Create embeddings:  61%|██████    | 992/1632 [00:37<00:21, 29.66 Docs/s]\u001b[A\n",
            "Create embeddings:  62%|██████▏   | 1008/1632 [00:38<00:26, 23.24 Docs/s]\u001b[A\n",
            "Create embeddings:  63%|██████▎   | 1024/1632 [00:38<00:20, 29.33 Docs/s]\u001b[A\n",
            "Create embeddings:  64%|██████▎   | 1040/1632 [00:38<00:16, 35.97 Docs/s]\u001b[A\n",
            "Create embeddings:  65%|██████▍   | 1056/1632 [00:38<00:13, 42.77 Docs/s]\u001b[A\n",
            "Create embeddings:  66%|██████▌   | 1072/1632 [00:39<00:11, 48.30 Docs/s]\u001b[A\n",
            "Create embeddings:  67%|██████▋   | 1088/1632 [00:40<00:17, 30.87 Docs/s]\u001b[A\n",
            "Create embeddings:  68%|██████▊   | 1104/1632 [00:41<00:21, 24.77 Docs/s]\u001b[A\n",
            "Create embeddings:  69%|██████▊   | 1120/1632 [00:42<00:24, 21.05 Docs/s]\u001b[A\n",
            "Create embeddings:  70%|██████▉   | 1136/1632 [00:43<00:26, 18.71 Docs/s]\u001b[A\n",
            "Create embeddings:  71%|███████   | 1152/1632 [00:44<00:26, 18.17 Docs/s]\u001b[A\n",
            "Create embeddings:  72%|███████▏  | 1168/1632 [00:45<00:26, 17.74 Docs/s]\u001b[A\n",
            "Create embeddings:  73%|███████▎  | 1184/1632 [00:45<00:21, 20.73 Docs/s]\u001b[A\n",
            "Create embeddings:  74%|███████▎  | 1200/1632 [00:45<00:16, 26.52 Docs/s]\u001b[A\n",
            "Create embeddings:  75%|███████▍  | 1216/1632 [00:45<00:12, 32.98 Docs/s]\u001b[A\n",
            "Create embeddings:  75%|███████▌  | 1232/1632 [00:46<00:10, 39.69 Docs/s]\u001b[A\n",
            "Create embeddings:  76%|███████▋  | 1248/1632 [00:47<00:13, 28.90 Docs/s]\u001b[A\n",
            "Create embeddings:  77%|███████▋  | 1264/1632 [00:48<00:16, 22.76 Docs/s]\u001b[A\n",
            "Create embeddings:  78%|███████▊  | 1280/1632 [00:49<00:17, 20.55 Docs/s]\u001b[A\n",
            "Create embeddings:  79%|███████▉  | 1296/1632 [00:50<00:18, 18.10 Docs/s]\u001b[A\n",
            "Create embeddings:  80%|████████  | 1312/1632 [00:50<00:18, 16.99 Docs/s]\u001b[A\n",
            "Create embeddings:  81%|████████▏ | 1328/1632 [00:51<00:13, 22.11 Docs/s]\u001b[A\n",
            "Create embeddings:  82%|████████▏ | 1344/1632 [00:51<00:10, 28.06 Docs/s]\u001b[A\n",
            "Create embeddings:  83%|████████▎ | 1360/1632 [00:51<00:07, 34.40 Docs/s]\u001b[A\n",
            "Create embeddings:  84%|████████▍ | 1376/1632 [00:52<00:06, 40.69 Docs/s]\u001b[A\n",
            "Create embeddings:  85%|████████▌ | 1392/1632 [00:53<00:09, 26.53 Docs/s]\u001b[A\n",
            "Create embeddings:  86%|████████▋ | 1408/1632 [00:53<00:10, 21.73 Docs/s]\u001b[A\n",
            "Create embeddings:  87%|████████▋ | 1424/1632 [00:54<00:07, 27.62 Docs/s]\u001b[A\n",
            "Create embeddings:  88%|████████▊ | 1440/1632 [00:54<00:05, 34.07 Docs/s]\u001b[A\n",
            "Create embeddings:  89%|████████▉ | 1456/1632 [00:54<00:04, 40.58 Docs/s]\u001b[A\n",
            "Create embeddings:  90%|█████████ | 1472/1632 [00:55<00:03, 46.55 Docs/s]\u001b[A\n",
            "Create embeddings:  91%|█████████ | 1488/1632 [00:55<00:05, 27.82 Docs/s]\u001b[A\n",
            "Create embeddings:  92%|█████████▏| 1504/1632 [00:56<00:03, 34.31 Docs/s]\u001b[A\n",
            "Create embeddings:  93%|█████████▎| 1520/1632 [00:56<00:02, 40.96 Docs/s]\u001b[A\n",
            "Create embeddings:  94%|█████████▍| 1536/1632 [00:57<00:02, 47.36 Docs/s]\u001b[A\n",
            "Create embeddings:  95%|█████████▌| 1552/1632 [00:57<00:02, 38.40 Docs/s]\u001b[A\n",
            "Create embeddings:  96%|█████████▌| 1568/1632 [00:57<00:01, 44.91 Docs/s]\u001b[A\n",
            "Create embeddings:  97%|█████████▋| 1584/1632 [00:57<00:00, 51.01 Docs/s]\u001b[A\n",
            "Create embeddings:  98%|█████████▊| 1600/1632 [00:58<00:00, 56.16 Docs/s]\u001b[A\n",
            "Create embeddings:  99%|█████████▉| 1616/1632 [00:59<00:00, 30.94 Docs/s]\u001b[A\n",
            "Create embeddings: 100%|██████████| 1632/1632 [01:00<00:00, 26.07 Docs/s]\u001b[A\n",
            "Updating embeddings: 10000 Docs [01:24, 118.68 Docs/s]\n"
          ]
        }
      ],
      "source": [
        "document_store.update_embeddings(retriever=dpr_retriever)\n"
      ]
    },
    {
      "cell_type": "markdown",
      "metadata": {
        "id": "RyQzIuO0qx0R"
      },
      "source": [
        "We’re now set to go! We can evaluate the dense retriever in the same way we did for\n",
        "BM25 and compare the top-k recall:"
      ]
    },
    {
      "cell_type": "code",
      "execution_count": 71,
      "metadata": {
        "id": "js8OEm8sp5Vy"
      },
      "outputs": [],
      "source": [
        "%%script false --no-raise-error\n",
        "dpr_topk_df = evaluate_retriever(dpr_retriever)\n",
        "plot_retriever_eval([bm25_topk_df, dpr_topk_df], [\"BM25\", \"DPR\"])"
      ]
    },
    {
      "cell_type": "markdown",
      "metadata": {
        "id": "-j4yZ_k6sLPv"
      },
      "source": [
        "## Evaluating the Reader\n",
        "In extractive QA, there are two main metrics that are used for evaluating readers:\n",
        "- Exact Match (EM): A binary metric that gives EM = 1 if the characters in the predicted and ground\n",
        "truth answers match exactly, and EM = 0 otherwise. If no answer is expected, the\n",
        "model gets EM = 0 if it predicts any text at all.\n",
        "- F1-score: Measures the harmonic mean of the precision and recall.\n",
        "\n",
        "\n",
        "The evaluation of a reader can be done by creating a pipeline that consists only of a single node: a reader. In this case, the pipeline.eval() gets the relevant documents as direct input from the labels."
      ]
    },
    {
      "cell_type": "code",
      "execution_count": 72,
      "metadata": {
        "id": "NzlZoihbt5st"
      },
      "outputs": [],
      "source": [
        "from haystack.pipelines import Pipeline\n",
        "def evaluate_reader(reader):\n",
        "    score_keys = ['exact_match', 'f1']\n",
        "    p = Pipeline()\n",
        "    p.add_node(component=reader, name=\"Reader\", inputs=[\"Query\"])\n",
        "\n",
        "    eval_result = p.eval(\n",
        "        labels=labels_agg,\n",
        "        documents= [[label.document for label in multilabel.labels] for multilabel in labels_agg],\n",
        "        params={},\n",
        "    )\n",
        "    metrics = eval_result.calculate_metrics(simulated_top_k_reader=1)\n",
        "\n",
        "    return {k:v for k,v in metrics[\"Reader\"].items() if k in score_keys}\n",
        "\n",
        "# reader_eval = {}\n",
        "# reader_eval[\"Fine-tune on SQuAD\"] = evaluate_reader(reader)"
      ]
    },
    {
      "cell_type": "code",
      "execution_count": 73,
      "metadata": {
        "id": "6-na-8Q4r65-"
      },
      "outputs": [],
      "source": [
        "# reader_eval"
      ]
    },
    {
      "cell_type": "markdown",
      "metadata": {
        "id": "ZS0evPXWPGGJ"
      },
      "source": [
        "See performance on SQuAD 2.0: https://huggingface.co/deepset/roberta-base-squad2-distilled"
      ]
    },
    {
      "cell_type": "code",
      "execution_count": 74,
      "metadata": {
        "id": "jtWAcdH18uh3"
      },
      "outputs": [],
      "source": [
        "def plot_reader_eval(reader_eval):\n",
        "    fig, ax = plt.subplots()\n",
        "    df = pd.DataFrame.from_dict(reader_eval).reindex([\"exact_match\", \"f1\"])\n",
        "    df.plot(kind=\"bar\", ylabel=\"Score\", rot=0, ax=ax)\n",
        "    ax.set_xticklabels([\"EM\", \"F1\"])\n",
        "    plt.legend(loc='upper left')\n",
        "    plt.show()\n",
        "\n",
        "# plot_reader_eval(reader_eval)\n"
      ]
    },
    {
      "cell_type": "markdown",
      "metadata": {
        "id": "Veec_9d9-RSv"
      },
      "source": [
        "### Domain Adaptation\n"
      ]
    },
    {
      "cell_type": "code",
      "execution_count": 75,
      "metadata": {
        "id": "zo9mzM959rTk"
      },
      "outputs": [],
      "source": [
        "def create_paragraphs(df):\n",
        "    paragraphs = []\n",
        "    id2context = dict(zip(df[\"review_id\"], df[\"context\"]))\n",
        "    for review_id, review in id2context.items():\n",
        "        qas = []\n",
        "        # Filter for all question-answer pairs about a specific context\n",
        "        review_df = df.query(f\"review_id == '{review_id}'\")\n",
        "        id2question = dict(zip(review_df[\"id\"], review_df[\"question\"]))\n",
        "        # Build up the qas array\n",
        "        for qid, question in id2question.items():\n",
        "            # Filter for a single question ID\n",
        "            question_df = df.query(f\"id == '{qid}'\").to_dict(orient=\"list\")\n",
        "            ans_start_idxs = question_df[\"answers.answer_start\"][0].tolist()\n",
        "            ans_text = question_df[\"answers.text\"][0].tolist()\n",
        "            # Fill answerable questions\n",
        "            if len(ans_start_idxs):\n",
        "                answers = [\n",
        "                    {\"text\": text, \"answer_start\": answer_start}\n",
        "                    for text, answer_start in zip(ans_text, ans_start_idxs)]\n",
        "                is_impossible = False\n",
        "            else:\n",
        "                answers = []\n",
        "                is_impossible = True\n",
        "            # Add question-answer pairs to qas\n",
        "            qas.append({\"question\": question, \"id\": qid,\n",
        "                        \"is_impossible\": is_impossible, \"answers\": answers})\n",
        "        # Add context and question-answer pairs to paragraphs\n",
        "        paragraphs.append({\"qas\": qas, \"context\": review})\n",
        "    return paragraphs"
      ]
    },
    {
      "cell_type": "code",
      "execution_count": 76,
      "metadata": {
        "id": "aMI-PORjRW9Y",
        "colab": {
          "base_uri": "https://localhost:8080/"
        },
        "outputId": "cc830800-dade-4329-b3ff-c08ffcf5b0da"
      },
      "outputs": [
        {
          "output_type": "execute_result",
          "data": {
            "text/plain": [
              "[{'qas': [{'question': 'How did you like the movie?',\n",
              "    'id': '4593a383c6b34dc5b3862746cc792675',\n",
              "    'is_impossible': True,\n",
              "    'answers': []}],\n",
              "  'context': 'Well, I have to admit I wasn\\'t expecting to like this movie, having read all the bad press surrounding it.  But I saw it last night on a whim and I have to say I thought it was fantastic!  Firstly, as a movie it is incredibly well shot.  The scenery is wonderful and the sets are painstakingly recreated - never once do you doubt this is 1st century Palestine.The acting starts off a little strained in the garden scene, when the movie is just finding it\\'s feet (and the audience is coming to terms with the fact that the movie isn\\'t some horrible, cheap propaganda short, but a proper movie) but quickly becomes impressive and ends up brutally real.Gibson has set out to make a compelling dramatization of the last 12 hours of Jesus\\' life as described in the Gospels and that\\'s pretty much what he does.  There is certain artistic license taken and some good abstract movie-making, but nothing that really detracts from the movie or the sentiment.  In fact the scenes where they have the Billy Corgan/ Marylin Manson devil figure floating around are amongst the strongest scenes in the movie (Especially the gratuitously freakish defomed child at the whipping! What was that about?!).  The movie is shocking, and at times painful to watch.  I think the movie only strays into questionably graphic violence occasionally, most notable when Christ\\'s hands are nailed to the cross and we see blood squirting up onto the Roman soldier\\'s smirking face.  That\\'s a touch over the top for my taste.Being an UWS-dwelling New Yorker, I had the anti-Semitic accusations in the back of my mind for the whole movie, and I have to say I found nothing that could possibly be construed as anti-Semitic.  Instead the movie shows a nuanced and balanced set of Jewish characters who run the gamut of emotions from hating Jesus to loving him from falsely accusing him to insisting on a fair trial.  To read some press reviews I\\'d assumed the movie was full of big-nosed demons laughing maniacally in shadowy corners - that impression is patently absurd, in fact even Jesus\\' Pharisee accusers are sickened by his whipping and turn away in anguish and perhaps contrition.  If anything it is the Romans who 2000 years later are amongst Catholicism\\'s staunchest supporters, that revel in the torture and mockery of Christ.  But hey, it\\'s all there in the gospels.I think this is a pretty \"Catholic\" film.  Historically the Catholic faith has always revered the human side of Jesus more strongly.  They worship him for his suffering on our behalf his death for our sins, and yes his long, drawn out death.  Speaking from the Protestant tradition I\\'d prefer to see a movie that celebrated Jesus\\' life and teachings more than his suffering, and perhaps brought out the good news of his resurrection more than this movie, but hey, Mel has another 33 years of material to work with should he choose to make a sequel or a prequel.I\\'m not sure that this movie will make many converts - it\\'s a compelling and powerful piece of art, but any theology is brief and death related - flashbacks to scenes in Jesus\\' earlier ministry deal with specific death prophesies (\"This is my Body, broken for you...\" etc) or somewhat heavy-handed juxtapositions of his teaching vs his treatment (\"Love thy neighbour, and love thine enemy likewise.\").  I\\'m not sure that this condensed and selective teaching will convert anyone up front, but it\\'s already made me reread a few of the gospels.Anyway, I think it\\'s a movie everyone should see to make up their own mind about - personally I can\\'t wait for the DVD release so I can watch it without subtitles, as Gibson originally intended. That\\'d be even more brutal...'},\n",
              " {'qas': [{'question': 'How is film?',\n",
              "    'id': '17d2c3cfd6d27264daadae8c3845e534',\n",
              "    'is_impossible': True,\n",
              "    'answers': []}],\n",
              "  'context': 'Controversy.Truth.Faith.Love.Hate.Lies.Confusion.Anti-Semitic...One word summaries for what \"The Passion of the Christ\" meant to viewers all over the globe.It was a film studios rejected.A film that many award shows refused to acknowledge.But the public spoke when this film became box office history for sold out viewings world wide.But the movie is more than that.It is indeed like the title says \"A Passion...\"It\\'s only ridiculous if you can say you loved or hated the film.Don\\'t think because I\\'m rating the film 5stars that I loved it.It\\'s a movie Mel Gibson risked his career for and in return garnered only more fame for.In that situation I applaud Mel for his releasing of this film.But one cannot ignore how it does show how much work and creation it took.Its beautiful scenery.The acting is magnificent.I do acknowledge this as work of extraordinary perfection.Whether the story is correct or not will always be up for debate among historians,philosophers, and the theologians for centuries to come.'},\n",
              " {'qas': [{'question': 'How is film?',\n",
              "    'id': '6c49eb603f8d295bf919e7a13d4540e7',\n",
              "    'is_impossible': False,\n",
              "    'answers': [{'text': 'The film editing by John Wright is brilliant',\n",
              "      'answer_start': 2189},\n",
              "     {'text': 'The Passion Of The Christ', 'answer_start': 1}]}],\n",
              "  'context': '\"The Passion Of The Christ\" is brilliant and one of the best pictures of the year, so far! The movie focuses on the last 12 hours of Jesus\\' (Jim Caviezel) life leading up to his death and resurrection. This movie has some very graphic scenes, but don\\'t let the violence concern you. It is a powerful depiction of the last 12 hours of Jesus\\' life, thanks in part to its director, the brilliant Mel Gibson, who directed and starred as Justin Mcleod in \"The Man Without A Face\" and William Wallace in \"Braveheart\", the latter, which won him the Best Director Oscar. He also well known as Dr. Gibbon in \"The Singing Detective\" (2003), Graham Hess in \"Signs\" (2002), Lt. Col. Hal Moore in \"We Were Soldiers\" (2002), Nick Marshall in \"What Women Want\" (2000), Benjamin Martin in \"The Patriot\" (2000), Porter in \"Payback\" (1999), Martin Riggs in the Lethal Weapon movies (1987, 1989, 1992, 1998), Jerry Fletcher in \"Conspiracy Theory\" (1997), Tom Mullen in \"Ransom\" (1996), the voices of Rocky and John Smith in \"Chicken Run\" (2000) and \"Pocahontas\" (1995), Bret Maverick in \"Maverick\" (1994), Capt. Daniel McCormick in \"Forever Young\" (1992), Hamlet in \"Hamlet\" (1990), Mad Max Rockatansky in the Mad Max movies (1979, 1981, 1985, 2005 or 2006), and Fletcher Christian in \"The Bounty\" (1984). His directing in this movie is brilliant without compromise. Everything he did to make this movie has paid off brilliantly. The cast including Monica Bellucci as Mary Magdalene, Maia Morgenstern as Mary, Jesus\\' mother, are brilliant as well. Caviezel\\'s performance as Jesus, is emotionally powerful and brilliant and as the co-anchor of the movie, besides, Gibson, does a brilliant job as much as Gibson did. Gibson\\'s production company, Icon Productions, has produced movies of his such as, \"The Singing Detective\" (2003), \"Payback\" (1999), \"What Women Want\" (2000), \"Braveheart\" (1995), \"We Were Soldiers\" (2002), \"Fairy Tale: A True Story\" (1997), \"Forever Young\" (1992), \"Hamlet\" (1990), \"The Man Without A Face\" (1993), and \"Maverick\" (1994). The screenplay by Benedict Fitzgerald and Gibson is brilliant. The music by John Debney is brilliant. The cinematography by Caleb Deschanel is brilliant. The film editing by John Wright is brilliant. The production design by Francesco Frigeri and the costume design by Maurizio Millenotti is brilliant. The casting by Shaila Rubin is brilliant. The set direction by Carlo Gervasi is brilliant. The visual and make-up effects by Greg Cannom and Keith Vanderlaan is brilliant. This movie make a powerful point about how Jesus died and the point is brilliant and succeeds on every level. The language, which is in Aramaic, Latin, and Hebrew, which is shown in English subtitles, proves that you don\\'t need to speak English to have a brilliant film with heart and soul. Go see this movie now or if you can see it. This is an achievement on every level. It is a movie to remember forever.'},\n",
              " {'qas': [{'question': 'How is the thing?',\n",
              "    'id': '53f9e8bee97df42b8e18988c9adc9918',\n",
              "    'is_impossible': True,\n",
              "    'answers': []}],\n",
              "  'context': \"I just had a few miscellaneous comments on a film that has already sparked a good deal of controversy.This was destined to be a controversial film right from the start, with the concerns ranging from whether it was too violent to whether it was anti-Semitic. Well, to address the first concern, you can't have a successful movie these days without a lot of gratuitous sex, drugs, and violence, and since this is 2000 years ago and there weren't that many recreational drugs back then, they probably had to step up the violence quotient a bit to compensate, although I suspect people had sex back then, too. It just wasn't the object of as much existential angst, and AIDS was 2000 years in the future, so there were certain advantages to living in ancient times, even if you couldn't run down to the corner store and get a cold sixpack at 2 am in the morning.But getting back to the movie, this is certainly a powerful and evocative depiction of the last 12 hours of the life of Christ, and the entire cast really is superb. Although I usually don't like going to movies with subtitles, I didn't mind it in this case since Aramaic was the language of Jesus and it was interesting to hear it spoken, as I've only seen it written up to this point and had never heard it. A little piece of trivia here--classical Aramaic was thought by linguists to be another dead Semitic language (like Akkadian, Assyrian, Ugaritic, Phoenician, Punic, Coptic, Ammonite, Moabite, and the classical Arabic of the Koran, and Hebrew was dead until they brought it back), until an obscure congregation in Egypt and several other communities were found to be using it some years ago, although it was a more modern dialect. So I liked that aspect of the movie although I doubt I'll be trying to learn any dead Semitic languages anytime soon.The movie was indeed pretty violent, but ancient times certainly have no monopoly on violence compared to modern times, and more people died during the massive world wars and many smaller wars, genocides, purges, revolutions, and various other social conflagrations of the 20th century (which was at least 100 million people) than were probably even alive 2000 years ago. I also didn't find the movie anti-Semitic, and if the Jews hadn't killed Jesus some other group probably would have.So despite the controversial elements, overall, I think this was a well-done movie whose good points outweigh its bad points, and whatever the final critical judgment on it is, I'm sure the movie will be hotly debated and discussed for many years to come.\"},\n",
              " {'qas': [{'question': 'How did you like  the reviewer?',\n",
              "    'id': '79b2c4aa8c64e898ad28ca95dc4829d6',\n",
              "    'is_impossible': True,\n",
              "    'answers': []}],\n",
              "  'context': 'Say what you want about Mel Gibson, but when he is making a serious movie, he knows what he\\'s doing.I thought \"Apocalypto\" was not very good, mainly because of its ridiculous violence and its quite one-dimensional portrayal of an entire culture. What was the point? Mel Gibson seemed to be saying \"boy, these people were violent and wrong.\"But this sort of unipolar viewpoint, which did not serve \"Apocalypto\" at all, fits this film to a tee. Gibson is clearly a committed Christian of the Catholic stripe, and he has created pretty much the ultimate cinematic portrayal of the story of Christ\\'s crucifixion. I can\\'t imagine a film which would better indicate the depth of the physical suffering that Jesus of Nazareth must have endured, and the emotional pain this would inflict upon his relatives and best friends.The sets are all very detailed and ring quite true to the period. The actors in lead \"good guy\" roles are perhaps a bit too European looking, but given the film\\'s production in Italy, some of this is forgivable. Either way, people have cast these characters with their own ethnicity for eons, so I\\'m willing to give that a pass.I kind of wish some of the more mystical elements had been left out. Jesus heals a roman soldier during his capture. Judas is attacked (in his mind at least) by little hobgoblin demon children. Christ is also tempted by Satan - who is played and visualized quite well by a spooky-looking actress, but nonetheless this feels like a bit of a tacked on element, despite mentions in the Gospels at various points. These elements are at worst a minor annoyance, but they strain credulity, which probably runs counter to Gibson\\'s purposes.I guess I would have preferred that the human elements of the story stand on their own, because, frankly, that\\'s all we have access to at this late date. We simply can\\'t trust miracle stories and talk of mystical happenings. We don\\'t have access to them. But by meditating on the human aspects of the story, we have something we can relate to and which may inspire faith in the other, less tangible things. To display them openly is to assume their existence before we are faithful.But this is just my opinion, I suppose, based on my reading, studies in philosophy, and my general skeptical bent. I\\'ve never seen a miracle, and no one I\\'ve trusted has ever reported one to me. Things handed down from 2000 years ago, re-translated dozens of times, do not strike me as reliable sources for amazing stories, none of which seem to happen in modern history and with the benefit of all the technology we have available to us to record such events. I mean, given all the cell phone cameras out there, where are all the indubitable miracles?Anyhow, I digress (my apologies to David Hume...). Even with its mystical trappings, this film in its immediacy and its viscerality certainly succeeds in forcing the viewer to ponder the human aspects. The mystical stuff is a sideshow, so to speak.For those with faith, this film should offer a potent meditation on a story which has been ingrained into the psyche, practically since birth. For a non-believer, this film offers a valuable insight into the passion that believers have for this story and for the man himself. Like a Socrates, Jesus of Nazareth seems to have been a singular man, the like of which is rarely seen. Contemplating this can deepen a non-believer\\'s appreciation, if not deliver them into a completely faithful orientation to the material.To put it briefly, it\\'s a brilliant film. Each shot is lovingly composed, and the visual impact and beauty of the images can\\'t be faulted. The performances all feel very real and there is no actor who takes the viewer away from the time period. Gibson, similar to some of the other great directors such as Kubrick, Scorsese, Stone and he like, excels at  creating \"scene.\" You really feel like \\'you are there.\\'*******The Blu-Ray:The picture is quite beautiful. Black levels are solid, detail is quite good (though perhaps not the absolute best, I would say \"Dark Knight\" and \"Alexander\" top it), and color is very naturalistic. There is a bit of \"posterization\" in some shots of the sky (i.e. a sort of digital distortion or dot-crawl), but it only intrudes on 10 or 20 seconds of the film, and is probably in the source material. The DTS audio mix offers some nice directional effects, with crowd taunts and bird chirps in the rear sound field.Technically, it\\'s about as good as I can imagine it looking. I did not see the film in the theater, so I cannot compare the level of fidelity.Extras include commentaries, and a \"recut\" version, which apparently is actually a bit shorter than the theatrical release. This version also cuts a bit of violence. A word to parents - cutting five minutes of gruesome violence leaves about, oh, 120 minutes of gruesome violence remaining in the movie. So plan accordingly insofar as your children can tolerate these kinds of things. Other extras: There are several commentaries on the main disc. The extra disc has many short documentaries on both production issues and historical context, though none are in HD, unfortunately.*********So should you buy it? Well, that\\'s a tough question. If you\\'re a devoted Christian who enjoys pondering these mysteries, and you also have a good HD setup, then sure, I can\\'t see any reason not to. If you are not a Christian but are curious about what the hub-bub is about, then this is definitely worth at least a rental. Fans of historical fiction/docudrama will certainly find much to appreciate.Whether or not you buy it, this is definitely a film everyone should see at least once. It is a great film, like it or lump it. It is a vivid and very impactful telling of one of the very few central stories of our global culture. Keep in mind I do not want to put a Christian gloss on humanity here - if there were comparable films on Mohammad (a bit of an issue given the icon prohibition), Buddha, etc., I would recommend seeing those as well.On the whole, by any standards, this is a five-star release. It may not be for everyone\\'s permanent collection. But those who add this Blu-Ray title to their shelf will not be disappointed.'},\n",
              " {'qas': [{'question': 'How was the movie?',\n",
              "    'id': '7914ffb7c941bb7ea45ec85a6363b87c',\n",
              "    'is_impossible': True,\n",
              "    'answers': []}],\n",
              "  'context': 'On February 25, 2004 at 5:30 PM, I wasn\\'t exactly sure how to feel because I was sitting in front of a screen that was ready to project what\\'s been called one of the most controversial and brutal films ever made. I was ready to settle in for some trailers, but there were none. The film started precisely on schedule, and I was already taken aback by the sudden commencement of the film. I wasn\\'t sure how to prepare myself. I knew that I was going to witness disturbing frames of film, but the result was more than I can say. Simply put it, \"The Passion of the Christ\" is an experience that cannot be described in words, but only in the art form that Mel Gibson has created to express a feeling like no other. In this review, I will rave about the film being the best ever. Why? Because it is.\"The Passion,\" as most call it in short, is not only Mel Gibson\\'s finest work (he had previously directed \"Bravehart\" and \"The Man Without a Face,\" two fabulous films) but it is the most triumphant motion picture ever to hit the big screen. What we see here is a film with a direct focus that has the ability to create an emotion that is completely indescribable. The focus is on the title, which Gibson uses as the centerpiece of what his film is truly about, and that is the willpower of Jesus Christ, the love and the passion that resided in his body to carry on through the worst possible human torture that anyone has ever endured in history. The only way to really feel that and to express that theme is to show the graphic violence that was depicted by several amazing special effects artists whom worked on this film. On film, it was no longer make-up or special effects; it was real, completely real. Exaggerated? Yes, of course, that\\'s how a theme is drawn out. Although it was the most violent picture I have ever seen in my life, it was made that way to complete this theme of passion. The actual passion is what Jesus had to endure, and had the film been shown any other way that passion could never be conveyed.Every frame of Gibson\\'s work is a concentrated art and has pure perfectionism written all over it. Much of the great visual aspects of the film can be credited to cinematographer Caleb Deschanel, an artist whose work has been nominated several times for Oscars on films such as \"The Natural\" and \"The Patriot.\" To further Mel\\'s perfectionism, he relied on production designer Francisco Frigeri and costume designer Maurizio Millenotti to create the very accurate period look to the film. The frighteningly realistic makeup and special-effects were done by Greg Cannom and Renato Agostini, two artists who have now excelled to the most supreme level of movie magic. I also appreciated John Debney\\'s score that was fluent throughout the entire film. As a matter of fact, I can\\'t think of any moments in the film that did not have music playing. It was a really great way to enhance a story that was foreign to our ears and depended on subtitles to convey the literal text of the film. Debney really found his own way of telling a story through music, keeping the audience entrenched in the world Mel Gibson has set us in.And finally, the acting was brutally realistic. Jim Caviezel had the incredibly difficult task of bringing the most beloved figure in history to the screen, Jesus Christ. His performance is worthy of more than an Oscar, but it should be considered one of the top five best performances in the history of film. Rosalinda Celentano had the task of bringing histories most despised figure to screen, Satan. She was not just some creepy figure that made the film scary, but she had a distinct purpose in being the obstacle in Jesus\\' life. Her constant interference was used to tempt Jesus down a path that would eliminate all passion and glory. I really liked the use of her eyes. It created a distinct look that when she stared at the camera, you felt the intimidation that Jesus was feeling, and the provocation that Jesus felt when she smiled at him. In Gibson\\'s visual style, this would be credited as the motif for the temptation towards Christ. Monica Bellucci played the beautiful Mary Magdalene, a lover of Jesus. She did her job creating emotion alongside another performer whom swept me away, Maia Morgenstern as Mary, Mother of God. What an amazing job she did in creating the passion of a loving mother. Absolutely stunning. Makeup, effects, and costume do a lot to enhance a character, but performance is what makes them real.As a film reviewer, it\\'s not my job to do what I really don\\'t want to do, and that is touch upon the controversy. Before viewing the film I promised myself I wouldn\\'t, but it now seems necessary because I have a few things that need to be cleared up. Anti-Semitic my ass. This film spills the truth. This is what happened in the Bible, this is what the Christian society believes, and this is how it MUST be told. Any other way would disgrace and insult the passages that we know in the Great Book itself. And let me explain how it all works. Did the Jews kill Christ? Yes. Was Jesus Jewish himself? Yes. Oh, and there was another Jewish man who came along to help Christ carry the Cross. In addition, Jesus\\' Jewish family and friends were on his side. So really, what can we compare this to? Well, if we would all like to use our precious brains that God gave us for just once without trying to stand on some large mountain and get attention by protesting these issues, just think Civil War. Essentially, that\\'s all this is. It is a community of Jewish people all hurting each other. Some are on the good side, Jesus\\' side; others are on the bad side, Caiphas\\' side. So why all of a sudden is it Mel Gibson demising a Jewish community whom are all in a conflict? What if he made a picture about the Civil War? Would he be insulting Americans, saying that Americans killed, well, Americans? Honestly, let\\'s think of the circumstances. No matter what group of people you put in there they will all be considered as being demised by Gibson for killing Christ. The fact that it is Jews in the Bible makes it no more than a Civil War, and if we have to cry out and say that that\\'s anti-Semitic, well then we have more issues than I realized, and I only hope there\\'s enough tissues to go around and collect all the tears from these crybabies who are protesting. And that\\'s all I have to say about that.Bottom line, it\\'s not just any great film to see, but far beyond. It is a great experience to go through and to feel. Any person that comes out of this movie saying it wasn\\'t a great experience must be a heartless and cold being with no feeling of remorse for anyone. I hope everyone will see this film and understand what one man went through and \"the passion\" he had to carry on with it further than any human could ever possibly tolerate, regardless of their religious beliefs. You will be moved by this great motion picture epic, I guarantee it.Grade: A++ (first ever)-Rock Hogan'},\n",
              " {'qas': [{'question': 'How is the scene?',\n",
              "    'id': 'b98d6c70e0090787f4a79769b9e3cfab',\n",
              "    'is_impossible': False,\n",
              "    'answers': [{'text': \"There's also an extended scene of Jesus being savagely punished at the hands of malicious Roman soldiers\",\n",
              "      'answer_start': 2154},\n",
              "     {'text': \"Though the film's violence might derive you from seeing this film, you should definetly experience especially at the movie theatre\",\n",
              "      'answer_start': 2261}]}],\n",
              "  'context': 'The Passion of the Christ, the very controversial Mel Gibson religious epic has been highly anticipated and now released.  I had the priviledge of seeing last night and was not disappointed, but I should point out that this is the kind of film which you can\\'t \"like\" or \"dislike.\"  The film stays true or mostly true to the Gospel it\\'s based upon.  The film tells of the last 12 hours of Christ\\'s life.  The depicitions of the crucifixition are quite graphic and very intense, this film is not recommended to be viewed by children.  Though I should also add that it is not the most violent or bloody film that has been made or that I have seen.Caleb Deschanel\\'s cinematography is outstanding and should definetly be nominated for an Academy Award next year along with John Debney\\'s engrossing music score.  James Caviezel does a great job portraying Jesus of Nazareth along with Monica Bellucini and others.  Mel Gibson is very capable as a director as he is an actor, he certainly proved that to us with the glorious epic, Braveheart.  I must say that this film is not anti-semetic in its views, and it certainly should be viewed as a telling of the Gospel.  Gibson simply made a movie about the last 12 hours of Jesus\\'s life, he\\'s not making any accusations.The film which opened on Ash Wednesday (2/25/04) has already grossed an outstanding $117.6 over the 5 day period along with $76.2 million over the weekend.  It certainly has proved to be a success and of blockbuster caliber, the film\\'s budget was only about $25 million which Mel Gibson put in, in other words he used his own money to make the film.  This is the second-highest grossing \"R\" rated film after The Matrix Reloaded.  Of course you shouldn\\'t see this movie for its success at the box-office, if you\\'re very religious and want to experience a movie which should be experienced by everyone, then see The Passion of the Christ.The Passion of the Christ is rated R for Sequences of Graphic Violence.  The violence as stated earlier is intense and brutal.  During the crucifixtion, the nails are hammered into Jesus\\'s hands and feet in slow motion, Jesus\\'s body is drenched with blood.  There\\'s also an extended scene of Jesus being savagely punished at the hands of malicious Roman soldiers.  Though the film\\'s violence might derive you from seeing this film, you should definetly experience especially at the movie theatre.  You must see it to believe it, see The Passion of the Christ'},\n",
              " {'qas': [{'question': 'What is the quality of cinematography?',\n",
              "    'id': '7f936b400993aa50e3cce620689aa65e',\n",
              "    'is_impossible': True,\n",
              "    'answers': []}],\n",
              "  'context': \"I don't know what to say about this film that has not already been said. I will, however, try to give my two-cents-worth on it.The bottom line for me is this. This film is excellent. The performances are solid and emotional. The music is brooding, haunting, tense, and beautiful. The photography is the same for me. Often dark and gloomy and gritty but it works. It has a beauty all its own as well.Now let me use another g word. Gory. Be warned: This film is NOT meant as entertainment. It is like SCHINDLER'S LIST in the sense that it is unflinchingly brutal in it's depiction of a very emotional and true event.I was crying almost THROUGHOUT the film, at LEAST five times, but I lost count quickly. People asked me how old a child should be to see this. My answer was don't take children. If you REALLY want to, see it yourself and TALK with your child about it before going in. Be sure you know what a child can and cannot handle.Let me cut to the chase here. This film to me is NOT anti-Semitic. It did make me think though. It made me think how lucky I am that Jesus Christ really loves me and loves me enough that He would and has died for my sins and the sins of the world AND risen from the dead so that all who call on Jesus Christ as Savior and Lord can be with Him in Heaven forever. As a Christian, this film was a graphic reminder to me of the incredible price that my Lord and Savior Jesus Christ paid to redeem me from sin and death, and when I thought of that, I felt extremely blessed, lucky, and LOVED. I lnow the Bible speaks of this, and I am not saying this film should replace the Living Word of God, but it was for me a reminder of all that I just mentioned here.In short, go and see this if you can. It is a film that will make you cringe, and likely weep with the brutality it depicts, but it will also likely touch your heart and move you in a way that few movies ever can. To me it is the most moving film of the past 11 years. I hope that you can go see it, and if you do, may you come away with a reminder of just how much the Lord Jesus Christ really loves you. Thanks for reading, and God bless you.\"},\n",
              " {'qas': [{'question': 'Where we can see this movie?',\n",
              "    'id': 'f7788e282b8fbd63af3fb59038dbe2ce',\n",
              "    'is_impossible': False,\n",
              "    'answers': [{'text': 'This film is the best film', 'answer_start': 5}]}],\n",
              "  'context': \"WOW! This film is the best film I have ever seen on Earth! It was [way] better than Titanic (no offense Titanic fans)! Finally, I get to see what this film... or this true story looks like. First of all, this isn't a film. It was REAL!!! Big time! Now for my review. This movie opens up with Jesus (my favorite character... or person...) who is upset that he has twelve hours to live, because he is about to be crucified. Hours have passed and he was taken to the Romans. After they sentence to punish him, they start beating him up with chains, whips, and other dangerous weapons. I covered my eyes, because it was too painful. After they beat him up, they want to sentence him to death. So they have him carry a cross, while he is severely injured, but Mary thinks about the good times Jesus and her spend, including the close encounter part which really brought a tear in my eye. When we get there, they nailed Jesus on the cross and raise him up, but not before we see a flashback about his bread as his body and the drink as his blood. After he and his cross rose vertically, they knew the job was done, and everyone laughed at him. However, they clouds rolled in, and everyone knew what will happen: After Jesus prays to his father for the last time, he dies and he will be in heaven for sure. Rain starts to fall, causing a huge earthquake. Now, I think this is a little... flat, but the people who crucified Jesus NOW finally realized they did something wrong. They knew they did something bad to him, but it was too late for that. After they release Jesus from the cross, he is held by his mother, Mary. However, in April 3, the first Easter ever to be created, the covers he lied in when he died was empty, because Jesus is living with his father, but, before the credits roll, we see Jesus resurrected, proving that even though he died, he was still alive. I think the ending was so powerful, and, in my opinion, I think it was the best ending ever. It left my heart thumping for good. The only complaint was that there was no English dialouge, but there's not suppose to be an English dialouge, because it wasn't held in our region. I still think it makes sense to me. This movie is the best movie I've seen in Earth, and it should not be missed. GO SEE IT NOW!!! Well done Mel Gibson for giving us the gift of a powerful movie!!! And thank you Jesus for doing this for us. I will always love you!\"},\n",
              " {'qas': [{'question': 'What is the best scene in the movie?',\n",
              "    'id': 'f5f79ec5df2f0b246740c9e74a787cb7',\n",
              "    'is_impossible': False,\n",
              "    'answers': [{'text': 'good', 'answer_start': 10}]}],\n",
              "  'context': 'This is a good film which closely follows the testimony of the New Testament Gospels.  The filming is graphic and detailed and the decision to have people speak in their original languages was very intelligent.  The film has been accused of being antisemitic--partly because of Gibson\\'s escapades-but I don\\'t see it.  It is no more antisemitic than the Gospels, themselves.  Yes, I think it can be argued that the Gospels show an anti-Pharasee bias--make that an anti-establishment bias--but they can\\'t be antisemitic.  The early Christians, precisely the ones who wrote the New Testament, were all Jews.  It is hardly credible that they were antisemites.  They were, however, members of a new wave of Judaism, a wave that witnessed the destruction of Jerusalem and the razing of Herod\\'s Temple.  They didn\\'t like the Temple Establishment and their writings show it, sometimes even glossing over the Roman responsibility for Jesus\\' crucifixion.The film is both detailed and excruciating.  It emphasizes Jesus\\' suffering for mankind.  It\\'s difficult to \\'overdo\\' something as hideous as death by crucifixion but I think the directors come close.  The scourging is overdone to the point of unbelievability.  It goes on far too long and is laid on with too much force.  The scourging of the type depicted may have killed a man without the necessity of a cross.  Of a near absolute certainty, a man so scourged would never be able to pull--even with help--the cross up to the hill of Golgotha.Other than that I have only one other technical comment and that involves the cross, itself.  The cross has become the living symbol of many Christian faiths but many people believe that there was never a cross.  There is evidence that, in some places, the uprights were always kept in place on the execution ground.  The condemned man carried the crosspiece on his shoulder to the place of execution.In A.D. 70, Jerusalem fell to a Roman army and thousands were crucified around its walls.  It seems highly unlikely that full crosses were used in the executions.Ron Braithwaite author of novels--\"Skull Rack\" and \"Hummingbird God\"--on the Spanish Conquest of Mexico'},\n",
              " {'qas': [{'question': 'How is the movie?',\n",
              "    'id': 'a64ccf651ade9b1e71deea93026edaff',\n",
              "    'is_impossible': False,\n",
              "    'answers': [{'text': 'It is simply astounding', 'answer_start': 164},\n",
              "     {'text': 'The movie is really shocking and appalling',\n",
              "      'answer_start': 1518}]}],\n",
              "  'context': 'I never was a religious person. But nevertheless I have to say that \"The Passion of the Christ\" is something. I can\\'t recall when a movie had such an impact on me. It is simply astounding. Much because of not used nowdays latin and arameic and much more thanks to brilliant and superior (I could give countless epithets) actors, you don\\'t have a feeling of watching a film. You don\\'t have a feeling of watching a documentary. You have a definite feeling that you ARE there. And that happens (to me at least) not often. One of the main effects of the film is that the story-line is well known. You know from the very beginning how it is going to end. So it\\'s interesting and almost unbearable to see how wrong choices were made and how after a chain of decisions dictated either by ignorance or by cowardice or by both the most innocent person ever on our planet was exposed to terrible torture and suffering and then put to death. We see how Judas repents after his betrayal but there\\'s no way back. We see how Pontius Pilate (shown here as a good-natured man) hesitates but then sends Jesus to Golgotha (he might also repent but it\\'s too late). We see all these people and we pity them for they really knew not what they were doing. During the whole film I had this desire to tell them: wake up, don\\'t make this mistake, don\\'t you see you are doing evil? I think all the time - what if everything had happened the other way? But apparently there were no other way because Jesus had predicted everything that\\'d happen.The movie is really shocking and appalling, and not because of violence and gore. It\\'s the ultimate tragedy of mankind and it is just intolerable to watch it.\"The Passion of the Christ\" has one of the best casts I\\'ve ever seen in cinema. Jim Caviezel really effuses light, guess he was the perfect candidate for this part. Maia Morgenstern (Maria), Hristo Shopov (Pontius Pilate) and especially Rosalinda Celentano (Satan) look like they were born for these roles. I\\'m utterly impressed and dazed.If you easily get appalled by screen violence I can say this: try to withstand these two hours, it\\'s the way to feel at least the relish of sufferings Jesus had to withstand.Whether you are a religious person or not watch this film, it\\'s thought-provoking and serious-minded.And as of an alleged antisemitism of which the film was accused many times... well, I haven\\'t noticed any. Don\\'t believe all that fuss.'},\n",
              " {'qas': [{'question': 'Why is the movie shocking?',\n",
              "    'id': 'b0f1a97b26624348cfe4afcff04686f0',\n",
              "    'is_impossible': False,\n",
              "    'answers': [{'text': 'The movie is graphic, torture and blood is featured, however the affair is artfully done.  Violence, after all is a major part of art',\n",
              "      'answer_start': 901},\n",
              "     {'text': 'The movie is graphic', 'answer_start': 901}]}],\n",
              "  'context': 'The best art has a backstory of sacrifice and hardship and Mel Gibson\\'s work of art, The Passion of the Christ has such a backstory.  In 2003, Passion producer Mel Gibson, was accused of every sort of malice from the Hollywood elite that is hostile to this movie, Christianity, and Western Civilization in general.The movie is the story of the Crucifixion of Jesus Christ and it is filmed in a color tone that reminds the viewer of a Renaissance painting of the same subject.  It is also unique in that the dialogue is spoken in Latin and Aramaic, the languages of the time.  Greek is left out although it was the lingua franca of the Eastern Roman Empire.The movie make a point to emphasize the various smaller Saints that were part of the story.  For example, Pontius Pilatus\\' wife, an Orthodox Saint, is favorably featured.  An Ethiopian servant is also shown as receptive to the message of Christ.The movie is graphic, torture and blood is featured, however the affair is artfully done.  Violence, after all is a major part of art.Most movies pushed from Hollywood is nothing more than \"dreck,\" but this work is high art melding the classic works of da Vinci, Albrecht D&uuml;rer, Rembrandt, and Michelangelo with the modern medium of cinema.  This movie should be shown on Network TV every Good Friday.'}]"
            ]
          },
          "metadata": {},
          "execution_count": 76
        }
      ],
      "source": [
        "product = dfs[\"train\"].query(\"title == '0310263662'\")\n",
        "create_paragraphs(product)"
      ]
    },
    {
      "cell_type": "markdown",
      "metadata": {
        "id": "XhOjeaKsSbCo"
      },
      "source": [
        "The final step is to then apply this function to each product ID in the DataFrame of\n",
        "each split. The following convert_to_squad() function does this trick and stores the\n",
        "result in an movies-{split}.json file"
      ]
    },
    {
      "cell_type": "code",
      "execution_count": 77,
      "metadata": {
        "id": "YsjL66V0RYwU"
      },
      "outputs": [],
      "source": [
        "import json\n",
        "\n",
        "def convert_to_squad(dfs):\n",
        "    for split, df in dfs.items():\n",
        "        subjqa_data = {}\n",
        "        # Create `paragraphs` for each product ID\n",
        "        groups = (df.groupby(\"title\").apply(create_paragraphs)\n",
        "            .to_frame(name=\"paragraphs\").reset_index())\n",
        "        subjqa_data[\"data\"] = groups.to_dict(orient=\"records\")\n",
        "        # Save the result to disk\n",
        "        with open(f\"movies-{split}.json\", \"w+\", encoding=\"utf-8\") as f:\n",
        "            json.dump(subjqa_data, f)\n",
        "\n",
        "convert_to_squad(dfs)"
      ]
    },
    {
      "cell_type": "code",
      "execution_count": 78,
      "metadata": {
        "id": "0kGv9P5oSRT8"
      },
      "outputs": [],
      "source": [
        "%%script false --no-raise-error\n",
        "train_filename = \"movies-train.json\"\n",
        "dev_filename = \"movies-validation.json\"\n",
        "\n",
        "reader.train(data_dir=\".\", use_gpu=True, n_epochs=1, batch_size=16,\n",
        "             train_filename=train_filename, dev_filename=dev_filename)"
      ]
    },
    {
      "cell_type": "code",
      "execution_count": 79,
      "metadata": {
        "id": "k_y09yf5SqeM"
      },
      "outputs": [],
      "source": [
        "%%script false --no-raise-error\n",
        "\n",
        "reader_eval[\"Fine-tune on SQuAD + SubjQA\"] = evaluate_reader(reader)"
      ]
    },
    {
      "cell_type": "code",
      "execution_count": 80,
      "metadata": {
        "id": "BI58H40Uzo15"
      },
      "outputs": [],
      "source": [
        "%%script false --no-raise-error\n",
        "\n",
        "reader_eval"
      ]
    },
    {
      "cell_type": "code",
      "execution_count": 81,
      "metadata": {
        "id": "UNo_Oh2FSztz"
      },
      "outputs": [],
      "source": [
        " %%script false --no-raise-error\n",
        "\n",
        "plot_reader_eval(reader_eval)"
      ]
    },
    {
      "cell_type": "markdown",
      "metadata": {
        "id": "FpxIRJtkg49B"
      },
      "source": [
        "## Evaluating the Whole QA Pipeline\n"
      ]
    },
    {
      "cell_type": "code",
      "execution_count": 82,
      "metadata": {
        "id": "OUmfj1gDS2bD"
      },
      "outputs": [],
      "source": [
        "%%script false --no-raise-error\n",
        "from haystack.pipelines import ExtractiveQAPipeline\n",
        "pipe = ExtractiveQAPipeline(retriever=bm25_retriever, reader=reader)\n",
        "\n",
        "# Evaluate!\n",
        "eval_result = pipe.eval(\n",
        "    labels=labels_agg,\n",
        "    params={},\n",
        ")\n",
        "metrics = eval_result.calculate_metrics(simulated_top_k_reader=1)\n",
        "# Extract metrics from reader\n",
        "reader_eval[\"QA Pipeline (top-1)\"] = {\n",
        "    k:v for k,v in metrics[\"Reader\"].items()\n",
        "    if k in [\"exact_match\", \"f1\"]}"
      ]
    },
    {
      "cell_type": "code",
      "execution_count": 83,
      "metadata": {
        "id": "utEcjeTUh_rt"
      },
      "outputs": [],
      "source": [
        "%%script false --no-raise-error\n",
        "#id reader-vs-pipeline\n",
        "#caption Comparison of EM and _F_~1~ scores for the reader against the whole QA pipeline\n",
        "plot_reader_eval({\"Reader\": reader_eval[\"Fine-tune on SQuAD + SubjQA\"],\n",
        "                  \"QA pipeline (top-1)\": reader_eval[\"QA Pipeline (top-1)\"]})"
      ]
    },
    {
      "cell_type": "markdown",
      "metadata": {
        "id": "8bD7xSFYBSh4"
      },
      "source": [
        "# Going Beyond Extractive QA: Retrieval-Augmented Generation (RAG)"
      ]
    },
    {
      "cell_type": "markdown",
      "metadata": {
        "id": "KQKTgBfDkhzI"
      },
      "source": [
        "As of version 1.16, RAGenerator has been deprecated in Haystack and completely removed from Haystack as of v1.18. We recommend following the tutorial on Creating a Generative QA Pipeline with Retrieval-Augmentation instead. For more details about this deprecation, check out our announcement on Github.\n",
        "\n",
        "https://github.com/deepset-ai/haystack-tutorials/blob/main/tutorials/07_RAG_Generator.ipynb"
      ]
    },
    {
      "cell_type": "code",
      "execution_count": 84,
      "metadata": {
        "id": "WI-xY1ufiQZj"
      },
      "outputs": [],
      "source": [
        "# %%script false --no-raise-error\n",
        "\n",
        "from haystack.nodes import PromptNode, PromptTemplate, AnswerParser\n",
        "\n",
        "rag_prompt = PromptTemplate(\n",
        "    prompt=\"\"\"Synthesize a comprehensive answer from the following text for the given question.\n",
        "                             Provide a clear and concise response that summarizes the key points and information presented in the text.\n",
        "                             Your answer should be in your own words and be no longer than 50 words.\n",
        "                             \\n\\n Related text: {join(documents)} \\n\\n Question: {query} \\n\\n Answer:\"\"\",\n",
        "    output_parser=AnswerParser(),\n",
        ")\n",
        "\n",
        "prompt_node = PromptNode(model_name_or_path=\"google/flan-t5-large\", default_prompt_template=rag_prompt)\n",
        "\n",
        "\n"
      ]
    },
    {
      "cell_type": "code",
      "execution_count": 85,
      "metadata": {
        "id": "DM_aFiey1-bM"
      },
      "outputs": [],
      "source": [
        "# %%script false --no-raise-error\n",
        "\n",
        "from haystack.pipelines import Pipeline\n",
        "\n",
        "pipe = Pipeline()\n",
        "pipe.add_node(component=dpr_retriever, name=\"retriever\", inputs=[\"Query\"])\n",
        "pipe.add_node(component=prompt_node, name=\"prompt_node\", inputs=[\"retriever\"])"
      ]
    },
    {
      "cell_type": "code",
      "execution_count": 86,
      "metadata": {
        "id": "Ja2o3JBf6eR2",
        "colab": {
          "base_uri": "https://localhost:8080/"
        },
        "outputId": "46f2888b-f989-4c5f-8b33-3db95c696be1"
      },
      "outputs": [
        {
          "output_type": "stream",
          "name": "stderr",
          "text": [
            "Token indices sequence length is longer than the specified maximum sequence length for this model (6652 > 512). Running this sequence through the model will result in indexing errors\n",
            "WARNING:haystack.nodes.prompt.invocation_layer.hugging_face:The prompt has been truncated from 6652 tokens to 412 tokens so that the prompt length and answer length (100 tokens) fit within the max token limit (512 tokens). Shorten the prompt to prevent it from being cut off\n"
          ]
        },
        {
          "output_type": "stream",
          "name": "stdout",
          "text": [
            "The writer thinks that the special effects in the film are impressive, but the actors are not as good as they were in the previous films.\n"
          ]
        }
      ],
      "source": [
        "# %%script false --no-raise-error\n",
        "\n",
        "output = pipe.run(query=query)\n",
        "\n",
        "print(output[\"answers\"][0].answer)"
      ]
    },
    {
      "cell_type": "code",
      "execution_count": 87,
      "metadata": {
        "id": "1IVMSLwRBXqi",
        "colab": {
          "base_uri": "https://localhost:8080/"
        },
        "outputId": "6eca50ab-ed47-4a9b-a7c3-5d6b2614c5b0"
      },
      "outputs": [
        {
          "output_type": "stream",
          "name": "stderr",
          "text": [
            "WARNING:haystack.nodes.prompt.invocation_layer.hugging_face:The prompt has been truncated from 3624 tokens to 412 tokens so that the prompt length and answer length (100 tokens) fit within the max token limit (512 tokens). Shorten the prompt to prevent it from being cut off\n"
          ]
        },
        {
          "output_type": "stream",
          "name": "stdout",
          "text": [
            "Question: Who is Anakin Skywalker? \n",
            "\n",
            "Answer 1: The Phantom Menace is a movie that isn't one that the average person is going to memorize, because it isn't simplistic like episodes 4, 5, and 6.\n"
          ]
        }
      ],
      "source": [
        "# %%script false --no-raise-error\n",
        "\n",
        "def generate_answers(query, top_k_generator=1):\n",
        "    preds = pipe.run(query=query,\n",
        "                     params={\"retriever\": {\"top_k\":5,\n",
        "                                  \"filters\":{\"item_id\": [item_id]}}})\n",
        "    print(f\"Question: {preds['query']} \\n\")\n",
        "    for idx in range(top_k_generator):\n",
        "        print(f\"Answer {idx+1}: {preds['answers'][idx].answer}\")\n",
        "\n",
        "generate_answers(query)\n"
      ]
    },
    {
      "cell_type": "markdown",
      "source": [
        "## RAGenerator"
      ],
      "metadata": {
        "id": "pWM4dj8GR-uh"
      }
    },
    {
      "cell_type": "code",
      "execution_count": 88,
      "metadata": {
        "id": "D4sBhg4PBr7h"
      },
      "outputs": [],
      "source": [
        "# !pip uninstall 'farm-haystack[all-gpu]' ## or 'all-gpu' for the GPU-enabled dependencies\n",
        "%%script false --no-raise-error\n",
        "\n",
        "!pip install 'farm-haystack[all-gpu]==1.17.2' ## or 'all-gpu' for the GPU-enabled dependencies"
      ]
    },
    {
      "cell_type": "code",
      "source": [
        "%%script false --no-raise-error\n",
        "\n",
        "from haystack.nodes import RAGenerator\n",
        "\n",
        "generator = RAGenerator(model_name_or_path=\"facebook/rag-token-nq\",\n",
        "                        embed_title=False, num_beams=5)\n"
      ],
      "metadata": {
        "id": "ebXttPTRSMx8"
      },
      "execution_count": 89,
      "outputs": []
    },
    {
      "cell_type": "code",
      "source": [
        "%%script false --no-raise-error\n",
        "\n",
        "from haystack.pipelines import GenerativeQAPipeline\n",
        "\n",
        "pipe = GenerativeQAPipeline(generator=generator, retriever=dpr_retriever)"
      ],
      "metadata": {
        "id": "mXuJ6lRcSRHT"
      },
      "execution_count": 90,
      "outputs": []
    },
    {
      "cell_type": "code",
      "source": [
        "%%script false --no-raise-error\n",
        "\n",
        "def generate_answers(query, top_k_generator=3):\n",
        "    preds = pipe.run(query=query,\n",
        "                     params={\"Retriever\": {\"top_k\":5,\n",
        "                                  \"filters\":{\"item_id\": [item_id]}},\n",
        "                             \"Generator\": {\"top_k\": top_k_generator}})\n",
        "    print(f\"Question: {preds['query']} \\n\")\n",
        "    for idx in range(top_k_generator):\n",
        "        print(f\"Answer {idx+1}: {preds['answers'][idx].answer}\")"
      ],
      "metadata": {
        "id": "Fi1TCqQZSSZS"
      },
      "execution_count": 91,
      "outputs": []
    },
    {
      "cell_type": "code",
      "source": [
        "generate_answers(query)\n"
      ],
      "metadata": {
        "colab": {
          "base_uri": "https://localhost:8080/"
        },
        "id": "plEXR1mZSUWJ",
        "outputId": "72d6fa01-7718-4174-c362-cda0b88e5689"
      },
      "execution_count": 92,
      "outputs": [
        {
          "output_type": "stream",
          "name": "stderr",
          "text": [
            "WARNING:haystack.nodes.prompt.invocation_layer.hugging_face:The prompt has been truncated from 3624 tokens to 412 tokens so that the prompt length and answer length (100 tokens) fit within the max token limit (512 tokens). Shorten the prompt to prevent it from being cut off\n"
          ]
        },
        {
          "output_type": "stream",
          "name": "stdout",
          "text": [
            "Question: Who is Anakin Skywalker? \n",
            "\n",
            "Answer 1: The Phantom Menace is a movie that isn't one that the average person is going to memorize, because it isn't simplistic like episodes 4, 5, and 6.\n"
          ]
        }
      ]
    },
    {
      "cell_type": "code",
      "source": [],
      "metadata": {
        "id": "6_yj6Na8UIcP"
      },
      "execution_count": 92,
      "outputs": []
    }
  ],
  "metadata": {
    "accelerator": "GPU",
    "colab": {
      "toc_visible": true,
      "provenance": [],
      "include_colab_link": true
    },
    "kernelspec": {
      "display_name": "Python 3",
      "name": "python3"
    },
    "language_info": {
      "name": "python"
    }
  },
  "nbformat": 4,
  "nbformat_minor": 0
}