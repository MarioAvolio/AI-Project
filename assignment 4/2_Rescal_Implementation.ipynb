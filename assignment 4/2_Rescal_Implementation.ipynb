{
  "nbformat": 4,
  "nbformat_minor": 0,
  "metadata": {
    "colab": {
      "provenance": [],
      "collapsed_sections": [
        "fdfXsx-uDAqU"
      ],
      "include_colab_link": true
    },
    "kernelspec": {
      "name": "python3",
      "display_name": "Python 3"
    },
    "language_info": {
      "name": "python"
    },
    "accelerator": "GPU",
    "gpuClass": "standard"
  },
  "cells": [
    {
      "cell_type": "markdown",
      "metadata": {
        "id": "view-in-github",
        "colab_type": "text"
      },
      "source": [
        "<a href=\"https://colab.research.google.com/github/MarioAvolio/AI-Project/blob/main/assignment%204/2_Rescal_Implementation.ipynb\" target=\"_parent\"><img src=\"https://colab.research.google.com/assets/colab-badge.svg\" alt=\"Open In Colab\"/></a>"
      ]
    },
    {
      "cell_type": "markdown",
      "source": [
        "# Rescal Implementation\n",
        "\n",
        "Adapted by Federico Bianchi\n",
        "\n",
        "[1] [A Three-Way Model for Collective Learning on Multi-Relational Data](https://icml.cc/2011/papers/438_icmlpaper.pdf) (Nickel et al. 2011)"
      ],
      "metadata": {
        "id": "8EVdn5S-mvQn"
      }
    },
    {
      "cell_type": "markdown",
      "source": [
        "Install the Required Libraries"
      ],
      "metadata": {
        "id": "JA-6hhcKhDwH"
      }
    },
    {
      "cell_type": "code",
      "source": [
        "%%capture\n",
        "!pip install jax\n",
        "!pip install tqdm\n",
        "!pip install optax"
      ],
      "metadata": {
        "id": "PYCKdhSMhEFS"
      },
      "execution_count": 2,
      "outputs": []
    },
    {
      "cell_type": "code",
      "metadata": {
        "id": "cL72L5eYrB_d"
      },
      "source": [
        "import pandas as pd\n",
        "import numpy as np\n",
        "from jax import grad\n",
        "from jax import value_and_grad\n",
        "from jax import jit\n",
        "import jax.numpy as jnp\n",
        "from tqdm import tqdm\n",
        "import time\n",
        "import optax\n",
        "from scipy.spatial.distance import cosine\n",
        "from jax import random\n",
        "from jax.nn.initializers import normal"
      ],
      "execution_count": 3,
      "outputs": []
    },
    {
      "cell_type": "markdown",
      "source": [
        "### Load Training Data"
      ],
      "metadata": {
        "id": "Bj4DA144T8_n"
      }
    },
    {
      "cell_type": "code",
      "metadata": {
        "id": "6SdrydNmr4Dt",
        "colab": {
          "base_uri": "https://localhost:8080/",
          "height": 424
        },
        "outputId": "ee61df32-ee84-456d-d815-7b8d688fddc4"
      },
      "source": [
        "data = pd.read_csv(\"https://raw.githubusercontent.com/ZhenfengLei/KGDatasets/master/Countries/Countries_S1/train.txt\", sep=\"\\t\", names=[\"subject\", \"predicate\", \"object\"])\n",
        "data"
      ],
      "execution_count": 4,
      "outputs": [
        {
          "output_type": "execute_result",
          "data": {
            "text/plain": [
              "             subject  predicate              object\n",
              "0     western_africa  locatedin              africa\n",
              "1           slovakia   neighbor             ukraine\n",
              "2           slovakia   neighbor             hungary\n",
              "3           slovakia   neighbor             austria\n",
              "4           slovakia   neighbor             czechia\n",
              "...              ...        ...                 ...\n",
              "1106        cambodia  locatedin  south-eastern_asia\n",
              "1107          panama  locatedin     central_america\n",
              "1108        anguilla  locatedin           caribbean\n",
              "1109            cuba  locatedin           caribbean\n",
              "1110           nauru  locatedin             oceania\n",
              "\n",
              "[1111 rows x 3 columns]"
            ],
            "text/html": [
              "\n",
              "  <div id=\"df-a2c6c0e0-6b5e-4d12-9cc9-cfe3ac979648\" class=\"colab-df-container\">\n",
              "    <div>\n",
              "<style scoped>\n",
              "    .dataframe tbody tr th:only-of-type {\n",
              "        vertical-align: middle;\n",
              "    }\n",
              "\n",
              "    .dataframe tbody tr th {\n",
              "        vertical-align: top;\n",
              "    }\n",
              "\n",
              "    .dataframe thead th {\n",
              "        text-align: right;\n",
              "    }\n",
              "</style>\n",
              "<table border=\"1\" class=\"dataframe\">\n",
              "  <thead>\n",
              "    <tr style=\"text-align: right;\">\n",
              "      <th></th>\n",
              "      <th>subject</th>\n",
              "      <th>predicate</th>\n",
              "      <th>object</th>\n",
              "    </tr>\n",
              "  </thead>\n",
              "  <tbody>\n",
              "    <tr>\n",
              "      <th>0</th>\n",
              "      <td>western_africa</td>\n",
              "      <td>locatedin</td>\n",
              "      <td>africa</td>\n",
              "    </tr>\n",
              "    <tr>\n",
              "      <th>1</th>\n",
              "      <td>slovakia</td>\n",
              "      <td>neighbor</td>\n",
              "      <td>ukraine</td>\n",
              "    </tr>\n",
              "    <tr>\n",
              "      <th>2</th>\n",
              "      <td>slovakia</td>\n",
              "      <td>neighbor</td>\n",
              "      <td>hungary</td>\n",
              "    </tr>\n",
              "    <tr>\n",
              "      <th>3</th>\n",
              "      <td>slovakia</td>\n",
              "      <td>neighbor</td>\n",
              "      <td>austria</td>\n",
              "    </tr>\n",
              "    <tr>\n",
              "      <th>4</th>\n",
              "      <td>slovakia</td>\n",
              "      <td>neighbor</td>\n",
              "      <td>czechia</td>\n",
              "    </tr>\n",
              "    <tr>\n",
              "      <th>...</th>\n",
              "      <td>...</td>\n",
              "      <td>...</td>\n",
              "      <td>...</td>\n",
              "    </tr>\n",
              "    <tr>\n",
              "      <th>1106</th>\n",
              "      <td>cambodia</td>\n",
              "      <td>locatedin</td>\n",
              "      <td>south-eastern_asia</td>\n",
              "    </tr>\n",
              "    <tr>\n",
              "      <th>1107</th>\n",
              "      <td>panama</td>\n",
              "      <td>locatedin</td>\n",
              "      <td>central_america</td>\n",
              "    </tr>\n",
              "    <tr>\n",
              "      <th>1108</th>\n",
              "      <td>anguilla</td>\n",
              "      <td>locatedin</td>\n",
              "      <td>caribbean</td>\n",
              "    </tr>\n",
              "    <tr>\n",
              "      <th>1109</th>\n",
              "      <td>cuba</td>\n",
              "      <td>locatedin</td>\n",
              "      <td>caribbean</td>\n",
              "    </tr>\n",
              "    <tr>\n",
              "      <th>1110</th>\n",
              "      <td>nauru</td>\n",
              "      <td>locatedin</td>\n",
              "      <td>oceania</td>\n",
              "    </tr>\n",
              "  </tbody>\n",
              "</table>\n",
              "<p>1111 rows × 3 columns</p>\n",
              "</div>\n",
              "    <div class=\"colab-df-buttons\">\n",
              "\n",
              "  <div class=\"colab-df-container\">\n",
              "    <button class=\"colab-df-convert\" onclick=\"convertToInteractive('df-a2c6c0e0-6b5e-4d12-9cc9-cfe3ac979648')\"\n",
              "            title=\"Convert this dataframe to an interactive table.\"\n",
              "            style=\"display:none;\">\n",
              "\n",
              "  <svg xmlns=\"http://www.w3.org/2000/svg\" height=\"24px\" viewBox=\"0 -960 960 960\">\n",
              "    <path d=\"M120-120v-720h720v720H120Zm60-500h600v-160H180v160Zm220 220h160v-160H400v160Zm0 220h160v-160H400v160ZM180-400h160v-160H180v160Zm440 0h160v-160H620v160ZM180-180h160v-160H180v160Zm440 0h160v-160H620v160Z\"/>\n",
              "  </svg>\n",
              "    </button>\n",
              "\n",
              "  <style>\n",
              "    .colab-df-container {\n",
              "      display:flex;\n",
              "      gap: 12px;\n",
              "    }\n",
              "\n",
              "    .colab-df-convert {\n",
              "      background-color: #E8F0FE;\n",
              "      border: none;\n",
              "      border-radius: 50%;\n",
              "      cursor: pointer;\n",
              "      display: none;\n",
              "      fill: #1967D2;\n",
              "      height: 32px;\n",
              "      padding: 0 0 0 0;\n",
              "      width: 32px;\n",
              "    }\n",
              "\n",
              "    .colab-df-convert:hover {\n",
              "      background-color: #E2EBFA;\n",
              "      box-shadow: 0px 1px 2px rgba(60, 64, 67, 0.3), 0px 1px 3px 1px rgba(60, 64, 67, 0.15);\n",
              "      fill: #174EA6;\n",
              "    }\n",
              "\n",
              "    .colab-df-buttons div {\n",
              "      margin-bottom: 4px;\n",
              "    }\n",
              "\n",
              "    [theme=dark] .colab-df-convert {\n",
              "      background-color: #3B4455;\n",
              "      fill: #D2E3FC;\n",
              "    }\n",
              "\n",
              "    [theme=dark] .colab-df-convert:hover {\n",
              "      background-color: #434B5C;\n",
              "      box-shadow: 0px 1px 3px 1px rgba(0, 0, 0, 0.15);\n",
              "      filter: drop-shadow(0px 1px 2px rgba(0, 0, 0, 0.3));\n",
              "      fill: #FFFFFF;\n",
              "    }\n",
              "  </style>\n",
              "\n",
              "    <script>\n",
              "      const buttonEl =\n",
              "        document.querySelector('#df-a2c6c0e0-6b5e-4d12-9cc9-cfe3ac979648 button.colab-df-convert');\n",
              "      buttonEl.style.display =\n",
              "        google.colab.kernel.accessAllowed ? 'block' : 'none';\n",
              "\n",
              "      async function convertToInteractive(key) {\n",
              "        const element = document.querySelector('#df-a2c6c0e0-6b5e-4d12-9cc9-cfe3ac979648');\n",
              "        const dataTable =\n",
              "          await google.colab.kernel.invokeFunction('convertToInteractive',\n",
              "                                                    [key], {});\n",
              "        if (!dataTable) return;\n",
              "\n",
              "        const docLinkHtml = 'Like what you see? Visit the ' +\n",
              "          '<a target=\"_blank\" href=https://colab.research.google.com/notebooks/data_table.ipynb>data table notebook</a>'\n",
              "          + ' to learn more about interactive tables.';\n",
              "        element.innerHTML = '';\n",
              "        dataTable['output_type'] = 'display_data';\n",
              "        await google.colab.output.renderOutput(dataTable, element);\n",
              "        const docLink = document.createElement('div');\n",
              "        docLink.innerHTML = docLinkHtml;\n",
              "        element.appendChild(docLink);\n",
              "      }\n",
              "    </script>\n",
              "  </div>\n",
              "\n",
              "\n",
              "<div id=\"df-a8b4f786-0a0a-448b-b16f-4867d2507306\">\n",
              "  <button class=\"colab-df-quickchart\" onclick=\"quickchart('df-a8b4f786-0a0a-448b-b16f-4867d2507306')\"\n",
              "            title=\"Suggest charts.\"\n",
              "            style=\"display:none;\">\n",
              "\n",
              "<svg xmlns=\"http://www.w3.org/2000/svg\" height=\"24px\"viewBox=\"0 0 24 24\"\n",
              "     width=\"24px\">\n",
              "    <g>\n",
              "        <path d=\"M19 3H5c-1.1 0-2 .9-2 2v14c0 1.1.9 2 2 2h14c1.1 0 2-.9 2-2V5c0-1.1-.9-2-2-2zM9 17H7v-7h2v7zm4 0h-2V7h2v10zm4 0h-2v-4h2v4z\"/>\n",
              "    </g>\n",
              "</svg>\n",
              "  </button>\n",
              "\n",
              "<style>\n",
              "  .colab-df-quickchart {\n",
              "      --bg-color: #E8F0FE;\n",
              "      --fill-color: #1967D2;\n",
              "      --hover-bg-color: #E2EBFA;\n",
              "      --hover-fill-color: #174EA6;\n",
              "      --disabled-fill-color: #AAA;\n",
              "      --disabled-bg-color: #DDD;\n",
              "  }\n",
              "\n",
              "  [theme=dark] .colab-df-quickchart {\n",
              "      --bg-color: #3B4455;\n",
              "      --fill-color: #D2E3FC;\n",
              "      --hover-bg-color: #434B5C;\n",
              "      --hover-fill-color: #FFFFFF;\n",
              "      --disabled-bg-color: #3B4455;\n",
              "      --disabled-fill-color: #666;\n",
              "  }\n",
              "\n",
              "  .colab-df-quickchart {\n",
              "    background-color: var(--bg-color);\n",
              "    border: none;\n",
              "    border-radius: 50%;\n",
              "    cursor: pointer;\n",
              "    display: none;\n",
              "    fill: var(--fill-color);\n",
              "    height: 32px;\n",
              "    padding: 0;\n",
              "    width: 32px;\n",
              "  }\n",
              "\n",
              "  .colab-df-quickchart:hover {\n",
              "    background-color: var(--hover-bg-color);\n",
              "    box-shadow: 0 1px 2px rgba(60, 64, 67, 0.3), 0 1px 3px 1px rgba(60, 64, 67, 0.15);\n",
              "    fill: var(--button-hover-fill-color);\n",
              "  }\n",
              "\n",
              "  .colab-df-quickchart-complete:disabled,\n",
              "  .colab-df-quickchart-complete:disabled:hover {\n",
              "    background-color: var(--disabled-bg-color);\n",
              "    fill: var(--disabled-fill-color);\n",
              "    box-shadow: none;\n",
              "  }\n",
              "\n",
              "  .colab-df-spinner {\n",
              "    border: 2px solid var(--fill-color);\n",
              "    border-color: transparent;\n",
              "    border-bottom-color: var(--fill-color);\n",
              "    animation:\n",
              "      spin 1s steps(1) infinite;\n",
              "  }\n",
              "\n",
              "  @keyframes spin {\n",
              "    0% {\n",
              "      border-color: transparent;\n",
              "      border-bottom-color: var(--fill-color);\n",
              "      border-left-color: var(--fill-color);\n",
              "    }\n",
              "    20% {\n",
              "      border-color: transparent;\n",
              "      border-left-color: var(--fill-color);\n",
              "      border-top-color: var(--fill-color);\n",
              "    }\n",
              "    30% {\n",
              "      border-color: transparent;\n",
              "      border-left-color: var(--fill-color);\n",
              "      border-top-color: var(--fill-color);\n",
              "      border-right-color: var(--fill-color);\n",
              "    }\n",
              "    40% {\n",
              "      border-color: transparent;\n",
              "      border-right-color: var(--fill-color);\n",
              "      border-top-color: var(--fill-color);\n",
              "    }\n",
              "    60% {\n",
              "      border-color: transparent;\n",
              "      border-right-color: var(--fill-color);\n",
              "    }\n",
              "    80% {\n",
              "      border-color: transparent;\n",
              "      border-right-color: var(--fill-color);\n",
              "      border-bottom-color: var(--fill-color);\n",
              "    }\n",
              "    90% {\n",
              "      border-color: transparent;\n",
              "      border-bottom-color: var(--fill-color);\n",
              "    }\n",
              "  }\n",
              "</style>\n",
              "\n",
              "  <script>\n",
              "    async function quickchart(key) {\n",
              "      const quickchartButtonEl =\n",
              "        document.querySelector('#' + key + ' button');\n",
              "      quickchartButtonEl.disabled = true;  // To prevent multiple clicks.\n",
              "      quickchartButtonEl.classList.add('colab-df-spinner');\n",
              "      try {\n",
              "        const charts = await google.colab.kernel.invokeFunction(\n",
              "            'suggestCharts', [key], {});\n",
              "      } catch (error) {\n",
              "        console.error('Error during call to suggestCharts:', error);\n",
              "      }\n",
              "      quickchartButtonEl.classList.remove('colab-df-spinner');\n",
              "      quickchartButtonEl.classList.add('colab-df-quickchart-complete');\n",
              "    }\n",
              "    (() => {\n",
              "      let quickchartButtonEl =\n",
              "        document.querySelector('#df-a8b4f786-0a0a-448b-b16f-4867d2507306 button');\n",
              "      quickchartButtonEl.style.display =\n",
              "        google.colab.kernel.accessAllowed ? 'block' : 'none';\n",
              "    })();\n",
              "  </script>\n",
              "</div>\n",
              "    </div>\n",
              "  </div>\n"
            ]
          },
          "metadata": {},
          "execution_count": 4
        }
      ]
    },
    {
      "cell_type": "code",
      "metadata": {
        "id": "TjIfJFwLr6zx"
      },
      "source": [
        "entities = list(set(data[\"subject\"].unique().tolist() + data[\"object\"].unique().tolist()))"
      ],
      "execution_count": 5,
      "outputs": []
    },
    {
      "cell_type": "code",
      "source": [
        "entities"
      ],
      "metadata": {
        "colab": {
          "base_uri": "https://localhost:8080/"
        },
        "id": "ZFgiEJnl8S50",
        "outputId": "b9a85084-b81c-46df-ef1c-294a8aa624ca"
      },
      "execution_count": 5,
      "outputs": [
        {
          "output_type": "execute_result",
          "data": {
            "text/plain": [
              "['yemen',\n",
              " 'réunion',\n",
              " 'bhutan',\n",
              " 'slovakia',\n",
              " 'southern_europe',\n",
              " 'estonia',\n",
              " 'oceania',\n",
              " 'zimbabwe',\n",
              " 'kosovo',\n",
              " 'guam',\n",
              " 'republic_of_the_congo',\n",
              " 'turkmenistan',\n",
              " 'canada',\n",
              " 'anguilla',\n",
              " 'costa_rica',\n",
              " 'guadeloupe',\n",
              " 'indonesia',\n",
              " 'ireland',\n",
              " 'greenland',\n",
              " 'saint_kitts_and_nevis',\n",
              " 'saint_martin',\n",
              " 'bosnia_and_herzegovina',\n",
              " 'macau',\n",
              " 'caribbean',\n",
              " 'georgia',\n",
              " 'kenya',\n",
              " 'somalia',\n",
              " 'egypt',\n",
              " 'liechtenstein',\n",
              " 'paraguay',\n",
              " 'switzerland',\n",
              " 'pakistan',\n",
              " 'san_marino',\n",
              " 'venezuela',\n",
              " 'Åland_islands',\n",
              " 'ecuador',\n",
              " 'guernsey',\n",
              " 'djibouti',\n",
              " 'dr_congo',\n",
              " 'marshall_islands',\n",
              " 'japan',\n",
              " 'united_kingdom',\n",
              " 'uruguay',\n",
              " 'morocco',\n",
              " 'serbia',\n",
              " 'bahrain',\n",
              " 'nauru',\n",
              " 'western_europe',\n",
              " 'asia',\n",
              " 'colombia',\n",
              " 'norfolk_island',\n",
              " 'turks_and_caicos_islands',\n",
              " 'ivory_coast',\n",
              " 'cyprus',\n",
              " 'argentina',\n",
              " 'ukraine',\n",
              " 'lebanon',\n",
              " 'gibraltar',\n",
              " 'thailand',\n",
              " 'eritrea',\n",
              " 'jordan',\n",
              " 'turkey',\n",
              " 'mexico',\n",
              " 'andorra',\n",
              " 'eastern_africa',\n",
              " 'saint_vincent_and_the_grenadines',\n",
              " 'northern_africa',\n",
              " 'new_zealand',\n",
              " 'isle_of_man',\n",
              " 'spain',\n",
              " 'bahamas',\n",
              " 'czechia',\n",
              " 'sweden',\n",
              " 'myanmar',\n",
              " 'uganda',\n",
              " 'south-eastern_asia',\n",
              " 'antigua_and_barbuda',\n",
              " 'southern_asia',\n",
              " 'hong_kong',\n",
              " 'india',\n",
              " 'moldova',\n",
              " 'brazil',\n",
              " 'syria',\n",
              " 'kuwait',\n",
              " 'cambodia',\n",
              " 'albania',\n",
              " 'central_asia',\n",
              " 'mauritania',\n",
              " 'liberia',\n",
              " 'british_indian_ocean_territory',\n",
              " 'swaziland',\n",
              " 'tajikistan',\n",
              " 'bermuda',\n",
              " 'italy',\n",
              " 'gambia',\n",
              " 'france',\n",
              " 'mali',\n",
              " 'brunei',\n",
              " 'fiji',\n",
              " 'benin',\n",
              " 'vatican_city',\n",
              " 'niue',\n",
              " 'belgium',\n",
              " 'burundi',\n",
              " 'africa',\n",
              " 'polynesia',\n",
              " 'peru',\n",
              " 'saint_barthélemy',\n",
              " 'middle_africa',\n",
              " 'nicaragua',\n",
              " 'svalbard_and_jan_mayen',\n",
              " 'taiwan',\n",
              " 'central_african_republic',\n",
              " 'norway',\n",
              " 'united_arab_emirates',\n",
              " 'iran',\n",
              " 'palau',\n",
              " 'cayman_islands',\n",
              " 'jamaica',\n",
              " 'bolivia',\n",
              " 'grenada',\n",
              " 'central_america',\n",
              " 'niger',\n",
              " 'french_guiana',\n",
              " 'cameroon',\n",
              " 'hungary',\n",
              " 'australia_and_new_zealand',\n",
              " 'northern_mariana_islands',\n",
              " 'montserrat',\n",
              " 'palestine',\n",
              " 'sint_maarten',\n",
              " 'mozambique',\n",
              " 'russia',\n",
              " 'denmark',\n",
              " 'french_polynesia',\n",
              " 'libya',\n",
              " 'saint_lucia',\n",
              " 'central_europe',\n",
              " 'belize',\n",
              " 'sierra_leone',\n",
              " 'algeria',\n",
              " 'kazakhstan',\n",
              " 'samoa',\n",
              " 'kiribati',\n",
              " 'vanuatu',\n",
              " 'nigeria',\n",
              " 'ghana',\n",
              " 'senegal',\n",
              " 'southern_africa',\n",
              " 'angola',\n",
              " 'guinea-bissau',\n",
              " 'south_sudan',\n",
              " 'micronesia',\n",
              " 'finland',\n",
              " 'tokelau',\n",
              " 'united_states_minor_outlying_islands',\n",
              " 'netherlands',\n",
              " 'tonga',\n",
              " 'tanzania',\n",
              " 'chile',\n",
              " 'dominican_republic',\n",
              " 'azerbaijan',\n",
              " 'christmas_island',\n",
              " 'solomon_islands',\n",
              " 'israel',\n",
              " 'haiti',\n",
              " 'wallis_and_futuna',\n",
              " 'cocos_keeling_islands',\n",
              " 'lesotho',\n",
              " 'macedonia',\n",
              " 'american_samoa',\n",
              " 'tuvalu',\n",
              " 'maldives',\n",
              " 'cook_islands',\n",
              " 'americas',\n",
              " 'jersey',\n",
              " 'northern_europe',\n",
              " 'croatia',\n",
              " 'comoros',\n",
              " 'south_america',\n",
              " 'bangladesh',\n",
              " 'australia',\n",
              " 'south_korea',\n",
              " 'botswana',\n",
              " 'eastern_europe',\n",
              " 'greece',\n",
              " 'saint_pierre_and_miquelon',\n",
              " 'curaçao',\n",
              " 'barbados',\n",
              " 'sri_lanka',\n",
              " 'china',\n",
              " 'oman',\n",
              " 'tunisia',\n",
              " 'malta',\n",
              " 'zambia',\n",
              " 'belarus',\n",
              " 'south_georgia',\n",
              " 'montenegro',\n",
              " 'northern_america',\n",
              " 'eastern_asia',\n",
              " 'philippines',\n",
              " 'madagascar',\n",
              " 'armenia',\n",
              " 'united_states_virgin_islands',\n",
              " 'cape_verde',\n",
              " 'western_sahara',\n",
              " 'south_africa',\n",
              " 'laos',\n",
              " 'nepal',\n",
              " 'luxembourg',\n",
              " 'panama',\n",
              " 'timor-leste',\n",
              " 'papua_new_guinea',\n",
              " 'pitcairn_islands',\n",
              " 'british_virgin_islands',\n",
              " 'burkina_faso',\n",
              " 'qatar',\n",
              " 'ethiopia',\n",
              " 'dominica',\n",
              " 'honduras',\n",
              " 'new_caledonia',\n",
              " 'germany',\n",
              " 'europe',\n",
              " 'melanesia',\n",
              " 'são_tomé_and_príncipe',\n",
              " 'poland',\n",
              " 'malaysia',\n",
              " 'bulgaria',\n",
              " 'portugal',\n",
              " 'namibia',\n",
              " 'sudan',\n",
              " 'united_states',\n",
              " 'kyrgyzstan',\n",
              " 'slovenia',\n",
              " 'romania',\n",
              " 'saudi_arabia',\n",
              " 'aruba',\n",
              " 'mongolia',\n",
              " 'singapore',\n",
              " 'afghanistan',\n",
              " 'martinique',\n",
              " 'lithuania',\n",
              " 'suriname',\n",
              " 'el_salvador',\n",
              " 'togo',\n",
              " 'guyana',\n",
              " 'cuba',\n",
              " 'chad',\n",
              " 'equatorial_guinea',\n",
              " 'malawi',\n",
              " 'iceland',\n",
              " 'guatemala',\n",
              " 'falkland_islands',\n",
              " 'north_korea',\n",
              " 'monaco',\n",
              " 'gabon',\n",
              " 'guinea',\n",
              " 'western_africa',\n",
              " 'iraq',\n",
              " 'latvia',\n",
              " 'western_asia',\n",
              " 'faroe_islands',\n",
              " 'puerto_rico',\n",
              " 'uzbekistan',\n",
              " 'vietnam',\n",
              " 'rwanda',\n",
              " 'mayotte',\n",
              " 'trinidad_and_tobago',\n",
              " 'mauritius',\n",
              " 'austria',\n",
              " 'seychelles']"
            ]
          },
          "metadata": {},
          "execution_count": 5
        }
      ]
    },
    {
      "cell_type": "code",
      "metadata": {
        "id": "UmeVnpAFsBgw"
      },
      "source": [
        "number_of_entities = len(entities)"
      ],
      "execution_count": 6,
      "outputs": []
    },
    {
      "cell_type": "code",
      "source": [
        "number_of_entities"
      ],
      "metadata": {
        "colab": {
          "base_uri": "https://localhost:8080/"
        },
        "id": "q5VQdHTz8Vzy",
        "outputId": "6188cc29-604c-4bb3-a9c6-8bf082494118"
      },
      "execution_count": 7,
      "outputs": [
        {
          "output_type": "execute_result",
          "data": {
            "text/plain": [
              "271"
            ]
          },
          "metadata": {},
          "execution_count": 7
        }
      ]
    },
    {
      "cell_type": "markdown",
      "source": [
        "## Represent relations as tables"
      ],
      "metadata": {
        "id": "x54Z2C157M-x"
      }
    },
    {
      "cell_type": "code",
      "metadata": {
        "id": "1HGhqZGhsfF4"
      },
      "source": [
        "# we initialize the matrices of the relationships\n",
        "\n",
        "loc_in_matrix = np.zeros((number_of_entities, number_of_entities))\n",
        "neigh_matrix = np.zeros((number_of_entities, number_of_entities))"
      ],
      "execution_count": 8,
      "outputs": []
    },
    {
      "cell_type": "markdown",
      "source": [
        "Now we add the 1s obtaining a matrix $M$ similar to the following where $m_{i,j} = 1$ for the relation $r$ means that the triple $(e_i, r, e_j)$ exist in the KG.   "
      ],
      "metadata": {
        "id": "IFvLncfIrxQ1"
      }
    },
    {
      "cell_type": "markdown",
      "source": [
        "![rel_table.excalidraw.png](data:image/png;base64,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)"
      ],
      "metadata": {
        "id": "7JKVgC_YrnPV"
      }
    },
    {
      "cell_type": "code",
      "metadata": {
        "id": "56_A2gFUsmgO"
      },
      "source": [
        "# and we add the 1s.\n",
        "\n",
        "for index, row in data[data[\"predicate\"] == \"locatedin\"].iterrows():\n",
        "    subject_ = row[\"subject\"]\n",
        "    object_ = row[\"object\"]\n",
        "\n",
        "    loc_in_matrix[entities.index(subject_)][entities.index(object_)] = 1\n",
        "\n",
        "for index, row in data[data[\"predicate\"] == \"neighbor\"].iterrows():\n",
        "    subject_ = row[\"subject\"]\n",
        "    object_ = row[\"object\"]\n",
        "\n",
        "    neigh_matrix[entities.index(subject_)][entities.index(object_)] = 1"
      ],
      "execution_count": 9,
      "outputs": []
    },
    {
      "cell_type": "code",
      "source": [
        "loc_in_matrix\n"
      ],
      "metadata": {
        "colab": {
          "base_uri": "https://localhost:8080/"
        },
        "id": "1gwog5xv84da",
        "outputId": "187dc403-46ed-4e6c-ec55-3a071f341af9"
      },
      "execution_count": 10,
      "outputs": [
        {
          "output_type": "execute_result",
          "data": {
            "text/plain": [
              "array([[0., 0., 0., ..., 0., 0., 0.],\n",
              "       [0., 0., 0., ..., 0., 0., 0.],\n",
              "       [0., 0., 0., ..., 0., 0., 0.],\n",
              "       ...,\n",
              "       [0., 0., 0., ..., 0., 0., 0.],\n",
              "       [0., 0., 0., ..., 0., 0., 0.],\n",
              "       [0., 0., 0., ..., 0., 0., 0.]])"
            ]
          },
          "metadata": {},
          "execution_count": 10
        }
      ]
    },
    {
      "cell_type": "code",
      "metadata": {
        "id": "KMqkxlOwszqt"
      },
      "source": [
        "# make the matrices jax.numpy objects\n",
        "loc_in_matrix = jnp.array(loc_in_matrix)\n",
        "neigh_matrix = jnp.array(neigh_matrix)"
      ],
      "execution_count": 11,
      "outputs": []
    },
    {
      "cell_type": "markdown",
      "source": [
        "RESCAL [1] employs the following rank-$r$ factorization, where each slice $X_k$ is factorized as\n",
        "$$ Χ_k ≈ AR_kA^T , for k = 1, \\ldots , m $$\n",
        "Here, $A$ is a $n\\times r$ ($n$ is the number of entities) matrix that contains the latent-component\n",
        "representation of the entities in the domain and $R_k$ is an\n",
        "asymmetric $r\\times r$ matrix that models the interactions of the latent components in the $k$-th predicate."
      ],
      "metadata": {
        "id": "_BbljkL97SEa"
      }
    },
    {
      "cell_type": "code",
      "metadata": {
        "id": "kOdW4pxAtJBO"
      },
      "source": [
        "# function to initialize the matrixes\n",
        "def initialize_parameters(rnd_key, number_of_entities, hidden_size):\n",
        "\n",
        "    k1, k2 = random.split(rnd_key)\n",
        "\n",
        "    params = {\n",
        "        \"A\" : normal()(k1, (number_of_entities, hidden_size)),\n",
        "        \"R_locatedin\" : normal()(k1, (hidden_size,hidden_size)),\n",
        "        \"R_neighbors\" :normal()(k1, (hidden_size,hidden_size)),\n",
        "    }\n",
        "\n",
        "    return params"
      ],
      "execution_count": 12,
      "outputs": []
    },
    {
      "cell_type": "code",
      "metadata": {
        "id": "43esDt9ZuDPP"
      },
      "source": [
        "# this is a jax-specific thing for reproducibility\n",
        "\n",
        "rnd_key = random.PRNGKey(1)\n",
        "rand_key, k1, k2 = random.split(rnd_key, 3)"
      ],
      "execution_count": 13,
      "outputs": []
    },
    {
      "cell_type": "code",
      "metadata": {
        "id": "Ga5WPeJluIou"
      },
      "source": [
        "params = initialize_parameters(rnd_key, number_of_entities, 40)"
      ],
      "execution_count": 14,
      "outputs": []
    },
    {
      "cell_type": "markdown",
      "source": [
        "The factor matrices $A$ and $R_k$ can be computed by solving\n",
        "the regularized minimization problem\n",
        "$$\\min_{A,R_k} f (A, R_k ) + g(A, R_k )$$\n",
        "where\n",
        "$$f (A, R_k ) = \\frac{1}{2} \\bigg( \\sum_k || X_k − AR_k A^T ||^2_F \\bigg)$$\n",
        "and $g$ is a regularization term which we ignore in this tutorial."
      ],
      "metadata": {
        "id": "q8ejCeNX63OY"
      }
    },
    {
      "cell_type": "markdown",
      "source": [
        "## Exercise\n",
        "\n",
        "Implement the loss function to train RESCAL (ignore the regularization term $g$).\n",
        "\n",
        "You can use `jnp.linalg.norm(M**2)` to obtain the *squared Frobenius norm* ($||M||^2_F$) of the matrix $M$.\n",
        "\n",
        "For matrix multiplication you can use `A.dot(B)` while to transpose a matrix $M$ just run `M.T`."
      ],
      "metadata": {
        "id": "LTf_sZRMD0Mh"
      }
    },
    {
      "cell_type": "code",
      "source": [
        "params['A'], params['R_locatedin'], params['R_neighbors']"
      ],
      "metadata": {
        "id": "DWrSUeTvAYBD",
        "colab": {
          "base_uri": "https://localhost:8080/"
        },
        "outputId": "aad74665-a3d2-4ce6-ec42-1bc1832fcb7a"
      },
      "execution_count": 15,
      "outputs": [
        {
          "output_type": "execute_result",
          "data": {
            "text/plain": [
              "(Array([[ 0.00866371, -0.01332114, -0.00726191, ...,  0.02261542,\n",
              "         -0.01224672,  0.00615816],\n",
              "        [ 0.00212861, -0.00132793, -0.00592347, ...,  0.00664622,\n",
              "         -0.00050808, -0.00338675],\n",
              "        [-0.00243504, -0.00429747, -0.00639926, ...,  0.01444154,\n",
              "          0.01005502, -0.00979163],\n",
              "        ...,\n",
              "        [-0.00310661,  0.01415012,  0.00228408, ..., -0.00483812,\n",
              "         -0.00734852,  0.01352155],\n",
              "        [ 0.00472718, -0.00504683,  0.00064599, ...,  0.00996262,\n",
              "          0.00025257,  0.01755651],\n",
              "        [-0.01155617, -0.0024557 ,  0.00161922, ...,  0.00854622,\n",
              "         -0.01110045, -0.00748727]], dtype=float32),\n",
              " Array([[ 0.00826546,  0.00049275,  0.01752382, ...,  0.00263281,\n",
              "         -0.00840951,  0.00419681],\n",
              "        [ 0.0093708 ,  0.00035016,  0.00704468, ..., -0.00513814,\n",
              "          0.00228167, -0.00061239],\n",
              "        [-0.01852107, -0.00074308,  0.00180524, ...,  0.01382972,\n",
              "         -0.00601451, -0.00070728],\n",
              "        ...,\n",
              "        [-0.00324565,  0.003786  , -0.01107414, ...,  0.0158304 ,\n",
              "         -0.00675797, -0.00787994],\n",
              "        [ 0.00540789,  0.00160119, -0.01062745, ...,  0.00348749,\n",
              "          0.02393761, -0.02086609],\n",
              "        [ 0.01146494, -0.00903297,  0.00810855, ..., -0.00810099,\n",
              "          0.0028146 , -0.00894489]], dtype=float32),\n",
              " Array([[ 0.00826546,  0.00049275,  0.01752382, ...,  0.00263281,\n",
              "         -0.00840951,  0.00419681],\n",
              "        [ 0.0093708 ,  0.00035016,  0.00704468, ..., -0.00513814,\n",
              "          0.00228167, -0.00061239],\n",
              "        [-0.01852107, -0.00074308,  0.00180524, ...,  0.01382972,\n",
              "         -0.00601451, -0.00070728],\n",
              "        ...,\n",
              "        [-0.00324565,  0.003786  , -0.01107414, ...,  0.0158304 ,\n",
              "         -0.00675797, -0.00787994],\n",
              "        [ 0.00540789,  0.00160119, -0.01062745, ...,  0.00348749,\n",
              "          0.02393761, -0.02086609],\n",
              "        [ 0.01146494, -0.00903297,  0.00810855, ..., -0.00810099,\n",
              "          0.0028146 , -0.00894489]], dtype=float32))"
            ]
          },
          "metadata": {},
          "execution_count": 15
        }
      ]
    },
    {
      "cell_type": "code",
      "source": [
        "jnp.linalg.norm((neigh_matrix - params['A'].dot(params['R_neighbors']).dot(params['A'].T))**2)"
      ],
      "metadata": {
        "colab": {
          "base_uri": "https://localhost:8080/"
        },
        "id": "YxiGxdFsCWAC",
        "outputId": "9fcf27ff-bf40-4829-bb91-a1a64d06e8b7"
      },
      "execution_count": 16,
      "outputs": [
        {
          "output_type": "execute_result",
          "data": {
            "text/plain": [
              "Array(25.455729, dtype=float32)"
            ]
          },
          "metadata": {},
          "execution_count": 16
        }
      ]
    },
    {
      "cell_type": "code",
      "source": [
        "def loss_function(params, located_in_matrix, neighbors_matrix):\n",
        "\n",
        "  ######################\n",
        "  ### YOUR CODE HERE ###\n",
        "  ######################\n",
        "\n",
        "  loss_neighbor = jnp.linalg.norm((neigh_matrix - params['A'].dot(params['R_neighbors']).dot(params['A'].T))**2)\n",
        "\n",
        "\n",
        "\n",
        "  loss_locin = jnp.linalg.norm((loc_in_matrix - params['A'].dot(params['R_locatedin']).dot(params['A'].T))**2)\n",
        "\n",
        "\n",
        "  loss = (loss_neighbor + loss_locin) / 2\n",
        "\n",
        "\n",
        "  return loss"
      ],
      "metadata": {
        "id": "Ikk1lGMEDLhb"
      },
      "execution_count": 17,
      "outputs": []
    },
    {
      "cell_type": "markdown",
      "source": [
        "### Solution"
      ],
      "metadata": {
        "id": "fdfXsx-uDAqU"
      }
    },
    {
      "cell_type": "code",
      "source": [
        "def loss_function(params, located_in_matrix, neighbors_matrix):\n",
        "\n",
        "  loss_located_in = jnp.linalg.norm((\n",
        "      located_in_matrix - params['A'].dot(params['R_locatedin']).dot(params['A'].T)\n",
        "    )**2)\n",
        "\n",
        "  loss_neighbors = jnp.linalg.norm((\n",
        "      neighbors_matrix - params['A'].dot(params['R_neighbors']).dot(params['A'].T)\n",
        "    )**2)\n",
        "\n",
        "  loss = 0.5 * (loss_located_in + loss_neighbors)\n",
        "\n",
        "  return loss\n"
      ],
      "metadata": {
        "id": "iGAVgXUGDY6S"
      },
      "execution_count": 18,
      "outputs": []
    },
    {
      "cell_type": "code",
      "metadata": {
        "id": "WVJa2wYPuOxv"
      },
      "source": [
        "def loss_function(params, located_in_matrix, neighbors_matrix):\n",
        "\n",
        "    err1 = jnp.linalg.norm((\n",
        "        located_in_matrix \\\n",
        "          - params[\"A\"].dot(params[\"R_locatedin\"].dot(params[\"A\"].T)))**2)\n",
        "\n",
        "    err2 = jnp.linalg.norm((\n",
        "        neighbors_matrix \\\n",
        "          - params[\"A\"].dot(params[\"R_neighbors\"].dot(params[\"A\"].T)))**2)\n",
        "\n",
        "    return err1 + err2\n"
      ],
      "execution_count": 19,
      "outputs": []
    },
    {
      "cell_type": "markdown",
      "source": [
        "Testing if we can get the gradient of this"
      ],
      "metadata": {
        "id": "xhtZC-QcUKyo"
      }
    },
    {
      "cell_type": "code",
      "metadata": {
        "colab": {
          "base_uri": "https://localhost:8080/"
        },
        "id": "Mn66ZxFlvvOD",
        "outputId": "d3a6d853-a568-4158-d0a5-1eb47aa31217"
      },
      "source": [
        "params = initialize_parameters(rnd_key, number_of_entities, 40)\n",
        "l, _ = value_and_grad(loss_function)(params, loc_in_matrix, neigh_matrix)\n",
        "l"
      ],
      "execution_count": 20,
      "outputs": [
        {
          "output_type": "execute_result",
          "data": {
            "text/plain": [
              "Array(46.94992, dtype=float32)"
            ]
          },
          "metadata": {},
          "execution_count": 20
        }
      ]
    },
    {
      "cell_type": "markdown",
      "source": [
        "### Optimization\n",
        "\n",
        "We can either use SGD or Adam. SGD can be written manually, for Adam we rely on the optax libary. In the rest of the colab we will use the optax impelementation, but I will also add the SGD version to give you the idea of what it takes to implement it."
      ],
      "metadata": {
        "id": "j73oPjPUhjrP"
      }
    },
    {
      "cell_type": "code",
      "metadata": {
        "id": "W7lqaZHswF_r"
      },
      "source": [
        "# SGD\n",
        "\n",
        "@jit\n",
        "def update(params, located_in_matrix, neigh_matrix):\n",
        "    lr = 0.01\n",
        "\n",
        "    loss_value, grads = value_and_grad(loss_function)(params, located_in_matrix, neigh_matrix)\n",
        "\n",
        "    new_params = {}\n",
        "\n",
        "    new_params[\"A\"] = params[\"A\"] - lr*grads[\"A\"]\n",
        "    new_params[\"R_neighbors\"] = params[\"R_neighbors\"] - lr*grads[\"R_neighbors\"]\n",
        "    new_params[\"R_locatedin\"] = params[\"R_locatedin\"] - lr*grads[\"R_locatedin\"]\n",
        "\n",
        "    return loss_value, new_params\n"
      ],
      "execution_count": 21,
      "outputs": []
    },
    {
      "cell_type": "code",
      "metadata": {
        "id": "6Oz_s-RaxcDQ"
      },
      "source": [
        "# OPTAX Version\n",
        "\n",
        "@jit\n",
        "def optimize(params, opt_state, x, y):\n",
        "    loss_value, grads = value_and_grad(loss_function)(params, x, y)\n",
        "    updates, opt_state = opt_update(grads, opt_state)\n",
        "    params = optax.apply_updates(params, updates)\n",
        "    return loss_value, opt_state, params"
      ],
      "execution_count": 22,
      "outputs": []
    },
    {
      "cell_type": "markdown",
      "source": [
        "### Training"
      ],
      "metadata": {
        "id": "VYB1j_aXh_4d"
      }
    },
    {
      "cell_type": "code",
      "metadata": {
        "colab": {
          "base_uri": "https://localhost:8080/"
        },
        "id": "RICb-8blxi9Q",
        "outputId": "df5048e1-0bc4-47ae-821e-3344e87d384c"
      },
      "source": [
        "epochs = 100\n",
        "embedding_size = 80\n",
        "\n",
        "\n",
        "params = initialize_parameters(rnd_key, number_of_entities, embedding_size)\n",
        "opt_init, opt_update = optax.adam(0.001)\n",
        "opt_state = opt_init(params)\n",
        "pbar = tqdm(total=epochs, position=0)\n",
        "\n",
        "for _ in range(0, epochs):\n",
        "    loss_value, opt_state, params = optimize(params, opt_state, loc_in_matrix, neigh_matrix) # optimization\n",
        "\n",
        "    pbar.update(1)\n",
        "    pbar.set_description(f\"{loss_value}\")\n"
      ],
      "execution_count": 23,
      "outputs": [
        {
          "output_type": "stream",
          "name": "stderr",
          "text": [
            "17.907949447631836: 100%|██████████| 100/100 [00:01<00:00, 98.83it/s]"
          ]
        }
      ]
    },
    {
      "cell_type": "markdown",
      "source": [
        "# Playing with some examples"
      ],
      "metadata": {
        "id": "k3-S4SoThYKy"
      }
    },
    {
      "cell_type": "code",
      "metadata": {
        "id": "dB-NXaL5yzLA"
      },
      "source": [
        "# these are the ids of the countries\n",
        "\n",
        "ukr_idx = entities.index(\"ukraine\")\n",
        "slo_idx = entities.index(\"slovakia\")\n",
        "zam_idx = entities.index(\"zambia\")"
      ],
      "execution_count": 24,
      "outputs": []
    },
    {
      "cell_type": "code",
      "source": [
        "entities[ukr_idx]"
      ],
      "metadata": {
        "colab": {
          "base_uri": "https://localhost:8080/",
          "height": 35
        },
        "id": "XMp-jhoADc7u",
        "outputId": "7c591342-685b-48ff-da85-3b7f40a86a0d"
      },
      "execution_count": 25,
      "outputs": [
        {
          "output_type": "execute_result",
          "data": {
            "text/plain": [
              "'ukraine'"
            ],
            "application/vnd.google.colaboratory.intrinsic+json": {
              "type": "string"
            }
          },
          "metadata": {},
          "execution_count": 25
        }
      ]
    },
    {
      "cell_type": "code",
      "metadata": {
        "id": "UNbyM4o7ytBY"
      },
      "source": [
        "# we can get the embedding of each country by accessing the corresponding row\n",
        "\n",
        "ukr = params[\"A\"][ukr_idx]\n",
        "slo = params[\"A\"][slo_idx]\n",
        "zambia = params[\"A\"][zam_idx]"
      ],
      "execution_count": 26,
      "outputs": []
    },
    {
      "cell_type": "code",
      "source": [
        "ukr.shape"
      ],
      "metadata": {
        "colab": {
          "base_uri": "https://localhost:8080/"
        },
        "id": "Q1ECYL28DhiN",
        "outputId": "be50e312-f5d6-455d-ec97-270ebf33580e"
      },
      "execution_count": 27,
      "outputs": [
        {
          "output_type": "execute_result",
          "data": {
            "text/plain": [
              "(80,)"
            ]
          },
          "metadata": {},
          "execution_count": 27
        }
      ]
    },
    {
      "cell_type": "code",
      "metadata": {
        "colab": {
          "base_uri": "https://localhost:8080/"
        },
        "id": "eEK3r7mqy_7z",
        "outputId": "7ad65886-9daa-4187-895c-baa86895d378"
      },
      "source": [
        "1 - cosine(ukr, zambia), 1 - cosine(ukr, slo)"
      ],
      "execution_count": 28,
      "outputs": [
        {
          "output_type": "execute_result",
          "data": {
            "text/plain": [
              "(-0.0227988101541996, 0.8594115376472473)"
            ]
          },
          "metadata": {},
          "execution_count": 28
        }
      ]
    },
    {
      "cell_type": "code",
      "metadata": {
        "id": "5PjjJMfE3RcP"
      },
      "source": [
        "reconstructed_located_in = params[\"A\"].dot(params[\"R_locatedin\"].dot(params[\"A\"].T)) # we reconstruct the original located_in matrix\n",
        "\n",
        "reconstructed_located_in = np.array(reconstructed_located_in) # we cast to numpy array"
      ],
      "execution_count": 29,
      "outputs": []
    },
    {
      "cell_type": "code",
      "source": [
        "canada_idx = entities.index(\"canada\") # index of canada\n",
        "canada_row = reconstructed_located_in[canada_idx] # we get the row corresponding to canada in the embedding\n",
        "\n",
        "top_prediction = np.argmax(canada_row)\n",
        "\n",
        "print(entities[top_prediction], canada_row[top_prediction])"
      ],
      "metadata": {
        "colab": {
          "base_uri": "https://localhost:8080/"
        },
        "id": "Wdw3DvsvtdQ9",
        "outputId": "17cf73e6-bc9b-4388-a294-f9e3577f4f05"
      },
      "execution_count": 30,
      "outputs": [
        {
          "output_type": "stream",
          "name": "stdout",
          "text": [
            "northern_america 0.4290919\n"
          ]
        }
      ]
    },
    {
      "cell_type": "code",
      "source": [
        "def get_top_k_predictions(entity, relation_matrix, top_k):\n",
        "  ent_idx = entities.index(entity)\n",
        "  ent_row = relation_matrix[ent_idx]\n",
        "\n",
        "  top_predictions = np.argsort(ent_row)[::-1][:top_k]\n",
        "\n",
        "  return [(entities[k], ent_row[k]) for k in top_predictions]"
      ],
      "metadata": {
        "id": "EZGpuKdquxK-"
      },
      "execution_count": 31,
      "outputs": []
    },
    {
      "cell_type": "code",
      "source": [
        "get_top_k_predictions('canada', reconstructed_located_in, 5)"
      ],
      "metadata": {
        "colab": {
          "base_uri": "https://localhost:8080/"
        },
        "id": "3ReqtK5-vLAy",
        "outputId": "54fefaf3-bc28-4b98-ed6b-a97c9d5fc295"
      },
      "execution_count": 32,
      "outputs": [
        {
          "output_type": "execute_result",
          "data": {
            "text/plain": [
              "[('northern_america', 0.4290919),\n",
              " ('oceania', 0.40768278),\n",
              " ('americas', 0.34849837),\n",
              " ('central_america', 0.3152258),\n",
              " ('asia', 0.26470727)]"
            ]
          },
          "metadata": {},
          "execution_count": 32
        }
      ]
    },
    {
      "cell_type": "code",
      "source": [
        "get_top_k_predictions('italy', reconstructed_located_in, 5)"
      ],
      "metadata": {
        "colab": {
          "base_uri": "https://localhost:8080/"
        },
        "id": "i8yg8-6yviND",
        "outputId": "95063be6-6a80-4dc1-dae8-bc1b0c325fbf"
      },
      "execution_count": 33,
      "outputs": [
        {
          "output_type": "execute_result",
          "data": {
            "text/plain": [
              "[('europe', 0.6603501),\n",
              " ('western_europe', 0.4348269),\n",
              " ('southern_europe', 0.43426973),\n",
              " ('northern_europe', 0.33949393),\n",
              " ('americas', 0.3222063)]"
            ]
          },
          "metadata": {},
          "execution_count": 33
        }
      ]
    },
    {
      "cell_type": "code",
      "source": [
        "reconstructed_neighbors = params[\"A\"].dot(params[\"R_neighbors\"].dot(params[\"A\"].T)) # we reconstruct the original located_in matrix\n",
        "\n",
        "reconstructed_neighbors = np.array(reconstructed_neighbors) # we cast to numpy array"
      ],
      "metadata": {
        "id": "-XZH6O9zvt6d"
      },
      "execution_count": 34,
      "outputs": []
    },
    {
      "cell_type": "code",
      "source": [
        "get_top_k_predictions('italy', reconstructed_neighbors, 5)"
      ],
      "metadata": {
        "colab": {
          "base_uri": "https://localhost:8080/"
        },
        "id": "aELpX7awvuzk",
        "outputId": "90768dd1-bb21-47d2-95cd-463fa69a73a2"
      },
      "execution_count": 35,
      "outputs": [
        {
          "output_type": "execute_result",
          "data": {
            "text/plain": [
              "[('austria', 0.5185642),\n",
              " ('france', 0.5009011),\n",
              " ('switzerland', 0.4594283),\n",
              " ('germany', 0.45636064),\n",
              " ('italy', 0.40235436)]"
            ]
          },
          "metadata": {},
          "execution_count": 35
        }
      ]
    },
    {
      "cell_type": "code",
      "source": [
        "get_top_k_predictions('canada', reconstructed_neighbors, 5)"
      ],
      "metadata": {
        "colab": {
          "base_uri": "https://localhost:8080/"
        },
        "id": "OEqupVckwFq7",
        "outputId": "11a1eac8-5b76-448d-faba-b80dae0dbca2"
      },
      "execution_count": 36,
      "outputs": [
        {
          "output_type": "execute_result",
          "data": {
            "text/plain": [
              "[('united_states', 0.36933562),\n",
              " ('canada', 0.32155398),\n",
              " ('mexico', 0.31380662),\n",
              " ('panama', 0.27360615),\n",
              " ('dr_congo', 0.27256024)]"
            ]
          },
          "metadata": {},
          "execution_count": 36
        }
      ]
    },
    {
      "cell_type": "code",
      "source": [],
      "metadata": {
        "id": "vI4xH6fEHwGk"
      },
      "execution_count": 36,
      "outputs": []
    }
  ]
}