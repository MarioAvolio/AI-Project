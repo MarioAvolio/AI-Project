{
  "nbformat": 4,
  "nbformat_minor": 0,
  "metadata": {
    "colab": {
      "provenance": [],
      "toc_visible": true,
      "gpuType": "T4",
      "authorship_tag": "ABX9TyP4nI3SF7lVxdW/78eVjrCM",
      "include_colab_link": true
    },
    "kernelspec": {
      "name": "python3",
      "display_name": "Python 3"
    },
    "language_info": {
      "name": "python"
    },
    "accelerator": "GPU"
  },
  "cells": [
    {
      "cell_type": "markdown",
      "metadata": {
        "id": "view-in-github",
        "colab_type": "text"
      },
      "source": [
        "<a href=\"https://colab.research.google.com/github/MarioAvolio/AI-Project/blob/main/assignment%204/Rescal_with_PyKEEN.ipynb\" target=\"_parent\"><img src=\"https://colab.research.google.com/assets/colab-badge.svg\" alt=\"Open In Colab\"/></a>"
      ]
    },
    {
      "cell_type": "code",
      "execution_count": 11,
      "metadata": {
        "colab": {
          "base_uri": "https://localhost:8080/"
        },
        "id": "dj7-RWTaTy6l",
        "outputId": "ee20d601-b38e-4da5-d11a-d0893abc9b48"
      },
      "outputs": [
        {
          "output_type": "stream",
          "name": "stdout",
          "text": [
            "Requirement already satisfied: pykeen in /usr/local/lib/python3.10/dist-packages (1.9.0)\n",
            "Requirement already satisfied: dataclasses-json in /usr/local/lib/python3.10/dist-packages (from pykeen) (0.6.0)\n",
            "Requirement already satisfied: numpy in /usr/local/lib/python3.10/dist-packages (from pykeen) (1.23.5)\n",
            "Requirement already satisfied: scipy>=1.7.0 in /usr/local/lib/python3.10/dist-packages (from pykeen) (1.10.1)\n",
            "Requirement already satisfied: click in /usr/local/lib/python3.10/dist-packages (from pykeen) (8.1.7)\n",
            "Requirement already satisfied: click-default-group in /usr/local/lib/python3.10/dist-packages (from pykeen) (1.2.4)\n",
            "Requirement already satisfied: sklearn in /usr/local/lib/python3.10/dist-packages (from pykeen) (0.0.post7)\n",
            "Requirement already satisfied: tqdm in /usr/local/lib/python3.10/dist-packages (from pykeen) (4.66.1)\n",
            "Requirement already satisfied: requests in /usr/local/lib/python3.10/dist-packages (from pykeen) (2.31.0)\n",
            "Requirement already satisfied: optuna>=2.0.0 in /usr/local/lib/python3.10/dist-packages (from pykeen) (3.3.0)\n",
            "Requirement already satisfied: pandas>=1.0.0 in /usr/local/lib/python3.10/dist-packages (from pykeen) (1.5.3)\n",
            "Requirement already satisfied: tabulate in /usr/local/lib/python3.10/dist-packages (from pykeen) (0.9.0)\n",
            "Requirement already satisfied: more-click in /usr/local/lib/python3.10/dist-packages (from pykeen) (0.1.2)\n",
            "Requirement already satisfied: more-itertools in /usr/local/lib/python3.10/dist-packages (from pykeen) (10.1.0)\n",
            "Requirement already satisfied: pystow>=0.4.3 in /usr/local/lib/python3.10/dist-packages (from pykeen) (0.5.0)\n",
            "Requirement already satisfied: docdata in /usr/local/lib/python3.10/dist-packages (from pykeen) (0.0.3)\n",
            "Requirement already satisfied: class-resolver>=0.3.10 in /usr/local/lib/python3.10/dist-packages (from pykeen) (0.4.2)\n",
            "Requirement already satisfied: pyyaml in /usr/local/lib/python3.10/dist-packages (from pykeen) (6.0.1)\n",
            "Requirement already satisfied: rexmex in /usr/local/lib/python3.10/dist-packages (from pykeen) (0.1.3)\n",
            "Requirement already satisfied: torch-max-mem in /usr/local/lib/python3.10/dist-packages (from pykeen) (0.0.5)\n",
            "Requirement already satisfied: torch-ppr>=0.0.7 in /usr/local/lib/python3.10/dist-packages (from pykeen) (0.0.8)\n",
            "Requirement already satisfied: protobuf<4.0.0 in /usr/local/lib/python3.10/dist-packages (from pykeen) (3.20.3)\n",
            "Requirement already satisfied: torch>=1.10 in /usr/local/lib/python3.10/dist-packages (from pykeen) (2.0.1+cu118)\n",
            "Requirement already satisfied: alembic>=1.5.0 in /usr/local/lib/python3.10/dist-packages (from optuna>=2.0.0->pykeen) (1.12.0)\n",
            "Requirement already satisfied: cmaes>=0.10.0 in /usr/local/lib/python3.10/dist-packages (from optuna>=2.0.0->pykeen) (0.10.0)\n",
            "Requirement already satisfied: colorlog in /usr/local/lib/python3.10/dist-packages (from optuna>=2.0.0->pykeen) (6.7.0)\n",
            "Requirement already satisfied: packaging>=20.0 in /usr/local/lib/python3.10/dist-packages (from optuna>=2.0.0->pykeen) (23.1)\n",
            "Requirement already satisfied: sqlalchemy>=1.3.0 in /usr/local/lib/python3.10/dist-packages (from optuna>=2.0.0->pykeen) (2.0.20)\n",
            "Requirement already satisfied: python-dateutil>=2.8.1 in /usr/local/lib/python3.10/dist-packages (from pandas>=1.0.0->pykeen) (2.8.2)\n",
            "Requirement already satisfied: pytz>=2020.1 in /usr/local/lib/python3.10/dist-packages (from pandas>=1.0.0->pykeen) (2023.3)\n",
            "Requirement already satisfied: filelock in /usr/local/lib/python3.10/dist-packages (from torch>=1.10->pykeen) (3.12.2)\n",
            "Requirement already satisfied: typing-extensions in /usr/local/lib/python3.10/dist-packages (from torch>=1.10->pykeen) (4.7.1)\n",
            "Requirement already satisfied: sympy in /usr/local/lib/python3.10/dist-packages (from torch>=1.10->pykeen) (1.12)\n",
            "Requirement already satisfied: networkx in /usr/local/lib/python3.10/dist-packages (from torch>=1.10->pykeen) (3.1)\n",
            "Requirement already satisfied: jinja2 in /usr/local/lib/python3.10/dist-packages (from torch>=1.10->pykeen) (3.1.2)\n",
            "Requirement already satisfied: triton==2.0.0 in /usr/local/lib/python3.10/dist-packages (from torch>=1.10->pykeen) (2.0.0)\n",
            "Requirement already satisfied: cmake in /usr/local/lib/python3.10/dist-packages (from triton==2.0.0->torch>=1.10->pykeen) (3.27.2)\n",
            "Requirement already satisfied: lit in /usr/local/lib/python3.10/dist-packages (from triton==2.0.0->torch>=1.10->pykeen) (16.0.6)\n",
            "Requirement already satisfied: marshmallow<4.0.0,>=3.18.0 in /usr/local/lib/python3.10/dist-packages (from dataclasses-json->pykeen) (3.20.1)\n",
            "Requirement already satisfied: typing-inspect<1,>=0.4.0 in /usr/local/lib/python3.10/dist-packages (from dataclasses-json->pykeen) (0.9.0)\n",
            "Requirement already satisfied: charset-normalizer<4,>=2 in /usr/local/lib/python3.10/dist-packages (from requests->pykeen) (3.2.0)\n",
            "Requirement already satisfied: idna<4,>=2.5 in /usr/local/lib/python3.10/dist-packages (from requests->pykeen) (3.4)\n",
            "Requirement already satisfied: urllib3<3,>=1.21.1 in /usr/local/lib/python3.10/dist-packages (from requests->pykeen) (2.0.4)\n",
            "Requirement already satisfied: certifi>=2017.4.17 in /usr/local/lib/python3.10/dist-packages (from requests->pykeen) (2023.7.22)\n",
            "Requirement already satisfied: scikit-learn in /usr/local/lib/python3.10/dist-packages (from rexmex->pykeen) (1.2.2)\n",
            "Requirement already satisfied: Mako in /usr/local/lib/python3.10/dist-packages (from alembic>=1.5.0->optuna>=2.0.0->pykeen) (1.2.4)\n",
            "Requirement already satisfied: six>=1.5 in /usr/local/lib/python3.10/dist-packages (from python-dateutil>=2.8.1->pandas>=1.0.0->pykeen) (1.16.0)\n",
            "Requirement already satisfied: greenlet!=0.4.17 in /usr/local/lib/python3.10/dist-packages (from sqlalchemy>=1.3.0->optuna>=2.0.0->pykeen) (2.0.2)\n",
            "Requirement already satisfied: mypy-extensions>=0.3.0 in /usr/local/lib/python3.10/dist-packages (from typing-inspect<1,>=0.4.0->dataclasses-json->pykeen) (1.0.0)\n",
            "Requirement already satisfied: MarkupSafe>=2.0 in /usr/local/lib/python3.10/dist-packages (from jinja2->torch>=1.10->pykeen) (2.1.3)\n",
            "Requirement already satisfied: joblib>=1.1.1 in /usr/local/lib/python3.10/dist-packages (from scikit-learn->rexmex->pykeen) (1.3.2)\n",
            "Requirement already satisfied: threadpoolctl>=2.0.0 in /usr/local/lib/python3.10/dist-packages (from scikit-learn->rexmex->pykeen) (3.2.0)\n",
            "Requirement already satisfied: mpmath>=0.19 in /usr/local/lib/python3.10/dist-packages (from sympy->torch>=1.10->pykeen) (1.3.0)\n"
          ]
        }
      ],
      "source": [
        "!pip install pykeen"
      ]
    },
    {
      "cell_type": "code",
      "source": [
        "import pykeen\n",
        "pykeen.env()"
      ],
      "metadata": {
        "colab": {
          "base_uri": "https://localhost:8080/",
          "height": 297
        },
        "id": "hFtQwGRwiYcN",
        "outputId": "879bfda9-c577-4d23-8133-a287b34fac70"
      },
      "execution_count": 2,
      "outputs": [
        {
          "output_type": "execute_result",
          "data": {
            "text/plain": [
              "<IPython.core.display.HTML object>"
            ],
            "text/html": [
              "<table>\n",
              "<thead>\n",
              "<tr><th>Key            </th><th>Value                   </th></tr>\n",
              "</thead>\n",
              "<tbody>\n",
              "<tr><td>OS             </td><td>posix                   </td></tr>\n",
              "<tr><td>Platform       </td><td>Linux                   </td></tr>\n",
              "<tr><td>Release        </td><td>5.15.109+               </td></tr>\n",
              "<tr><td>Time           </td><td>Tue Sep  5 17:58:39 2023</td></tr>\n",
              "<tr><td>Python         </td><td>3.10.12                 </td></tr>\n",
              "<tr><td>PyKEEN         </td><td>1.9.0                   </td></tr>\n",
              "<tr><td>PyKEEN Hash    </td><td>UNHASHED                </td></tr>\n",
              "<tr><td>PyKEEN Branch  </td><td>                        </td></tr>\n",
              "<tr><td>PyTorch        </td><td>2.0.1+cu118             </td></tr>\n",
              "<tr><td>CUDA Available?</td><td>true                    </td></tr>\n",
              "<tr><td>CUDA Version   </td><td>11.8                    </td></tr>\n",
              "<tr><td>cuDNN Version  </td><td>8700                    </td></tr>\n",
              "</tbody>\n",
              "</table>"
            ]
          },
          "metadata": {},
          "execution_count": 2
        }
      ]
    },
    {
      "cell_type": "code",
      "source": [
        "import pandas as pd\n",
        "import numpy as np\n"
      ],
      "metadata": {
        "id": "xv2Y53urUttW"
      },
      "execution_count": 3,
      "outputs": []
    },
    {
      "cell_type": "markdown",
      "source": [
        "### Load Training Data"
      ],
      "metadata": {
        "id": "Bj4DA144T8_n"
      }
    },
    {
      "cell_type": "code",
      "metadata": {
        "id": "6SdrydNmr4Dt",
        "colab": {
          "base_uri": "https://localhost:8080/",
          "height": 424
        },
        "outputId": "1d97cb70-493f-4a38-a358-4762e933bb64"
      },
      "source": [
        "data = pd.read_csv(\"https://raw.githubusercontent.com/ZhenfengLei/KGDatasets/master/Countries/Countries_S1/train.txt\", sep=\"\\t\", names=[\"subject\", \"predicate\", \"object\"])\n",
        "data"
      ],
      "execution_count": 4,
      "outputs": [
        {
          "output_type": "execute_result",
          "data": {
            "text/plain": [
              "             subject  predicate              object\n",
              "0     western_africa  locatedin              africa\n",
              "1           slovakia   neighbor             ukraine\n",
              "2           slovakia   neighbor             hungary\n",
              "3           slovakia   neighbor             austria\n",
              "4           slovakia   neighbor             czechia\n",
              "...              ...        ...                 ...\n",
              "1106        cambodia  locatedin  south-eastern_asia\n",
              "1107          panama  locatedin     central_america\n",
              "1108        anguilla  locatedin           caribbean\n",
              "1109            cuba  locatedin           caribbean\n",
              "1110           nauru  locatedin             oceania\n",
              "\n",
              "[1111 rows x 3 columns]"
            ],
            "text/html": [
              "\n",
              "  <div id=\"df-c5b2a87b-6a87-45a2-9ba9-9555188cba97\" class=\"colab-df-container\">\n",
              "    <div>\n",
              "<style scoped>\n",
              "    .dataframe tbody tr th:only-of-type {\n",
              "        vertical-align: middle;\n",
              "    }\n",
              "\n",
              "    .dataframe tbody tr th {\n",
              "        vertical-align: top;\n",
              "    }\n",
              "\n",
              "    .dataframe thead th {\n",
              "        text-align: right;\n",
              "    }\n",
              "</style>\n",
              "<table border=\"1\" class=\"dataframe\">\n",
              "  <thead>\n",
              "    <tr style=\"text-align: right;\">\n",
              "      <th></th>\n",
              "      <th>subject</th>\n",
              "      <th>predicate</th>\n",
              "      <th>object</th>\n",
              "    </tr>\n",
              "  </thead>\n",
              "  <tbody>\n",
              "    <tr>\n",
              "      <th>0</th>\n",
              "      <td>western_africa</td>\n",
              "      <td>locatedin</td>\n",
              "      <td>africa</td>\n",
              "    </tr>\n",
              "    <tr>\n",
              "      <th>1</th>\n",
              "      <td>slovakia</td>\n",
              "      <td>neighbor</td>\n",
              "      <td>ukraine</td>\n",
              "    </tr>\n",
              "    <tr>\n",
              "      <th>2</th>\n",
              "      <td>slovakia</td>\n",
              "      <td>neighbor</td>\n",
              "      <td>hungary</td>\n",
              "    </tr>\n",
              "    <tr>\n",
              "      <th>3</th>\n",
              "      <td>slovakia</td>\n",
              "      <td>neighbor</td>\n",
              "      <td>austria</td>\n",
              "    </tr>\n",
              "    <tr>\n",
              "      <th>4</th>\n",
              "      <td>slovakia</td>\n",
              "      <td>neighbor</td>\n",
              "      <td>czechia</td>\n",
              "    </tr>\n",
              "    <tr>\n",
              "      <th>...</th>\n",
              "      <td>...</td>\n",
              "      <td>...</td>\n",
              "      <td>...</td>\n",
              "    </tr>\n",
              "    <tr>\n",
              "      <th>1106</th>\n",
              "      <td>cambodia</td>\n",
              "      <td>locatedin</td>\n",
              "      <td>south-eastern_asia</td>\n",
              "    </tr>\n",
              "    <tr>\n",
              "      <th>1107</th>\n",
              "      <td>panama</td>\n",
              "      <td>locatedin</td>\n",
              "      <td>central_america</td>\n",
              "    </tr>\n",
              "    <tr>\n",
              "      <th>1108</th>\n",
              "      <td>anguilla</td>\n",
              "      <td>locatedin</td>\n",
              "      <td>caribbean</td>\n",
              "    </tr>\n",
              "    <tr>\n",
              "      <th>1109</th>\n",
              "      <td>cuba</td>\n",
              "      <td>locatedin</td>\n",
              "      <td>caribbean</td>\n",
              "    </tr>\n",
              "    <tr>\n",
              "      <th>1110</th>\n",
              "      <td>nauru</td>\n",
              "      <td>locatedin</td>\n",
              "      <td>oceania</td>\n",
              "    </tr>\n",
              "  </tbody>\n",
              "</table>\n",
              "<p>1111 rows × 3 columns</p>\n",
              "</div>\n",
              "    <div class=\"colab-df-buttons\">\n",
              "\n",
              "  <div class=\"colab-df-container\">\n",
              "    <button class=\"colab-df-convert\" onclick=\"convertToInteractive('df-c5b2a87b-6a87-45a2-9ba9-9555188cba97')\"\n",
              "            title=\"Convert this dataframe to an interactive table.\"\n",
              "            style=\"display:none;\">\n",
              "\n",
              "  <svg xmlns=\"http://www.w3.org/2000/svg\" height=\"24px\" viewBox=\"0 -960 960 960\">\n",
              "    <path d=\"M120-120v-720h720v720H120Zm60-500h600v-160H180v160Zm220 220h160v-160H400v160Zm0 220h160v-160H400v160ZM180-400h160v-160H180v160Zm440 0h160v-160H620v160ZM180-180h160v-160H180v160Zm440 0h160v-160H620v160Z\"/>\n",
              "  </svg>\n",
              "    </button>\n",
              "\n",
              "  <style>\n",
              "    .colab-df-container {\n",
              "      display:flex;\n",
              "      gap: 12px;\n",
              "    }\n",
              "\n",
              "    .colab-df-convert {\n",
              "      background-color: #E8F0FE;\n",
              "      border: none;\n",
              "      border-radius: 50%;\n",
              "      cursor: pointer;\n",
              "      display: none;\n",
              "      fill: #1967D2;\n",
              "      height: 32px;\n",
              "      padding: 0 0 0 0;\n",
              "      width: 32px;\n",
              "    }\n",
              "\n",
              "    .colab-df-convert:hover {\n",
              "      background-color: #E2EBFA;\n",
              "      box-shadow: 0px 1px 2px rgba(60, 64, 67, 0.3), 0px 1px 3px 1px rgba(60, 64, 67, 0.15);\n",
              "      fill: #174EA6;\n",
              "    }\n",
              "\n",
              "    .colab-df-buttons div {\n",
              "      margin-bottom: 4px;\n",
              "    }\n",
              "\n",
              "    [theme=dark] .colab-df-convert {\n",
              "      background-color: #3B4455;\n",
              "      fill: #D2E3FC;\n",
              "    }\n",
              "\n",
              "    [theme=dark] .colab-df-convert:hover {\n",
              "      background-color: #434B5C;\n",
              "      box-shadow: 0px 1px 3px 1px rgba(0, 0, 0, 0.15);\n",
              "      filter: drop-shadow(0px 1px 2px rgba(0, 0, 0, 0.3));\n",
              "      fill: #FFFFFF;\n",
              "    }\n",
              "  </style>\n",
              "\n",
              "    <script>\n",
              "      const buttonEl =\n",
              "        document.querySelector('#df-c5b2a87b-6a87-45a2-9ba9-9555188cba97 button.colab-df-convert');\n",
              "      buttonEl.style.display =\n",
              "        google.colab.kernel.accessAllowed ? 'block' : 'none';\n",
              "\n",
              "      async function convertToInteractive(key) {\n",
              "        const element = document.querySelector('#df-c5b2a87b-6a87-45a2-9ba9-9555188cba97');\n",
              "        const dataTable =\n",
              "          await google.colab.kernel.invokeFunction('convertToInteractive',\n",
              "                                                    [key], {});\n",
              "        if (!dataTable) return;\n",
              "\n",
              "        const docLinkHtml = 'Like what you see? Visit the ' +\n",
              "          '<a target=\"_blank\" href=https://colab.research.google.com/notebooks/data_table.ipynb>data table notebook</a>'\n",
              "          + ' to learn more about interactive tables.';\n",
              "        element.innerHTML = '';\n",
              "        dataTable['output_type'] = 'display_data';\n",
              "        await google.colab.output.renderOutput(dataTable, element);\n",
              "        const docLink = document.createElement('div');\n",
              "        docLink.innerHTML = docLinkHtml;\n",
              "        element.appendChild(docLink);\n",
              "      }\n",
              "    </script>\n",
              "  </div>\n",
              "\n",
              "\n",
              "<div id=\"df-c7f23e4f-03eb-48c8-ac17-46ca746d80fa\">\n",
              "  <button class=\"colab-df-quickchart\" onclick=\"quickchart('df-c7f23e4f-03eb-48c8-ac17-46ca746d80fa')\"\n",
              "            title=\"Suggest charts.\"\n",
              "            style=\"display:none;\">\n",
              "\n",
              "<svg xmlns=\"http://www.w3.org/2000/svg\" height=\"24px\"viewBox=\"0 0 24 24\"\n",
              "     width=\"24px\">\n",
              "    <g>\n",
              "        <path d=\"M19 3H5c-1.1 0-2 .9-2 2v14c0 1.1.9 2 2 2h14c1.1 0 2-.9 2-2V5c0-1.1-.9-2-2-2zM9 17H7v-7h2v7zm4 0h-2V7h2v10zm4 0h-2v-4h2v4z\"/>\n",
              "    </g>\n",
              "</svg>\n",
              "  </button>\n",
              "\n",
              "<style>\n",
              "  .colab-df-quickchart {\n",
              "      --bg-color: #E8F0FE;\n",
              "      --fill-color: #1967D2;\n",
              "      --hover-bg-color: #E2EBFA;\n",
              "      --hover-fill-color: #174EA6;\n",
              "      --disabled-fill-color: #AAA;\n",
              "      --disabled-bg-color: #DDD;\n",
              "  }\n",
              "\n",
              "  [theme=dark] .colab-df-quickchart {\n",
              "      --bg-color: #3B4455;\n",
              "      --fill-color: #D2E3FC;\n",
              "      --hover-bg-color: #434B5C;\n",
              "      --hover-fill-color: #FFFFFF;\n",
              "      --disabled-bg-color: #3B4455;\n",
              "      --disabled-fill-color: #666;\n",
              "  }\n",
              "\n",
              "  .colab-df-quickchart {\n",
              "    background-color: var(--bg-color);\n",
              "    border: none;\n",
              "    border-radius: 50%;\n",
              "    cursor: pointer;\n",
              "    display: none;\n",
              "    fill: var(--fill-color);\n",
              "    height: 32px;\n",
              "    padding: 0;\n",
              "    width: 32px;\n",
              "  }\n",
              "\n",
              "  .colab-df-quickchart:hover {\n",
              "    background-color: var(--hover-bg-color);\n",
              "    box-shadow: 0 1px 2px rgba(60, 64, 67, 0.3), 0 1px 3px 1px rgba(60, 64, 67, 0.15);\n",
              "    fill: var(--button-hover-fill-color);\n",
              "  }\n",
              "\n",
              "  .colab-df-quickchart-complete:disabled,\n",
              "  .colab-df-quickchart-complete:disabled:hover {\n",
              "    background-color: var(--disabled-bg-color);\n",
              "    fill: var(--disabled-fill-color);\n",
              "    box-shadow: none;\n",
              "  }\n",
              "\n",
              "  .colab-df-spinner {\n",
              "    border: 2px solid var(--fill-color);\n",
              "    border-color: transparent;\n",
              "    border-bottom-color: var(--fill-color);\n",
              "    animation:\n",
              "      spin 1s steps(1) infinite;\n",
              "  }\n",
              "\n",
              "  @keyframes spin {\n",
              "    0% {\n",
              "      border-color: transparent;\n",
              "      border-bottom-color: var(--fill-color);\n",
              "      border-left-color: var(--fill-color);\n",
              "    }\n",
              "    20% {\n",
              "      border-color: transparent;\n",
              "      border-left-color: var(--fill-color);\n",
              "      border-top-color: var(--fill-color);\n",
              "    }\n",
              "    30% {\n",
              "      border-color: transparent;\n",
              "      border-left-color: var(--fill-color);\n",
              "      border-top-color: var(--fill-color);\n",
              "      border-right-color: var(--fill-color);\n",
              "    }\n",
              "    40% {\n",
              "      border-color: transparent;\n",
              "      border-right-color: var(--fill-color);\n",
              "      border-top-color: var(--fill-color);\n",
              "    }\n",
              "    60% {\n",
              "      border-color: transparent;\n",
              "      border-right-color: var(--fill-color);\n",
              "    }\n",
              "    80% {\n",
              "      border-color: transparent;\n",
              "      border-right-color: var(--fill-color);\n",
              "      border-bottom-color: var(--fill-color);\n",
              "    }\n",
              "    90% {\n",
              "      border-color: transparent;\n",
              "      border-bottom-color: var(--fill-color);\n",
              "    }\n",
              "  }\n",
              "</style>\n",
              "\n",
              "  <script>\n",
              "    async function quickchart(key) {\n",
              "      const quickchartButtonEl =\n",
              "        document.querySelector('#' + key + ' button');\n",
              "      quickchartButtonEl.disabled = true;  // To prevent multiple clicks.\n",
              "      quickchartButtonEl.classList.add('colab-df-spinner');\n",
              "      try {\n",
              "        const charts = await google.colab.kernel.invokeFunction(\n",
              "            'suggestCharts', [key], {});\n",
              "      } catch (error) {\n",
              "        console.error('Error during call to suggestCharts:', error);\n",
              "      }\n",
              "      quickchartButtonEl.classList.remove('colab-df-spinner');\n",
              "      quickchartButtonEl.classList.add('colab-df-quickchart-complete');\n",
              "    }\n",
              "    (() => {\n",
              "      let quickchartButtonEl =\n",
              "        document.querySelector('#df-c7f23e4f-03eb-48c8-ac17-46ca746d80fa button');\n",
              "      quickchartButtonEl.style.display =\n",
              "        google.colab.kernel.accessAllowed ? 'block' : 'none';\n",
              "    })();\n",
              "  </script>\n",
              "</div>\n",
              "    </div>\n",
              "  </div>\n"
            ]
          },
          "metadata": {},
          "execution_count": 4
        }
      ]
    },
    {
      "cell_type": "code",
      "source": [
        "data_val = pd.read_csv(\"https://raw.githubusercontent.com/ZhenfengLei/KGDatasets/master/Countries/Countries_S1/valid.txt\", sep=\"\\t\", names=[\"subject\", \"predicate\", \"object\"])"
      ],
      "metadata": {
        "id": "RkLHB30hXCPz"
      },
      "execution_count": 5,
      "outputs": []
    },
    {
      "cell_type": "code",
      "metadata": {
        "id": "TjIfJFwLr6zx"
      },
      "source": [
        "entities = list(set(data[\"subject\"].unique().tolist() + data[\"object\"].unique().tolist()))"
      ],
      "execution_count": 6,
      "outputs": []
    },
    {
      "cell_type": "code",
      "source": [
        "entities"
      ],
      "metadata": {
        "colab": {
          "base_uri": "https://localhost:8080/"
        },
        "id": "ZFgiEJnl8S50",
        "outputId": "92a0df9b-53db-4707-b62c-c3138c7ea839"
      },
      "execution_count": 7,
      "outputs": [
        {
          "output_type": "execute_result",
          "data": {
            "text/plain": [
              "['sweden',\n",
              " 'french_guiana',\n",
              " 'chile',\n",
              " 'laos',\n",
              " 'nicaragua',\n",
              " 'australia',\n",
              " 'syria',\n",
              " 'senegal',\n",
              " 'honduras',\n",
              " 'hong_kong',\n",
              " 'bangladesh',\n",
              " 'papua_new_guinea',\n",
              " 'western_asia',\n",
              " 'svalbard_and_jan_mayen',\n",
              " 'somalia',\n",
              " 'saudi_arabia',\n",
              " 'seychelles',\n",
              " 'timor-leste',\n",
              " 'greece',\n",
              " 'africa',\n",
              " 'uzbekistan',\n",
              " 'fiji',\n",
              " 'saint_vincent_and_the_grenadines',\n",
              " 'micronesia',\n",
              " 'philippines',\n",
              " 'réunion',\n",
              " 'north_korea',\n",
              " 'denmark',\n",
              " 'qatar',\n",
              " 'macedonia',\n",
              " 'belgium',\n",
              " 'bermuda',\n",
              " 'slovenia',\n",
              " 'germany',\n",
              " 'mauritania',\n",
              " 'faroe_islands',\n",
              " 'monaco',\n",
              " 'singapore',\n",
              " 'guernsey',\n",
              " 'montenegro',\n",
              " 'ireland',\n",
              " 'zambia',\n",
              " 'united_kingdom',\n",
              " 'mexico',\n",
              " 'south_sudan',\n",
              " 'bahrain',\n",
              " 'botswana',\n",
              " 'northern_america',\n",
              " 'vietnam',\n",
              " 'bolivia',\n",
              " 'el_salvador',\n",
              " 'colombia',\n",
              " 'swaziland',\n",
              " 'gibraltar',\n",
              " 'pakistan',\n",
              " 'slovakia',\n",
              " 'cocos_keeling_islands',\n",
              " 'saint_kitts_and_nevis',\n",
              " 'central_african_republic',\n",
              " 'dominican_republic',\n",
              " 'asia',\n",
              " 'grenada',\n",
              " 'isle_of_man',\n",
              " 'iraq',\n",
              " 'mongolia',\n",
              " 'uruguay',\n",
              " 'argentina',\n",
              " 'united_states_minor_outlying_islands',\n",
              " 'turks_and_caicos_islands',\n",
              " 'puerto_rico',\n",
              " 'south_georgia',\n",
              " 'norway',\n",
              " 'canada',\n",
              " 'southern_asia',\n",
              " 'guam',\n",
              " 'czechia',\n",
              " 'bahamas',\n",
              " 'kenya',\n",
              " 'spain',\n",
              " 'belize',\n",
              " 'belarus',\n",
              " 'caribbean',\n",
              " 'palestine',\n",
              " 'mayotte',\n",
              " 'bulgaria',\n",
              " 'armenia',\n",
              " 'india',\n",
              " 'albania',\n",
              " 'mauritius',\n",
              " 'wallis_and_futuna',\n",
              " 'kyrgyzstan',\n",
              " 'jersey',\n",
              " 'myanmar',\n",
              " 'france',\n",
              " 'paraguay',\n",
              " 'dominica',\n",
              " 'united_states',\n",
              " 'mali',\n",
              " 'macau',\n",
              " 'eastern_europe',\n",
              " 'japan',\n",
              " 'tajikistan',\n",
              " 'Åland_islands',\n",
              " 'greenland',\n",
              " 'saint_martin',\n",
              " 'united_arab_emirates',\n",
              " 'são_tomé_and_príncipe',\n",
              " 'samoa',\n",
              " 'mozambique',\n",
              " 'namibia',\n",
              " 'cyprus',\n",
              " 'antigua_and_barbuda',\n",
              " 'solomon_islands',\n",
              " 'burundi',\n",
              " 'israel',\n",
              " 'algeria',\n",
              " 'northern_africa',\n",
              " 'kosovo',\n",
              " 'saint_pierre_and_miquelon',\n",
              " 'bhutan',\n",
              " 'saint_lucia',\n",
              " 'comoros',\n",
              " 'egypt',\n",
              " 'sint_maarten',\n",
              " 'brazil',\n",
              " 'turkey',\n",
              " 'aruba',\n",
              " 'ghana',\n",
              " 'china',\n",
              " 'zimbabwe',\n",
              " 'venezuela',\n",
              " 'serbia',\n",
              " 'gabon',\n",
              " 'nigeria',\n",
              " 'pitcairn_islands',\n",
              " 'southern_europe',\n",
              " 'luxembourg',\n",
              " 'central_asia',\n",
              " 'sri_lanka',\n",
              " 'eritrea',\n",
              " 'rwanda',\n",
              " 'switzerland',\n",
              " 'south_korea',\n",
              " 'marshall_islands',\n",
              " 'central_europe',\n",
              " 'benin',\n",
              " 'haiti',\n",
              " 'bosnia_and_herzegovina',\n",
              " 'montserrat',\n",
              " 'south_america',\n",
              " 'austria',\n",
              " 'malawi',\n",
              " 'jordan',\n",
              " 'andorra',\n",
              " 'vatican_city',\n",
              " 'curaçao',\n",
              " 'middle_africa',\n",
              " 'guatemala',\n",
              " 'saint_barthélemy',\n",
              " 'guadeloupe',\n",
              " 'hungary',\n",
              " 'croatia',\n",
              " 'nepal',\n",
              " 'tanzania',\n",
              " 'yemen',\n",
              " 'united_states_virgin_islands',\n",
              " 'vanuatu',\n",
              " 'norfolk_island',\n",
              " 'russia',\n",
              " 'guinea-bissau',\n",
              " 'kazakhstan',\n",
              " 'europe',\n",
              " 'niger',\n",
              " 'sierra_leone',\n",
              " 'estonia',\n",
              " 'san_marino',\n",
              " 'afghanistan',\n",
              " 'poland',\n",
              " 'western_africa',\n",
              " 'italy',\n",
              " 'netherlands',\n",
              " 'djibouti',\n",
              " 'new_caledonia',\n",
              " 'georgia',\n",
              " 'romania',\n",
              " 'iran',\n",
              " 'equatorial_guinea',\n",
              " 'cambodia',\n",
              " 'anguilla',\n",
              " 'cuba',\n",
              " 'british_indian_ocean_territory',\n",
              " 'central_america',\n",
              " 'cape_verde',\n",
              " 'burkina_faso',\n",
              " 'new_zealand',\n",
              " 'americas',\n",
              " 'french_polynesia',\n",
              " 'niue',\n",
              " 'jamaica',\n",
              " 'eastern_asia',\n",
              " 'indonesia',\n",
              " 'tokelau',\n",
              " 'malaysia',\n",
              " 'togo',\n",
              " 'madagascar',\n",
              " 'finland',\n",
              " 'taiwan',\n",
              " 'azerbaijan',\n",
              " 'western_sahara',\n",
              " 'libya',\n",
              " 'cayman_islands',\n",
              " 'palau',\n",
              " 'british_virgin_islands',\n",
              " 'northern_mariana_islands',\n",
              " 'tonga',\n",
              " 'eastern_africa',\n",
              " 'cameroon',\n",
              " 'morocco',\n",
              " 'barbados',\n",
              " 'moldova',\n",
              " 'dr_congo',\n",
              " 'american_samoa',\n",
              " 'trinidad_and_tobago',\n",
              " 'northern_europe',\n",
              " 'cook_islands',\n",
              " 'tuvalu',\n",
              " 'christmas_island',\n",
              " 'portugal',\n",
              " 'maldives',\n",
              " 'polynesia',\n",
              " 'latvia',\n",
              " 'kuwait',\n",
              " 'lesotho',\n",
              " 'angola',\n",
              " 'sudan',\n",
              " 'south-eastern_asia',\n",
              " 'melanesia',\n",
              " 'lebanon',\n",
              " 'south_africa',\n",
              " 'malta',\n",
              " 'ethiopia',\n",
              " 'uganda',\n",
              " 'chad',\n",
              " 'iceland',\n",
              " 'liberia',\n",
              " 'guinea',\n",
              " 'suriname',\n",
              " 'peru',\n",
              " 'kiribati',\n",
              " 'thailand',\n",
              " 'lithuania',\n",
              " 'panama',\n",
              " 'ukraine',\n",
              " 'australia_and_new_zealand',\n",
              " 'tunisia',\n",
              " 'turkmenistan',\n",
              " 'nauru',\n",
              " 'western_europe',\n",
              " 'brunei',\n",
              " 'liechtenstein',\n",
              " 'oman',\n",
              " 'ecuador',\n",
              " 'oceania',\n",
              " 'republic_of_the_congo',\n",
              " 'southern_africa',\n",
              " 'martinique',\n",
              " 'ivory_coast',\n",
              " 'costa_rica',\n",
              " 'gambia',\n",
              " 'falkland_islands',\n",
              " 'guyana']"
            ]
          },
          "metadata": {},
          "execution_count": 7
        }
      ]
    },
    {
      "cell_type": "code",
      "metadata": {
        "id": "UmeVnpAFsBgw"
      },
      "source": [
        "number_of_entities = len(entities)"
      ],
      "execution_count": 8,
      "outputs": []
    },
    {
      "cell_type": "code",
      "source": [
        "number_of_entities"
      ],
      "metadata": {
        "colab": {
          "base_uri": "https://localhost:8080/"
        },
        "id": "q5VQdHTz8Vzy",
        "outputId": "65aba117-23ab-4e40-f1f6-6baccbdc09b7"
      },
      "execution_count": 9,
      "outputs": [
        {
          "output_type": "execute_result",
          "data": {
            "text/plain": [
              "271"
            ]
          },
          "metadata": {},
          "execution_count": 9
        }
      ]
    },
    {
      "cell_type": "markdown",
      "source": [
        "## To PyKEEN TriplesFactory"
      ],
      "metadata": {
        "id": "DZyx4shwdIEp"
      }
    },
    {
      "cell_type": "code",
      "source": [
        "from pykeen.triples import TriplesFactory"
      ],
      "metadata": {
        "id": "3fwk5pLoGwWR",
        "colab": {
          "base_uri": "https://localhost:8080/",
          "height": 321
        },
        "outputId": "375fe15c-a36b-4659-df1a-a7d88347e8af"
      },
      "execution_count": 10,
      "outputs": [
        {
          "output_type": "error",
          "ename": "AttributeError",
          "evalue": "ignored",
          "traceback": [
            "\u001b[0;31m---------------------------------------------------------------------------\u001b[0m",
            "\u001b[0;31mAttributeError\u001b[0m                            Traceback (most recent call last)",
            "\u001b[0;32m<ipython-input-10-eabaee4b665f>\u001b[0m in \u001b[0;36m<cell line: 1>\u001b[0;34m()\u001b[0m\n\u001b[0;32m----> 1\u001b[0;31m \u001b[0;32mfrom\u001b[0m \u001b[0mpykeen\u001b[0m\u001b[0;34m.\u001b[0m\u001b[0mtriples\u001b[0m \u001b[0;32mimport\u001b[0m \u001b[0mTriplesFactory\u001b[0m\u001b[0;34m\u001b[0m\u001b[0;34m\u001b[0m\u001b[0m\n\u001b[0m",
            "\u001b[0;32m/usr/local/lib/python3.10/dist-packages/pykeen/triples/__init__.py\u001b[0m in \u001b[0;36m<module>\u001b[0;34m\u001b[0m\n\u001b[1;32m      3\u001b[0m \u001b[0;34m\"\"\"Classes for creating and storing training data from triples.\"\"\"\u001b[0m\u001b[0;34m\u001b[0m\u001b[0;34m\u001b[0m\u001b[0m\n\u001b[1;32m      4\u001b[0m \u001b[0;34m\u001b[0m\u001b[0m\n\u001b[0;32m----> 5\u001b[0;31m \u001b[0;32mfrom\u001b[0m \u001b[0;34m.\u001b[0m\u001b[0minstances\u001b[0m \u001b[0;32mimport\u001b[0m \u001b[0mInstances\u001b[0m\u001b[0;34m,\u001b[0m \u001b[0mLCWAInstances\u001b[0m\u001b[0;34m,\u001b[0m \u001b[0mSLCWAInstances\u001b[0m\u001b[0;34m\u001b[0m\u001b[0;34m\u001b[0m\u001b[0m\n\u001b[0m\u001b[1;32m      6\u001b[0m \u001b[0;32mfrom\u001b[0m \u001b[0;34m.\u001b[0m\u001b[0mtriples_factory\u001b[0m \u001b[0;32mimport\u001b[0m \u001b[0mCoreTriplesFactory\u001b[0m\u001b[0;34m,\u001b[0m \u001b[0mKGInfo\u001b[0m\u001b[0;34m,\u001b[0m \u001b[0mRelationInverter\u001b[0m\u001b[0;34m,\u001b[0m \u001b[0mTriplesFactory\u001b[0m\u001b[0;34m,\u001b[0m \u001b[0mrelation_inverter\u001b[0m\u001b[0;34m\u001b[0m\u001b[0;34m\u001b[0m\u001b[0m\n\u001b[1;32m      7\u001b[0m \u001b[0;32mfrom\u001b[0m \u001b[0;34m.\u001b[0m\u001b[0mtriples_numeric_literals_factory\u001b[0m \u001b[0;32mimport\u001b[0m \u001b[0mTriplesNumericLiteralsFactory\u001b[0m\u001b[0;34m\u001b[0m\u001b[0;34m\u001b[0m\u001b[0m\n",
            "\u001b[0;32m/usr/local/lib/python3.10/dist-packages/pykeen/triples/instances.py\u001b[0m in \u001b[0;36m<module>\u001b[0;34m\u001b[0m\n\u001b[1;32m     14\u001b[0m \u001b[0;34m\u001b[0m\u001b[0m\n\u001b[1;32m     15\u001b[0m \u001b[0;32mfrom\u001b[0m \u001b[0;34m.\u001b[0m\u001b[0mutils\u001b[0m \u001b[0;32mimport\u001b[0m \u001b[0mcompute_compressed_adjacency_list\u001b[0m\u001b[0;34m\u001b[0m\u001b[0;34m\u001b[0m\u001b[0m\n\u001b[0;32m---> 16\u001b[0;31m \u001b[0;32mfrom\u001b[0m \u001b[0;34m.\u001b[0m\u001b[0;34m.\u001b[0m\u001b[0msampling\u001b[0m \u001b[0;32mimport\u001b[0m \u001b[0mNegativeSampler\u001b[0m\u001b[0;34m,\u001b[0m \u001b[0mnegative_sampler_resolver\u001b[0m\u001b[0;34m\u001b[0m\u001b[0;34m\u001b[0m\u001b[0m\n\u001b[0m\u001b[1;32m     17\u001b[0m \u001b[0;32mfrom\u001b[0m \u001b[0;34m.\u001b[0m\u001b[0;34m.\u001b[0m\u001b[0mtyping\u001b[0m \u001b[0;32mimport\u001b[0m \u001b[0mMappedTriples\u001b[0m\u001b[0;34m\u001b[0m\u001b[0;34m\u001b[0m\u001b[0m\n\u001b[1;32m     18\u001b[0m \u001b[0;34m\u001b[0m\u001b[0m\n",
            "\u001b[0;32m/usr/local/lib/python3.10/dist-packages/pykeen/sampling/__init__.py\u001b[0m in \u001b[0;36m<module>\u001b[0;34m\u001b[0m\n\u001b[1;32m    112\u001b[0m \u001b[0;32mfrom\u001b[0m \u001b[0mclass_resolver\u001b[0m \u001b[0;32mimport\u001b[0m \u001b[0mClassResolver\u001b[0m\u001b[0;34m\u001b[0m\u001b[0;34m\u001b[0m\u001b[0m\n\u001b[1;32m    113\u001b[0m \u001b[0;34m\u001b[0m\u001b[0m\n\u001b[0;32m--> 114\u001b[0;31m \u001b[0;32mfrom\u001b[0m \u001b[0;34m.\u001b[0m\u001b[0mbasic_negative_sampler\u001b[0m \u001b[0;32mimport\u001b[0m \u001b[0mBasicNegativeSampler\u001b[0m\u001b[0;34m\u001b[0m\u001b[0;34m\u001b[0m\u001b[0m\n\u001b[0m\u001b[1;32m    115\u001b[0m \u001b[0;32mfrom\u001b[0m \u001b[0;34m.\u001b[0m\u001b[0mbernoulli_negative_sampler\u001b[0m \u001b[0;32mimport\u001b[0m \u001b[0mBernoulliNegativeSampler\u001b[0m\u001b[0;34m\u001b[0m\u001b[0;34m\u001b[0m\u001b[0m\n\u001b[1;32m    116\u001b[0m \u001b[0;32mfrom\u001b[0m \u001b[0;34m.\u001b[0m\u001b[0mnegative_sampler\u001b[0m \u001b[0;32mimport\u001b[0m \u001b[0mNegativeSampler\u001b[0m\u001b[0;34m\u001b[0m\u001b[0;34m\u001b[0m\u001b[0m\n",
            "\u001b[0;32m/usr/local/lib/python3.10/dist-packages/pykeen/sampling/basic_negative_sampler.py\u001b[0m in \u001b[0;36m<module>\u001b[0;34m\u001b[0m\n\u001b[1;32m      8\u001b[0m \u001b[0;32mimport\u001b[0m \u001b[0mtorch\u001b[0m\u001b[0;34m\u001b[0m\u001b[0;34m\u001b[0m\u001b[0m\n\u001b[1;32m      9\u001b[0m \u001b[0;34m\u001b[0m\u001b[0m\n\u001b[0;32m---> 10\u001b[0;31m \u001b[0;32mfrom\u001b[0m \u001b[0;34m.\u001b[0m\u001b[0mnegative_sampler\u001b[0m \u001b[0;32mimport\u001b[0m \u001b[0mNegativeSampler\u001b[0m\u001b[0;34m\u001b[0m\u001b[0;34m\u001b[0m\u001b[0m\n\u001b[0m\u001b[1;32m     11\u001b[0m \u001b[0;32mfrom\u001b[0m \u001b[0;34m.\u001b[0m\u001b[0;34m.\u001b[0m\u001b[0mconstants\u001b[0m \u001b[0;32mimport\u001b[0m \u001b[0mLABEL_HEAD\u001b[0m\u001b[0;34m,\u001b[0m \u001b[0mLABEL_TAIL\u001b[0m\u001b[0;34m,\u001b[0m \u001b[0mTARGET_TO_INDEX\u001b[0m\u001b[0;34m\u001b[0m\u001b[0;34m\u001b[0m\u001b[0m\n\u001b[1;32m     12\u001b[0m \u001b[0;32mfrom\u001b[0m \u001b[0;34m.\u001b[0m\u001b[0;34m.\u001b[0m\u001b[0mtyping\u001b[0m \u001b[0;32mimport\u001b[0m \u001b[0mTarget\u001b[0m\u001b[0;34m\u001b[0m\u001b[0;34m\u001b[0m\u001b[0m\n",
            "\u001b[0;32m/usr/local/lib/python3.10/dist-packages/pykeen/sampling/negative_sampler.py\u001b[0m in \u001b[0;36m<module>\u001b[0;34m\u001b[0m\n\u001b[1;32m     10\u001b[0m \u001b[0;32mfrom\u001b[0m \u001b[0mtorch\u001b[0m \u001b[0;32mimport\u001b[0m \u001b[0mnn\u001b[0m\u001b[0;34m\u001b[0m\u001b[0;34m\u001b[0m\u001b[0m\n\u001b[1;32m     11\u001b[0m \u001b[0;34m\u001b[0m\u001b[0m\n\u001b[0;32m---> 12\u001b[0;31m \u001b[0;32mfrom\u001b[0m \u001b[0;34m.\u001b[0m\u001b[0mfiltering\u001b[0m \u001b[0;32mimport\u001b[0m \u001b[0mFilterer\u001b[0m\u001b[0;34m,\u001b[0m \u001b[0mfilterer_resolver\u001b[0m\u001b[0;34m\u001b[0m\u001b[0;34m\u001b[0m\u001b[0m\n\u001b[0m\u001b[1;32m     13\u001b[0m \u001b[0;32mfrom\u001b[0m \u001b[0;34m.\u001b[0m\u001b[0;34m.\u001b[0m\u001b[0mtyping\u001b[0m \u001b[0;32mimport\u001b[0m \u001b[0mMappedTriples\u001b[0m\u001b[0;34m\u001b[0m\u001b[0;34m\u001b[0m\u001b[0m\n\u001b[1;32m     14\u001b[0m \u001b[0;34m\u001b[0m\u001b[0m\n",
            "\u001b[0;32m/usr/local/lib/python3.10/dist-packages/pykeen/sampling/filtering.py\u001b[0m in \u001b[0;36m<module>\u001b[0;34m\u001b[0m\n\u001b[1;32m    133\u001b[0m \u001b[0;34m\u001b[0m\u001b[0m\n\u001b[1;32m    134\u001b[0m \u001b[0;32mfrom\u001b[0m \u001b[0;34m.\u001b[0m\u001b[0;34m.\u001b[0m\u001b[0mtyping\u001b[0m \u001b[0;32mimport\u001b[0m \u001b[0mMappedTriples\u001b[0m\u001b[0;34m\u001b[0m\u001b[0;34m\u001b[0m\u001b[0m\n\u001b[0;32m--> 135\u001b[0;31m \u001b[0;32mfrom\u001b[0m \u001b[0;34m.\u001b[0m\u001b[0;34m.\u001b[0m\u001b[0mutils\u001b[0m \u001b[0;32mimport\u001b[0m \u001b[0mtriple_tensor_to_set\u001b[0m\u001b[0;34m\u001b[0m\u001b[0;34m\u001b[0m\u001b[0m\n\u001b[0m\u001b[1;32m    136\u001b[0m \u001b[0;34m\u001b[0m\u001b[0m\n\u001b[1;32m    137\u001b[0m __all__ = [\n",
            "\u001b[0;32m/usr/local/lib/python3.10/dist-packages/pykeen/utils.py\u001b[0m in \u001b[0;36m<module>\u001b[0;34m\u001b[0m\n\u001b[1;32m     50\u001b[0m \u001b[0;32mfrom\u001b[0m \u001b[0mtorch\u001b[0m \u001b[0;32mimport\u001b[0m \u001b[0mnn\u001b[0m\u001b[0;34m\u001b[0m\u001b[0;34m\u001b[0m\u001b[0m\n\u001b[1;32m     51\u001b[0m \u001b[0;34m\u001b[0m\u001b[0m\n\u001b[0;32m---> 52\u001b[0;31m \u001b[0;32mfrom\u001b[0m \u001b[0;34m.\u001b[0m\u001b[0mconstants\u001b[0m \u001b[0;32mimport\u001b[0m \u001b[0mPYKEEN_BENCHMARKS\u001b[0m\u001b[0;34m\u001b[0m\u001b[0;34m\u001b[0m\u001b[0m\n\u001b[0m\u001b[1;32m     53\u001b[0m \u001b[0;32mfrom\u001b[0m \u001b[0;34m.\u001b[0m\u001b[0mtyping\u001b[0m \u001b[0;32mimport\u001b[0m \u001b[0mDeviceHint\u001b[0m\u001b[0;34m,\u001b[0m \u001b[0mMappedTriples\u001b[0m\u001b[0;34m,\u001b[0m \u001b[0mTorchRandomHint\u001b[0m\u001b[0;34m\u001b[0m\u001b[0;34m\u001b[0m\u001b[0m\n\u001b[1;32m     54\u001b[0m \u001b[0;32mfrom\u001b[0m \u001b[0;34m.\u001b[0m\u001b[0mversion\u001b[0m \u001b[0;32mimport\u001b[0m \u001b[0mget_git_hash\u001b[0m\u001b[0;34m\u001b[0m\u001b[0;34m\u001b[0m\u001b[0m\n",
            "\u001b[0;32m/usr/local/lib/python3.10/dist-packages/pykeen/constants.py\u001b[0m in \u001b[0;36m<module>\u001b[0;34m\u001b[0m\n\u001b[1;32m     39\u001b[0m \u001b[0;31m#: A subdirectory of the PyKEEN data folder for datasets, defaults to ``~/.data/pykeen/datasets``\u001b[0m\u001b[0;34m\u001b[0m\u001b[0;34m\u001b[0m\u001b[0m\n\u001b[1;32m     40\u001b[0m \u001b[0mPYKEEN_DATASETS\u001b[0m\u001b[0;34m:\u001b[0m \u001b[0mPath\u001b[0m \u001b[0;34m=\u001b[0m \u001b[0mPYKEEN_MODULE\u001b[0m\u001b[0;34m.\u001b[0m\u001b[0mjoin\u001b[0m\u001b[0;34m(\u001b[0m\u001b[0;34m\"datasets\"\u001b[0m\u001b[0;34m)\u001b[0m\u001b[0;34m\u001b[0m\u001b[0;34m\u001b[0m\u001b[0m\n\u001b[0;32m---> 41\u001b[0;31m \u001b[0mPYKEEN_DATASETS_MODULE\u001b[0m\u001b[0;34m:\u001b[0m \u001b[0mpystow\u001b[0m\u001b[0;34m.\u001b[0m\u001b[0mModule\u001b[0m \u001b[0;34m=\u001b[0m \u001b[0mPYKEEN_MODULE\u001b[0m\u001b[0;34m.\u001b[0m\u001b[0msubmodule\u001b[0m\u001b[0;34m(\u001b[0m\u001b[0;34m\"datasets\"\u001b[0m\u001b[0;34m)\u001b[0m\u001b[0;34m\u001b[0m\u001b[0;34m\u001b[0m\u001b[0m\n\u001b[0m\u001b[1;32m     42\u001b[0m \u001b[0;31m#: A subdirectory of the PyKEEN data folder for benchmarks, defaults to ``~/.data/pykeen/benchmarks``\u001b[0m\u001b[0;34m\u001b[0m\u001b[0;34m\u001b[0m\u001b[0m\n\u001b[1;32m     43\u001b[0m \u001b[0mPYKEEN_BENCHMARKS\u001b[0m\u001b[0;34m:\u001b[0m \u001b[0mPath\u001b[0m \u001b[0;34m=\u001b[0m \u001b[0mPYKEEN_MODULE\u001b[0m\u001b[0;34m.\u001b[0m\u001b[0mjoin\u001b[0m\u001b[0;34m(\u001b[0m\u001b[0;34m\"benchmarks\"\u001b[0m\u001b[0;34m)\u001b[0m\u001b[0;34m\u001b[0m\u001b[0;34m\u001b[0m\u001b[0m\n",
            "\u001b[0;31mAttributeError\u001b[0m: 'Module' object has no attribute 'submodule'"
          ]
        }
      ]
    },
    {
      "cell_type": "code",
      "source": [
        "data[[\"subject\", \"predicate\", \"object\"]].values"
      ],
      "metadata": {
        "id": "GS9OUgev4B0t"
      },
      "execution_count": null,
      "outputs": []
    },
    {
      "cell_type": "code",
      "source": [
        "training_labels = TriplesFactory.from_labeled_triples(\n",
        "  data[[\"subject\", \"predicate\", \"object\"]].values,\n",
        "  create_inverse_triples=False,\n",
        "  entity_to_id=None,\n",
        "  relation_to_id=None,\n",
        "  compact_id=True,\n",
        "  filter_out_candidate_inverse_relations=True,\n",
        "  metadata=None,\n",
        ")\n",
        "\n",
        "testing_labels = TriplesFactory.from_labeled_triples(\n",
        "  data_val[[\"subject\", \"predicate\", \"object\"]].values,\n",
        "  create_inverse_triples=False,\n",
        "  entity_to_id=training_labels.entity_to_id,\n",
        "  relation_to_id=training_labels.relation_to_id,\n",
        "  compact_id=True,\n",
        "  filter_out_candidate_inverse_relations=True,\n",
        "  metadata=None,\n",
        ")"
      ],
      "metadata": {
        "id": "y_LiwmmJGg_L"
      },
      "execution_count": null,
      "outputs": []
    },
    {
      "cell_type": "markdown",
      "source": [
        "## Training Pipeline"
      ],
      "metadata": {
        "id": "rb0BXbIqdNFo"
      }
    },
    {
      "cell_type": "code",
      "source": [
        "from pykeen.pipeline import pipeline\n",
        "import torch"
      ],
      "metadata": {
        "id": "Hz3dIsFnC3ut"
      },
      "execution_count": null,
      "outputs": []
    },
    {
      "cell_type": "code",
      "source": [
        "pipeline_result_rescal = pipeline(\n",
        "    training=training_labels,\n",
        "    testing=testing_labels,\n",
        "    #dataset='Countries',\n",
        "    model='Rescal',\n",
        "    model_kwargs=dict(embedding_dim=80),\n",
        "    random_seed=256,\n",
        "    optimizer = torch.optim.Adam,\n",
        "    optimizer_kwargs=dict(lr=1.0e-02),\n",
        "    training_kwargs=dict(num_epochs=30),\n",
        ")\n",
        "\n"
      ],
      "metadata": {
        "id": "G5BzzEJlKwaV"
      },
      "execution_count": null,
      "outputs": []
    },
    {
      "cell_type": "code",
      "source": [
        "def print_metrics(pipeline_result):\n",
        "  print(pipeline_result.training)\n",
        "  print()\n",
        "  print('hits@10', pipeline_result.get_metric('hits@10'))\n",
        "  print('mr', pipeline_result.get_metric('mr'))\n",
        "  print('mrr', pipeline_result.get_metric('mrr'))\n",
        "  print()\n",
        "  pipeline_result.plot_losses()"
      ],
      "metadata": {
        "id": "_-Qrkm_2APCb"
      },
      "execution_count": null,
      "outputs": []
    },
    {
      "cell_type": "markdown",
      "source": [
        "### Evaluation Metrics"
      ],
      "metadata": {
        "id": "5Yw-atzUeSaj"
      }
    },
    {
      "cell_type": "code",
      "source": [
        "print_metrics(pipeline_result_rescal)"
      ],
      "metadata": {
        "id": "p8tvE5pJ_9_m"
      },
      "execution_count": null,
      "outputs": []
    },
    {
      "cell_type": "markdown",
      "source": [
        "## Predict"
      ],
      "metadata": {
        "id": "4_dan6lGdzDV"
      }
    },
    {
      "cell_type": "code",
      "source": [
        "# canada + locatedin = ?\n",
        "from pykeen.models import predict\n",
        "\n",
        "predict.get_prediction_df(\n",
        "    model=pipeline_result_rescal.model, head_label=\"canada\", relation_label=\"locatedin\", triples_factory=pipeline_result_rescal.training,\n",
        ")"
      ],
      "metadata": {
        "id": "1YDjCsDulylR"
      },
      "execution_count": null,
      "outputs": []
    },
    {
      "cell_type": "code",
      "source": [
        "countries_train_pd.query('head == \"italy\"')"
      ],
      "metadata": {
        "id": "DY04y2PC6CJQ"
      },
      "execution_count": null,
      "outputs": []
    },
    {
      "cell_type": "code",
      "source": [
        "# italy + locatedin = ?\n",
        "predict.get_prediction_df(\n",
        "    model=pipeline_result_rescal.model, head_label=\"italy\", relation_label=\"locatedin\", triples_factory=pipeline_result_rescal.training,\n",
        ")"
      ],
      "metadata": {
        "id": "9Dv9LTFeJmn-"
      },
      "execution_count": null,
      "outputs": []
    },
    {
      "cell_type": "code",
      "source": [
        "# italy + neighbor = ?\n",
        "predict.get_prediction_df(\n",
        "    model=pipeline_result_rescal.model, head_label=\"italy\", relation_label=\"neighbor\", triples_factory=pipeline_result_rescal.training,\n",
        ").head(20)"
      ],
      "metadata": {
        "id": "etwc0NKRJpzi"
      },
      "execution_count": null,
      "outputs": []
    },
    {
      "cell_type": "code",
      "source": [
        "# vatican_city + neighbor = ?\n",
        "predict.get_prediction_df(\n",
        "    model=pipeline_result_rescal.model, head_label=\"vatican_city\", relation_label=\"neighbor\", triples_factory=pipeline_result_rescal.training,\n",
        ")"
      ],
      "metadata": {
        "id": "Dm2xBbFADWSq"
      },
      "execution_count": null,
      "outputs": []
    },
    {
      "cell_type": "markdown",
      "source": [
        "## Visualize"
      ],
      "metadata": {
        "id": "2GlBpZReeNyz"
      }
    },
    {
      "cell_type": "code",
      "source": [
        "entities = list(countries.entity_to_id.keys())"
      ],
      "metadata": {
        "id": "k2jdwSPkO-zq"
      },
      "execution_count": null,
      "outputs": []
    },
    {
      "cell_type": "code",
      "source": [
        "entity_embeddings = pipeline_result_rescal.model.entity_representations[0]().cpu().detach().numpy().astype('float32')\n",
        "entity_embeddings.shape"
      ],
      "metadata": {
        "id": "WUmObP2gPBJq"
      },
      "execution_count": null,
      "outputs": []
    },
    {
      "cell_type": "code",
      "source": [
        "entity_embeddings"
      ],
      "metadata": {
        "id": "dwxUKcp77HNb"
      },
      "execution_count": null,
      "outputs": []
    },
    {
      "cell_type": "code",
      "source": [
        "relation_embeddings = pipeline_result_rescal.model.relation_representations[0]().cpu().detach().numpy().astype('float32')\n",
        "relation_embeddings.shape"
      ],
      "metadata": {
        "id": "ONYKjM-DPxCO"
      },
      "execution_count": null,
      "outputs": []
    },
    {
      "cell_type": "code",
      "source": [
        "entity_embeddings"
      ],
      "metadata": {
        "id": "xRxpGSBrQ1HN"
      },
      "execution_count": null,
      "outputs": []
    },
    {
      "cell_type": "code",
      "source": [
        "from operator import sub\n",
        "from sklearn.decomposition import PCA\n",
        "import matplotlib.pyplot as plt\n",
        "\n",
        "def quick_plot(labels, embedding, colors = None, plot = True):\n",
        "  \"\"\"\n",
        "  we ignore the words we are not interested to reduce the time to compute\n",
        "  the 2D embeddings, but this is an approximation.\n",
        "  \"\"\"\n",
        "\n",
        "  if not colors:\n",
        "    colors = ['b' for _ in labels]\n",
        "\n",
        "  X = embedding\n",
        "  pca = PCA(n_components=2)\n",
        "\n",
        "  two_d_emb = pca.fit_transform(X)\n",
        "\n",
        "  plt.scatter(two_d_emb[:, 0], two_d_emb[:, 1], c = colors)\n",
        "\n",
        "  for index, label in enumerate(labels):\n",
        "    # annotate\n",
        "    plt.annotate(label, xy=(two_d_emb[index, 0], two_d_emb[index, 1]), )\n",
        "\n",
        "  if plot:\n",
        "    plt.gcf().set_size_inches(20, 10)\n",
        "    plt.show()\n",
        "\n",
        "  return plt, pca"
      ],
      "metadata": {
        "id": "8xqimWaaP9O6"
      },
      "execution_count": null,
      "outputs": []
    },
    {
      "cell_type": "code",
      "source": [
        "continents = set(countries_train_pd.query('relation == \"locatedin\"')['tail'].unique())"
      ],
      "metadata": {
        "id": "IrE9N92YTwUM"
      },
      "execution_count": null,
      "outputs": []
    },
    {
      "cell_type": "code",
      "source": [
        "def get_color(x):\n",
        "  if x in continents:\n",
        "    return 'red'\n",
        "  else:\n",
        "    return 'blue'\n",
        "\n",
        "colors = [get_color(ent) for ent in entities]"
      ],
      "metadata": {
        "id": "XRMsimKQUwns"
      },
      "execution_count": null,
      "outputs": []
    },
    {
      "cell_type": "code",
      "source": [
        "quick_plot(entities, entity_embeddings, colors=colors)"
      ],
      "metadata": {
        "id": "ehbxjOyEJTQV"
      },
      "execution_count": null,
      "outputs": []
    },
    {
      "cell_type": "code",
      "source": [],
      "metadata": {
        "id": "zcRyq_l-fUcP"
      },
      "execution_count": null,
      "outputs": []
    }
  ]
}